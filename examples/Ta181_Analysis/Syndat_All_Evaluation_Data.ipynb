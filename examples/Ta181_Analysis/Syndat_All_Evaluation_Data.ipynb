{
 "cells": [
  {
   "cell_type": "code",
   "execution_count": 1,
   "metadata": {},
   "outputs": [],
   "source": [
    "from matplotlib.pyplot import *\n",
    "import numpy as np\n",
    "import pandas as pd\n",
    "import os\n",
    "import importlib\n",
    "\n",
    "from ATARI.sammy_interface import sammy_classes, sammy_functions\n",
    "\n",
    "from ATARI.ModelData.particle_pair import Particle_Pair\n",
    "# from ATARI.ModelData.experimental_model import Experimental_Model\n",
    "from ATARI.syndat.control import Syndat_Control\n",
    "\n",
    "from copy import copy\n",
    "\n",
    "import ATARI.utils.plotting as myplot\n"
   ]
  },
  {
   "cell_type": "code",
   "execution_count": 2,
   "metadata": {},
   "outputs": [],
   "source": [
    "sammypath = ''\n",
    "assert(sammypath != '')"
   ]
  },
  {
   "cell_type": "code",
   "execution_count": 3,
   "metadata": {},
   "outputs": [],
   "source": [
    "%matplotlib widget"
   ]
  },
  {
   "cell_type": "markdown",
   "metadata": {},
   "source": [
    "# Overview\n",
    "\n",
    "Syndat models for each measurement were developed, investigated, and saved in the associated example notebooks.\n",
    "Here, we are going to load each Syndat model, add them to the Syndat Control module, and draw samples from them.\n",
    "A few things to note, \n",
    "1) options should likely be re-defined as we want to ensure resonance and parameter sampling is turned on\n",
    "2) the energy ranges can be overwritten s.t. you can draw samples for a smaller window.\n",
    "3) The background function is the same for all 3 the transmission measurements, this can be implemented with the model correlations input\n"
   ]
  },
  {
   "cell_type": "code",
   "execution_count": 4,
   "metadata": {},
   "outputs": [],
   "source": [
    "from ATARI.utils import atario\n",
    "\n",
    "syndat_trans1mm = atario.load_syndat(os.path.join(os.getcwd(), \"results\", \"SyndatModel_1mmT.pkl\"))\n",
    "syndat_trans3mm = atario.load_syndat(os.path.join(os.getcwd(), \"results\", \"SyndatModel_3mmT.pkl\"))\n",
    "syndat_trans6mm = atario.load_syndat(os.path.join(os.getcwd(), \"results\", \"SyndatModel_6mmT.pkl\"))\n",
    "\n",
    "syndat_cap1mm = atario.load_syndat(os.path.join(os.getcwd(), \"results\", \"SyndatModel_1mmY.pkl\"))\n",
    "syndat_cap2mm = atario.load_syndat(os.path.join(os.getcwd(), \"results\", \"SyndatModel_2mmY.pkl\"))"
   ]
  },
  {
   "cell_type": "code",
   "execution_count": 5,
   "metadata": {},
   "outputs": [],
   "source": [
    "# energy_range_all = [197.5, 235]\n",
    "energy_range_all = [200, 3e3]\n",
    "\n",
    "\n",
    "Ta_pair = Particle_Pair(isotope=\"Ta181\", formalism=\"XCT\", energy_range=energy_range_all, \n",
    "                        ac=0.81271, M=180.948030, m=1, I=3.5, i=0.5, l_max=1)      \n",
    "\n",
    "Ta_pair.add_spin_group(Jpi='3.0', J_ID=1,\n",
    "                       D=9.0030,\n",
    "                       gn2_avg=452.56615, gn2_dof=1,\n",
    "                       gg2_avg=32.0, gg2_dof=100)\n",
    "\n",
    "Ta_pair.add_spin_group(Jpi='4.0', J_ID=2,\n",
    "                       D=8.3031,\n",
    "                       gn2_avg=332.24347, gn2_dof=1,\n",
    "                       gg2_avg=32.0, gg2_dof=100)"
   ]
  },
  {
   "cell_type": "code",
   "execution_count": 6,
   "metadata": {},
   "outputs": [],
   "source": [
    "## get new syndat models in a smaller window\n",
    "\n",
    "syndat_models = [syndat_trans1mm, syndat_trans3mm, syndat_trans6mm, syndat_cap1mm, syndat_cap2mm]\n",
    "syndat_models_new = []\n",
    "for each in syndat_models:\n",
    "    syndat_models_new.append(each.truncate_energy_range(energy_range_all, return_copy=True))\n"
   ]
  },
  {
   "cell_type": "code",
   "execution_count": 7,
   "metadata": {},
   "outputs": [],
   "source": [
    "\n",
    "rto = sammy_classes.SammyRunTimeOptions(sammypath,\n",
    "                             **{\"Print\"   :   True,\n",
    "                              \"bayes\"   :   False,\n",
    "                              \"keep_runDIR\"     : False,\n",
    "                              \"sammy_runDIR\": \"sammy_runDIR_gen\"\n",
    "                              })\n",
    "\n",
    "## define model correlation for a_b parameters\n",
    "trans_a_b = syndat_trans1mm.generative_measurement_model.model_parameters.a_b\n",
    "model_correlations = [\n",
    "                    # {'models': [1,1,1,0,0],\n",
    "                    # 'a_b'   : trans_a_b }\n",
    "                        ]\n",
    "\n",
    "syndat = Syndat_Control(Ta_pair,\n",
    "                        syndat_models = syndat_models_new,\n",
    "                        model_correlations=model_correlations,\n",
    "                        sampleRES=True,\n",
    "                        save_covariance=True,\n",
    "                        save_raw_data=False)"
   ]
  },
  {
   "cell_type": "code",
   "execution_count": 8,
   "metadata": {},
   "outputs": [],
   "source": [
    "syndat.sample(rto, num_samples=10)"
   ]
  },
  {
   "cell_type": "code",
   "execution_count": 17,
   "metadata": {},
   "outputs": [],
   "source": [
    "sample1 = syndat.get_sample(-5)\n",
    "datasets = [val.pw_reduced for key, val in sample1.items()]\n",
    "experiments = [val.generative_experimental_model for val in syndat_models]\n",
    "\n",
    "# importlib.reload(myplot)\n",
    "# fig = myplot.plot_reduced_data_TY(datasets=datasets,\n",
    "#                             experiments=experiments,\n",
    "#                             xlim=energy_range_all,\n",
    "#                             plot_datasets_true=True\n",
    "#                             )"
   ]
  },
  {
   "cell_type": "code",
   "execution_count": null,
   "metadata": {},
   "outputs": [],
   "source": [
    "\n",
    "colors = [\"C1\", \"C2\", \"C3\", \"C4\", \"C5\", \"C6\", \"C7\"]\n",
    "alphas = [1.0, 0.75, 0.5, 1.0, 0.5]\n",
    "fig, axes = subplots(2,1, figsize=(8,6), sharex=True)\n",
    "\n",
    "for i, exp in enumerate(experiments):\n",
    "\n",
    "    # if i in [1,4,3]:\n",
    "    #     continue\n",
    "    \n",
    "    if exp.reaction == \"transmission\":\n",
    "        model_key = \"theo_trans\"\n",
    "        iax = 0\n",
    "        loc = 'lower right'\n",
    "        # ylim = (-0.5,1.3)\n",
    "    elif exp.reaction == \"capture\":\n",
    "        model_key = \"theo_xs\"\n",
    "        iax = 1\n",
    "        loc='upper right'\n",
    "        # ylim = (-0.2,1.8)\n",
    "    else:\n",
    "        raise ValueError()\n",
    "\n",
    "    axes[iax].errorbar(datasets[i].E, datasets[i].exp, yerr=datasets[i].exp_unc, zorder=2,\n",
    "                                            fmt='.', color='black', alpha=alphas[i], linewidth=0.5, markersize=1, capsize=1, label=exp.title)\n",
    "\n",
    "lines = axes[1].get_lines()\n",
    "\n",
    "axes[0].set_ylim(-0.15, 1.1)\n",
    "axes[1].set_ylim(-0.1, 1.0)\n",
    "\n",
    "axes[0].legend(loc=\"lower right\")\n",
    "axes[1].legend(loc=\"upper right\")\n",
    "\n",
    "for ax in axes:\n",
    "    ax.set_xlim((200,3000))\n",
    "    \n",
    "    # ax.set_facecolor('#0f0f0f10')  \n",
    "    # ax.grid(True, linestyle='-', color='white', alpha=1.0, zorder=0)  # Add grid with style\n",
    "    # ax.tick_params(axis='both', which='both', length=0, width=0)\n",
    "\n",
    "axes[0].set_ylabel(\"Transmission\")#(1mm)\")\n",
    "axes[1].set_ylabel(\"Capture Yield\")# (1mm)\")\n",
    "# fig.subplots_adjust(wspace=0, hspace=0.05)\n",
    "fig.supxlabel('Energy (eV)')\n",
    "fig.suptitle(\"Ta-181 Measurement Data and Fitted Models\")\n",
    "fig.tight_layout()"
   ]
  },
  {
   "cell_type": "code",
   "execution_count": null,
   "metadata": {},
   "outputs": [],
   "source": []
  },
  {
   "cell_type": "markdown",
   "metadata": {},
   "source": [
    "## testing the noise distribution of your syndat model\n",
    "You can use the noise distribution test to verify the validity of linearity and normality assumptions in the propagation of measurement uncertainty.\n",
    "If these assumptions are met, then the normalized residual should fall on a standard normal and the chi2 statistic should fall on a chi2 distribution with degrees of freedom equal to the number of data points.\n",
    "This function performs this test for 10 randomly sampled \"true experimental values\" between 0 and 1 (the possible range for transmission or capture yield). \n",
    "For this reason, it is important to pass a copy of your syndat models to the function s.t. the settings to get changed.\n",
    "For these Syndat_Models, the assumptions are not fully met, particularly for the transmission datasets.\n",
    "From additional investigations, this was found to be due primarily to the power background function.\n",
    "In the limit of very small uncertainty on measurement parameters, these assumptions will improve (see ATARI.tests.benchmarks.test_syndat_distributions)."
   ]
  },
  {
   "cell_type": "code",
   "execution_count": null,
   "metadata": {},
   "outputs": [],
   "source": [
    "from ATARI.syndat.tests import noise_distribution_test, noise_distribution_test2\n",
    "from copy import deepcopy\n",
    "\n",
    "mean = []\n",
    "norm_test = []\n",
    "kstest = []\n",
    "for each in syndat_models_new:\n",
    "    mean_of_residual, norm_test_on_residual, kstest_on_chi2 = noise_distribution_test(deepcopy(each), print_out=True, ipert=250, energy_range = [150,2500])\n",
    "    mean.append(mean_of_residual)\n",
    "    norm_test.append(norm_test_on_residual)\n",
    "    kstest.append(kstest_on_chi2)"
   ]
  },
  {
   "cell_type": "markdown",
   "metadata": {},
   "source": [
    "# Saving the Syndat Control module and all samples\n",
    "Similar to the syndat_models, you can use the atario function to save the syndat_control object as a pickle. \n",
    "This is commented out because an existing pkl file is loaded"
   ]
  },
  {
   "cell_type": "code",
   "execution_count": 26,
   "metadata": {},
   "outputs": [],
   "source": [
    "\n",
    "# atario.save_syndat_control(syndat, os.path.join(os.getcwd(), \"results\", \"SyndatModel_All_200_235.pkl\"))"
   ]
  },
  {
   "cell_type": "code",
   "execution_count": null,
   "metadata": {},
   "outputs": [],
   "source": []
  }
 ],
 "metadata": {
  "kernelspec": {
   "display_name": "test",
   "language": "python",
   "name": "python3"
  },
  "language_info": {
   "codemirror_mode": {
    "name": "ipython",
    "version": 3
   },
   "file_extension": ".py",
   "mimetype": "text/x-python",
   "name": "python",
   "nbconvert_exporter": "python",
   "pygments_lexer": "ipython3",
   "version": "3.11.9"
  }
 },
 "nbformat": 4,
 "nbformat_minor": 2
}
