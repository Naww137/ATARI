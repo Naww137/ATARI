{
 "cells": [
  {
   "cell_type": "code",
   "execution_count": 1,
   "metadata": {},
   "outputs": [],
   "source": [
    "from matplotlib.pyplot import *\n",
    "import numpy as np\n",
    "import pandas as pd\n",
    "import os\n",
    "import importlib\n",
    "\n",
    "from ATARI.sammy_interface import sammy_classes, sammy_functions\n",
    "\n",
    "from ATARI.ModelData.particle_pair import Particle_Pair\n",
    "from ATARI.ModelData.experimental_model import Experimental_Model\n",
    "\n",
    "from copy import copy\n",
    "\n",
    "import plotting as myplot\n"
   ]
  },
  {
   "cell_type": "code",
   "execution_count": null,
   "metadata": {},
   "outputs": [],
   "source": [
    "sammypath = '/Users/noahwalton/gitlab/sammy/sammy/build/bin/sammy'"
   ]
  },
  {
   "cell_type": "code",
   "execution_count": null,
   "metadata": {},
   "outputs": [],
   "source": [
    "%matplotlib widget"
   ]
  },
  {
   "cell_type": "markdown",
   "metadata": {},
   "source": [
    "# 1, 3 mm Capture Yield Data\n",
    "\n",
    "Similar to the 1, 3, and 6 mm transmission data, we do not have access to any of the raw data used for capture measurements. \n",
    "Cannot just take rough approximate of open neutron spectrum because we actually need the shape for normalization -> use Li6 spectrum from 12mm transmission and normalize to Li6 yield rather than B4C yield."
   ]
  }
 ],
 "metadata": {
  "kernelspec": {
   "display_name": "test",
   "language": "python",
   "name": "python3"
  },
  "language_info": {
   "codemirror_mode": {
    "name": "ipython",
    "version": 3
   },
   "file_extension": ".py",
   "mimetype": "text/x-python",
   "name": "python",
   "nbconvert_exporter": "python",
   "pygments_lexer": "ipython3",
   "version": "3.10.12"
  }
 },
 "nbformat": 4,
 "nbformat_minor": 2
}
