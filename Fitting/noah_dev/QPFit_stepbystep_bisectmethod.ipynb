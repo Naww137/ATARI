{
 "cells": [
  {
   "cell_type": "code",
   "execution_count": 210,
   "metadata": {},
   "outputs": [],
   "source": [
    "import numpy as np\n",
    "import pandas as pd\n",
    "import os\n",
    "from matplotlib.pyplot import *\n",
    "import h5py\n",
    "import scipy.stats as sts\n",
    "\n",
    "from ATARI.syndat.particle_pair import Particle_Pair\n",
    "from ATARI.syndat.experiment import Experiment\n",
    "from ATARI.syndat.MMDA import generate\n",
    "from ATARI.theory.xs import SLBW\n",
    "from ATARI.theory.scattering_params import FofE_recursive\n",
    "from ATARI.theory.scattering_params import gstat\n",
    "from ATARI.utils.datacontainer import DataContainer\n",
    "from ATARI.utils.atario import fill_resonance_ladder\n",
    "from ATARI.utils.stats import chi2_val\n",
    "\n",
    "from numpy.linalg import inv\n",
    "from scipy.linalg import block_diag\n",
    "\n",
    "from scipy.optimize import lsq_linear\n",
    "from qpsolvers import solve_qp\n",
    "from scipy.optimize import linprog\n",
    "\n",
    "import functions as fn \n"
   ]
  },
  {
   "cell_type": "code",
   "execution_count": 211,
   "metadata": {},
   "outputs": [],
   "source": [
    "%matplotlib widget"
   ]
  },
  {
   "cell_type": "code",
   "execution_count": 212,
   "metadata": {},
   "outputs": [],
   "source": [
    "ac = 0.81271  # scattering radius in 1e-12 cm \n",
    "M = 180.948030  # amu of target nucleus\n",
    "m = 1           # amu of incident neutron\n",
    "I = 3.5         # intrinsic spin, positive parity\n",
    "i = 0.5         # intrinsic spin, positive parity\n",
    "l_max = 1       # highest order l-wave to consider\n",
    "\n",
    "\n",
    "spin_groups = [ (3.0,1,0) ]\n",
    "average_parameters = pd.DataFrame({ 'dE'    :   {'3.0':8.79, '4.0':4.99},\n",
    "                                    'Gg'    :   {'3.0':64.0, '4.0':64.0},\n",
    "                                    'gn2'    :   {'3.0':46.4, '4.0':35.5}  })\n",
    "\n",
    "Ta_pair = Particle_Pair( ac, M, m, I, i, l_max,\n",
    "                                input_options={},\n",
    "                                spin_groups=spin_groups,\n",
    "                                average_parameters=average_parameters )   \n",
    "\n",
    "\n",
    "E_min_max = [75, 125]\n",
    "energy_grid = E_min_max\n",
    "\n",
    "input_options = {'Add Noise': True,\n",
    "                'Calculate Covariance': True,\n",
    "                'Compression Points':[],\n",
    "                'Grouping Factors':None}\n",
    "\n",
    "# experiment_parameters = {'bw': {'val':0.0256,   'unc'   :   0},\n",
    "#                          'n':  {'val':0.067166,     'unc'   :0}}\n",
    "experiment_parameters = {'bw': {'val':0.1024,   'unc'   :   0},\n",
    "                         'n':  {'val':0.067166,     'unc'   :0}}\n",
    "\n",
    "# initialize experimental setup\n",
    "exp = Experiment(energy_grid, \n",
    "                        input_options=input_options, \n",
    "                        experiment_parameters=experiment_parameters)\n",
    "\n",
    "\n",
    "case_file = '/Users/noahwalton/research_local/resonance_fitting/ATARI_workspace/SLBW_noexp/lasso/Ta181_500samples_E75_125/Ta181_500samples_E75_125_1.hdf5'\n",
    "dataset_range = (0, 10)\n",
    "samples_not_generated = generate(Ta_pair, exp, \n",
    "                                        'syndat_SLBW', \n",
    "                                        dataset_range, \n",
    "                                        case_file,\n",
    "                                        fixed_resonance_ladder=None, \n",
    "                                        open_data=None,\n",
    "                                        vary_Erange=None,\n",
    "                                        use_hdf5=True,\n",
    "                                        overwrite = False\n",
    "                                                                    )"
   ]
  },
  {
   "cell_type": "code",
   "execution_count": 213,
   "metadata": {},
   "outputs": [
    {
     "name": "stdout",
     "output_type": "stream",
     "text": [
      "Model 'true' already exists in pw.exp, bypassing pointwise reconstruction\n"
     ]
    },
    {
     "name": "stderr",
     "output_type": "stream",
     "text": [
      "/Users/noahwalton/opt/anaconda3/envs/atari/lib/python3.9/site-packages/pandas/core/arraylike.py:402: RuntimeWarning: invalid value encountered in log\n",
      "  result = getattr(ufunc, method)(*inputs, **kwargs)\n"
     ]
    }
   ],
   "source": [
    "import ATARI.utils.atario as io\n",
    "from ATARI.utils.misc import fine_egrid \n",
    "\n",
    "\n",
    "from ATARI.utils.io.experimental_parameters import BuildExperimentalParameters_fromDIRECT, DirectExperimentalParameters\n",
    "from ATARI.utils.io.theoretical_parameters import BuildTheoreticalParameters_fromHDF5, BuildTheoreticalParameters_fromATARI, DirectTheoreticalParameters\n",
    "from ATARI.utils.io.pointwise_container import BuildPointwiseContainer_fromHDF5, BuildPointwiseContainer_fromATARI, DirectPointwiseContainer\n",
    "from ATARI.utils.io.data_container import BuildDataContainer_fromBUILDERS, BuildDataContainer_fromOBJECTS, DirectDataContainer\n",
    "\n",
    "\n",
    "\n",
    "# read Oleksii's Data\n",
    "# casenum = 114\n",
    "# filepath = f\"/Users/noahwalton/research_local/resonance_fitting/ATARI_workspace/SLBW_noexp/lasso/Ta181_500samples_E75_125/sample_{casenum}\"\n",
    "# true_resladder = pd.read_csv(os.path.join(filepath, 'ladder.csv'), index_col=0)\n",
    "# exp_cov = pd.read_csv(os.path.join(filepath, 'cov.csv'), index_col=0)\n",
    "# exp_pw = pd.read_csv(os.path.join(filepath, 'transm.csv'), index_col=0)\n",
    "# exp_pw.drop(columns='index', inplace=True)\n",
    "# exp_pw.rename(columns={'exp_cs':'exp_xs', 'true_cs':'true_xs', 'true_trans':'true_trans'}, inplace=True)\n",
    "# exp_cov.columns=exp_pw.E\n",
    "# exp_cov.index=exp_pw.E\n",
    "# exp_cov.index.name = None\n",
    "\n",
    "\n",
    "# read hdf\n",
    "case_file = \"/Users/noahwalton/research_local/resonance_fitting/ATARI_workspace/SLBW_noexp/lasso/Ta181_500samples_E75_125/Ta181_500samples_E75_125_1.hdf5\"\n",
    "casenum = 128\n",
    " \n",
    "\n",
    "### Build from hdf5\n",
    "builder_exppar = BuildExperimentalParameters_fromDIRECT(0.067166, 0, 1e-2)\n",
    "exppar = builder_exppar.construct()\n",
    "\n",
    "builder_theopar = BuildTheoreticalParameters_fromHDF5('true', case_file, casenum, Ta_pair)\n",
    "truepar = builder_theopar.construct()\n",
    "\n",
    "builder_pw = BuildPointwiseContainer_fromHDF5(case_file, casenum)\n",
    "pw = builder_pw.construct_lite_w_CovT()\n",
    "\n",
    "builder_dc = BuildDataContainer_fromOBJECTS( pw, exppar, [truepar])\n",
    "dc = builder_dc.construct()\n",
    "\n",
    "dc.pw.fill_exp_xs(dc.experimental_parameters)\n",
    "\n",
    "# with h5py.File(case_file) as f:\n",
    "#     print(f['sample_114'].keys())"
   ]
  },
  {
   "cell_type": "code",
   "execution_count": 214,
   "metadata": {},
   "outputs": [],
   "source": [
    "# casenum = 114\n",
    "# filepath = f\"/Users/noahwalton/research_local/resonance_fitting/ATARI_workspace/SLBW_noexp/lasso/Ta181_500samples_E75_125/sample_{casenum}\"\n",
    "# case_file = './test.hdf5'\n",
    "\n",
    "# true_resladder = pd.read_csv(os.path.join(filepath, 'ladder.csv'), index_col=0)\n",
    "# exp_cov = pd.read_csv(os.path.join(filepath, 'cov.csv'), index_col=0)\n",
    "# exp_pw = pd.read_csv(os.path.join(filepath, 'transm.csv'), index_col=0)\n",
    "# exp_pw.drop(columns='index', inplace=True)\n",
    "# exp_pw.rename(columns={'exp_cs':'exp_xs', 'theo_cs':'true_xs', 'theo_trans':'true_trans'}, inplace=True)\n",
    "# exp_cov.columns=exp_pw.E\n",
    "# exp_cov.index=exp_pw.E\n",
    "# exp_cov.index.name = None\n",
    "\n",
    "# # build theoretical parameters\n",
    "# builder_theo_par = BuildTheoreticalParameters_fromATARI('true', true_resladder, Ta_pair)\n",
    "# theo_par = builder_theo_par.construct()\n",
    "# print(theo_par.resonance_ladder)\n",
    "# theo_par.fill()\n",
    "\n",
    "# # build experimental parameters\n",
    "# builder_exp_par = BuildExperimentalParameters_fromDIRECT(0.067166, 0, 1e-2)\n",
    "# exp_par = builder_exp_par.construct()\n",
    "\n",
    "# # build pointwise data\n",
    "# builder_pw = BuildPointwiseContainer_fromATARI(exp_pw, CovT=exp_cov, ppeV=10)\n",
    "# pw = builder_pw.construct_full()\n",
    "# pw.add_model(theo_par, exp_par)\n",
    "\n",
    "# # build data container\n",
    "# builder_dc = BuildDataContainer_fromOBJECTS(pw, exp_par, [theo_par])\n",
    "# dc = builder_dc.construct()\n",
    "# # dc.pw.add_model(theo_par, exp_par)\n",
    "\n",
    "# # ### write to hdf5\n",
    "# # dc.to_hdf5(case_file, casenum)\n",
    "\n",
    "# print(dc.theoretical_parameters['true'].resonance_ladder)\n"
   ]
  },
  {
   "cell_type": "code",
   "execution_count": 215,
   "metadata": {},
   "outputs": [
    {
     "name": "stderr",
     "output_type": "stream",
     "text": [
      "/Users/noahwalton/opt/anaconda3/envs/atari/lib/python3.9/site-packages/ipywidgets/widgets/widget.py:502: DeprecationWarning: Passing unrecognized arguments to super(Toolbar).__init__().\n",
      "__init__() missing 1 required positional argument: 'canvas'\n",
      "This is deprecated in traitlets 4.2.This error will be raised in a future release of traitlets.\n",
      "  super().__init__(**kwargs)\n"
     ]
    },
    {
     "data": {
      "text/plain": [
       "<ErrorbarContainer object of 3 artists>"
      ]
     },
     "execution_count": 215,
     "metadata": {},
     "output_type": "execute_result"
    },
    {
     "data": {
      "application/vnd.jupyter.widget-view+json": {
       "model_id": "d80e6de7c5684df3b8c80eed9df7bbe0",
       "version_major": 2,
       "version_minor": 0
      },
      "image/png": "[encoded data removed]",
      "text/html": [
       "\n",
       "            <div style=\"display: inline-block;\">\n",
       "                <div class=\"jupyter-widgets widget-label\" style=\"text-align: center;\">\n",
       "                    Figure\n",
       "                </div>\n",
       "                <img src='data:image/png;base64,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' width=640.0/>\n",
       "            </div>\n",
       "        "
      ],
      "text/plain": [
       "Canvas(toolbar=Toolbar(toolitems=[('Home', 'Reset original view', 'home', 'home'), ('Back', 'Back to previous …"
      ]
     },
     "metadata": {},
     "output_type": "display_data"
    }
   ],
   "source": [
    "figure()\n",
    "# plot(pw.fine.E, pw.fine.theo_xs)\n",
    "plot(dc.pw.exp.E, dc.pw.exp.true_xs)\n",
    "\n",
    "errorbar(dc.pw.exp.E, dc.pw.exp.exp_xs, yerr=dc.pw.exp.exp_xs_unc, fmt='.', capsize=2)\n",
    "# plot(dc.pw.exp.E, dc.pw.exp.exp_trans, '.')\n",
    "# ylim([-max_xs*.1, max_xs*1.25])\n"
   ]
  },
  {
   "cell_type": "code",
   "execution_count": 216,
   "metadata": {},
   "outputs": [],
   "source": [
    "\n",
    "import classes as cls"
   ]
  },
  {
   "attachments": {},
   "cell_type": "markdown",
   "metadata": {},
   "source": [
    "## Approach\n",
    "\n",
    "0. Solve initial and reduce feature bank (don't want to do this step but I am for now to speed up computation)\n",
    "\n",
    "1. Solve unconstrained problem with 'full' feature bank. \n",
    "\n",
    "2. Run bisection routine to get solutions constrained to different number of features (Resonances)\n",
    "    a. Maximum possible weight comes from 1.\n",
    "    b. Solve for the minimum possible weight constraint using LP. \n",
    "\n",
    "3. For each solution corresponding to an integer number of features, reduce the feature bank and solve the unconstrained problem\n",
    "\n",
    "4. For each solution from 3 as a prior, solve the GLLS problem to search the constinuous parameter space\n",
    "\n",
    "5. Perform LRT between the models from 4"
   ]
  },
  {
   "cell_type": "code",
   "execution_count": 217,
   "metadata": {},
   "outputs": [],
   "source": [
    "### Unit test for feature bank construction\n",
    "\n",
    "# fb0 = prob.get_FeatureBank(dc, [575], [100e-3])\n",
    "# # inp0 = prob.get_MatrixInputs(dc, fb0)\n",
    "# fb0.solution_ws = np.array([50e-3])\n",
    "# test_par = TheoreticalParameters(Ta_pair, pd.DataFrame({'E':575, 'Gt':100, 'Gnx':50, 'Gg':50, 'J':3.0,'chs':1,'lwave':0.0, 'J_ID':None}, index=[0]))\n",
    "# test,_,_ = SLBW(dc.pw.exp.E, Ta_pair, test_par.resonance_ladder)\n",
    "\n",
    "# figure()\n",
    "# plot(dc.pw.exp.E, fb0.model-test)\n",
    "# # plot(dc.pw.exp.E, test)\n"
   ]
  },
  {
   "attachments": {},
   "cell_type": "markdown",
   "metadata": {},
   "source": [
    "## Step 0, reduce initial feature bank for computational speed"
   ]
  },
  {
   "cell_type": "code",
   "execution_count": 218,
   "metadata": {},
   "outputs": [
    {
     "name": "stdout",
     "output_type": "stream",
     "text": [
      "3250\n",
      "925\n"
     ]
    },
    {
     "data": {
      "text/plain": [
       "array([0.0575304, 0.0605304, 0.0635304, 0.0665304, 0.0695304, 0.0725304,\n",
       "       0.0755304, 0.0785304, 0.0815304, 0.0845304, 0.0875304, 0.0905304,\n",
       "       0.0935304])"
      ]
     },
     "execution_count": 218,
     "metadata": {},
     "output_type": "execute_result"
    }
   ],
   "source": [
    "### Step 0\n",
    "average_parameters.loc[:,['Gn']] = average_parameters['gn2']/12.5\n",
    "\n",
    "Elam_features, Gtot_features = fn.get_parameter_grid(dc.pw.exp.E, average_parameters, '3.0', 2e-1, 3e0)\n",
    "# Er, Gt, Gn = fn.get_parameter_grid_new(dc.pw.exp.E, res_par_avg, num_Er=int(2e2), num_Gt=int(5))\n",
    "# Gtot_features = np.append(Gtot_features, np.round(np.array(dc.theoretical_parameters['true'].resonance_ladder.Gt),1)*1e-3 )\n",
    "# Elam_features = np.append(Elam_features, np.round(np.array(dc.theoretical_parameters['true'].resonance_ladder.E),1))\n",
    "# Elam_features = np.round(np.array(theo_resladder.E),1)\n",
    "# Gtot_features = np.array(theo_resladder.Gt)*1e-3\n",
    "# Elam_features = np.array(theo_resladder.E)\n",
    "\n",
    "w_threshold = 1e-6\n",
    "prob = cls.ProblemHandler(w_threshold)\n",
    "\n",
    "fb0 = prob.get_FeatureBank(dc, Elam_features, Gtot_features)\n",
    "inp0 = prob.get_MatrixInputs(dc, fb0)\n",
    "\n",
    "sol_lp0 = cls.Solvers.solve_linear_program(inp0)\n",
    "print(fb0.nfeatures)\n",
    "print(np.count_nonzero(sol_lp0>0))\n",
    "Gtot_features"
   ]
  },
  {
   "attachments": {},
   "cell_type": "markdown",
   "metadata": {},
   "source": [
    "## Step 1, solve unconstrained problem"
   ]
  },
  {
   "cell_type": "code",
   "execution_count": 174,
   "metadata": {},
   "outputs": [],
   "source": [
    "qpopt = cls.QPopt(verbose=True,\n",
    "                abstol = 1e-6,\n",
    "                reltol = 1e-6,\n",
    "                feastol=1e-6,\n",
    "                    maxiters = 200)"
   ]
  },
  {
   "cell_type": "code",
   "execution_count": 175,
   "metadata": {},
   "outputs": [
    {
     "name": "stdout",
     "output_type": "stream",
     "text": [
      "     pcost       dcost       gap    pres   dres\n",
      " 0: -4.0542e+03 -4.1615e+03  7e+03  3e-01  1e-01\n",
      " 1: -4.0511e+03 -4.1746e+03  2e+03  9e-02  4e-02\n",
      " 2: -4.0485e+03 -4.1596e+03  1e+03  4e-02  2e-02\n",
      " 3: -4.0426e+03 -4.1538e+03  1e+03  3e-02  1e-02\n",
      " 4: -4.0357e+03 -4.1403e+03  9e+02  2e-02  1e-02\n",
      " 5: -4.0239e+03 -4.1457e+03  8e+02  2e-02  7e-03\n",
      " 6: -4.0010e+03 -4.0804e+03  4e+02  7e-03  3e-03\n",
      " 7: -3.9895e+03 -4.0502e+03  3e+02  5e-03  2e-03\n",
      " 8: -3.9682e+03 -3.9922e+03  2e+02  3e-03  1e-03\n",
      " 9: -3.9653e+03 -3.9809e+03  2e+02  3e-03  1e-03\n",
      "10: -3.9540e+03 -3.9338e+03  2e+02  2e-03  1e-03\n",
      "11: -3.9544e+03 -3.9483e+03  2e+02  2e-03  1e-03\n",
      "12: -3.9541e+03 -3.9530e+03  2e+02  2e-03  1e-03\n",
      "13: -3.9536e+03 -3.9537e+03  2e+02  2e-03  9e-04\n",
      "14: -3.9524e+03 -3.9477e+03  2e+02  2e-03  8e-04\n",
      "15: -3.9491e+03 -3.9273e+03  2e+02  2e-03  7e-04\n",
      "16: -3.9450e+03 -3.8943e+03  2e+02  1e-03  7e-04\n",
      "17: -3.9311e+03 -3.8112e+03  2e+02  1e-03  6e-04\n",
      "18: -3.9110e+03 -3.7375e+03  2e+02  1e-03  6e-04\n",
      "19: -3.8875e+03 -3.6802e+03  2e+02  1e-03  5e-04\n",
      "20: -3.8427e+03 -3.6100e+03  3e+02  9e-04  4e-04\n",
      "21: -3.7195e+03 -3.4907e+03  2e+02  6e-04  3e-04\n",
      "22: -3.7167e+03 -3.4758e+03  2e+02  6e-04  3e-04\n",
      "23: -3.6427e+03 -3.4163e+03  2e+02  5e-04  2e-04\n",
      "24: -3.5667e+03 -3.3656e+03  2e+02  4e-04  2e-04\n",
      "25: -3.5236e+03 -3.3365e+03  2e+02  3e-04  1e-04\n",
      "26: -3.4422e+03 -3.2922e+03  2e+02  2e-04  1e-04\n",
      "27: -3.4077e+03 -3.2376e+03  2e+02  2e-04  9e-05\n",
      "28: -3.3273e+03 -3.1638e+03  2e+02  1e-04  6e-05\n",
      "29: -3.3030e+03 -3.1451e+03  2e+02  1e-04  6e-05\n",
      "30: -3.2620e+03 -3.1245e+03  2e+02  1e-04  5e-05\n",
      "31: -3.2170e+03 -3.1022e+03  2e+02  8e-05  4e-05\n",
      "32: -3.1994e+03 -3.0893e+03  2e+02  7e-05  3e-05\n",
      "33: -3.1773e+03 -3.0553e+03  2e+02  6e-05  3e-05\n",
      "34: -3.1495e+03 -2.8135e+03  2e+02  5e-05  2e-05\n",
      "35: -2.9324e+03 -2.0186e+03  4e+02  5e-05  2e-05\n",
      "36: -2.6934e+03 -1.6860e+03  5e+02  4e-05  2e-05\n",
      "37: -2.6844e+03 -1.6487e+03  5e+02  4e-05  2e-05\n",
      "38: -2.5796e+03 -1.3652e+03  6e+02  3e-05  2e-05\n",
      "39: -2.4985e+03 -1.2237e+03  6e+02  3e-05  2e-05\n",
      "40: -2.3940e+03 -1.3148e+03  7e+02  3e-05  2e-05\n",
      "41: -2.2355e+03 -1.1361e+03  7e+02  3e-05  1e-05\n",
      "42: -2.0689e+03 -9.8947e+02  7e+02  3e-05  1e-05\n",
      "43: -1.9476e+03 -9.0857e+02  7e+02  2e-05  1e-05\n",
      "44: -1.4658e+03 -6.6127e+02  6e+02  2e-05  7e-06\n",
      "45: -1.3182e+03 -5.8149e+02  6e+02  1e-05  6e-06\n",
      "46: -1.0347e+03 -4.6530e+02  5e+02  9e-06  4e-06\n",
      "47: -7.7263e+02 -3.6124e+02  5e+02  6e-06  3e-06\n",
      "48: -5.8419e+02 -3.0653e+02  4e+02  4e-06  2e-06\n",
      "49: -4.6925e+02 -2.6048e+02  3e+02  3e-06  1e-06\n",
      "50: -3.4476e+02 -2.2018e+02  3e+02  2e-06  9e-07\n",
      "51: -2.8522e+02 -1.6785e+02  3e+02  1e-06  7e-07\n",
      "52: -1.3328e+02 -2.3893e+01  2e+02  8e-07  4e-07\n",
      "53: -7.3621e+01  4.7152e+00  2e+02  6e-07  3e-07\n",
      "54: -3.0448e+01  3.0000e+01  2e+02  5e-07  2e-07\n",
      "55:  3.1513e+00  5.2897e+01  2e+02  3e-07  2e-07\n",
      "56:  7.1136e+01  7.2498e+01  2e+02  2e-07  9e-08\n",
      "57:  1.2418e+02  1.1795e+02  9e+01  8e-08  4e-08\n",
      "58:  1.5591e+02  1.3743e+02  5e+01  3e-08  1e-08\n",
      "59:  1.6773e+02  1.6030e+02  1e+01  2e-09  1e-09\n",
      "60:  1.6765e+02  1.6301e+02  5e+00  7e-10  3e-10\n",
      "61:  1.6690e+02  1.6576e+02  1e+00  1e-10  6e-11\n",
      "62:  1.6685e+02  1.6595e+02  1e+00  7e-11  3e-11\n",
      "63:  1.6665e+02  1.6638e+02  3e-01  2e-11  8e-12\n",
      "64:  1.6659e+02  1.6648e+02  1e-01  4e-12  2e-12\n",
      "65:  1.6656e+02  1.6654e+02  2e-02  2e-13  4e-13\n",
      "66:  1.6656e+02  1.6654e+02  1e-02  6e-14  4e-13\n",
      "67:  1.6655e+02  1.6655e+02  3e-03  2e-14  5e-13\n",
      "68:  1.6655e+02  1.6655e+02  3e-03  1e-14  8e-13\n",
      "69:  1.6655e+02  1.6655e+02  8e-05  8e-15  5e-13\n",
      "Optimal solution found.\n"
     ]
    }
   ],
   "source": [
    "### Step 1\n",
    "fb1, sol_lp0_ereduced = prob.reduce_FeatureBank(fb0, sol_lp0)\n",
    "inp1 = prob.get_MatrixInputs(dc, fb1)\n",
    "# fb1 = fb0\n",
    "# inp1 = inp0\n",
    "fb1.solution_ws = cls.Solvers.solve_quadratic_program(inp1, qpopt)\n",
    "fb1.solution_ws = fb1.solution_ws.reshape(-1,1)\n",
    "# print(fb1.nfeatures)\n",
    "# fb1.get_parameter_solution()"
   ]
  },
  {
   "cell_type": "code",
   "execution_count": 176,
   "metadata": {},
   "outputs": [
    {
     "data": {
      "text/plain": [
       "(647, 1)"
      ]
     },
     "execution_count": 176,
     "metadata": {},
     "output_type": "execute_result"
    }
   ],
   "source": [
    "(fb1.feature_matrix@fb1.solution_ws.reshape(-1,1)+fb1.potential_scattering).shape"
   ]
  },
  {
   "cell_type": "code",
   "execution_count": null,
   "metadata": {},
   "outputs": [],
   "source": []
  },
  {
   "cell_type": "code",
   "execution_count": 177,
   "metadata": {},
   "outputs": [
    {
     "name": "stderr",
     "output_type": "stream",
     "text": [
      "/Users/noahwalton/opt/anaconda3/envs/atari/lib/python3.9/site-packages/ipywidgets/widgets/widget.py:502: DeprecationWarning: Passing unrecognized arguments to super(Toolbar).__init__().\n",
      "__init__() missing 1 required positional argument: 'canvas'\n",
      "This is deprecated in traitlets 4.2.This error will be raised in a future release of traitlets.\n",
      "  super().__init__(**kwargs)\n"
     ]
    },
    {
     "data": {
      "text/plain": [
       "[<matplotlib.lines.Line2D at 0x7fcb505dd580>]"
      ]
     },
     "execution_count": 177,
     "metadata": {},
     "output_type": "execute_result"
    },
    {
     "data": {
      "application/vnd.jupyter.widget-view+json": {
       "model_id": "a982c0d20a0d4e219e3f360e2612c8e4",
       "version_major": 2,
       "version_minor": 0
      },
      "image/png": "[encoded data removed]",
      "text/html": [
       "\n",
       "            <div style=\"display: inline-block;\">\n",
       "                <div class=\"jupyter-widgets widget-label\" style=\"text-align: center;\">\n",
       "                    Figure\n",
       "                </div>\n",
       "                <img src='data:image/png;base64,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' width=640.0/>\n",
       "            </div>\n",
       "        "
      ],
      "text/plain": [
       "Canvas(toolbar=Toolbar(toolitems=[('Home', 'Reset original view', 'home', 'home'), ('Back', 'Back to previous …"
      ]
     },
     "metadata": {},
     "output_type": "display_data"
    }
   ],
   "source": [
    "figure()\n",
    "# plot(dc.pw.exp.E, dc.pw.exp.theo_xs, 'g')\n",
    "errorbar(dc.pw.exp.E, dc.pw.exp.exp_xs, yerr=dc.pw.exp.exp_xs_unc, fmt='.', capsize=2)\n",
    "plot(dc.pw.exp.E, fb1.model, 'r')\n",
    "# bins = hist(np.log(fb1.solution_ws), bins=50)\n",
    "# np.count_nonzero(fb1.solution_ws>prob.w_threshold)"
   ]
  },
  {
   "cell_type": "code",
   "execution_count": 178,
   "metadata": {},
   "outputs": [
    {
     "data": {
      "text/plain": [
       "True"
      ]
     },
     "execution_count": 178,
     "metadata": {},
     "output_type": "execute_result"
    }
   ],
   "source": [
    "np.any(np.isnan(dc.pw.exp.exp_xs))"
   ]
  },
  {
   "cell_type": "code",
   "execution_count": null,
   "metadata": {},
   "outputs": [],
   "source": []
  },
  {
   "cell_type": "code",
   "execution_count": 179,
   "metadata": {},
   "outputs": [
    {
     "data": {
      "text/plain": [
       "nan"
      ]
     },
     "execution_count": 179,
     "metadata": {},
     "output_type": "execute_result"
    }
   ],
   "source": [
    "chi2_val(fb1.model, dc.pw.exp.exp_xs, np.diag(dc.pw.exp.exp_xs_unc**2))"
   ]
  },
  {
   "cell_type": "code",
   "execution_count": 180,
   "metadata": {},
   "outputs": [],
   "source": [
    "def solve_qp_w_constraint(inp_uncon, wcon, qpopt: cls.QPopt):\n",
    "    inp_con = prob.get_ConstrainedMatrixInputs(inp_uncon, wcon)\n",
    "    sol = cls.Solvers.solve_quadratic_program(inp_con, qpopt)\n",
    "    return sol"
   ]
  },
  {
   "attachments": {},
   "cell_type": "markdown",
   "metadata": {},
   "source": [
    "## Step 2, run bisection routine"
   ]
  },
  {
   "cell_type": "code",
   "execution_count": 181,
   "metadata": {},
   "outputs": [],
   "source": [
    "### Bisection Routine\n",
    "def bisect(x0,x1):\n",
    "    return (x0+x1)/2\n",
    "\n",
    "def bisect_and_solve(current_target_ires, minval, maxval, target_numres, wcon, sol_ws, save_all, searching=True, termination_threshold=1e-3):\n",
    "\n",
    "    icurrent_target_ires = current_target_ires-min(target_numres)\n",
    "    \n",
    "    while searching:\n",
    "\n",
    "        # check termination criteria\n",
    "        if abs((minval-maxval)/maxval) < termination_threshold:\n",
    "            searching = False\n",
    "        elif wcon[icurrent_target_ires] > 0:\n",
    "            searching = False\n",
    "\n",
    "        # bisect, solve, and save result\n",
    "        new_w = bisect(minval, maxval)\n",
    "        con_sol_ws = solve_qp_w_constraint(inp1, new_w, qpopt) # TODO: Make dc and fb dynamic here!\n",
    "        if con_sol_ws is None:\n",
    "            wcon, sol_ws, save_all, searching = bisect_and_solve(current_target_ires, new_w, maxval, target_numres, wcon, sol_ws, save_all, searching=searching)\n",
    "        else:\n",
    "            numres_sol = np.count_nonzero(con_sol_ws>w_threshold)\n",
    "            ires_sol = numres_sol-min(target_numres)\n",
    "            save_all.append((new_w, numres_sol))\n",
    "\n",
    "            if numres_sol == current_target_ires:\n",
    "                #record if current target\n",
    "                if wcon[ires_sol] < new_w:\n",
    "                    wcon[ires_sol] = new_w\n",
    "                    sol_ws[:,ires_sol] = con_sol_ws\n",
    "\n",
    "            elif numres_sol > current_target_ires:\n",
    "                # record other if in target numres\n",
    "                if numres_sol in target_numres:\n",
    "                    if wcon[ires_sol] < new_w:\n",
    "                        wcon[ires_sol] = new_w\n",
    "                        sol_ws[:,ires_sol] = con_sol_ws\n",
    "                # bisect again to find current target\n",
    "                wcon, sol_ws, save_all, searching = bisect_and_solve(current_target_ires, minval, new_w, target_numres, wcon, sol_ws, save_all, searching=searching)\n",
    "\n",
    "            elif numres_sol < current_target_ires:\n",
    "                # record other if in target numres\n",
    "                if numres_sol in target_numres:\n",
    "                    if wcon[ires_sol] < new_w:\n",
    "                        wcon[ires_sol] = new_w\n",
    "                        sol_ws[:,ires_sol] = con_sol_ws\n",
    "                # bisect again to find current target\n",
    "                wcon, sol_ws, save_all, searching = bisect_and_solve(current_target_ires, new_w, maxval, target_numres, wcon, sol_ws, save_all, searching=searching)\n",
    "\n",
    "    return wcon, sol_ws, save_all, searching\n",
    "\n",
    "def get_bounding_wcons(ires_target, save_all):\n",
    "    temp = np.array(save_all)\n",
    "    temp = temp[temp[:,0].argsort()]\n",
    "    index = np.searchsorted(temp[:,1], ires_target, side='left')\n",
    "    return temp[index-1,0], temp[index,0]\n",
    "\n",
    "def get_target_numres_array(target_maxres, max_numres, min_numres):\n",
    "    return np.arange(min_numres, np.min([target_maxres,max_numres])+1, 1)\n",
    "\n",
    "def get_target_wcon_solw_arrays(target_numres, min_wcon, min_wcon_solw, max_numres, max_wcon, max_solw, target_wcon=None, sol_ws = None):\n",
    "    if target_wcon is None and sol_ws is None:\n",
    "        # init targer w constraints and solution vectors\n",
    "        target_wcon = np.zeros(len(target_numres))\n",
    "        sol_ws = np.zeros((len(min_wcon_solw), len(target_numres)))\n",
    "        # add min wconstraint and solution\n",
    "        if min_wcon == 0:\n",
    "            min_wcon = 1e-10\n",
    "        target_wcon[0] = min_wcon\n",
    "        sol_ws[:, 0] = min_wcon_solw\n",
    "        # add max if max numres (unconstrained solve) is in the target\n",
    "        if max_numres in target_numres:\n",
    "            target_wcon[-1] = max_wcon\n",
    "            sol_ws[:, -1] = max_solw\n",
    "    \n",
    "    elif target_wcon is None or sol_ws is None:\n",
    "        raise ValueError(\"Either target_wcon or sol_ws is None while the other is populated, check input.\")\n",
    "    else:\n",
    "        elements_to_add = len(target_numres)-len(target_wcon)\n",
    "        assert elements_to_add >= 0, \"target_numres is shorter than target_wcon\"\n",
    "        target_wcon = np.append(target_wcon, [0]*elements_to_add)\n",
    "        sol_ws = np.append(sol_ws, np.zeros((np.shape(sol_ws)[0], elements_to_add)), axis=1)\n",
    "    return target_wcon, sol_ws"
   ]
  },
  {
   "cell_type": "code",
   "execution_count": 182,
   "metadata": {},
   "outputs": [
    {
     "name": "stdout",
     "output_type": "stream",
     "text": [
      "     pcost       dcost       gap    pres   dres\n",
      " 0: -4.0542e+03 -4.1615e+03  7e+03  3e-01  1e-01\n",
      " 1: -4.0511e+03 -4.1746e+03  2e+03  9e-02  4e-02\n",
      " 2: -4.0485e+03 -4.1597e+03  1e+03  4e-02  2e-02\n",
      " 3: -4.0426e+03 -4.1538e+03  1e+03  3e-02  1e-02\n",
      " 4: -4.0357e+03 -4.1403e+03  9e+02  2e-02  1e-02\n",
      " 5: -4.0238e+03 -4.1457e+03  8e+02  2e-02  7e-03\n",
      " 6: -4.0009e+03 -4.0803e+03  4e+02  7e-03  3e-03\n",
      " 7: -3.9896e+03 -4.0506e+03  3e+02  5e-03  2e-03\n",
      " 8: -3.9681e+03 -3.9922e+03  2e+02  3e-03  1e-03\n",
      " 9: -3.9652e+03 -3.9809e+03  2e+02  3e-03  1e-03\n",
      "10: -3.9539e+03 -3.9336e+03  2e+02  2e-03  1e-03\n",
      "11: -3.9543e+03 -3.9484e+03  2e+02  2e-03  1e-03\n",
      "12: -3.9541e+03 -3.9532e+03  2e+02  2e-03  1e-03\n",
      "13: -3.9536e+03 -3.9539e+03  2e+02  2e-03  9e-04\n",
      "14: -3.9524e+03 -3.9480e+03  2e+02  2e-03  8e-04\n",
      "15: -3.9492e+03 -3.9281e+03  2e+02  2e-03  7e-04\n",
      "16: -3.9449e+03 -3.8942e+03  2e+02  1e-03  7e-04\n",
      "17: -3.9310e+03 -3.8109e+03  2e+02  1e-03  6e-04\n",
      "18: -3.9101e+03 -3.7348e+03  2e+02  1e-03  6e-04\n",
      "19: -3.8826e+03 -3.6703e+03  2e+02  1e-03  5e-04\n",
      "20: -3.8416e+03 -3.6094e+03  3e+02  9e-04  4e-04\n",
      "21: -3.8156e+03 -3.5632e+03  3e+02  9e-04  4e-04\n",
      "22: -3.7381e+03 -3.4766e+03  3e+02  7e-04  3e-04\n",
      "23: -3.6404e+03 -3.3925e+03  3e+02  5e-04  2e-04\n",
      "24: -3.5529e+03 -3.3339e+03  2e+02  4e-04  2e-04\n",
      "25: -3.4972e+03 -3.2994e+03  2e+02  3e-04  1e-04\n",
      "26: -3.4293e+03 -3.2606e+03  2e+02  2e-04  1e-04\n",
      "27: -3.3990e+03 -3.2315e+03  2e+02  2e-04  1e-04\n",
      "28: -3.3185e+03 -3.1495e+03  2e+02  1e-04  7e-05\n",
      "29: -3.2555e+03 -3.1086e+03  2e+02  1e-04  5e-05\n",
      "30: -3.2050e+03 -3.0822e+03  2e+02  9e-05  4e-05\n",
      "31: -3.1862e+03 -3.0728e+03  2e+02  8e-05  4e-05\n",
      "32: -3.1523e+03 -3.0510e+03  1e+02  6e-05  3e-05\n",
      "33: -3.1354e+03 -2.9833e+03  1e+02  6e-05  3e-05\n",
      "34: -3.1027e+03 -2.5759e+03  2e+02  5e-05  2e-05\n",
      "35: -3.0956e+03 -2.5417e+03  2e+02  5e-05  2e-05\n",
      "36: -3.0890e+03 -2.5143e+03  2e+02  5e-05  2e-05\n",
      "37: -3.0791e+03 -2.4723e+03  2e+02  5e-05  2e-05\n",
      "38: -3.0477e+03 -2.3550e+03  2e+02  5e-05  2e-05\n",
      "39: -2.9714e+03 -2.1356e+03  3e+02  5e-05  2e-05\n",
      "40: -2.8795e+03 -1.9378e+03  3e+02  4e-05  2e-05\n",
      "41: -2.8099e+03 -1.8031e+03  4e+02  4e-05  2e-05\n",
      "42: -2.7142e+03 -1.5917e+03  4e+02  4e-05  2e-05\n",
      "43: -2.5486e+03 -1.2255e+03  5e+02  3e-05  2e-05\n",
      "44: -2.4837e+03 -1.3071e+03  6e+02  3e-05  2e-05\n",
      "45: -2.1917e+03 -9.5895e+02  6e+02  3e-05  1e-05\n",
      "46: -2.1340e+03 -9.1221e+02  6e+02  3e-05  1e-05\n",
      "47: -2.1085e+03 -8.9370e+02  6e+02  3e-05  1e-05\n",
      "48: -2.1028e+03 -8.9459e+02  6e+02  3e-05  1e-05\n",
      "49: -1.9504e+03 -7.8627e+02  6e+02  2e-05  1e-05\n",
      "50: -1.7253e+03 -6.3508e+02  7e+02  2e-05  9e-06\n",
      "51: -1.5043e+03 -4.6209e+02  7e+02  2e-05  8e-06\n",
      "52: -1.2798e+03 -3.1529e+02  7e+02  1e-05  7e-06\n",
      "53: -9.9437e+02 -1.5541e+02  6e+02  1e-05  5e-06\n",
      "54: -7.9204e+02 -4.1915e+01  6e+02  9e-06  4e-06\n",
      "55: -5.1377e+02  1.4506e+02  6e+02  6e-06  3e-06\n",
      "56: -3.6784e+02  2.5317e+02  6e+02  5e-06  3e-06\n",
      "57: -1.2987e+02  3.8833e+02  5e+02  4e-06  2e-06\n",
      "58:  7.8518e+01  5.1162e+02  5e+02  3e-06  1e-06\n",
      "59:  2.3191e+02  7.1885e+02  5e+02  2e-06  1e-06\n",
      "60:  5.6034e+02  1.0309e+03  5e+02  1e-06  6e-07\n",
      "61:  6.8927e+02  1.1185e+03  5e+02  1e-06  5e-07\n",
      "62:  8.7596e+02  1.2974e+03  5e+02  8e-07  4e-07\n",
      "63:  9.8292e+02  1.4653e+03  5e+02  6e-07  3e-07\n",
      "64:  1.1577e+03  1.7229e+03  5e+02  5e-07  2e-07\n",
      "65:  1.3420e+03  2.0279e+03  5e+02  4e-07  2e-07\n",
      "66:  1.5028e+03  2.3313e+03  6e+02  3e-07  1e-07\n",
      "67:  1.6669e+03  2.6388e+03  6e+02  3e-07  1e-07\n",
      "68:  1.9221e+03  3.1540e+03  8e+02  2e-07  1e-07\n",
      "69:  2.3252e+03  3.6861e+03  9e+02  2e-07  8e-08\n",
      "70:  2.7480e+03  4.0115e+03  9e+02  1e-07  6e-08\n",
      "71:  2.5796e+03  4.4351e+03  1e+03  1e-07  6e-08\n",
      "72:  2.6689e+03  4.6369e+03  1e+03  1e-07  5e-08\n",
      "73:  2.7615e+03  5.1914e+03  1e+03  1e-07  5e-08\n",
      "74:  3.5231e+03  8.8705e+03  7e+02  7e-08  3e-08\n",
      "75:  1.5756e+04  2.0204e+04  9e+03  3e-08  2e-08\n",
      "76:  1.6984e+04  1.9863e+04  8e+03  3e-08  1e-08\n",
      "77:  1.8244e+04  1.9805e+04  7e+03  2e-08  9e-09\n",
      "78:  1.7970e+04  1.9903e+04  7e+03  2e-08  9e-09\n",
      "79:  1.9383e+04  2.0378e+04  3e+03  8e-09  4e-09\n",
      "80:  2.1161e+04  2.1117e+04  3e+02  4e-10  8e-10\n",
      "81:  2.1278e+04  2.1277e+04  4e+00  4e-12  6e-10\n",
      "82:  2.1279e+04  2.1279e+04  4e-02  4e-14  6e-10\n",
      "83:  2.1279e+04  2.1279e+04  4e-04  1e-15  6e-10\n",
      "Optimal solution found.\n",
      "6\n",
      "61\n"
     ]
    }
   ],
   "source": [
    "### Step 2\n",
    "\n",
    "w_threshold = 1e-6\n",
    "# determine mins and maxes\n",
    "min_wcon = prob.get_MinSolvableWeight(fb1.nfeatures, inp1)\n",
    "max_wcon = np.sum(fb1.solution_ws)\n",
    "max_numres = np.count_nonzero(fb1.solution_ws>prob.w_threshold)\n",
    "min_wcon_solw = solve_qp_w_constraint(inp1, min_wcon*1.000, qpopt)\n",
    "min_numres = np.count_nonzero(min_wcon_solw>prob.w_threshold)\n",
    "\n",
    "\n",
    "# solve_qp_w_constraint(inp1, min_wcon*1.001, qpopt)\n",
    "print(min_numres)\n",
    "print(max_numres)"
   ]
  },
  {
   "cell_type": "code",
   "execution_count": 183,
   "metadata": {},
   "outputs": [
    {
     "name": "stdout",
     "output_type": "stream",
     "text": [
      "[ 6  7  8  9 10 11 12 13 14 15 16 17 18 19 20 21 22 23 24 25]\n",
      "[0.00892114 0.         0.         0.         0.         0.\n",
      " 0.         0.         0.         0.         0.         0.\n",
      " 0.         0.         0.         0.         0.         0.\n",
      " 0.         0.        ]\n",
      "Found: [6]\n",
      "Current target: 25\n",
      "Found: [ 6 13 25]\n",
      "Current target: 24\n",
      "Found: [ 6 13 17 21 24 25]\n",
      "Current target: 23\n",
      "Found: [ 6 13 17 21 22 23 24 25]\n",
      "Current target: 22\n",
      "Found: [ 6 13 17 21 22 23 24 25]\n",
      "Current target: 21\n",
      "Found: [ 6 13 17 19 21 22 23 24 25]\n",
      "Current target: 20\n",
      "Found: [ 6 13 17 19 20 21 22 23 24 25]\n",
      "Current target: 19\n",
      "Found: [ 6 13 17 19 20 21 22 23 24 25]\n",
      "Current target: 18\n",
      "Found: [ 6 13 17 18 19 20 21 22 23 24 25]\n",
      "Current target: 17\n",
      "Found: [ 6 13 17 18 19 20 21 22 23 24 25]\n",
      "Current target: 16\n",
      "Found: [ 6 13 16 17 18 19 20 21 22 23 24 25]\n",
      "Current target: 15\n",
      "Found: [ 6 13 15 16 17 18 19 20 21 22 23 24 25]\n",
      "Current target: 14\n",
      "Found: [ 6 13 14 15 16 17 18 19 20 21 22 23 24 25]\n",
      "Current target: 13\n",
      "Found: [ 6  7 13 14 15 16 17 18 19 20 21 22 23 24 25]\n",
      "Current target: 12\n",
      "Found: [ 6  7  8  9 12 13 14 15 16 17 18 19 20 21 22 23 24 25]\n",
      "Current target: 11\n",
      "Found: [ 6  7  8  9 10 11 12 13 14 15 16 17 18 19 20 21 22 23 24 25]\n",
      "Current target: 10\n",
      "Found: [ 6  7  8  9 10 11 12 13 14 15 16 17 18 19 20 21 22 23 24 25]\n",
      "Current target: 9\n",
      "Found: [ 6  7  8  9 10 11 12 13 14 15 16 17 18 19 20 21 22 23 24 25]\n",
      "Current target: 8\n",
      "Found: [ 6  7  8  9 10 11 12 13 14 15 16 17 18 19 20 21 22 23 24 25]\n",
      "Current target: 7\n",
      "Found: [ 6  7  8  9 10 11 12 13 14 15 16 17 18 19 20 21 22 23 24 25]\n",
      "Current target: 6\n",
      "[ 6  7  8  9 10 11 12 13 14 15 16 17 18 19 20 21 22 23 24 25]\n",
      "[0.00929205 0.00984842 0.01012661 0.01036422 0.01037002 0.01037581\n",
      " 0.01038161 0.01045116 0.01045695 0.01046275 0.01047434 0.01050331\n",
      " 0.01050621 0.0105207  0.01053229 0.01054968 0.01055547 0.01056127\n",
      " 0.01056707 0.01059025]\n"
     ]
    }
   ],
   "source": [
    "# determine targets\n",
    "target_numres = get_target_numres_array(25, max_numres, min_numres)\n",
    "target_wcon, target_sol_ws = get_target_wcon_solw_arrays(target_numres, min_wcon, min_wcon_solw,max_numres, max_wcon, fb1.solution_ws, target_wcon=None, sol_ws=None)\n",
    "save_all = [(min_wcon, min_numres), (max_wcon, max_numres)]\n",
    "\n",
    "print(target_numres)\n",
    "print(target_wcon)\n",
    "\n",
    "qpopt.verbose=False\n",
    "# Run bisection routine\n",
    "for current_target_ires in target_numres[::-1]:\n",
    "    print(f'Found: {target_numres[target_wcon!=0]}')\n",
    "    print(f'Current target: {current_target_ires}')\n",
    "    minwcon, maxwcon = get_bounding_wcons(current_target_ires, save_all)\n",
    "    target_wcon, target_sol_ws, save_all, _ = bisect_and_solve(current_target_ires,\n",
    "                                                                minwcon, maxwcon,\n",
    "                                                                target_numres, target_wcon, target_sol_ws, save_all)\n",
    "# target_numres = target_numres.append(max_numres)\n",
    "# target_wcon = target_wcon.append(fb1.solution_ws)\n",
    "print(target_numres)\n",
    "print(target_wcon)"
   ]
  },
  {
   "attachments": {},
   "cell_type": "markdown",
   "metadata": {},
   "source": [
    "## Step 3, Solve reduced, unconstrained solution for each integer number of resonances"
   ]
  },
  {
   "cell_type": "code",
   "execution_count": 184,
   "metadata": {},
   "outputs": [
    {
     "data": {
      "text/plain": [
       "[(6, array([979.65009871])),\n",
       " (7, array([674.46748851])),\n",
       " (8, array([658.11831345])),\n",
       " (9, array([654.07163196])),\n",
       " (10, array([649.18981879])),\n",
       " (11, array([646.14533781])),\n",
       " (12, array([641.83656434])),\n",
       " (13, array([638.88309179])),\n",
       " (14, array([632.92385111])),\n",
       " (15, array([630.88444808])),\n",
       " (16, array([626.40687891])),\n",
       " (17, array([623.4687009])),\n",
       " (18, array([621.54232728])),\n",
       " (19, array([619.09750764])),\n",
       " (20, array([617.29841056])),\n",
       " (21, array([615.27529829])),\n",
       " (22, array([612.70353378])),\n",
       " (23, array([609.71327132])),\n",
       " (24, array([609.58534511])),\n",
       " (25, array([607.3040436]))]"
      ]
     },
     "execution_count": 184,
     "metadata": {},
     "output_type": "execute_result"
    }
   ],
   "source": [
    "integer_feature_solutions = {key: cls.FeatureBank for key in target_numres[target_wcon!=0]}\n",
    "\n",
    "chi2pairs = []\n",
    "\n",
    "for numres in target_numres[target_wcon!=0]:\n",
    "    \n",
    "    inumres = numres-min(target_numres)\n",
    "\n",
    "    # constrained unreduced\n",
    "    constrained_solution = target_sol_ws[:, inumres]\n",
    "\n",
    "    fb3, solw_reduced = prob.reduce_FeatureBank(fb1, constrained_solution)\n",
    "    inp3 = prob.get_MatrixInputs(dc, fb3)\n",
    "    fb3.solution_ws = cls.Solvers.solve_quadratic_program(inp3, qpopt)\n",
    "\n",
    "    integer_feature_solutions[numres] = fb3\n",
    "\n",
    "    # chi2 = chi2_val(fb3.model, dc.pw.exp.exp_xs, dc.pw.CovXS)\n",
    "    # chi2pairs.append((numres, chi2))\n",
    "\n",
    "    Pchi2 = (1/2)* fb3.solution_ws.T@inp3.P@fb3.solution_ws + inp3.q.T@fb3.solution_ws\n",
    "    chi2pairs.append((numres, Pchi2))\n",
    "    \n",
    "chi2pairs"
   ]
  },
  {
   "attachments": {},
   "cell_type": "markdown",
   "metadata": {},
   "source": [
    "### How should I combine widths and weights if I have resonances very close to one another?\n",
    "\n",
    "You cannot exactly calculate a w3 from (w1, w2) at the same energy location. I would like to approximate the combination of resonances that have very similar Elambda locations. The objective for the combination is to minimize the L2 norm between SLBW(w3) and SLBW(w2)+SLBW(w1) where w3 is some function of w2 and w1."
   ]
  },
  {
   "cell_type": "code",
   "execution_count": 185,
   "metadata": {},
   "outputs": [],
   "source": [
    "### Trying to minimize difference between combined features at one energy and multiple features near one another\n",
    "\n",
    "# before_res = ires_resladder.loc[12:14,:]\n",
    "# print(before_res)\n",
    "\n",
    "# # E = fine_egrid(dc.pw.exp.E, ppeV=100)\n",
    "# E = dc.pw.exp.E\n",
    "# before, _, _ = SLBW(E, Ta_pair, fill_resonance_ladder(before_res, Ta_pair, J=3.0, chs=1, lwave=0.0, J_ID=1) ) #%\n",
    "\n",
    "\n",
    "# Resonance_Matrix, potential_scattering, feature_pairs = fn.get_resonance_feature_bank(E, Ta_pair, [np.mean(before_res['E'].unique())], before_res['Gt'].unique()*1e-3)\n",
    "# Ptest = Resonance_Matrix.T @ np.diag(np.ones(len(before))) @ Resonance_Matrix\n",
    "# qtest =  - Resonance_Matrix.T @ np.diag(np.ones(len(before))) @ (dc.pw.exp.E-potential_scattering).flatten() \n",
    "\n",
    "# lb, ub = np.ones(1)*0, np.ones(1)*1\n",
    "# # test = linprog(qtest, bounds=np.array([lb, ub]).T)\n",
    "# test = solve_qp(Ptest, qtest, G=None, h=None, A=None, b=None, lb=lb, ub=ub, \n",
    "#                                                                 solver=qpopt.solver,\n",
    "#                                                                 verbose=True, #qpopt.verbose,\n",
    "#                                                                 abstol=qpopt.abstol,\n",
    "#                                                                 reltol=qpopt.reltol,\n",
    "#                                                                 feastol=qpopt.feastol,\n",
    "#                                                                 maxiters=qpopt.maxiters\n",
    "#                                                                 )\n",
    "    \n",
    "# # print(test)\n",
    "\n",
    "# figure()\n",
    "# plot(dc.pw.exp.E, dc.pw.exp.exp_xs, '.k')\n",
    "# plot(E, (before-potential_scattering).flatten(), 'r')\n",
    "# plot(E, Resonance_Matrix@test)\n",
    "# # plot(E, Resonance_Matrix)\n",
    "\n",
    "\n",
    "# combined, _, _ = SLBW(E, Ta_pair, fill_resonance_ladder(ires_resladder_combined, Ta_pair, J=3.0, chs=1, lwave=0.0, J_ID=1) )"
   ]
  },
  {
   "cell_type": "code",
   "execution_count": 186,
   "metadata": {},
   "outputs": [],
   "source": [
    "# ## Test combining features\n",
    "# numres = 4\n",
    "# ires_featurebank = integer_feature_solutions[numres]\n",
    "# ires_resladder = ires_featurebank.get_parameter_solution()\n",
    "# print(ires_resladder)\n",
    "\n",
    "\n",
    "# # ires_resladder_combined = ires_resladder.groupby('E').agg({'Gt':'sum', 'Gnx':'sum', 'Gg':'sum', 'w':'sum'}).reset_index()\n",
    "\n",
    "# ### to just combine if E are the exact same\n",
    "def calculate_combined_parameters(x):\n",
    "    if len(x) == 1:\n",
    "        return x #[['Gt', 'Gnx', 'Gg', 'w']]\n",
    "    else:\n",
    "        # Gnx = (x['w']*x['Gt']).sum()\n",
    "        # Gt = (x['w']*x['Gt']**2).sum() / Gnx\n",
    "        # w = Gnx/Gt\n",
    "        # Gg = Gt-Gnx\n",
    "        w = x['w'].sum()\n",
    "        Gnx = w*1e3\n",
    "        Gg = np.average(x['Gg'], weights=x['w'])\n",
    "        Gt = Gnx+Gg\n",
    "    return pd.DataFrame({'E':x['E'].unique(), 'Gt':Gt, 'Gnx':Gnx, 'Gg':Gg, 'w':w}, index=[0]) # pd.DataFrame({'Gt':Gt, 'Gnx':Gnx, 'Gg':Gg, 'w':w}, index=[0])\n",
    "    \n",
    "# ires_resladder_combined = ires_resladder.groupby(ires_resladder['E'], group_keys=False).apply(calculate_combined_parameters).reset_index(drop=True)\n",
    "\n",
    "\n",
    "\n",
    "# ### to combine with weighted average on E if they are close\n",
    "# # def weighted_avg(x):\n",
    "# #     return (x['E'] * x['w']).sum() / x['w'].sum()\n",
    "\n",
    "# # threshold = 1\n",
    "# # ires_resladder_combined = (\n",
    "# #     ires_resladder.groupby(ires_resladder['E'].diff().abs().gt(threshold).cumsum())\n",
    "# #     .apply(lambda x: pd.Series([weighted_avg(x), x['Gt'].sum(), x['Gnx'].sum(), x['Gg'].sum(), x['w'].sum()], index=['E','Gt', 'Gnx','Gg','w'] )) \n",
    "# #     .reset_index(drop=True)\n",
    "# # )\n",
    "\n",
    "# # # new_numres = len(ires_resladder_combined)\n",
    "# print(ires_resladder_combined)"
   ]
  },
  {
   "cell_type": "code",
   "execution_count": 187,
   "metadata": {},
   "outputs": [],
   "source": [
    "## Plotting combined features\n",
    "# numres = 4\n",
    "# # numres_other = 9\n",
    "# rxn = 'xs'\n",
    "# E = fine_egrid(dc.pw.exp.E, ppeV=1000)\n",
    "# before, _, _ = SLBW(E, Ta_pair, fill_resonance_ladder(ires_resladder, Ta_pair, J=3.0, chs=1, lwave=0.0, J_ID=1) )\n",
    "# combined, _, _ = SLBW(E, Ta_pair, fill_resonance_ladder(ires_resladder_combined, Ta_pair, J=3.0, chs=1, lwave=0.0, J_ID=1) )\n",
    "\n",
    "# figure()\n",
    "# # plot(dc.pw.fine.E, dc.pw.fine[f'theo_{rxn}'], 'g', lw=5)\n",
    "# plot(dc.pw.exp.E, dc.pw.exp[f'exp_{rxn}'], '.k')\n",
    "\n",
    "# plot(E, before, 'b', lw=2)\n",
    "# plot(E, combined, 'r', lw=1)\n",
    "# # # plot(dc.pw.exp.E, integer_feature_solutions[numres_other].model, 'b', lw=2)\n",
    "# plot(dc.pw.exp.E, integer_feature_solutions[numres].model, 'r', lw=1)"
   ]
  },
  {
   "cell_type": "code",
   "execution_count": 188,
   "metadata": {},
   "outputs": [
    {
     "name": "stdout",
     "output_type": "stream",
     "text": [
      "Model '23_prior' already exists in pw.exp, bypassing pointwise reconstruction\n"
     ]
    },
    {
     "data": {
      "text/plain": [
       "dict_keys([6, 7, 8, 9, 10, 11, 12, 13, 14, 15, 16, 17, 18, 19, 20, 21, 22, 23, 24])"
      ]
     },
     "execution_count": 188,
     "metadata": {},
     "output_type": "execute_result"
    }
   ],
   "source": [
    "### Here's where I handle resonances at the same energies and those with weights very small\n",
    "integer_resonance_solutions = {}\n",
    "for numres in target_numres[target_wcon!=0]:\n",
    "    ires_featurebank = integer_feature_solutions[numres]\n",
    "    ires_resladder = ires_featurebank.get_parameter_solution()\n",
    "\n",
    "    ires_resladder_combined = ires_resladder.groupby(ires_resladder['E'], group_keys=False).apply(calculate_combined_parameters).reset_index(drop=True)\n",
    "    ires_resladder_combined = ires_resladder_combined.drop(ires_resladder_combined[ires_resladder_combined['w'] < prob.w_threshold].index)\n",
    "    new_numres = len(ires_resladder_combined)\n",
    "\n",
    "    ires_resladder_combined = fill_resonance_ladder(ires_resladder_combined, Ta_pair, J=3.0, chs=1, lwave=0.0, J_ID=1)\n",
    "    integer_resonance_solutions[new_numres] = {'prior':ires_resladder_combined}\n",
    "\n",
    "    # add prior to dc\n",
    "    est_par_builder = BuildTheoreticalParameters_fromATARI(f'{new_numres}_prior', ires_resladder_combined, Ta_pair)\n",
    "    est_par = est_par_builder.construct()\n",
    "    dc.add_theoretical_parameters(est_par)\n",
    "\n",
    "integer_resonance_solutions.keys()"
   ]
  },
  {
   "cell_type": "code",
   "execution_count": 189,
   "metadata": {},
   "outputs": [],
   "source": [
    "# integer_resonance_solutions[10]"
   ]
  },
  {
   "cell_type": "code",
   "execution_count": 190,
   "metadata": {},
   "outputs": [],
   "source": [
    "# numres = 4\n",
    "# numres_other = 7\n",
    "# rxn = 'trans'\n",
    "\n",
    "# figure()\n",
    "# # plot(dc.pw.exp.E, dc.pw.exp[f'theo_{rxn}'], 'g', lw=5)\n",
    "# plot(dc.pw.exp.E, dc.pw.exp[f'exp_{rxn}'], '.k')\n",
    "# plot(dc.pw.exp.E, dc.pw.exp[f'{numres_other}_prior_{rxn}'], 'b', lw=2)\n",
    "# plot(dc.pw.exp.E, dc.pw.exp[f'{numres}_prior_{rxn}'], 'r', lw=1)\n",
    "# # plot(dc.pw.exp.E, integer_feature_solutions[numres_other].model, 'b', lw=2)\n",
    "# # plot(dc.pw.exp.E, integer_feature_solutions[numres].model, 'r', lw=1)\n",
    "# # ylim([-0.1, dc.exp_par.max_xs])\n",
    "\n",
    "# # # print(chi2_val(dc.pw.exp[f'{numres}_prior_{rxn}'], dc.pw.exp[f'exp_{rxn}'], dc.pw.CovT))"
   ]
  },
  {
   "cell_type": "code",
   "execution_count": null,
   "metadata": {},
   "outputs": [],
   "source": []
  },
  {
   "attachments": {},
   "cell_type": "markdown",
   "metadata": {},
   "source": [
    "## Step 4, run GLLS on transmission with reduced, unconstrained solution from 3 as prior"
   ]
  },
  {
   "cell_type": "code",
   "execution_count": 191,
   "metadata": {},
   "outputs": [],
   "source": [
    "from ATARI.sammy_interface import sammy_functions, sammy_classes\n",
    "sammyRTO = sammy_classes.SammyRunTimeOptions(\n",
    "    path_to_SAMMY_exe = '/Users/noahwalton/gitlab/sammy/sammy/build/bin/sammy',\n",
    "    model = 'SLBW',\n",
    "    reaction = 'transmission',\n",
    "    solve_bayes = True,\n",
    "    experimental_corrections = 'no_exp',\n",
    "    one_spingroup = True,\n",
    "    energy_window = None,\n",
    "    sammy_runDIR = 'SAMMY_runDIR_1',\n",
    "    keep_runDIR = False,\n",
    "    shell = 'zsh'\n",
    "    )"
   ]
  },
  {
   "cell_type": "code",
   "execution_count": 192,
   "metadata": {},
   "outputs": [
    {
     "data": {
      "text/plain": [
       "dict_keys([6, 7, 8, 9, 10, 11, 12, 13, 14, 15, 16, 17, 18, 19, 20, 21, 22, 23, 24])"
      ]
     },
     "execution_count": 192,
     "metadata": {},
     "output_type": "execute_result"
    }
   ],
   "source": [
    "integer_resonance_solutions.keys()"
   ]
  },
  {
   "cell_type": "code",
   "execution_count": 193,
   "metadata": {},
   "outputs": [],
   "source": [
    "\n",
    "from ATARI.utils.stats import chi2_val\n",
    "from ATARI.utils.atario import fill_resonance_ladder\n",
    "from ATARI.sammy_interface import sammy_functions\n",
    "\n",
    "def run_sammy_return_full_ladder(sammyINP, sammyRTO):\n",
    "    pw_posterior, par_posterior = sammy_functions.run_sammy(sammyINP, sammyRTO)\n",
    "\n",
    "    par_posterior.rename(columns={'Gn1':'Gnx'}, inplace=True)\n",
    "    par_posterior = fill_resonance_ladder(par_posterior, Ta_pair, J=3.0,\n",
    "                                                    chs=1.0,\n",
    "                                                    lwave=0.0,\n",
    "                                                    J_ID= 1.0  )\n",
    "\n",
    "    return pw_posterior, par_posterior\n",
    "\n",
    "\n",
    "def run_recursive_sammy(sammyINP, sammyRTO, pw_prior, exp_df, CovT, Dchi2_threshold = 0.1, iterations = 25):\n",
    "   \n",
    "    Dchi2 = 100\n",
    "    pw_posterior_new = None\n",
    "    par_posterior_new = sammyINP.resonance_ladder\n",
    "    itter = 0\n",
    "    while Dchi2 > Dchi2_threshold:\n",
    "        itter += 1\n",
    "        if itter > iterations:\n",
    "            break\n",
    "        \n",
    "        pw_posterior = pw_posterior_new\n",
    "        par_posterior = par_posterior_new\n",
    "        sammyINP.resonance_ladder = par_posterior\n",
    "        pw_posterior_new, par_posterior_new = run_sammy_return_full_ladder(sammyINP, sammyRTO)\n",
    "\n",
    "        [df.sort_values('E', axis=0, ascending=True, inplace=True) for df in [pw_posterior_new, exp_df]]\n",
    "        [df.reset_index(drop=True, inplace=True) for df in [pw_posterior_new, exp_df]]\n",
    "        CovT.sort_index(axis='index', inplace=True)\n",
    "        CovT.sort_index(axis='columns', inplace=True)\n",
    "\n",
    "        # [df.sort_values('E', axis=0, ascending=True, inplace=True) for df in [pw_posterior_new, exp_df]]\n",
    "        # [df.reset_index(drop=True, inplace=True) for df in [pw_posterior_new, exp_df]]\n",
    "        # CovT.sort_index(axis='index', inplace=True)\n",
    "        # CovT.sort_index(axis='columns', inplace=True)\n",
    "        # chi2_prior = stats.chi2_val(pw_posterior_new.theo_trans, exp_df.exp_trans, CovT)\n",
    "        # chi2_posterior = stats.chi2_val(pw_posterior_new.theo_trans_bayes, exp_df.exp_trans, CovT)\n",
    "\n",
    "        # chi2_prior = stats.chi2_val(pw_posterior_new.theo_trans[::-1], exp_df.exp_trans[::-1], CovT)\n",
    "        # chi2_posterior = stats.chi2_val(pw_posterior_new.theo_trans_bayes[::-1], exp_df.exp_trans[::-1], CovT)\n",
    "\n",
    "        chi2_prior = chi2_val(pw_posterior_new.theo_trans, exp_df.exp_trans, CovT)\n",
    "        chi2_posterior = chi2_val(pw_posterior_new.theo_trans_bayes, exp_df.exp_trans, CovT)\n",
    "\n",
    "        Dchi2 = chi2_prior - chi2_posterior\n",
    "\n",
    "        # if chi2_posterior/len(pw_posterior_new) < 100:\n",
    "        #     sammyINP.initial_parameter_uncertainty = 0.3\n",
    "        # elif chi2_posterior/len(pw_posterior_new) < 1:\n",
    "        #     sammyINP.initial_parameter_uncertainty = 0.2\n",
    "    return pw_posterior, par_posterior"
   ]
  },
  {
   "cell_type": "code",
   "execution_count": 194,
   "metadata": {},
   "outputs": [
    {
     "name": "stdout",
     "output_type": "stream",
     "text": [
      "Running recursive sammy for case 6\n",
      "SAMMY gave the following warning or error: b'Note: The following floating-point exceptions are signalling: IEEE_UNDERFLOW_FLAG\\n'\n",
      "Running recursive sammy for case 7\n",
      "Running recursive sammy for case 8\n",
      "Running recursive sammy for case 9\n",
      "Running recursive sammy for case 10\n",
      "Running recursive sammy for case 11\n",
      "Running recursive sammy for case 12\n",
      "Running recursive sammy for case 13\n",
      "Running recursive sammy for case 14\n",
      "Running recursive sammy for case 15\n",
      "Running recursive sammy for case 16\n",
      "Running recursive sammy for case 17\n",
      "Running recursive sammy for case 18\n",
      "Running recursive sammy for case 19\n",
      "Running recursive sammy for case 20\n",
      "Running recursive sammy for case 21\n",
      "Running recursive sammy for case 22\n",
      "Running recursive sammy for case 23\n",
      "Running recursive sammy for case 24\n"
     ]
    }
   ],
   "source": [
    "### Run GLLS\n",
    "for numres in integer_resonance_solutions.keys():\n",
    "    if numres == 0:\n",
    "        continue\n",
    "    prior = integer_resonance_solutions[numres]['prior']\n",
    "    \n",
    "    sammyINP = sammy_classes.SammyInputData(\n",
    "        particle_pair = Ta_pair,\n",
    "        resonance_ladder = prior, \n",
    "        experimental_data = dc.pw.exp, \n",
    "        experimental_cov = dc.pw.CovT, \n",
    "        initial_parameter_uncertainty = 0.2\n",
    "    )\n",
    "    print(f'Running recursive sammy for case {numres}')\n",
    "    lst, posterior = run_recursive_sammy(sammyINP, sammyRTO, dc.pw.exp[f'{numres}_prior_trans'], dc.pw.exp, dc.pw.CovT, Dchi2_threshold=0.01)\n",
    "    # lst, posterior = sammy_functions.run_sammy(sammyINP, sammyRTO)\n",
    "\n",
    "    posterior.rename(columns={\"Gn1\":\"Gnx\"},inplace=True)\n",
    "    ## if posterior is worse than prior, re-run\n",
    "    posterior = fill_resonance_ladder(posterior, Ta_pair, J=3.0, chs=1, lwave=0.0, J_ID=1)\n",
    "    integer_resonance_solutions[numres]['posterior'] = posterior\n",
    "\n",
    "    est_par_builder = BuildTheoreticalParameters_fromATARI(f'{numres}_post', posterior, Ta_pair)\n",
    "    est_par = est_par_builder.construct()\n",
    "    dc.add_theoretical_parameters(est_par)\n",
    "\n",
    "dc.models_to_pw()"
   ]
  },
  {
   "cell_type": "code",
   "execution_count": 196,
   "metadata": {},
   "outputs": [
    {
     "name": "stderr",
     "output_type": "stream",
     "text": [
      "/Users/noahwalton/opt/anaconda3/envs/atari/lib/python3.9/site-packages/ipywidgets/widgets/widget.py:502: DeprecationWarning: Passing unrecognized arguments to super(Toolbar).__init__().\n",
      "__init__() missing 1 required positional argument: 'canvas'\n",
      "This is deprecated in traitlets 4.2.This error will be raised in a future release of traitlets.\n",
      "  super().__init__(**kwargs)\n"
     ]
    },
    {
     "data": {
      "text/plain": [
       "[<matplotlib.lines.Line2D at 0x7fcb9b0a4b20>]"
      ]
     },
     "execution_count": 196,
     "metadata": {},
     "output_type": "execute_result"
    },
    {
     "data": {
      "application/vnd.jupyter.widget-view+json": {
       "model_id": "113e336999b94ea4bf612186538c6f9c",
       "version_major": 2,
       "version_minor": 0
      },
      "image/png": "[encoded data removed]",
      "text/html": [
       "\n",
       "            <div style=\"display: inline-block;\">\n",
       "                <div class=\"jupyter-widgets widget-label\" style=\"text-align: center;\">\n",
       "                    Figure\n",
       "                </div>\n",
       "                <img src='data:image/png;base64,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' width=640.0/>\n",
       "            </div>\n",
       "        "
      ],
      "text/plain": [
       "Canvas(toolbar=Toolbar(toolitems=[('Home', 'Reset original view', 'home', 'home'), ('Back', 'Back to previous …"
      ]
     },
     "metadata": {},
     "output_type": "display_data"
    }
   ],
   "source": [
    "# dc.theoretical_parameters['3_post'].resonance_ladder #.keys()\n",
    "\n",
    "figure()\n",
    "plot(dc.pw.exp.E, dc.pw.exp['true_trans'], 'g')\n",
    "plot(dc.pw.exp.E, dc.pw.exp['8_prior_trans'], 'b')\n",
    "# plot(dc.pw.exp.E, dc.pw.exp['6_post_trans'], 'r')\n",
    "plot(dc.pw.exp.E, dc.pw.exp.exp_trans, '.k')"
   ]
  },
  {
   "cell_type": "code",
   "execution_count": 197,
   "metadata": {},
   "outputs": [
    {
     "data": {
      "text/plain": [
       "[(683.8776500918899, 'true'),\n",
       " (11087.202191061337, '6_prior'),\n",
       " (5623.281961793108, '7_prior'),\n",
       " (5386.57562074759, '8_prior'),\n",
       " (5388.904866832979, '9_prior'),\n",
       " (5378.077996249388, '10_prior'),\n",
       " (5371.471096189413, '11_prior'),\n",
       " (5362.234973575554, '12_prior'),\n",
       " (5355.947328947346, '13_prior'),\n",
       " (5342.716350849723, '14_prior'),\n",
       " (5340.962676797467, '15_prior'),\n",
       " (5331.361268141313, '16_prior'),\n",
       " (5325.117978762006, '17_prior'),\n",
       " (5321.398425506699, '18_prior'),\n",
       " (5316.128842787831, '19_prior'),\n",
       " (5312.69837805124, '20_prior'),\n",
       " (5308.804672483314, '21_prior'),\n",
       " (5303.362793688182, '22_prior'),\n",
       " (5296.778986815766, '23_prior'),\n",
       " (5125.152121442919, '24_prior'),\n",
       " (8807.615528767968, '6_post'),\n",
       " (5623.281961793108, '7_post'),\n",
       " (723.1406624527255, '8_post'),\n",
       " (766.7111155618499, '9_post'),\n",
       " (734.9432708249419, '10_post'),\n",
       " (729.4625063733265, '11_post'),\n",
       " (722.425468929935, '12_post'),\n",
       " (716.0075775798518, '13_post'),\n",
       " (705.4780016321184, '14_post'),\n",
       " (697.5930688678319, '15_post'),\n",
       " (690.0174793230442, '16_post'),\n",
       " (683.1235283530127, '17_post'),\n",
       " (680.0803862339108, '18_post'),\n",
       " (672.3644742218564, '19_post'),\n",
       " (668.6044099839858, '20_post'),\n",
       " (663.8665390961712, '21_post'),\n",
       " (661.299698531836, '22_post'),\n",
       " (659.4342746352758, '23_post'),\n",
       " (663.5707637858083, '24_post')]"
      ]
     },
     "execution_count": 197,
     "metadata": {},
     "output_type": "execute_result"
    }
   ],
   "source": [
    "### Calculate Chi2 on trans\n",
    "[ (chi2_val(dc.pw.exp[f'{numres}_trans'], dc.pw.exp.exp_trans, dc.pw.CovT), numres) for numres in dc.theoretical_parameters.keys()]"
   ]
  },
  {
   "cell_type": "code",
   "execution_count": 198,
   "metadata": {},
   "outputs": [],
   "source": [
    "### Interrogate\n",
    "\n",
    "# print(dc.est_par['9_prior'].resonance_ladder[['E','Gt','Gnx','Gg','w']])\n",
    "# # print(dc.est_par['10_prior'].resonance_ladder[['E','Gt','Gnx','Gg','w']])\n",
    "# test, _,_ = SLBW(dc.pw.exp.E, Ta_pair, dc.est_par['9_prior'].resonance_ladder)\n",
    "\n",
    "# rxn = 'xs'\n",
    "# less = dc.pw.exp[f'9_prior_{rxn}']\n",
    "# more = dc.pw.exp[f'10_prior_{rxn}']\n",
    "\n",
    "# dat =dc.pw.exp[f'exp_{rxn}']\n",
    "# figure()\n",
    "# plot(dc.pw.exp.E, dc.pw.exp[f'theo_{rxn}'], 'g', lw=5)\n",
    "# plot(dc.pw.exp.E, dat, '.k')\n",
    "# plot(dc.pw.exp.E, less, 'b', lw=4)\n",
    "# # plot(dc.pw.exp.E, more, 'r', lw=1)\n",
    "# plot(dc.pw.exp.E, test, 'k', lw=1)\n",
    "\n",
    "# # plot(dc.pw.exp.E, (less-dat)**2, 'b', lw=2)\n",
    "# # plot(dc.pw.exp.E, (more-dat)**2, 'r', lw=1)\n",
    "\n",
    "# print(chi2_val(less, dat, np.array(dc.pw.CovT)))\n",
    "# # print(np.sum((less-dat)**2))\n",
    "# print(chi2_val(more, dat, np.array(dc.pw.CovT)))\n",
    "# # print(np.sum((more-dat)**2))"
   ]
  },
  {
   "cell_type": "code",
   "execution_count": 199,
   "metadata": {},
   "outputs": [],
   "source": [
    "### Interrogate some more\n",
    "\n",
    "# numres = 5\n",
    "# inumres = numres-min(target_numres)\n",
    "\n",
    "# # constrained unreduced\n",
    "# constrained_solution = target_sol_ws[:, inumres]\n",
    "\n",
    "# fb3, solw_reduced = prob.reduce_FeatureBank(fb1, constrained_solution)\n",
    "# inp3 = prob.get_MatrixInputs(dc, fb3)\n",
    "# fb3.solution_ws = Solvers.solve_quadratic_program(inp3)\n",
    "\n",
    "# prior = fb3.get_parameter_solution()\n",
    "# prior = fill_resonance_ladder(prior, Ta_pair, J=3.0, chs=1, lwave=0.0, J_ID=1)\n",
    "\n",
    "# sammyINP = sammy_classes.SammyInputData(\n",
    "#     particle_pair = Ta_pair,\n",
    "#     resonance_ladder = prior, \n",
    "#     experimental_data = dc.pw.exp, \n",
    "#     experimental_cov = dc.pw.CovT, \n",
    "# )\n",
    "\n",
    "# lst, posterior = sammy_functions.run_sammy(sammyINP, sammyRTO)\n",
    "# posterior = fill_resonance_ladder(posterior, Ta_pair, J=3.0, chs=1, lwave=0.0, J_ID=1)\n",
    "\n",
    "# print(chi2_val(lst.theo_trans, dc.pw.exp.exp_trans, dc.pw.CovT))\n",
    "# print(chi2_val(lst.theo_trans_bayes, dc.pw.exp.exp_trans, dc.pw.CovT))\n",
    "# print(prior[['E','Gt','Gnx']])\n",
    "# print(posterior[['E','Gt','Gnx']])"
   ]
  },
  {
   "cell_type": "code",
   "execution_count": 200,
   "metadata": {},
   "outputs": [],
   "source": [
    "### Run individual bayes\n",
    "\n",
    "\n",
    "# numres = 7\n",
    "# inumres = numres-min(target_numres)\n",
    "\n",
    "# constrained_solution = target_sol_ws[:, inumres]\n",
    "\n",
    "# fb3, solw_reduced = prob.reduce_FeatureBank(fb1, constrained_solution)\n",
    "# inp3 = prob.get_MatrixInputs(dc, fb3)\n",
    "# # fb3.solution_ws = cls.Solvers.solve_quadratic_program(inp3, qpopt)\n",
    "\n",
    "# # prior = fb3.get_parameter_solution()\n",
    "# # prior = fill_resonance_ladder(prior, Ta_pair, J=3.0, chs=1, lwave=0.0, J_ID=1)\n",
    "\n",
    "# # est_par_builder = BuildTheoreticalParameters_fromATARI('test_prior', prior, Ta_pair)\n",
    "# # est_par = est_par_builder.construct()\n",
    "# # dc.add_theoretical_parameters(est_par)\n",
    "  \n",
    "# # sammyINP = sammy_classes.SammyInputData(\n",
    "# #     particle_pair = Ta_pair,\n",
    "# #     resonance_ladder = prior, \n",
    "# #     experimental_data = dc.pw.exp, \n",
    "# #     experimental_cov = dc.pw.CovT, \n",
    "# #     initial_parameter_uncertainty = 0.2\n",
    "# # )\n",
    "\n",
    "\n",
    "# print(f'Running recursive sammy for case {numres}')\n",
    "# lst, posterior = run_recursive_sammy(sammyINP, sammyRTO, dc.pw.exp, dc.pw.CovT, Dchi2_threshold=0.1)\n",
    "\n",
    "\n",
    "# posterior.rename(columns={'Gn1':'Gnx'}, inplace=True)\n",
    "# posterior = fill_resonance_ladder(posterior, Ta_pair, J=3.0, chs=1, lwave=0.0, J_ID=1)\n",
    "\n",
    "\n",
    "# est_par_builder = BuildTheoreticalParameters_fromATARI('test_post', posterior, Ta_pair)\n",
    "# est_par = est_par_builder.construct()\n",
    "# dc.add_theoretical_parameters(est_par)\n",
    "\n",
    "# dc.models_to_pw()"
   ]
  },
  {
   "cell_type": "code",
   "execution_count": 201,
   "metadata": {},
   "outputs": [],
   "source": [
    "# figure()\n",
    "# plot(dc.pw.exp.E, dc.pw.exp.exp_xs, '.k')\n",
    "# plot(dc.pw.exp.E, np.flipud(fb3.model))\n"
   ]
  },
  {
   "cell_type": "code",
   "execution_count": 202,
   "metadata": {},
   "outputs": [
    {
     "name": "stdout",
     "output_type": "stream",
     "text": [
      "true\n",
      "6_prior\n",
      "7_prior\n",
      "8_prior\n",
      "9_prior\n",
      "10_prior\n",
      "11_prior\n",
      "12_prior\n",
      "13_prior\n",
      "14_prior\n",
      "15_prior\n",
      "16_prior\n",
      "17_prior\n",
      "18_prior\n",
      "19_prior\n",
      "20_prior\n",
      "21_prior\n",
      "22_prior\n",
      "23_prior\n",
      "24_prior\n",
      "6_post\n",
      "7_post\n",
      "8_post\n",
      "9_post\n",
      "10_post\n",
      "11_post\n",
      "12_post\n",
      "13_post\n",
      "14_post\n",
      "15_post\n",
      "16_post\n",
      "17_post\n",
      "18_post\n",
      "19_post\n",
      "20_post\n",
      "21_post\n",
      "22_post\n",
      "23_post\n",
      "24_post\n"
     ]
    },
    {
     "data": {
      "text/plain": [
       "[None,\n",
       " None,\n",
       " None,\n",
       " None,\n",
       " None,\n",
       " None,\n",
       " None,\n",
       " None,\n",
       " None,\n",
       " None,\n",
       " None,\n",
       " None,\n",
       " None,\n",
       " None,\n",
       " None,\n",
       " None,\n",
       " None,\n",
       " None,\n",
       " None,\n",
       " None,\n",
       " None,\n",
       " None,\n",
       " None,\n",
       " None,\n",
       " None,\n",
       " None,\n",
       " None,\n",
       " None,\n",
       " None,\n",
       " None,\n",
       " None,\n",
       " None,\n",
       " None,\n",
       " None,\n",
       " None,\n",
       " None,\n",
       " None,\n",
       " None,\n",
       " None]"
      ]
     },
     "execution_count": 202,
     "metadata": {},
     "output_type": "execute_result"
    }
   ],
   "source": [
    "\n",
    "# print(chi2_val(dc.pw.exp['7_prior_trans'], dc.pw.exp.exp_trans, dc.pw.CovT))\n",
    "# print(chi2_val(dc.pw.exp['7_post_trans'], dc.pw.exp.exp_trans, dc.pw.CovT))\n",
    "# # print(prior[['E','Gt','Gnx']])\n",
    "# # print(posterior[['E','Gt','Gnx']])\n",
    "\n",
    "# figure()\n",
    "# plot(dc.pw.exp.E, dc.pw.exp[f'true_trans'], 'g', lw=3)\n",
    "# plot(dc.pw.exp.E, dc.pw.exp[f'exp_trans'], '.k')\n",
    "# plot(dc.pw.exp.E, dc.pw.exp['7_prior_trans'], 'b', lw=1)\n",
    "# plot(dc.pw.exp.E, dc.pw.exp['7_post_trans'], 'r', lw=1)\n",
    "\n",
    "[print(key) for key in dc.theoretical_parameters.keys()]"
   ]
  },
  {
   "attachments": {},
   "cell_type": "markdown",
   "metadata": {},
   "source": [
    "## Step 5, Likelihood ratio test on each of the posterior solutions to determine which number of resonances we should have"
   ]
  },
  {
   "cell_type": "code",
   "execution_count": 203,
   "metadata": {},
   "outputs": [
    {
     "data": {
      "text/plain": [
       "array([[6.00000000e+00, 8.80761553e+03],\n",
       "       [7.00000000e+00, 5.62328196e+03],\n",
       "       [8.00000000e+00, 7.23140662e+02],\n",
       "       [9.00000000e+00, 7.66711116e+02],\n",
       "       [1.00000000e+01, 7.34943271e+02],\n",
       "       [1.10000000e+01, 7.29462506e+02],\n",
       "       [1.20000000e+01, 7.22425469e+02],\n",
       "       [1.30000000e+01, 7.16007578e+02],\n",
       "       [1.40000000e+01, 7.05478002e+02],\n",
       "       [1.50000000e+01, 6.97593069e+02],\n",
       "       [1.60000000e+01, 6.90017479e+02],\n",
       "       [1.70000000e+01, 6.83123528e+02],\n",
       "       [1.80000000e+01, 6.80080386e+02],\n",
       "       [1.90000000e+01, 6.72364474e+02],\n",
       "       [2.00000000e+01, 6.68604410e+02],\n",
       "       [2.10000000e+01, 6.63866539e+02],\n",
       "       [2.20000000e+01, 6.61299699e+02],\n",
       "       [2.30000000e+01, 6.59434275e+02],\n",
       "       [2.40000000e+01, 6.63570764e+02]])"
      ]
     },
     "execution_count": 203,
     "metadata": {},
     "output_type": "execute_result"
    }
   ],
   "source": [
    "# [ (chi2_val(dc.pw.exp[f'{numres}_trans'], dc.pw.exp.exp_trans, dc.pw.CovT), numres) for numres in dc.est_par.keys()]\n",
    "\n",
    "posterior_ires_chi2 = [ (int(key.split('_')[0]),\n",
    "                          chi2_val(dc.pw.exp[f'{key}_trans'], dc.pw.exp.exp_trans, dc.pw.CovT))\n",
    "                              for key in dc.theoretical_parameters.keys() if key!='true' and key!='final' and key.split('_')[1]=='post']\n",
    "posterior_ires_chi2 = np.array(posterior_ires_chi2)\n",
    "posterior_ires_chi2 = posterior_ires_chi2[posterior_ires_chi2[:, 0].argsort()]\n",
    "posterior_ires_chi2"
   ]
  },
  {
   "cell_type": "code",
   "execution_count": 204,
   "metadata": {},
   "outputs": [
    {
     "name": "stdout",
     "output_type": "stream",
     "text": [
      "6_post\n",
      "8807.615528767968\n",
      "7_post\n",
      "5623.281961793108\n",
      "8_post\n",
      "723.1406624527255\n",
      "9_post\n",
      "766.7111155618499\n",
      "10_post\n",
      "734.9432708249419\n",
      "11_post\n",
      "729.4625063733265\n",
      "12_post\n",
      "722.425468929935\n",
      "13_post\n",
      "716.0075775798518\n",
      "14_post\n",
      "705.4780016321184\n",
      "15_post\n",
      "697.5930688678319\n",
      "16_post\n",
      "690.0174793230442\n",
      "17_post\n",
      "683.1235283530127\n",
      "18_post\n",
      "680.0803862339108\n",
      "19_post\n",
      "672.3644742218564\n",
      "20_post\n",
      "668.6044099839858\n",
      "21_post\n",
      "663.8665390961712\n",
      "22_post\n",
      "661.299698531836\n",
      "23_post\n",
      "659.4342746352758\n",
      "24_post\n",
      "663.5707637858083\n"
     ]
    }
   ],
   "source": [
    "for key in dc.theoretical_parameters.keys():\n",
    "    if key!='true' and key!='final' and key.split('_')[1]=='post':\n",
    "        print(key)\n",
    "        print(chi2_val(dc.pw.exp[f'{key}_trans'], dc.pw.exp.exp_trans, dc.pw.CovT))"
   ]
  },
  {
   "cell_type": "code",
   "execution_count": 205,
   "metadata": {},
   "outputs": [
    {
     "name": "stderr",
     "output_type": "stream",
     "text": [
      "/var/folders/s9/xdv2y9hs0y7g3zzscy35rz4c0000gn/T/ipykernel_75649/2886627187.py:30: RuntimeWarning: divide by zero encountered in log\n",
      "  print(np.log(likelihood))\n",
      "/var/folders/s9/xdv2y9hs0y7g3zzscy35rz4c0000gn/T/ipykernel_75649/2886627187.py:31: RuntimeWarning: divide by zero encountered in log\n",
      "  if np.log(likelihood) >= -100:\n"
     ]
    },
    {
     "name": "stdout",
     "output_type": "stream",
     "text": [
      "-inf\n",
      "-inf\n",
      "inf\n",
      "Model 8.0 vs. Model 9.0:\n",
      " p=1.0 D=-43.5704531091244\n",
      "Model 8.0 vs. Model 10.0:\n",
      " p=1.0 D=-11.802608372216469\n",
      "Model 8.0 vs. Model 11.0:\n",
      " p=1.0 D=-6.321843920601054\n",
      "Model 8.0 vs. Model 12.0:\n",
      " p=0.9999978603345234 D=0.7151935227904005\n",
      "Model 8.0 vs. Model 13.0:\n",
      " p=0.9538509090569675 D=7.13308487287361\n",
      "Model 8.0 vs. Model 14.0:\n",
      " p=0.47807467387600144 D=17.662660820607016\n",
      "Model 8.0 vs. Model 15.0:\n",
      " p=0.22422668559232273 D=25.547593584893548\n",
      "Model 8.0 vs. Model 16.0:\n",
      " p=0.10150089673444951 D=33.12318312968125\n",
      "Model 8.0 vs. Model 17.0:\n",
      " p=0.05104810405766613 D=40.017134099712734\n",
      "Model 8.0 vs. Model 18.0:\n",
      " p=0.057882278245058094 D=43.06027621881469\n",
      "Model 8.0 vs. Model 19.0:\n",
      " p=0.024724379010686803 D=50.776188230869025\n",
      "Model 8.0 vs. Model 20.0:\n",
      " p=0.024485781792560446 D=54.53625246873969\n",
      "Model 8.0 vs. Model 21.0:\n",
      " p=0.019709795161398702 D=59.27412335655424\n",
      "Model 8.0 vs. Model 22.0:\n",
      " p=0.024684333426767346 D=61.84096392088941\n",
      "Model 8.0 vs. Model 23.0:\n",
      " p=0.03449850137530308 D=63.706387817449695\n",
      "Model 8.0 vs. Model 24.0:\n",
      " p=0.12215964161280801 D=59.5698986669172\n",
      "Model Selected: 8.0\n"
     ]
    },
    {
     "name": "stderr",
     "output_type": "stream",
     "text": [
      "/Users/noahwalton/opt/anaconda3/envs/atari/lib/python3.9/site-packages/scipy/stats/_multivariate.py:583: RuntimeWarning: overflow encountered in exp\n",
      "  out = np.exp(self._logpdf(x, mean, cov_object))\n"
     ]
    }
   ],
   "source": [
    "import numpy as np\n",
    "from scipy.stats import chi2\n",
    "\n",
    "def likelihood_ratio_test(X2_null, X2_alt, df):\n",
    "    \"\"\"\n",
    "    Perform a likelihood ratio test for nested models.\n",
    "\n",
    "    Args:\n",
    "        LLmin: Log-likelihood of the null (restricted) model.\n",
    "        LLmax: Log-likelihood of the alternative (unrestricted) model.\n",
    "        df: Degrees of freedom difference between the two models.\n",
    "\n",
    "    Returns:\n",
    "        lrt_stat: Likelihood ratio test statistic.\n",
    "        p_value: p-value associated with the test statistic.\n",
    "    \"\"\"\n",
    "    # lrt_stat = 2 * (LLalt - LLnull)\n",
    "    lrt_stat = X2_null - X2_alt\n",
    "    p_value = 1 - chi2.cdf(lrt_stat, df)\n",
    "    return lrt_stat, p_value\n",
    "\n",
    "def likelihood_val(fit):\n",
    "    return sts.multivariate_normal.pdf( np.array(dc.pw.exp.exp_trans), fit, np.array(dc.pw.CovT) )\n",
    "    \n",
    "\n",
    "### Find first plausible model\n",
    "for i in range(len(posterior_ires_chi2)):\n",
    "    likelihood = likelihood_val( np.array(dc.pw.exp[f'{int(posterior_ires_chi2[i,0])}_post_trans']) )\n",
    "\n",
    "    print(np.log(likelihood))\n",
    "    if np.log(likelihood) >= -100:\n",
    "        istart = i\n",
    "        break\n",
    "    elif i == len(posterior_ires_chi2)-1:\n",
    "        istart = 0\n",
    "        break\n",
    "\n",
    "\n",
    "\n",
    "\n",
    "inull = istart \n",
    "ialt = inull\n",
    "iend = np.shape(posterior_ires_chi2)[0]\n",
    "\n",
    "significance_level = 0.0001\n",
    "\n",
    "while ialt < iend:\n",
    "\n",
    "    # reset p_value\n",
    "    p_value = 1.0\n",
    "\n",
    "    while p_value > significance_level:\n",
    "\n",
    "        ialt += 1\n",
    "        if ialt == iend:\n",
    "            break\n",
    "        df_diff = posterior_ires_chi2[ialt][0]*3 - posterior_ires_chi2[inull][0]*3\n",
    "        lrt_stat, p_value = likelihood_ratio_test(posterior_ires_chi2[inull][1], posterior_ires_chi2[ialt][1], df_diff)\n",
    "        print(f\"Model {posterior_ires_chi2[inull][0]} vs. Model {posterior_ires_chi2[ialt][0]}:\\n p={p_value} D={lrt_stat}\")\n",
    "        # print(f\"D: {lrt_stat}\")\n",
    "        # print(f\"P-value: {p_value}\")\n",
    "\n",
    "    if ialt == iend:\n",
    "        selected_model_ires = int(posterior_ires_chi2[inull][0])\n",
    "        break\n",
    "    else:\n",
    "        inull = ialt\n",
    "\n",
    "print(f'Model Selected: {posterior_ires_chi2[inull][0]}')"
   ]
  },
  {
   "cell_type": "code",
   "execution_count": 206,
   "metadata": {},
   "outputs": [],
   "source": [
    "# iresnull = 2\n",
    "# iresalt = 5\n",
    "\n",
    "# rxn = 'trans'\n",
    "# null = dc.pw.exp[f'{iresnull}_post_{rxn}']\n",
    "# alt = dc.pw.exp[f'{iresalt}_post_{rxn}']\n",
    "\n",
    "# dat =dc.pw.exp[f'exp_{rxn}']\n",
    "# figure()\n",
    "# plot(dc.pw.exp.E, dc.pw.exp[f'true_{rxn}'], 'g', lw=3)\n",
    "# plot(dc.pw.exp.E, dat, '.k')\n",
    "# plot(dc.pw.exp.E, null, 'b', lw=1)\n",
    "# plot(dc.pw.exp.E, alt, 'r', lw=1)\n",
    "\n",
    "\n",
    "# print(chi2_val(null, dat, dc.pw.CovT))\n",
    "# print(chi2_val(alt, dat, dc.pw.CovT))\n",
    "\n",
    "# for each in dc.theoretical_parameters[f'{iresnull}_post'].resonance_ladder.E:\n",
    "#     axvline(each, ymin=0.93,ymax=1, alpha=1, color='b', lw=3)\n",
    "\n",
    "# for each in dc.theoretical_parameters[f'{iresalt}_post'].resonance_ladder.E:\n",
    "#     axvline(each, ymin=0.93,ymax=1, alpha=1, color='r', lw=1)\n"
   ]
  },
  {
   "cell_type": "code",
   "execution_count": 207,
   "metadata": {},
   "outputs": [],
   "source": [
    "final_estimate = dc.theoretical_parameters[f'{selected_model_ires}_post'].resonance_ladder\n",
    "\n",
    "# import time\n",
    "# start_time = time.time()\n",
    "# # final_estimate = main(args)\n",
    "# end_time = time.time()\n",
    "# elapsed_time = end_time - start_time\n",
    "# final_estimate['tfit'] = np.ones(len(final_estimate))*elapsed_time\n",
    "# final_estimate\n",
    "# final_estimate.to_csv(f'./par_est_{casenum}.csv')\n",
    "\n",
    "\n",
    "final_par = BuildTheoreticalParameters_fromATARI('final', final_estimate, Ta_pair)\n",
    "dc.add_theoretical_parameters(final_par)\n",
    "dc.mem_2_full()\n",
    "dc.models_to_pw()"
   ]
  },
  {
   "cell_type": "code",
   "execution_count": 208,
   "metadata": {},
   "outputs": [],
   "source": [
    "# print(dc.theoretical_parameters[f'{selected_model_ires}_prior'].resonance_ladder)\n",
    "# print(dc.theoretical_parameters[f'{selected_model_ires}_post'].resonance_ladder)\n",
    "\n",
    "# print(dc.theoretical_parameters['true'].resonance_ladder)\n"
   ]
  },
  {
   "cell_type": "code",
   "execution_count": 209,
   "metadata": {},
   "outputs": [
    {
     "name": "stdout",
     "output_type": "stream",
     "text": [
      "Chi2 estimate to data: 723.1406624527255\n",
      "Chi2 true to data: 683.8776500918899\n",
      "Integral SE estimate to true: 8569.310921150662\n"
     ]
    },
    {
     "name": "stderr",
     "output_type": "stream",
     "text": [
      "/Users/noahwalton/opt/anaconda3/envs/atari/lib/python3.9/site-packages/ipywidgets/widgets/widget.py:502: DeprecationWarning: Passing unrecognized arguments to super(Toolbar).__init__().\n",
      "__init__() missing 1 required positional argument: 'canvas'\n",
      "This is deprecated in traitlets 4.2.This error will be raised in a future release of traitlets.\n",
      "  super().__init__(**kwargs)\n"
     ]
    },
    {
     "data": {
      "text/plain": [
       "[<matplotlib.lines.Line2D at 0x7fcb8fe95ee0>]"
      ]
     },
     "execution_count": 209,
     "metadata": {},
     "output_type": "execute_result"
    },
    {
     "data": {
      "application/vnd.jupyter.widget-view+json": {
       "model_id": "2e13107337de4154af04c464ba47016e",
       "version_major": 2,
       "version_minor": 0
      },
      "image/png": "[encoded data removed]",
      "text/html": [
       "\n",
       "            <div style=\"display: inline-block;\">\n",
       "                <div class=\"jupyter-widgets widget-label\" style=\"text-align: center;\">\n",
       "                    Figure\n",
       "                </div>\n",
       "                <img src='data:image/png;base64,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' width=640.0/>\n",
       "            </div>\n",
       "        "
      ],
      "text/plain": [
       "Canvas(toolbar=Toolbar(toolitems=[('Home', 'Reset original view', 'home', 'home'), ('Back', 'Back to previous …"
      ]
     },
     "metadata": {},
     "output_type": "display_data"
    },
    {
     "data": {
      "application/vnd.jupyter.widget-view+json": {
       "model_id": "1e773b1cd31f4562a9c97ac0c1dabab0",
       "version_major": 2,
       "version_minor": 0
      },
      "image/png": "[encoded data removed]",
      "text/html": [
       "\n",
       "            <div style=\"display: inline-block;\">\n",
       "                <div class=\"jupyter-widgets widget-label\" style=\"text-align: center;\">\n",
       "                    Figure\n",
       "                </div>\n",
       "                <img src='data:image/png;base64,iVBORw0KGgoAAAANSUhEUgAAAoAAAAHgCAYAAAA10dzkAAAAOXRFWHRTb2Z0d2FyZQBNYXRwbG90bGliIHZlcnNpb24zLjYuMiwgaHR0cHM6Ly9tYXRwbG90bGliLm9yZy8o6BhiAAAACXBIWXMAAA9hAAAPYQGoP6dpAACHEUlEQVR4nO3deZzU5P0H8E+SvQAFqyiHA6uW9ajnr1orWJUftVCtWttSbb1QV1mqrWKL9cB6tF4FxaMWBNmqtf1Z6C2t1dK6nmjxrvWoi7oygyDiwc3uTvL9/TGT2UwmyWRmMscmn/frNS9ldnYmk03yfPN9vs/zKCIiICIiIqLIUKu9AURERERUWQwAiYiIiCKGASARERFRxDAAJCIiIooYBoBEREREEcMAkIiIiChiGAASERERRQwDQCIiIqKIYQBIREREFDEMAImIiIgihgEgERERUcQwACQiIiKKGAaARERERBHDAJCIiIgoYhgAEhEREUUMA0AiIiKiiGEASERERBQxDACJiIiIIoYBIBEREVHEMAAkIiIiihgGgEREREQRwwCQiIiIKGIYABIRERFFDANAIiIioohhAEhEREQUMQwAiYiIiCKGASARERFRxDAAJCIiIooYBoBEREREEcMAkIiIiChiGAASERERRQwDQCIiIqKIYQBIREREFDEMAImIiIgihgEgERERUcQwACQiIiKKGAaARERERBHDAJCIiIgoYhgAEhEREUUMA0AiIiKiiGEASERERBQxDACJiIiIIoYBIBEREVHEMAAkIiIiihgGgEREREQRwwCQiIiIKGIYABIRERFFDANAIiIioohhAEhEREQUMQwAiYiIiCKGASARERFRxDAAJCIiIooYBoBEREREEcMAkIiIiChiGAASERERRQwDQCIiIqKIqav2BvRnhmHgvffew/bbbw9FUaq9OUREROSDiGDjxo0YOXIkVDWauTAGgCV47733MGrUqGpvBhERERUhHo8jFotVezOqggFgCbbffnsAqQNo8ODBVd4aIiIi8mPDhg0YNWpUph2PIgaAJTC7fQcPHswAkIiIqJ+JcvlWNDu+iYiIiCKMASARERFRxDAAJCIiIooYBoBEREREEcMAkIiIiChiGAASERERRQwDQCIiIqKIYQBIREREFDEMAImIiIgihgEgERERUcQwACQiiqBEIoGOjg4kEolqbwoRVQEDQCKiiGlvb0dzczMmTJiA5uZmtLe3V3uTiKjCFBGRam9Ef7VhwwYMGTIE69evx+DBg6u9OUREeSUSCTQ3N8MwjMxzmqahq6sLsVisiltGVDlsv5kBJCKKlM7OzqzgDwB0XceKFSuqtEVEVA0MAImIIqSlpQWqmn3p1zQNY8aMqdIWEVE1MAAkIoqQWCyGBQsWQNM0AKngb/78+ez+JYoY1gCWgDUERNRfJRIJrFixAmPGjGHwR5HD9huoq/YGUHkkEgl0dnaipaWlJi/utb59RGEXi8V47hFFGLuAQ6iQKR6qMRcYp6AgIiKqLnYBl6AWU8iFTPHQ3t6OqVOnwjAMqKqKBQsWoLW1tWa2j4iIqBxqsf2uNGYAQ8bvFA+JRCIT/AGAYRiYOnUqFi9eXNZsIKegICKKLq5AUzsYAIaM3ykenAIxwzBw8sknY/To0bj44ovLcoJyCgqi/NhIUhix/Ke2MAAMGb9TPDgFYiYRwU033VSWE5RTUBB5YyNJYeTU69TW1sabnCpiDWAJarmGwM8UD+3t7Whra4Ou667vU676PLftC2p0MEcZUzWUetyVo0aW5wLVgo6ODkyYMMHx+fHjx1d8e2q5/a4UZgBDwKm7KBaLYfz48Z4X/NbWVnR1dWHx4sWu2cBy1ec5bZ/fzEe+7jFmUILF7kh/gjjugq6RLWWb+HenILH8pwYJFW39+vUCQNavX1+1bVi4cKGoqioARFVVWbhwYc5r4vG4PPLIIxKPx13fZ+bMmQIg56FpmufvBSUej4uiKFmfrapqzmc7fV/r94vH45mfe70P+ePn+CJxPO6KOXeCep9S36vW/u5+rmFU+xYuXCiapmWOxWoeV7XQflcbA8ASVPsA8nOB93MhX7hwYU7wZT5mzJhRke+yaNEix89fvHix5/dVFCXr+82YMaOq3yNMggxGwu6RRx5xPO46OjoKfq+gGslit6nW/u61FozWuloPluPxuHR0dFR9+6rdftcCBoAlqMQB5HUy57vAe2XDzPddvnx5zmuqkTnzEwC6fV97QOj2fLUvOP1NkEFN2AUdNAXRSBa7TbX0d6+1YLTWMVj2jwGgCGsAa1i++p18NRVuU72cc845mff9/Oc/n/MaAJmJoStVND5u3DgoipLz/NixYzP/7zVy2SQuY5pEBE8//XRpGxkxrNlJ8VMLF/Todj81vH7eo5htqqW/e1TnDS2m/pKjbKlg1Y5A+7Ny3kH4vfP16i5yqqvz81BVVZYvXx74d8pn9uzZOVk7+x2s9fuqqlrQ97NmE4tR610r5VBLNTvVUGhGxS1zV81jp5hsotPfvRrfIYoZwGKzeG6Z28WLF0fuuuUHM4DsAi5JOQ+gQrphvC7wbjVxTkFfUI18MQ2FWx2i08Xe+n2tDVW+71fKBTDKXSu1UrNTaUEFH7V67OQ7T+3nWdDfwe91Iko3IaUcc35qpCu57wppB6pxc8EAkAFgSWohA+j1+/lq/Kzvu3z58kAa+WIaCqfvmi/otX/HxYsXu75HqY1GFLMQ5H0T5rfBqtVjp5DztBzfIajMatiUWn+Zr4ekUsdeIX9f+2tnzZpVkWCQASADwJKU+wAq5M7X2iBZTyhFUWTSpElZF4Wjjjoq0IyfdRucBp0sWrTI82T2GtzhdsFyusDY99esWbMCaTRqqSieKsct8Jk9e7bvxq0Wj51CAzq37zBnzpyKT08TdkHsGzNYdhtYV+5jr5Dv4HXzX+6MJQPAkAWAP//5z2W33XaTxsZG+exnPyuPP/645+t/9atfyQEHHCADBgyQ4cOHy5lnninr1q3z/XmVGgWcL4ixB3xudXGTJk3K+dmsWbMC21avQM7rZHa7CLgFp14XmHg8LosXL84bdBbCKYvKBisanG4qCjkW8jWG1ej6KjQoDbqR9vP5Yaq3LfS7BFV/Wa1Au5C/r1uQWontZQAYogDwN7/5jdTX18tdd90lr732mlx44YUyaNAgeffddx1f/8QTT4iqqnLbbbfJ22+/LU888YTsu+++cuKJJ/r+zGocQPYLQb7u03yPIE+wfNvidRc4Y8aMrCzljBkzXF970kknuV5ggq5Vsr5fvsA0DMLU8AbFehNWTEbPLZNfra6vYgIDr1rbYjJUXp9fqzWTxSj2uwRVf1mN+slC/r5eCQs/51YpGACGKAA89NBDZdq0aVnP7b333nLppZc6vn727Nmyxx57ZD13++23SywW8/2Z5a4BXLRoUVYmy+lC4GduvHyPIE+wfIMy7J9lvxi4BX7ma90uFmYdY9BzsTkFtDNnzizq/cohyIAtTA1vuRSbVbFn8qvZ9SVSeGBgXo+uvPLKQK4hbp8fpu7hoLpzg+oSruQ+LOTvqyhKYDcXhWAAGJIAsLu7WzRNkz/84Q9Zz19wwQVy5JFHOv7OU089JQ0NDfLXv/5VDMOQNWvWyJFHHiltbW2un7Nt2zZZv3595hGPx8tyANkDHUVRXLue/Azy8Hp4ZeWKDSzi8bi0tbU5NmzWgNatZnDJkiU5n50vuzjh1Aly1i1nOf7srw//tajvcPPNN7s20JXI0uTb/0EFbGbjHpaGt9zyTb3k57zJd+NWiX3vNzDIl7EpZak6++fXYs1ksYL4LrW8P/Id64X8fRcvXiwdHR0ye/bsimUsGQCGJABctWqVAJCnnnoq6/nrrrtO9txzT9ff++1vfyvbbbed1NXVCQA54YQTpKenx/X1V111lePBG+QBFI87z93nFvzMmzfPsZvS7WF9b7egId96u36+g9P2mJ+tqqpcdfNVcvv9t3tvrwJpPr1Z9rhtD9nunEGer/3qlyHfPhqiOLxH48WNcsU/r5CknvT1N/CzP8t5AfYK7My/Q1DZznzfdd68eUF/Pd9quTvaqXErdWRtrTbyXhmboBtpZgD9v0e5zo9y3nz62SeVylgyAAxZALhs2bKs56+99lrZa6+9HH/n1VdflREjRsisWbPk5Zdfloceekj2339/Ofvss10/pxIZwHwDKZyenzJlisydO9fzd+x37m1tbRKPx8UwDOlOdsurna/K7/76O/nTP/7keMFX1NTvKqoi37rsW3LDEzfIVR1XyQ///kP53oPfk3P+1CpT7j9ZTvjpeNn/xN3yB6KAtB3kELDZHhogb9RB3gVEdfn5QkAk/ViYfs782Z0K5Df7QnY7E3Lcdcf56qrzM21OuS5OXhdIeyammKDBenH3Wz86ZcqUsnxXL/2tO7rQxt6rnKGWgp58GZtybGOY5v0L4rvYp3aZMWNGQSPRC/2sfO9bamDr9H2qcawzAAxJAFhMF/Bpp50mkydPznruiSeeEADy3nvv+frcchxAbhlARVXkmClHuTYYR35pd8fnjz58Rzl+/KccA7DvHanJFRMUOWHP/IFYVlAJyDPbQd4fCPmkEbJN6wu+nII0t0dH+nfyffYcQOK291cAmTF4sCzffXd5ZO+9JT5unMjxx4t885sSP/po6TjgAIkPHZqzXcVO22H+TcrdIHk1uKUGpvaLu99JwgFUdGWYQhqYWskSuu1L67rcXoF3ObNqxXIrDVDV8q8UVI26NT+KOd6C+C7mQDm3a0AQNwx+z7sguqXt36caN3kMAEMSAIqkBoF85zvfyXpun332cR0E8vWvf11OOumkrOeWLVsmAGTVqlW+PrNcB9APDt8rKyhS0Zfl+pFLA32VQyClpAOnGR4BWLzAoM36u2J5eL2P6rBtmqJI/MwzZeGXv+wr+FRVVaacckrWBWPKlCmOF5Csxvahh3K2y+ti+cPf/VCg2D5fgeAcyIz55b9TdbsIu02X4Hc+R7d6S7+lA7fccktZv7eV3wamXFmQQrndtDllbr0C73Jm1azb6nf1DWu22enYCXL+0FoI4r0EHbAU+p0rUTLg97wrZ9f28uXLK3YsMAAMUQBoTgPT3t4ur732mkyfPl0GDRokXV1dIiJy6aWXyumnn555/d133y11dXUyd+5ceeutt+TJJ5+UQw45RA499FDfn1muA+jl8yZLHJDF6UfcEmgtdzn5ZwxqzAmkbosNk38fsKdjgKUC8sZXj5EL993b8f0Uy3+dfn/2BReI/PvfIm++KbJypTzy+9+7Bg5mI2jPcJQ6gMWpwbUHBfkyM1aPdz0uuBoy9IsQVenbT4d8ZV/BRZD6H9fLv9f8O5C/sVcDYO8imTVrlmsAN3fuXFm8eLHrhdP8HLcA8pvnfrOvoVcVOfHcEx1ft2TJkkC+tx9+GphZs2a5BlyV5tZwml1bfgLvSmy73251twyl0+CPQhpswzBkc89meW/De/L6B6/LM/FnZPr10zPlJVAgE6ZOkEuWXiLXP369zHt2njzW9Zhs6t4U9K4oiFt3vXn+mQPbigmu/QaSlRg0VEhgV2rXttv38TsjRBAYAIYoABRJTQTd3NwsDQ0N8tnPflYee+yxzM+mTJkiRx11VNbrb7/9dvnMZz4jAwYMkBEjRsipp54qiUTC9+eV7QD6+GORlStFVq8WWbdOZP16kS1bRHp7RQxDpkyZknXSHHnkkY6NjHlB8mqc3OqQVFWVadOm+e5yKKS4d/ny5TJjxgzXz543b57MmTOnqCAw35xS1n1jd9jCw+SkyZCeei2TOc10OSsQnAD50i+/VPKf108D4JTdsl50rQ2y9f+t75d3vi0FgovSjynp/14NwYHO+6ySGbZ8I22LrYEsB7cgb/ny5a4jyadNm+Y6TUa5Cvv9Nu6FTC2lmDdKCmTGuD3lH5MPlvvHf1puOmAXWXzgjvLEfoPl6TFN8uzoOnlpOOSNnSDvDoasHZiq7XXqNbhwO8if9oJccyTkC2dBGq+uk2/97luy4sMVge6TYvdbvmuPV+1csaPtvbbD70h0r2PL/Fkho3BL6dr2u1/Led1hABiyALDSqnkALV++XE4++WTPk8g8OQsNDq2v8/q505x++S4e+YrfAcjs2bM9G/lSHye05gZxL7z3gvzPVMjbCuQRQJbst5+oLgHTS6tfKvrv5jdQ9hr5l68eUNM0eerpp7z/fgpE/aoqe/1sL/nCrV+QI688Uo6dd6x8/q7PS8NPGgTfdj4eKplhc2tgvLIH1epGtB/71vIEt221L1VY1MCXZDJ1g7h6tchbb6Wy8s88I8Y//iHdf/q9rL93gaz92U9lcespjttx7wG7yZuH7CFvfWaEdO2+ozy7y0C5a2BdTmCmIn+piAbIbMvrFKRuoswejDhS55b570fc9g2yez1WfAryzcmQgdcOkLsfu7ui3cXFzrNqP6fzjbb3c+PiZ6lLt2PI69hympDcLbAL8gbF3tPhd18GhQEgA8CSlPsAynfH5vekKWRSTmsD5ecCZ97VWrtBnC4ebne/bu89c+bMvK/bd999i7o4T/j86Jz9ecU/r5AZO+Zv5JQzIN9/6PtF/0391Nnke42fRql+Qr3nz1VAVg4cKAvr+hp7VVFk4fnnywcfr5LjLz/e8fcWL15c9HcPgtdxNHv27Kpsj3VwR0dHhyxZssTfca6qEp8/X+Tuu2XlNdfk3HBoCuS5L/yPvDd2P1l94Kfl/ZaR8sGoneTjodvJpu0apadOzarD9Xo41ehqyA607IO4FMvr5iuQ2+v6Rti71e06lpsoinzj8M9lvp+qqrLwmmsk/sQT7pncCy4Q+fa3RXbYIbN9pzYjU59bqYx0IRlAt/M133sUMqjGK+vmVVfneEP5zDMSf/zx3J+pqsR/+UuRP/9ZjMWLpfe+e2XLgnlyxykn9f0NFUVuOeHL8v7Mi2TNJefLe9+fKqsuOEsS3zlN4lO/JSvP+oa8e/pXpeuUY+Wdb06Ud742Qd45/gh559hx8vbEQ+XtCZ+Vpw7bR362Z0zu+PRI+fPeMc9r791n+l+hyy8GgAwAS1LOAyhfNsArCHDKvjldOOLx1ITNTheHWbNmeXYPm1MR+FlbuJB5CjMNSZ7sn1NhutN2uv3MfsE9YXqLr8EwX/xfyKg5o8QwjKL+rkFkAP0G0vkei+ESFIwaJYsuvtj5d6oYALoNTDCzFlaBd6Uahsgnn4i8847I88+LLF0qC9vashrEBYePk3kH7FfQiPoOeGfDzJ/ne+iAbGiArBkEeWsHyCs7Q57ZFfLIbpAH91LlTwc0yrTdGy3BPuSsw3aVOaf9j1z6zc/KNa3jHc+5yScdL088/4h8sPkD2da7LauMo5Rj0Dye89Zybtok8qMfyUqnY7VCNZ/2TFVbW1ve65N12/zcsKmqKrOuv14e+f3vJf7EEyIvvCDy6KMiDzwg8qtfif7zO2TrtVfLhosvlI/Ob5UPzjxZ3v/mV2TNceNl9YTPy+qxB8jvPr2r43vfZB/UZjm2/B53fm4gCnlkzcyQ/rfbLBIaIIsnHxb435UBIAPAkpTrACq2CF5VVVm8eLGvi6JTV+zll18uixcvlkWLFsny5ctzfq4oimddoPmwZmKKuYP28/o999zT8+fXX3+9LFq0yHFFEvMzzCB5a+9WOfMAf9v2850huBryxgdvFP339dtVbn+Nn0DabdBOzkVVVWXRbbe5XvzjDu+jKErVuljdShmcjnd7oOh0U5Kh6yKrVok89ZTIb38r8rOficycKdLaKsZxx0nvZw+SnpHDRK+vy9sg+ukmtb/+9yMgD46BzG1x2t+QS78Wk+un7iPXX3SI/PSK/5XZN54gV/3ka/K9S78qN951gdzzj5vl/mfvlgde/7M88vYj8uyqZ+X1D16XxPqEfLL1E+nVe3P2o9Mas143e25/c79deG6POXPmyPLly+Woo7Knt3Kad/KRSy5xPlYrVPNpv4F2un7mTBVlGCLr1qVmIrC/1uM8tc76UMjDLUhb7vL8mxrk1QbnY/aC7SHLYpBHmyF/3wNy/a7O23r5nnVy7+eb5O5xA6X9iO1k4fghctcXPyXzJ+4k84/ZRe48boTMOzEm877RLHNP2kN+fsqecu03xmRqRzPfWYFc13aYXH/eF+RLh+1mqS1V5IzJn5MnHv1l4H9TBoAMAEtSrgMoXxegW1DltwvMrb7OmlXxahDyNmyWRqPQGhoz+1hqhsu+lJ7bZ8XjcXlu1XPywDB/NU5xQMZ8DzLv2dJWyPBTQG19jWd3ffoiP8OjUbE/2traHLM4qqrK8m9/O3OXbn2/2+fdXtJ3LoXbKGY/U1QAkNkzZoj87nci114r0toqcvTRYowZI0ZDQ0GN7OY6SHx7yMIdij82zcfXW78uT777pLzy/iuy8pOV8rN5P/N1YxDEVCSF3Jg5zWVofZ+Ojg7Xv08xD+vNrvmZy5cvz63JRXW6/a3fffHixTLtzDMz26YA8uM9mmXDbiOkp7HedYJ6t6m5rNeaRz6VyuL+fQ/I7/eG3H0g5I5DIbccUS83HT1Ifnrcp+SGycPl2tN3k2vP3VuuvfB/5GvH9AVXiqrISWePl9t/e7GcesHxopqT+SuKfPuib8vvX/u9LPnvEjnnknNyrymaKs+8+oys2bhGPtrykbz59puBjVz3UwZTygATvxgAMgAsSbUygF4je/0otrC5kKBs8eLFrkuW5fs9keK6jYt5dHR0yL1Pz5deBTIrT6O08DOfEQHk4qMhZ/zxjED/5qX+zRYfeKBjA5nv7zllypSchdhVVZWFX/+6CCAr6+vlc2eMFFwE+eVLwd+F++E2cMhxktq//MX5u8K9u6pXgbwzBPLEKMjiz0B+9jnIzP+FtB4P+cq3IUd/d4gcfe1eclz7F+XMP50plyy9RK744xV905dY9pvfY9Yts1ZojZdT/Zif7m+/1wC3uQydSky8bhonT56cc5x5PebMmZMzEn7yV77i6xgoK8NIdc/edpts/ebX5b/Dh+btGl0zCPLsCMhPR0MmxyDfOQhy4dEDc7Jg9sesX82SZ+LPyOsfvC7vbXhPNvds9lV64nYM2ffnrFmzPKeIyjfvpjWzXkjJRSEj0suJASADwJKUuwaw0Gkw7I2B13QAfkfYmidqIZk5e33WlClTfH2efeCK5xQmlsd5553nu2Fx+rxb506ROCDXNzg3UOZchnL77SKALN0dcsC8AwL/mzuJx+Py14f/Kt+YdaJrds9rouh8+07TNMdBC5qmSfzII0UAee2IvQVXQ756/1cr8p3t39/pmMucExs2iDzwgMSnTJFHdttN/gX3LOi1n4LccyDkR+Mhp58IOfJMSMsPGmTPa/aQQy8/VKbcO0Vueuom+e2rv5VlK5dJ18ddsq13m+u2uXXTW6fqcatZLGSOM/M89poM3M9oTz/71WkfF1uSYn5va8BQ7PRO1muR/VH2bmBdF1m6VHrPPlO27LJj1s2DWw3diSc1ywV3fEVm/vUHMnf5XLngugty/i7WY8Vp3wc5KbLX39ttjkez58GcHsbp5sNemuI3K+13HsHAa3ktGAAyACxJJUYBu2UD3CY4Nmue8p2U9qyK10Svfubu83qffEGI+TAzmE4XK7f3cBvl5tqIODSap03Yw7X7N6uhe+MNEUC2apABV2qewUEQsv6GgExBXzeSn0ZaVVVZsmRJ3n3v1ih33H23CCCGosie34XscOMOktSTZf3Odq6rZpx7rsiECSL19Vld1Qogx9S5f9cDv3agXLvkWul4p0NWbVglC+5aUFKXqtvgKmvXvfX/C11Nwu+NkOdoT48aPq9ZAMybyXxddk71wm7b6Gd0f77ri9/vV7IPPxTjJz+RLbHhWUHfxnrIX8dArvhfyMlnjczJ5BU6qKujo0NmzpyZdbPttspRsfJlfJ2WIvTTC+OU9fa7bGO+bt5yrwfOAJABYEnKeQDlu/PJdwef70JpDwDNoNE+2m3RokWOo32DfvipG1QURSZNmuR452ifHNvt8TstNcjhvl9fn9mPXpm1rIuOYYix004SB2T3CZBZ82eVrfFxbDQAWX7ZZdLxj39kAnP739S+b/xc+D0Dh+OPFwHk1iPqBVeXNgdiMfvAMehH9txyTn+/0ceN9vzObqureAUUXhl1P1mKYj7P6UbI7bx3DeQ9MmRetXteNcdmwOnnptB+nrs9f9JJJxV23VBQnqlgtm4V/ZqrpXu7AZmg7+NGyNxDIKe17SIX/fk8+ct//yIfbflIRJzPO3O0vvnw2r/2IP/yyy8vqovU6zj0k/G1LkVYzOA9r2Ou0GCuEt3EDAAZAJakXAeQ35Ol0Do58+T2mo3ezFKUO+CzX/yt39GtO8na8FiDH7eG0un3/zg4VZj9h3svFxH3YDPT7Wvf5/vtl/M55WiErr3nJ74urHb2u+p83f1m4O3aJfP734sA8tIODYLTIdctuS7w7+rGtdYVkJeGQ354NGTYl90bs3wDE9xGiJu/a13mq5gJdq1/k0JqrfJ9/3nz5jlme++++25fNYL2bfNTX+k00bWf3gD7tnida4UEHSogXzscwS8T98wzsnnMbpnA7+VdIFMnN8n3ftsqz616zrUGz3reeY0Qtl/HnK7FxXR1u418twaFCxcu9LyuWv/eha0Gk/t3zpcB9Rpd7vX5QXb3MwBkAFiSchxAhd75FNL94lTHYT+5CqkPDOJhZqC8vr/bdpoXtnzrSlr/fcfOgyQOyG9uOlNERFauXOl7frF4PO7r4lmqJ995XG48UClou5xGZ5q1O/n+BtZMT06XzNatsrCxb/64cgW8TuL/+EfOPlAA2et0CK6GHLLgEDn9J6c7fidzeph8WXK/pQZuDbhbw+ZUO+X23m4jWb2uBV71Y07ngddNpFMD7hbI+pkD0FqGYu1R8JPZstdQen2vGWMgT618KpiDTUT0e+6R3vTk2qsHQc759iCZ9fiNsrF7o+/3cLt+2mtAJ0+e7LkPCwnk3dqAb37zm1mf6TW3q7X8xhy8V0o7YK1xdSvjcPpM66TqzACWHwPAEpTjACrmzscrY2aeOPkGcJgnV7EjhEt5+FkFw7qdTqPRnC4W1nUts9bLBeQ7xx4kIiIfbflIrh1kmaLBoyDZT3dZqTo/7JSfHdkkAsgCpObr89ou+52/OUG370yKqmayXE7i8XjlJ+A1DJFbbxVpbMyaPgMKpO7EOjnrT2fJc6uey2yfWwbCXnPn1ggV29C5dblOmjSpoMx8vjo9p+7FRx55xPeKI26f4RYgL1myJOs19psLr3PUHqjMnDkzayCIddS52zEdj/tY7hCQPw8vfTom07Ybrs1k/X67D+T8+76d6eIthFtWuZCH/dpl3bdOtdx+39drEIhTlnvixIklfY98QadbUsJpkIzXdblYDAAZAJakFjKAJq9Mz7x583yvHOKW5XJ7+Jlvr5CGyStr4xbI2i+Y9u/j1JioCiQej8tbH66QTfWpWrLFt92WFQzZGz+vUZhBBETberfJlWeMyjRE2xbO9yyULrVOJysodsn6VKIrJus7vfGGPDJuXKbG7297qhI7G6KdpcmUe6fIqg2rcn7H6YbAHhgfdthhjt+jkCDKfsyVmiVx259exfJ+Jm92e5hTM+WrtTX3oduAFbfjzt5Iu63y4VS/aud5vVJVWYjUyieXLb205GOu59f3Zc65WUdosujf9xf1PvluxP08VLVvhHi+QT3F9NY4/d3MtdedAjGn1wdR85nv5/ZBMuW44WQAyACwJOU6gOwDGpxmxncyd+5c1wu/W52c00oKbin7fA8/o32dRpvZeS167hWQuF0svH7npTce61uayNLYOY3Cc7vABzUZ7ey7z5VN9amGaMMlFzkGAtZ/F/N3UtXUyGCnTEUhWaJyTMC78LbbspaHGr8/BFdBjrr7KHn9g9edf8ehDtbpOHRraK688sqijnWz+6rQv0G+UZNeNYWlBPz2Lki3keNeD/t2Og0Y8xOc+Ll5cNu2adOmSfztt6VLU+URQM66fmIph5wY//qXdNenun1/dni9LFu5rOD3MOuqS7kZUFU1a5UlMxD02n+FHnv2G2WzW96rPnXGjBlZr581a1bBga7XwB+v3yv39D4MABkAlqQaGUDr6DKnxtqp+NjsknGa+sWtC6aUzFK+hshPBsBpMIPbxNL5MqSOwS9SGcCnn7jfcQklrwbU+pg5c2bBf2Mnr655RZ6JpYK/tYftLwsXLPAMSL26VrwaALPhd/vdOXPm5OzLWddf7/heQd6Vx197LfdvoECu+vNVnoX3hRynXl1ghTZo1uOykG5Yp64tc0LefMe239U2VFWVY489Nu/8j/aMop+H02oN9gys1+jzQrLlbhnE2bNnW2pSSxgJvGWLfDh6ZxFA/rwX5OH/Ppj13fyM7PY7VUq+48KpZ8PrZiFf9s+rrtPp7+b0O25ZuELLhL75zW/mdGfnK0sKeh5EJwwAGQCWpJI1gIsXL3bM2tgnlHUqDve643dryJ3qL0qdw8upEfHDnhXxU0fk9B5ZwS9SDUfHn29znczVz+OhpQ8V9F2cGIYhs87dN7XU2IA6ifuY17CQRrutra2gC7g98xRkN7C9YV2+fLncfNNNMvczn/H9GeZ7FLL8WL5BUNYsh9NNlNfx5jRC1i2Dbf0O9kbYK2PmthqK/VFIMGudx8/P8eQ3Q+w1N2chmWOv6aDybZcX8/h5+butIoCs2g5y19K+VS3s15vLL79cbr75ZscVV/Ltt9mzZztek/32bFgzcNZjz+scbmtrcwwm/ZTa5Kxn7LL/3H7Xvq6z9XgwBxBZzwW3fRP0PIhOGAAyACxJpTKA+S7q9hPELZNQ6DQUTl2qfkY1FtqIFLo//NYRWbllE+676Xu+MoBOfwcFkCdfedL3d3H7frfd81N5fkAq+7fu6kt832H7abSdMi5+Gi5rMX88Hg9kHVZ7/dq+++5b8LHiN2PlFrS5lUnMmzdPOjzWtJ03b15mehinLnmnjLWfLLef7FChyyn6fVgDmnyjit0CAq+bA3s3sTn3YilLhrk9/N6MZGUrkSr9uOE7+2eyzPk+01qOk28wjH2pNKcAyOu7mueg07Hk1k6YWbN8+8gruHYqC7JzOw/d9p3X38e+b4rp5SkGA0AGgCUp5zyA1gunnwug9QTxyiIGcWLZg0CnO07zvZ2yIYWk9YPIPnl1l1z/neMlDkjrkEbPfa4oSvZAE0C+vTvkiXefKGjfWdlX+rhlcKNId7fvwMA+8MUs3Pezv/1Mt2G9sZj15S97HnN+/ga+jmXFPeDw+x7Wrm57w+kW4JlrUHtlN+yjWUvNUOSbvsj8Hn4zYYU+7OeQNStpPRe8lq3zU7LiNIDF7z7zcy30263sdBOoAvLoi4/k/ZtYH1k3Rg5Bm58AKt93dToHreLxuGt20E9Pj58azXzButeguGKvEyKVG3jGAJABYEnKvRJIR0eHa8bC6WHWb3ldAEodWu/23vZGw1oU7lUrVOzn2S9mXhcqr4b2jC8ekJX9O+mkk2T58uWujVU8HpeOiy6SOCB/3hOy+D+LC9p/Xt9LBRy7RuyBtLVRdssO+Nnf1jtvr67ReDwuj1x9dUkXZb9ZzSkXTsnJtBXyHm4TeFu/c765+AqtiyumkTO3xSmAWLJkSebv4lYbCGTP81bow0/drHlc5Tu//FxTCik/cdsWt4Dj1Gmn+noPP4NS/Nxk3HLLLQV990L4yX45Tf3kdYPntl1uvSJ+g3U/bUGQbQwzgMFjAFiCch9Afut+7A1IvjmUnLqr/Gbl/IzCdQo8Cj2prdvk9V2KvVABSM9R5r4PXfdTe7sIIP8aCbnz2TsL+pvm24/m6FLz8+yBgN+1ZAvd315BT0dHh8SXLi1pPkC/2Tvrmqj275fvPfxuj9f0JOYxV0h9oVMg4Zdb1seeYZw8ebLjcXrdddf52jY/o+/dts/v8ebV5e03q+N1LXL7+9/825vzfo9CBqXkuwFwqgV0++5+rq3W1+TbT37Pa/MYzpeNtF6rrZnzUmrF7fukkPYl3/sGiQEgA8CSlDsD6HUROuCAA/JmbfJdlEUKW8oqX3bRbbtVVS2o/tBpm/zWwfi5UKmAfGeXhrxzI7rddatqah6yd4ZArnu8uKXR3DIS1to7++c61Vy6fd9iulE8sw9bt2ZNylzMRTlfw/r1b3zdV/bD2nVtb7zMfVtMRtjaxZtv4vR8x0shSqnx86rDtRb0z5o1y1dAYBVkJsbPe/m5FjkFzIqaf3Uat+upUx1rPB6XuXPnuq6u4Zff72N9jds8p+Z+8nNeu10/vQJrP4PECqkVL2QfuPHTfpWCASADwJKU8wDyCk7MC5OiKK4LqPvJRhR7Ufa6O3Pbbqc6wUJGFQYR5MTjcbn3gikSB+TpMQNSQZhH4+p51w3ImxrkBw99P/8f08XXTnKead8ra+r3+xbbeDtlBEzJoTtJHJA9T9Rk5cqVRX3neDxdu2Qew4Bo+0AWPLAg77xn1vewZhfsowrzNTh+Ai57V1a+15aSoSh19R1rds+pPKCY0guv7Sq2Fitfr4Tf43X58uU5g5L8HNv2m8CzTp3k+BrrDZf1/y+//HLf39XP9/HThWqvwSzmBtxpDshStz2ofVBNDAAZAJak3BlAP92/quo9sawXr8Ei+eYlc+sedVsdwW9tSCGNTjEXmM67bxYB5PnR9SIicuG+Qx1HAPu66wZk2v3564/c3DZ5X9fRx16jtv1+30K7UeyNnzlJrPn+yYMOFAHkmFMg67eVdszHDzpIOgD53ljIyb892fV4L7Wb2cw+OwWI+R724MntUepckH4Dfa/H4sWLCxpd6rX8n9fvltqAu2V1CjnvSwlMn/nZ9dIByNODIRu3bcj7fVW1uEEdpYzENfePvdzDHNDldR31czNRaLBc7A1OpVcRKhQDQAaAJSn3AeR3pne30WD55Ltb9DuTvz1wOPLIIz0vbF5p/WJq1wr57l2LFogA8soITURE/vmFXSUOyKmfbSksO4HU8nFTb5nga1/bJfWkPL5HnSwEXLOQTqO27dke61QTTvx2o3gFIZmswXHHiQBy7nGQzg87i/reIiLy2msigPSokJ1nQF5e87Kvmsh8/EzLUUigZa1H9Ho41ZEVyn4cT5482Xf9r9f5kW+f+LkpsJ8XxdR05eM1IMGulMD0+cmHiwDy1/+N5fws6Pkui80AupXa2I9lvwF/sd+p1C5YZgBrHwPAEpT7AIrH86/LW0i9nxP7NAt+5hzMdxEzA5ViT/xCg7pCvvuqv/5GBJD/DlVEROSxQ4elBnRcenreWhbrNt3xqcEigLRdtr+v72T39H8elh41Nfffst8udh2Zah8IpCiKTJ48uei6Gjf5Mgeapkn8tNNEALnmSMhTK58q/sMuuSS1+sKekC//6ssiIo6ZY0VRZMmSJYHNGxfEuqmlNKh+tt9P1rGQAR359omf89J6XpRS01XoNnrNM7lw4cJMPWohq4F0jRgoAshfbjg752eFBqH5jks/1zG3APvmm2/2dd3P97lO1/RKBmGVGMxRLAaADABLUokA0KnR8jNbu9v7OV20zAu8ny5HRVGyft+roL7UqQDKUQD8waN/EwHk3cEQwzDkiYN2EgHk2aunFrRNn/zPZ0QA+e65uZkEP3511ddFAHlvxPaycOFC14u833o1e1BeaIbGT+ag4+yzRQBpPwjyx9f/WNT3lmRSjJEjRQD52kmQhzof8jXa3W+w4TRIoNxBoN8uVT/y/R28BkUVu0/8Bq/lyugUm3n710Gflg5Arpri7yas+4M1IkjddL35Rt+av/G4+6CPtra2nO9XSE2ln7+TW4Cd7+G1f+zvWc0grFzX8lIxAGQAWJJyH0BewZW9MNjP3aif0b6Fdh941Sq61SVV0/pnnxQB5P2BkG292+TpfYekagJvuKCg9/nki18QAeTCkwYXtR1/OiK1Buk/TzzSc5/PmTOnoMaglAyNV6CgaZrEb7pJBJC/fRqy8PkiG5Hly0UA+aQRMvrGYdL1blfBXZ35jvd4PC6LFztnVa03Jn4+z6neym01HPv+LiYQz7fEVyndcaVOBF+umq5iA8t3jz5UBJBbT2vx9Tlv/N/PRAB5e0c1s/JHoTcfhWQJC1VILWihn1mrQVg1MQBkAFiSSmQA3S4I5gWglAk783V1+u0+KOdFMWibXn1JBJANDZBN3Ztk+V7biQDy4pxLCnqfDZNPEAHkh8fWF7wN23q3yRtDU5mI313xA8+Gx21QjVtgVGqGxtoNmZM1WLJEBJDlIyE3L8s/95qjn/xEBJDf7w2Z/rfpBY+AtRbGK4riWQPpVkO7ePFix2DIrdF3ajzzBVTFBuJ+zvlSlJINKuT4KjT4LWa74pMnigBy+4kjfH3GsraviADScdiIzDYWcvPhdS4GUQLgdi7ccsstJU+uXKhy1HnWGgaADABLUokDyKtLwO8dfSnzOvm9MHtNH1JLtrz9ZmYAwvpt6+WFPQaIAPLyvGsKep/N554lAsjVR0GSerKg313+ysMiSA0i+c2CBa5/X0VJzW/mNRjIuq9LydA4XfBzAp+nn05lUHaAXPnIlQV9Z1PyC6ki/LavQJ5d9WxBjbDbnHdutWJOAYu1htUr4+lnYEcQSy467fd8k3KXqpRskN+6Nnvw6yegsG9Xvt9575xviQAy94v+svDPfm5XEUAePj9Vd1rozYdbNj6IQUDm9803xUslsnjlqPOsRQwAGQCWpFIHkNt0LH4nVy51cW2/F57+0M3Q/f57mTqgjzaslZdHN4oA8uovvEfT2vVccrEIILcdCvlk6ycF/e7vbmmThUBmChjryGu3zIOf6SmKzQD6vuC/+WYme3rh3y4s6DuLiMj69aLXaSKAjJs5oqBuOK+HVwPsNIjG3k3r1rDnC7bc9rff89Jrv5d6zpaT13nutE8KnYdOxN8x+cHF50sckIv3rvO1X7p2bhAB5Jl7r89sayEZwCVLlhQ8WMWJV2BbC/V6tXrcBY0BIAPAklTyAHIbLZbvZHXKJmialplTKowntpfkxx9lAsAP1q2U10bUiwDyxv13eP6e/aJtzJolAsi9B0Di6wvbhz8/fs+c+f9UVZUrr7zSNXDw2zAUM4La9wX/o759d85vTy/oO4uIyJ/+lCrA3xFy1p/OytqGuXPnyvTp02XevHklLcNm/zv5+X6lNHrFnpd+z91aHUHpJoh56Pz+PX729RMy51G+wLJn80bpAuQRQJY/uiTzvNsALPsgNuvSfNZzNt80THZ+S3aqdSNdap2n0/lXq+0MA0AGgCWp9AHkdGEodHZ9VVU911sNO2PjxkwQ8/7qt+TxHVV5BJAn7rrJ9XccL9p33ZWZyuT1D173/fnxeFymDatzvMjm6zosRya2oAu+rouuqSKAtM47xvd3zmzXeefJI4DcuB/k1//+tYg4Z+iKXYbN6e/k9/uVWhtXyHkpUtjauLWaVXcrGyh1Hjo/+yYejxe0Gsj1P/yuY7DodoNsHWntloG3rwnsZ3/Venat1Jsh6/lnX8+61toZBoAMAEtSKweQWyPhtQB6LV+Eymrr1kwAeNPsn/Q1CorzeqKuF8Q77xQB5PHRkOUJfw2BV22XNYipxMS7eb+f7bPMbegckho0c85PDi3ocxYuXNjX5Q3IlT+5UubOneu6Lwpdhs3texTSlRp0sFVoV2kxQUW1eGWy8g0kyzdtjp9jsuAVgxyCRb+BXVCjn4N6n3Jn1YoakOMj8K+1dqZW2u9qYgBYglo/gNwamSAuQv1WT09mAEZJA2jSU6L8exfIP9/+Z96P9bpAOmVuyznxrl2+C37WNgCyEJBp39/T9/v7zQrZj8d8cyBaayC9Gtda7Up1GoRSi5kSO79d3E4DybymzbHK9zcrJFPldmz4rf0MKnMXxPtUaoBGoTdDfgfU1FI7U+vtdyUwACxBfziA7BdSp+61WrszKytdF0GqFqiki/9f/pIKJLeH/On1P+X9WK8pHkrJhATF7YLveBMByJePGhJ442D/jl7zYNobvuXLlzu+1szm1GpXai0P9nBTTCYrHi98HsJ8f7OFM2dmVgNRNfdgKB6P59TcapomM2fOdD32cj4roJuISk3DU2nMAPZPDABL0F8OIPuFtFYzIhUD/xlAEZdC/0cflUcA+U8D5L6X78v7kX6zJosWLcp0j5V7MXU/XUmlriVrfo69C87PexbSTVrrC8+76Y/bXWwgEvh3ff11iQPyQD3kgeUPeL70ihEDMsGi240w4D2iN6ibiGLfp9aPFft1csqUKTXdzvSX9rucGACWoD8fQLWaEamE3vQavNdceVHeGkCTa7csIKfOPNXX5y5cuFBUxfy87PVL/Q6GKHT6Hq/pJvx0JeW7s/e7PXcdf3ymAXbL6s2bNy/nvfzerNRydsRLtba71DqyoOrESvqu76WmdEoqkMfeedTzpW/tXCdxQH5x5QWB31yVuybP+jm1fozb25Vabmf6c/sdFAaAJeAB1D9t01IB4BWXfcf3NBImp4uwoiq+L3D37z1QOgB55KIzs97TaT4y+2CIQu6ivQK8QhsSr8ErfhvNLcccLXFAvn4o5IeX/TDr++bb934bkf6S2bYHDJXe7qDqyIpp3AP9rps3ZwZ0/eNl9zKMZLJXNtenXrf6xScz2x5EMFXpSZP7yzHeH7D9ZgBYEh5A/dPmerML2P80EqZSMgc9yR55Y6dUQ7T2z/fnfU/zff02tGZgka+urJjv4DY3n9ckzFabmkeIAHL4F3fK2rZS1rd1UssZBxH3gKFS210LWaTAvqthZLL5Dz32C9eXJd75dyZQTG7elHm+1GCqmtnbWj7G+wu23wwAS8IDqH/a2Ki4DgKZN2+eZ3dOKRnAN1e/Kj3pBstYuTLrPd0ygH7eNx6P56yR6xXgFdNwuXUF+1oFoadHdFWVOCCKUtx3DINaCL5qvY6sUFsaU/NSLnnwNtfXvPjwvSKArBukZj1v1tzaV9TxK2z7MmrYfouoIIqYOAQfAFAUJedn3/nOdzBhwgQ0Nzejvb095+exWAwLFiyApmkAAA3AV089FLFYLO/nfvj6C6g3gC0NCpT06xOJBDo7OzFr1qys7VFVFfPnz8/7vu3t7Rg9ejRuuukmGIYBABCRnNdpmoYxY8Y4fwdNy/tZmd9Jb6MC4JJrLsGMGTPyfm+88w7eMwzcp6bSMFa6rmPFihX53yMEOjs7M38jU6W/f0tLC1Q1+7JvPTb6m5761DGc3LLJ9TXrV/wHAPDhTgMzz7W3t6O5uRknn3wyvvWtb+Hhhx8u+LPDti8pgqodgfZnvIPof6wTEgOpSYnh8sg3RcWSHQZJHJBrb/qqr89++K7LRABZOXxg37ZYugNnzZolixcv9p2RyDdAw/yZ2zxqxWQ/4jffLB2A/HI3yCvvv+LrdxZ+73s503D42cdhUwsZQJFw1ZF9sGOTCCC/u+9y19c8NONrIoA8f8iuIhLs3yFM+zJq2H6L1FUgxiSqCYlEAlOnToWR/6UA+rIzTpmxWCyGATsMwk6fbAY2b/b1ftveTWV6Nu48BM8++2xqW9IZIcMwcOmll+Ldd9/1lU0EnDNKJk3T8PTTT2Pz5s0YM2ZM1nu2t7dnPltVVSxYsACtra2+PjO2226IAXhSB7b0bsn7+kQigal33OG4z/1kHsPEzKK2tbVB1/VAvr+ZQW5pafH9Pq2trZg0aRJWrFiRc2z0N3p9qglLbnU/B5U1awAA3bvsBMA7E1vovgjTvqToYQBIkeF04RekujNzO03zd+foA5oAAOrm/IEQAOiJOADgrm2C2z7/+ZyuWsMwcNttt2H27Nm+3s/sgrJ/JzOw+NznPpfzO5kg2BJ4trW1YdKkSf4ar+23BwAM7gY+8hEAdnZ2wnDokr7lllswefLkyDWYQQYMJQXysVgo9n2yIdWE6R4BoPrhRwAAGZoKAJ3Om1K6bsOyLyl6WANIkeFYswPgR41Kph4u87yP7Ey8vh4dADas/cTX59etfh+zAdzaucaxTg9IBUaJRMLX+9lr+VRVxYwZM9DV1eUaCJRchzZ4cOo/3f4ygC0tLbBXWiqKEsngzxSLxTB+/PiSM39OgbzfYycs9HQAaGzb6vqa+k82AADUnXcBUFwNLFEYMQNIkZHpgjvnHOgAVEXBfBF8eaCGc//9DlasWIFBgwY5dpvatbe3Y+q/34IBQLnnNYz5Qnve7MuW+DpckmcbC+2KKjSjVHL2I50B3L4H2Nrr3uh6cRp8Q4UJshuzP9Mb6gEAxlb3m5HGT1LZwYZdRmSeY9ctEQNAipjW1lYcMGMaNn+SxMrTv4AzfvkEVmoKRhfQjZNIJHDuuedmuo0FwNSpU/N2o37ywWbHrmYrMxgrpLarkC6okuvQrBnAnvy1j8uWLcv5zoZhRC5QCVrQ3Zj9ldHYkPrvVvebkUEbtwEAmobtmvU8u24p6tgFTJEzrF7FeABDG1NdQFJgRmrZsmWO9XtPP/206+9sS27DrpucB2yYGTEzGHv44YfR3NzsOR1NKVpbW9HV1YWOjg7P7mJH220HAKg3gG1bNni+tL29Hd/61rdyno9ioBI0dmOmSDoDKNu2ub5m8KZeAMB2I3arxCYR9RvMAFLkiJoO+Hp6AACGWv4uyVUfvYsmlyTFokWLsPPOO2eCoubm5uIHafhUdPZjYN9car2b3ANAs0bNHihHNVApB3ZjAtLYmPqfbucAcFtyG3banDoGd9h1j0ptFlG/wACQIicT8PWmMgNGgfHfuHHjoChKVnCjKArGjh3r+jtr334FeyOVcrfmATVNw9ixYzONd0dHR23XdtXXw1AVqIagd7N7AOg2Rc0dd9yBPfbYA4lEoja+Tz8X9W7MfAHguo9XIdYLJAC8uSKOPYfsEun9RWTFLmCKHDMAVMwAsMAMYCwWw1133ZU5eRQAd911l2fDsuHt1xEDcNPAOs9uu5pfXUBR0GtOvbF5o+vLnL6Hoig4//zzy9a1TRHUlAoAlW3djj/+ZNVbaAfQDOCLJ57I447IggEgRY5hBia9SQCWLuECtLa24qXzW9EBYPaBWt46ut54FwDgK7sO9qy/6w+1Xb2N6cl3PQJAp6XjAER+2hIKWNMAJAC8kfjE8Vh6698vYir6su487oj6MACkyDEHfShmAFjktCSjh4/AeADDfKwtklybWo1g26cG550HrqRBGhWgp0de6pvd118FUt/j6SnfQAeAtr0ac+oBo7QOMJXH7xJr0Qzgp0+sdszurfjPqzlnJ487ohQGgBQ5hpYOAJOpALDYQSB1A1MjYht6BUkj6f3iDz4AACR32sHXewcxWXC5mAGgsSX/NDC7bPgYYwD0bDewtru2qd9JJBL40b/+45ndG16n5zRyPO6IUhgAUuRIOhBRSugCBoD6QalJkZuS+SdF1j76OPVZQ4cW9Vm1RB+QqrvyEwAu+vfraAbwi+c/hohkgsBa7Nqm/iW1zGD2c/bs3k5KEqfbfu+0007jcUcEBoAUQWbGTwsoA9iUTE034aXh49SIWW3nYUV9Vi0x0oX3qkvhvSmRSOCyFe9lMjRmF/DixYtrsmub+peWlhaotvINe3Zv7XtrcZ/t9371q1+xBpAIDAApguwZQBRZA6gOSM2J15QEeo1ez9cOSC9H1ThsZFGfVUvMAFDLEwB2dnbm1F8ZhoGdd96ZGRgqWSwWw43HfRHmKt5OWeVVqz9gDSCRCwaAFDmSrgFUk3rq38VOBN3UlPpPEujRezxfut3GbiQAvPjx1n6ffZBMAOj9nVtaWlh/RWV12rjPowvAtbvXOWaVd9UMx2Nw0KBB6Ojo6PfnIlEpGABS5JjTwGjpALDolUB8BoAigr9/mEQzgFNvvKPfz0Um6e+tdXsHgLFddsECwDNDQ1SKuoHbIQbgfxrE8bjaWZJYAMA8xTVNw2mnnYbDDjuM81FS5DEApMgRLXXYZzKASpGngc8A8M133sTMLeGZi0wGDgAAaN3e3d74+GO0AngbwK2/nsO6PwqcWYbRkHSeiknbvAWtAB448xh0dHTg6aefxn333cf5KInAAJAiyKwB1HrTAaBWegawV3cPhubccnO46pAGpALA+nwB4IcfAgC2awKOPnoiM38UOLUpdSw2JMXx53VbUnWqI0eMwPjx47Fp0ybXpRaJooYBIEVOJgDUUw1BsRNB+8kAJhIJ3PXzhTnP9+tauHQAWJcnANQ/WAsA+HAgsNPAncq+WRQ9mYFYvciZaBwAGramAsC6wTsA6AdLLRJVEANAipy+LuB0AKiWrwu4s7PTsWG66KKL+m1GTDG73bq9J7/evCYOAPhwALDjgB3Lvl0UPWYGsFEHdNFzft6wLXWT0jAkdfz1h6UWiSqlrtobQFRx6YrwOjMDWMZBIOZcZYYlCFRVFRdeeGFxn1kDlIGpALC+J7fBtdqyZiU2AHhcVRFbvZaNLAXOOhVT0kiiTs1u0pq2JpEA8HziAwxKJBCLxdDa2opJkyZhxYoVGDNmDI9LiixmAClyRE3f/SeDCQAbDKCnx3klkFgshgtOn5Q1EnbBggX9utFRBg4CADT0eGcAf/n3f6IZwCVxg6MtqSy09LHYmA4A7f6yPj36/rrbso7BWl5qkahSGABS5JhdwHV6KitXahcwABjb3JeC++I+I9EF4JexwaEYCatmAkD3DGAikcBlf+sIzchnqk1aU18GUDeyj8d33n0HP9ocntH3REFjAEjRowYfACa3bHJ9WfLjdam5yoYNCUXGQUvXXdW5TL0B+FunlahUZgawySEDOOeWOeEafU8UsFAFgHPnzsXuu++OpqYmHHzwwXjiiSc8X9/d3Y2ZM2eiubkZjY2N+PSnP41f/OIXFdpaqhZ7BhDFdgFrGoz0r+rd7hlAfLIeANA7eLviPqfGaI35A0CuAkKVYB0EYg0AE4kEfn77z3Nez2OQqE9oBoEsWrQI06dPx9y5c3H44Ydj/vz5OOaYY/Daa69h9OjRjr9z0kkn4f3330d7ezvGjBmDtWvXIpn0rmui/k/SIwDrkyVmABUFuqZATQqSHgGgtn4DAMDYPiQBYLrbrT7d7aapWs5rYrEYrmkZjqs710AHR1tSmdSlmjDNyA4Awzj6nihooQkA58yZg9bWVpxzzjkAgFtvvRUPP/ww5s2bhxtuuCHn9Q899BAee+wxvP3229hxx9QUAbvttlslN5mqJZ0BrE+XDBU9CARAUlNRn9RhdHe7f9ymzUgAeHZrEsPSIxH7s/p0ANigp0Y/D1AHOL7upIH1OBPA/FPGou2ni/v996YalA4A64zsaWBS8/0pMIzwjL4nCloouoB7enrw/PPPY+LEiVnPT5w4EcuWLXP8nQceeACHHHIIZs2ahV133RV77rknZsyYga1bPbryKBzSGauGTACYm8HyS69LnUJeXcBLV3yAZgDfWfpiKEbD1tkCQDf1m7ciBuCAA1oY/FF5pLP5KoBksu9YjMViuOQHraEafU8UtFBkANetWwdd1zFs2LCs54cNG4Y1a9Y4/s7bb7+NJ598Ek1NTfjjH/+IdevW4bzzzsNHH33kWgfY3d2NbkumZ8OGDcF9CaoYswaw3ixhKyEDuFJV8T6AD9Z84PjzRCKB2//7cc5IxEmTJvXbxkhrGoAEgJe3Ao0ru3Dgngc6vq5h87bU63fgJNBUJnV9TViyNzsL/5Uj/gfnzQaeG6jikP929dvzjahcQpEBNCm2Jb1EJOc5k2EYUBQFv/71r3HooYfi2GOPxZw5c3DPPfe4ZgFvuOEGDBkyJPMYNWpU4N+BKsCsAcxkAIs7Ddrb27H/xm5MAPD96QscM3udnZ2hG4l49z9S8/tN/Rj47D6fdc1oDtiSysg07Di0gltHkaL1Ze/1nuwAUN+0ATEAnxtUz+CPyEEoAsChQ4dC07ScbN/atWtzsoKmESNGYNddd8WQIUMyz+2zzz4QEdd5oi677DKsX78+84jH48F9CaqcdKPRkMkAFn4aJBIJTJ06NRPciYjjHGNOo2FVVe23IxETiQSmzpnja261gVtTRflNO+5SwS2kSLFkAI1k9trUya2bAQC99cWXeBCFWSgCwIaGBhx88MFYunRp1vNLly7FuHHjHH/n8MMPx3vvvYdNm/rmb3vzzTehqqrr3WJjYyMGDx6c9aB+yBbwFZMB7OzshGFk5/acMnuxWAw/2kGFNQ8tInj44YcL/sxa4Pd7o7cXTT2p1w3YaXilNo+ixisDuHULACBZH4pKJ6LAhSIABIDvf//7WLhwIX7xi1/g9ddfx0UXXYSVK1di2rRpAFLZuzPOOCPz+lNOOQU77bQTzjrrLLz22mt4/PHHcfHFF+Pss8/GgAHOoxopHAx7wKcVfhqkRhlm/57bHGP7SXbA5JYt7A98f29LfezAHZ2z8EQls2QAdVsNoL4tFQDqDcwAEjkJTQB48skn49Zbb8WPf/xjHHTQQXj88cfx4IMPorm5GQCwevVqrFy5MvP67bbbDkuXLsUnn3yCQw45BKeeeiqOP/543H777dX6ClQhopWeAYzFYliwYEFmlKGqKI7z3N111104aT1gn5Gsv9YBxmIxLLjmmr7vranO8/tt3AgA2FoHDNmeNYBUJqraNxl7b/aIdDMDqNfXV3qriPqFUOXGzzvvPJx33nmOP7vnnntyntt7771zuo0pAuwBX5GDQFpbW3HADTOx+a338fSF43PW+E0kEpg2bVpO8Af07xUJWk85BZN+9CP8uw7oeer3OPHQE3Ne07vhE9QD2FwPDGkckvNzoqDoCqAKYCSzA0BJr89tNISqmSMKTGgygER+2TOAxQaAADB8YCPGA/hUU24j41Qvl/o4l6xZf1FfjxiALwqwwy47OL5kyyepaXE2NwCDG1krS+Wja6kUoD0DKNtS0xAZDcwAEjnhrRFFjqgqEgA6AbQAJQWARrp7SXpzVwIx6+WsQaCqqnjmmWfwuc99rujPrLqGBgCp9Vd7ks4roGzd8CGGANjSoKBeYwNM5WOoCgCB4RoANlRhq4hqHzOAFDl/6XwPzQAmAGgG8JeVHxb9XmIWoff05vwsFovhqisvylmNoF8Hf0AmAASAnnShvV33+o9S/23gJYbKS09P5K7bu4C7UwGgNDIAJHLCqzNFSiKRwE1Pvd43jx2Am55/p+gRudJgZgCdl0T7yhc/jy4AD9YBXV1dOXWC/ZIlAOzdttnxJb0bPwEAbHPoGicKkpFuxaTXdhOWXrWJASCRMwaAFCmdnZ0wbKMyDEHRI3LNDKDaqzv+vGfjJ4gB+HyT1n9r/uwsAaCRzrLY9W5cDwDoaWQASOWlp0s47NPAwJwXsLGxwltE1D8wAKRIaWlpyVn6V1VQ/Ijc9CSzSjLp+OPeTalAqDtMc5FZ5l5Dj3PmM7kpNQ9gbxOzL1Re5iAQIycDmD42GQASOWIASJESi8Uw44j9+uryAMw4bM+is3NmF7DqGgCmAqFQZcIUBb116UbXJQNobGQASJVhpO/o7NPAqOkAUGlsqvg2EfUHDAApco7bZxS6AHQA6ALwlb2L75qVunQA6NIFrG9OTYjcG6YAEEBvXerSId3Oo4CNzaklFvWBzL5QeRnpaZ3EdhOmpAdmKU0MAImchKtVIvJDURADYIZ9b5cwDQzqvTOAejoQSjaGayoUvU4FoEN6nANAMQPAAWx8qbwyGUDbQCw1HQCqTVzak8gJM4AUPYq9CLD4+ry+LmDnDKCZCUuGrCs0WZfaZ24ZQGxOjQ6WgWx8qbwMswYwmV0DqDEAJPLEAJCixx4A2lcGKeSt0hlAzaUL2NiSCoT0pnB1hSbTXcBwmf5G2ZpahksGDqzUJlFE9XUB2wPAVFaeASCRMwaAFD22AFApIQPY1wXsHABKOgA0QhYA6ukMoNsoYHVzKgDEoEEV2iKKKiNdwmGfB1DrTQWAWhNvQoicMACk6LEFgKKVEACm58RzywCu++ATdABYrYTrVNPr09/HJQDUtqZGBysDGQBSebkNAqkzA0Aeg0SOwtUqEfmRDgATSI0E/mCzSx2bH2YGUDdyftTe3o5zfvcCJgA4/tHX0d7eXvzn1BgzAyhuAeC21D5Vt9u+YttE0SQuXcB1valzUhvAAJDICQNAih5FQTuQWQ/4pLsfKjo4U+rTGUBbF3AikcDUqVNhLjpiAGhrayt6yblaY6QDQMUlAKzblmqMtUEMAKm8zADQPgjko61JdABYt9X5GCWKOgaAFDlrN2/DVKBvPWApIThLrzJQl8zOAHZ2dsIwsp/Tdb3oJedqjZk9/fCD9Y4/N0dg1jMApDITcxonSxdwe3s7TlhtYAKAw6b/KFTZd6KgMACkyEl8shn2DttigzMzA2jvAm5paYFqm19Q07Til5yrIe3t7Tiq8wNMAPC9W//q2LjWp0dg1g9kAEjlZaRreM0uYDP73neDJ6HKvhMFhQEgRc6oT22Xc+AXG5yp5jQwtgAwFothwYIFmc9RFQXz588vesm5WmFvXMUle2rWXzEDSOUmddmDQMKefScKCgNAipxdBg/CAiCzHnApwZmSXgpOcRgE0traikX7DEYHgL99/wy0trYWv9E1wm/jWp8eFV0/YLuKbRtFk70LOMzZd6IgMQCk6FEUtAKZ9YB/P/2kooMzta4eCQCvbNAdu5h2hYHxAEYM36Xoza0lfhvXxl4DCQAv/fdddr1RWYk5Il1PBYCxWAw3/+zmzA2epqqhyL4TBY0BIEVPehqYGIDxAHb51OCi32rRc/9GM4AfruxFc3NzTj1cXToTpoZkKorcrm04Nq6/7hY0A2i76CeO+4UoKGJO5G4ZBHLS6SfhP/WpG7yuRx8NRfadKGgMACl6AloJJJFI4JLf/Kmv2NwwcurhzACwbkB4ViNobW3F0s+3oAPAbad+LqdxTcTjOF/guV+IgpLJAFoCwKSRxB566gYvtttuVdkuolrHAJCiJ6AAsLOzE4ZI1nP2eriG9GCIupBkAE3DBzVhPICdmnL3XedrrwU2ypooLy03A5hM9qDBPAibmiq/TUT9AANAih77smx1xQWALS0tUG3BpL0ert4cDTswXIMhpK4u9T+25bcAYMyuuwY2ypooH3MpR0Xvm4w9uXVL3wsaw7UON1FQGABS5CgBZQBjsRhubj29r9hc03Lq4eqTqQxhXVO4MoCZoFnPDQCHf2pI1ihrp/1CFJjMIJC+AFDfxgCQKJ+6am8AUcXZA8C64k+DKV/6IiYv/CUeGAqc8GJXTpDTYAaAYZsPL5N1yZ3+pnvzBrQCOFID3n7oIey7974M/qh8zGPRko3Wt23t+3lDQ6W3iKhfYABI0RNQBhBITQMTA3BoPTBy15FZP0saSTSm26SGkHUBw6MLuGfzBgDA0Hrg01/8ElR7lztRgMxyhKwMYG83ACCpAnW2852IUnhlpuixNwha8aeBml4KThNAN/Ssn3Unu9GYfqphQNgygKlG11p3ZTIDwG11YPBHZaekM4CqQwCoqwz+iNzw6kzRY5vIOGdQSAG0+lR9UZ0B6JIdDG1LbuvLAIatCziddVGSDgHglo1IAHgU4NQvVH5mBtByLOo9fRlAInLG04MiJycnYA8IC6ClM4B1RqrL16q7d2tmKoqwTQPjlQH89QN/RTOAUzaBk0BT2UnmWLTUAKYDQF1jBpDIDQNAih57F3AJNUJmBlBzCAB7Nm/s+0fIRiIq9ekaQFsAmEgkcMXcezkJNFWMUmcOAuk7Fo3entR/2QVM5IoBIEWOYuvytf+7EGp9PQCXDOCWDX3/CFkAaHa7qcnsUcB+JscmCpRZjmAZkc4aQKL8GABS9NgzfiU0EtZBIPYAsHfrpr5/hG0qijrnLmA/k2MTBUlxKEfQk6kMILuAidwxAKTIEfs0MKWMVE2PQKwzckcB92xJdQF31ykldTPXIqUulfm0zwMYi8VwxdeP5iTQVDnmlESWYzHTBVzCCH+isOPZQZFjXwmkJOnGx6kLOLllMwCgpy5cwR/QN3m20yCQ4/ffHV0Abv/0YHR1daG1tbWyG0eRYh6L1mlgjJ50BpBdwESuGABS9ASZAUw3Pk6DQMwu4N668J1mZgZQdVgJxNi6BTEABwwdwMwflZ3TscgMIFF+PDsoemwBoJSSJLB0AedkALemMoC99eE7zZR6jwBw27bUfxvqK7pNFE3msZjVBZyuARRmAIlcha9lIspDsc37Z/93QcwMoOROBG1sTS1IH7UAULq3IQHghU1JTv9C5eewEoiR7E39lxlAIlc8OyiCgpsH0CsDaKQXpO+tL36t4VqVGQRi5AaAD/znbTQDmPHiGk4ETWWn1KVG2FuPRaOXASBRPjw7KHrU4GsAnQJASXeFJkMYAKqacwYwkUhg1pOvcSJoqhg1Mwik71iUTA1g+M49oqAwAKTosQd8pWQAPQaBSHcqANRDGAD2dQFnT/rc2dkJe06QE0FTWZkBoNF3LGYygCEcgEUUFJ4dFDn2aWBKqgE0648A6Om6I5NhrkdaF74AMDMBti0D2NLSknNR4UTQVFbpiaA1681I+lyUUs5topDj2UERFGANoDkJLQA93e1kknQAaIQwA2gGgPYMYCwWww8PjHEiaKqYvnkA+45FSWcAhV3ARK4YAFLkKEHWAFoaGHP9UZM5Ga1hCRLDIhMAOgwCOX74EHQBmH3MgZwImspO0jdYWV3AejoAZBcwkSueHRQ99oxfQBlASWbXAMIsRA9hF7CSqX2U3J/19iIG4MDmXZj5o7Iz1wK2HouSZAaQKB8GgBRB5QkAzclnTdKdyghKmDOAulMAmAqEzek5iMrK6WYkfQwyACRyxwCQosfeBRzAIBCgr+4ow6xDqg9fAKjVNwIA6hwygKqZCW1kAEjl55kBDGH2nSgoDAApenJq/krIAKoqjPSvG7ZRwOZcZGEMAPtqAB0CwHT2RU0HiURl5TANDMybEGYAiVwxAKTICXQaGACGmVHMqQE0M4DhWxO3bxqY3J8pydSTSiMDQKqA9Ko01mPRrMdlBpDIHQNAip4gB4EA0NNnkT0DqPSk/x3GGsB0o1tnACLZWUDNrAFsYBcwlZ+SDvI0hwygaOE794iCwrODIsee8bNnBAulqwoAydQdmdat34wOAJuSud2k/Z25EkidARhiQFP6Mi1qOgOoNjZVZdsoWsx1qZ0CwDDefBEFhRlAih57F3Ap8wDCDACzB4G0t7fjrAdfxwQAJ/7tBbS3t5f0GbUm0+gKoEt2P7CWTM0NqDawC5jKT9Fy5wGEnj4m2QVM5IoBIEVPwF3AhpY6jSTd6CQSCUydOhVmc2QAaGtrQyKRKOlzaolZA2hmAK00ZgCpghTVIcgzs/EcBELkigEgRU5Oxq/UADD9duao387OThi2FTJ0XceKFStK+pxaYg0AdcMtA8gAkMovkwG0JADNgUjmABEiysUAkKIn6C7gdAbQ7HZqaWmBaqsz1DQNY8aMKelzaol1EEhOBlBP/VtjBpAqwMwAWruAzWy8whpAIlcMAClyFPu8f2qpGcDsGsBYLIYFCxZkTi5VUTB//vxQLYum1jcgAeCZXmBlfGXWz+rSGcC6xgFV2DKKGkXTUsdij2TKLPoygAwAidwwAKTosa8EUmIGMCFAB4APPvgo81xrayt+/dmh6ACw5NyvorW1taTPqDX3PLAEzQC+3g0csNcBWYNc6tKjnjUGgFQBi/7+KJoBnL5B0NzcjPb2dijmIJAQzsFJFBQGgBQ5QdYAtre343MfbcMEAK3fvyMrEBqmAeMBjNjpU0W/fy1KJBKYdtXVMDt+DcPIGuRSxy5gqpBEIoFLb1+Qcyx+tGkbAHYBE3lhAEjRE1ANoDna12x8RCQrEFJDuiJGvkEudXoqA1jXNLDi20bRkjoWs+fZ1HUdazalBmQpnAiayBUDQIqegJaCyxcIqSGdDy/fIJeGdBcwawCp3FLHYvb5rGkaRjSkjk+FXcBErhgAUvQENA9gvkBI69WRAPDcu2tCNQdgLBbDgtmzYc6wpmla1iCXunRMzAwglVssFsPsGRfkHIs7p+M+hdPAELliAEiRk7MUXJEZQHO0r9n42Ef7/vWjHjQDaJ2/KFOcHhatp5+OLqQGvzz18pNZg1wazAGYzABSBZx6wrHoAvDbAUBXVxdaW1uhpLPvzAASuWMASNET4Eogra2teHz0EHQAuPNH384EQolEAjeu7XEdKNHvqSpiSA1y2WX4zpmnJZnMTMhb3zSoGltGEaOkj8UvaMjcfKnpgUjMABK5YwBIkZM76KO0eQCH12sYD2Cn7fsyXp2dnTBsrwvVaiCWrKmR7FsDWe/emvn/enYBUwWo6YEeimUsiJqeBkZlAEjkigEgRU9Ag0BMomavBAKk6wNtrwvVaiCWNVYNPZn5/55tmzP/3zBgu4puEkVTZiWQrAAwPQArvWQhEeViAEiRk1MDWGIGUMyVQCxr4sZiMVwzWHEdKNHvWTOAlgCwd2tfAMgMIFWCNQAUSUWBisEaQKJ8OEkSRY+95q/EpeDMDKA1AASAkxsUnAnBsutnYtzp08IT/AGuXcDJdBdwUgHq68I1/Q3VJkWzBIAQKFCYASTyIVQZwLlz52L33XdHU1MTDj74YDzxxBO+fu+pp55CXV0dDjrooPJuINUEe8av1KXgMgFlMjsArNcFMQCHH/w/4Qr+ANcuYDMDmNQApYTBNUR+qZYMoCHpwC89GTkDQCJ3oQkAFy1ahOnTp2PmzJl48cUXccQRR+CYY47BypUrPX9v/fr1OOOMM/DFL36xQltK1WYP+IKqAbRnAM0VMdQwLonmlgFMdqf+G5orC9U6cxCINQDUzAxgHQNAIjehuUzPmTMHra2tOOecc7DPPvvg1ltvxahRozBv3jzP32tra8Mpp5yCsWPHVmhLqersXb4lZqpEy60BBID69D+1kK0EAsC1BlDvYQBIlWXWACqOGUDWABK5CcVluqenB88//zwmTpyY9fzEiROxbNky19+7++678dZbb+Gqq67y9Tnd3d3YsGFD1oP6oQDnAUz9fvo0siwLJyKZFTG0hpBnAC0BoJkNNEqsqyTyy1oDmAkADdYAEuUTigBw3bp10HUdw4YNy3p+2LBhWLNmjePvdHZ24tJLL8Wvf/1r1NX5Gwtzww03YMiQIZnHqFGjSt52qgL7NDAl1gCao4CtNYC66JYAMIQZQEWBkf7akrRkAHt7ADADSJVj7QI2RwFr6XOPASCRu1Bdpu1F5yLiWIiu6zpOOeUUXHPNNdhzzz19v/9ll12G9evXZx7xeLzkbabKy6kBLDUATGcgxJIBTBrJvgCwPoQBIAA9fWplZwBTASAzgFQpThlAzUhPB8OJoIlchWIamKFDh0LTtJxs39q1a3OyggCwceNGPPfcc3jxxRfx3e9+F0BqqS4RQV1dHf7+979jwoQJOb/X2NiIxsZwNuaREvA0MJnft9QAJo0k6tMBYF0Yu4ABiKIAEBiGJQNodgFzBDBViNMoYHMAFucBJHIXigxgQ0MDDj74YCxdujTr+aVLl2LcuHE5rx88eDBeeeUVvPTSS5nHtGnTsNdee+Gll17C5z//+UptOlVBzkTQpWYAzd/XswPAvgxgOLuhjPTXtnYBS08PEgCeMCQ86x5TTcsMAoE1A5j6GZeCI3IXigwgAHz/+9/H6aefjkMOOQRjx47FggULsHLlSkybNg1Aqvt21apV+OUvfwlVVbHffvtl/f4uu+yCpqamnOcpfIKeBgaZaWAsXcB6L7T00lRhzQAaDl3Av32oAz8GYGw0oDY3Y8GCBWhtba3OBlIkmDWAWnoiaOsALHYBE7kLTQB48skn48MPP8SPf/xjrF69Gvvttx8efPBBNDc3AwBWr16dd05AioigB4FouaOAk73dmf8PayF6qs5PMhnARCKBH8/7Fcy9YBgG2traMGnSpPBNhE01wwwAAcAwdAgkkwFkFzCRu9AEgABw3nnn4bzzznP82T333OP5u1dffTWuvvrq4DeKak5OwFdqvZqZQbTWAPZs6/u5z1Hm/Y2YGcB0DWBnZyeM9ChMk67rWLFiBQNAKhvFtiqNIUYmAxjWmy+iIISiBpCoIGrAS8GZAaDelwE0J0QGENoAUE/vR0nXPra0tEC1BdOapmHMmDEV3zaKEMsxZ+hJ6EbfFExcCYTIHQNAihz7WsAlrwTikAHUe8MfAEp6v5mTP8diMVw+5asw8zGapmH+/PnM/lF5WSclN/TsDGADA0AiNwwAKXJyRwEH1QUcrQygYcsAAsAJYw9EF4BfDGtEV1cXB4BQ+VnOZ9H1rEnYFS2c5x5REBgAUvQEPAikrws4NwNoKMhqoMLEsNUAAoDoScQAHDKonpk/qgxbAGiIkRmBH9ZJ2ImCEM6WichDTsBX8kTQZgawbwCEmQEM85JomSXwLIGv9HItYKow27rU1hpAjgImchfi5onIRdAZQM29BlAPcSDk1AVszgmYmRqHqNxsAWBWDSDnASRyxas0RY89ACx5Iuj0sAdrDWBvak3cUGcAbYNAAEB6uRYwVZj1fBYDhhhQ08l4BoBE7kLcPBE5C3opODMDoVimgTEiEAiZ8wCKJfNpTgrNDCBVjG0UsC5630TQljkCiSgbr9IUOYEvBeewEkimC1gLbwBomEvg6bkBoMEAkCrFoQvYzACCASCRK16lKXrs074ENQ2M5GYAw1wDKJkawOxRwKmf8dJCFWI5f0XXoRt6XwDI45DIFc8OipzcLt/SgjQlXQPo1AUc7gxg7iAQSdcDsguYKkZR+qYksmcAGQASueLZQZGTUwNY8iCQ3C7gSNQAOgSAyHQBs+uNKiczAZNhwDD0voaNASCRK54dFD2BTwNjjgLumwewLwMY3lPMHAWc1QWcZBcwVV7fpOQ6dMvE5AwAidzx7KDIqWgGMMRdwJkMoOV7m5NCSx0vLVQ5ZgAoug4j2YsEgA4AidWrq7lZRDWNV2mKHAXBZgDNqSZUawCYroULdQZQzRRe9T1n1gCq7AKmyrHWAC7+1W/RDGACgOYDD0R7e3s1N42oZoW3dSJyE/RE0FruRNB9S6KF9xSTdOBsdvsC6FsWLsSBL9Ue82ZkzZq1uOqSn8A8Ew3DQFtbGxKJRPU2jqhG8SpNkZOT8St5Imj3GsAwz4dndm9ndQFzEAhVgZkB7Ho3DsN6PALQdR0rVqyowlYR1bbwtk5EbnIygKVOA5NeCcSaAUx3hYY5AMzsR90pA8gAkCrHvPUaPXIYVFvWXdM0jBkzpvIbRVTjQtw6ETkrucvX/n7pYEdx6AKWEA8CMYPbrHkAzYmg6xgAUuWYXcC77PwpXPHjH8A8+jRNw/z58xGLxaq3cUQ1igEgRU8FpoHpywCGOBAyp4GxDAJRkswAUuVZB4F89cRJ6EJqFHDXihVobW2t4pYR1a66am8AUaUFPQ1MZiUQsQSAveFfESMz119WBjD9/yEe/EK1R8x7Ot2A6EnEAMQAYPTo6m0UUY3jVZoix57xKzkD6FkDGN5MmNNKIIo5EXQd7y2pcgxLNtrQORE0kR88OyhyAs8ApoMdxdIFjEwgFN5TTBwmwOYgEKoGsU4EnQ4A9fCW3xIFIrytE5GboGsAVYdBIMkkEgCWb+oN7xxkTmsB6+l9wEEgVEHmsoSGJQNoMAAk8sQAkCInpwu4xAygqporgfRlAB9+6W00A5j6xvtobm4O5WoEfRnA3C5gZgCpkjLBnhiZGxIpcXonorBjAEiRE3gNoDnQIx0AJhIJ3PHPV0K/GoEZACp6X+YzkwVlAEgVZK1HNQxmAIn8YABIkaPYuoDtXcIFv5+WrgFMjwLu7OyEZUAwgJCuRmDOA+g0DUxdfTW2iCIqUwNo6JmlCaXE85oo7BgAUuQE3QXcNxF0KupraWnJiSnDuBqBuRZw1iCQ9P8rzABSBZnBXtYgELZuRJ54ilD0qEEPAkn9vpoOfmKxGL43dkz4VyMwA+ekJQNoDgjhNDBUQYYlA2gGgMwAEnljAEiRE3QGEJku4L6nJn16KLoA/PywMejq6grlagSZSa4tGUCFo4CpCjIZQKNvEAhrAIm8MQCk6Al4GhgzgFQthX9KUkcMwMG7DAlf5s/ktBRcuvE16yKJKkGsE0GnB4FwFDCRN16lKXICnwhay50GJjM1Sphr4bTcFVDWbe1FB4APt/RWaaMoiiR9Couu900Dwy5gIk/MAFLkBD0NTGYt4KyVQFJBkYQ4AJT09zYb3Pb2dnzt5bWYAODkeX8O5dyHVJsMSxcw2AVM5AsDQIqenC7goKaBsTwXhQygZQ3kRCKBqVOn9s19KBLKuQ+pRpnnsHUQCLuAiTwxAKTIyckAotQAMDcDqERhTdzMPIAGOjs7YVing0FI5z6kmtQ3D6BlEAgDQCJPDAApcqw1f4bH63wzl4Kzzv4chdGwlgxgS0sLVFstZRjnPqTalFkJxDoIhDWARJ4YAFLkWDOAogTQBVyXOwgkEhlAM+DTDcRiMSxYsCBzQVEVJZxzH1JNMjJdwFwLmMgvBoAUOdYMoHi8zv/7pbuArTWAevjXxO2bBzDV4La2tuLB3bZDB4A/Xjk1lHMfUm2yrgTCUcBE/jAApMgpeeUP+/s5TAOTmRolzPPhpQNfWL73CA0YD2D4zjtWZZMoosxYzzAy81IyACTyFuLWichZqV2+Oe+XDvKcagBDvSauWQOo900EreqpfcCJoKmSrDWA0NP/z/QGkSeeIhQ9ZQoAs6eBCX8XsKJpSAB4Ze2mzHQv5nrIal19FbeMosa6FJw5DYxR6hKPRCHHM4Qip+S1f21U1WkQSDoDWBfeTNgf316DZgBXPRVHc3Mz2tvbM/tAqWcASJWTGfBhGKnJoMFBIET5MACk6LFkACWANiJTAxihDGAikcC1/3q9b+Jnw0BbWxvW9jIDSJUnWaOAOQ0MkR/hTU8QuQh+EEi6BtApAxjSWrjOzs6cORR1XUe8J9XoqnUNld8oiqysGkBDyXqOiJwxA0iRE3QXsFkL91w3cmrhwjoKuKWlBfb2VdM07J5+jhlAqiiHGsCga32JwoYBIEVO0BnAX//zMTQDOPdjZGrhzC5gJaQrgcRiMVzxhQNhfjtN0zB//nzsagaArAGkCrJ2ASMzETSbNyIvPEMocoLMACYSCVz0sztzauE+2JZqhMLaBQwAX/vMbugCcP1nd0FXVxdaW1uhpbvB1Xp2AVPlZHcBcxAIkR/hbZ2IXFgzgEqJS4F0dnbCkOw30XUd723tTb1/iEcBQ1URA3DADg2ZJd/MOkhVYwaQKseaATR0BoBEfjADSJETZAawpaUFqq2h0TQNo+rTkySHOANojnBWLINftHQqlBlAqiSxrEuNzEogbN6IvPAMocgJsgYwFovh9u9Pz6mFG57+iLBnAAHLlDeApQuYGUCqoPQ9mBh631JwzAASeWIASJET9CjgM796PLoA/N8g4I0Vb6C1tbVvQuQwj4ZVnTKAqf/XOA0MVVCmC1gkUwMIDgIh8hTi9ASRMwXBZgZUrQ4xAOPqgJ13HZl6zgj/SiCZdY7ZBUxVlukCNgyIOQqY08AQeQpv60TkohzzAAKp4MeQ9EoYZgYwzDWA6f2oZnUBp//LDCBVkto3DyCgZz1HRM5C3DoROQt6HkBzxKsqfQGgEoUu4PQch4plFLSW/l+1gQEgVU7fKGAdSE/KJBq7gIm8MACkyLFmAINeC9ieAVRDnAFUbDWAIoK6dPKlrr6xWptFEZTVBQyOAibyI7ytE5GbgGuDzCDPKQAMcw1g3yjg1Hc1DB11ZgaQ8wBSJVlXAgEHgRD5wTOEoqdMAaDmlAEMcRewWd9oBoC63pv5WV1DU1W2iSIqEwBKZhAIawCJvDEApOgJOAA0s3xRywCaXcDmIJBkb3fmZ5wHkCpJrINAMkvBsXkj8hLe1onITdDTQ5ijYS0BoBaFJdHSRfbmIBC9t6fvR6wBpArqqwHUwVHARP4wAKToKVMAmD0NTPpHIc6E2buAkz3bMj/jIBCqKNYAEhWMASBFT9ABoOco4PAGgMh0AacHgST7agA1TgRNlZQ+pxURQMwuYM3rN4gijwEgUam8uoDDnAG0zQNozQByJRCqJLMLWAwDIuwCJvKDASBRqRwCQDU9HYoS4gygfR5AawaQ3W9UUaqlC1jYBUzkB88QijRF8r8mL7MGUFKTIQN9GUAtzBlAWxewOQikl1cVqjTLRNDmKGAGgETeeIYQlcpcCzirCzj1o1DXANq6gPVkKgDUeVWhChNrBpABIJEv7AImKpWloTGMVP1RJgAM8Zq4fRnA1L/19DyAOkuvqNLMZd8MSU8FAwaARHmE6gyZO3cudt99dzQ1NeHggw/GE0884fraP/zhD/jSl76EnXfeGYMHD8bYsWPx8MMPV3BrqRYEsRZwVgCY7IWIZAJArS78AaCZATR6zQwgI0CqsKwMYHptagaARJ5Cc4YsWrQI06dPx8yZM/Hiiy/iiCOOwDHHHIOVK1c6vv7xxx/Hl770JTz44IN4/vnn8b//+784/vjj8eKLL1Z4y6nf0/qmmzD0JAwxoJlr4oZ5KThzBRRzEEhvahAIu4Cp4swMoBhQzEEgGqeBIfISmkv1nDlz0NrainPOOQf77LMPbr31VowaNQrz5s1zfP2tt96KH/7wh/jc5z6HlpYWXH/99WhpacGSJUsqvOXU71kyDaLr0EXvywCGeDoU+yAQQzcDQGYAqbKsNYCiswaQyI9QnCE9PT14/vnnMXHixKznJ06ciGXLlvl6D8MwsHHjRuy4447l2EQKM2sXsJ6Ebuh9GcAQDwIxM4DmSGq9J1UDaITiqkL9itq3LKGSHgSiMAAk8hSKQSDr1q2DrusYNmxY1vPDhg3DmjVrfL3HzTffjM2bN+Okk05yfU13dze6u/sWvN+wYUNxG0zhkpUBTEIXHe/rwDsAYus+RMuY6m1aOWUygJI9DyAzgFRxlmlghKOAiXwJ1Rmi2Jb4EpGc55zcf//9uPrqq7Fo0SLssssurq+74YYbMGTIkMxj1KhRJW8zhYCtBvDuX9yNTwOYAGDvw49Ce3t71TatnBQtexSwmAGgxgCQKsyyFrCaCQBZA0jkJRQB4NChQ6FpWk62b+3atTlZQbtFixahtbUVixcvxtFHH+352ssuuwzr16/PPOLxeMnbTiFgyTSsWbUG08+fbi5HD8Mw0NbWhkQiUZ1tK6O+LuDsiaANZgCp0sxzUKRvHkAtFM0bUdmE4gxpaGjAwQcfjKVLl2Y9v3TpUowbN8719+6//36ceeaZ+L//+z985Stfyfs5jY2NGDx4cNaDyBoAvvvOuzDMBihN13WsWLGi0ltVdqqWCgDNVU8kmQTALmCqPOFKIEQFC0UNIAB8//vfx+mnn45DDjkEY8eOxYIFC7By5UpMmzYNQCp7t2rVKvzyl78EkAr+zjjjDNx222047LDDMtnDAQMGYMiQIVX7HtQPWRqaWGw4VFXNCgI1TcOYMeErBOybBzD1b4MZQKoWcxCIIZl5ABV2ARN5Cs0t0sknn4xbb70VP/7xj3HQQQfh8ccfx4MPPojm5mYAwOrVq7PmBJw/fz6SySTOP/98jBgxIvO48MILq/UVqB8zV7/YZeinMGvWT2A2PZqmYf78+YjFYlXbtnLpmwcw9W9zGhhhAEiVZskAZuYBZAaQyFNoMoAAcN555+G8885z/Nk999yT9e9HH320/BtEkWEoqbWAxdBx0klfxckzZmIFgDFvvIFYCLN/QO4oYDEngmbtFVWaQw2gwomgiTyFKgAkKpQE9T6qAhgCI9kLI9mLZgAxAEhnoMMoJwOYHgXMLmCqvNQxpxgGFE4ETeQLzxCKtKBCFbMLWHQderKn7wchzkKYg0AyGcD0IBCDGUCqNEsGUGENIJEvvFITBUDS85CJocPosQSAIc5C9HUBp/5tzgPIGkCqNMW86TAk1Q0MhPrmiygI4W2diDwkAHQASATUB2wufybJZGYwRG/Iz65MF7A5CjjTBRzyL061J7MUnJFZCi7MN19EQeAZQpHT3t6OZqRW6hgjCGSlDsOaATQHQ4T87Mp0AZsz3rALmKpFzc0AchAIkTdeqSlSEokEpk6d2rdSBxDISh2ZDKCuZzKAho9lCPszswtYk9Syi2YGULgUHFWaYhkEwqXgiHxhAEiR0tnZWZaVOiSKGcC6+tR/BRAIRDczgGx4qcIyg0BgGQQS8hOQqEQ8QyhSWlpaoNoahiBW6jDMUcCWGsCwT4didrFpBmCIkRkFzEEgVHGZVWkMfLg1iQ4A72/pru42EdU4BoAUKbFYDAsWLOhbqQMIZKUOM9iLagbQEANIJpEA8OzmZMld6kSFUFQVCQDzOz9E2wsbMAHAUfN/E0h9L1FYhbyJIsrV2tqKLqRGAXel/10qM+uVVQMY8kyYdRoYQwz89YU30QzgvDc/RHNzMxtfqpgHXluJ0QB+m9iUmdzdEAmkvpcorBgAUiTFAIxP/zcIkpkIOtk3HUrIB4GYo4A1AeLxOG75+/N9g2sMg40vVUQikcCNjzznuKpPEPW9RGHFAJAoAIYlA5hZESPkZ5e1C7izsxOGrQVm40uV4HTsmYKo7yUKq5A3UUSVkTUPYNKsAYxGBlAVYPdP7w7712XjS5XQ0tIC1SHbripKIPW9RGHFAJAoAGIZBJKZDiUiAaBmACN2HYHpR36mb3CNprHxpYqIxWK44phxmWNPATADwDM/PC+Q+l6isGIASBQAcx5AJPtGAYc+ADS7gAEYho5jxwxHF4DbDxmFrq4uNr5UMV/77GfQBeDmPQfjF3vVYzaA2I47VnmriGobA0CKpKDX6TUcMoBhnw/PzAACgKEnIXoSMQCf3XkwM39UUaqmIQbgoO00DE2nAs21qonIGQNAiqTegBeryFoJJBmNLmBrA2voSUDXAQDClUCowtTMRNACJb0WsPUGhYhy8QyhSEoGfOsj5vsldUDMLuCQ319Zvp+hJ1PfHQAYAFKFKelgT9H71gJmAEjkjWcIRVKvpgCOM4cVxwz2xNBhmAGgFu4MoDUAlGQSis4AkKpDqU/VoypGXwZQUdm8EXnhGUKR1FsXbADY1wVsQGB2AYc8A2gJ9FJdwOnaR9ZeUYUp5oAk3YCSnhRQYwaQyBPPEIqkZMD1eZkBH4YBSTdAUcoA6sleIGnkPE9UCWYAqOkGVMN8js0bkReeIRRJyTINAoGehBjpbGDYAyFrF7CeBIx0FzAbXqowpb4BQDoATCf2tXRQSETOeKWmSEoGnJ3LZPsMA5LqCQ39NDD2LmDFHARSxxpAqizVrAHUjczUFiprAIk88QyhSOqtCzg7p/StBQw93QUc9gygZfkt6yAQhbVXVGGqNQOYPu3YBUzkLeQtFJEzPeAMYCbbp1smgtZCfnopCgwz8an3BYDCAJAqrG8QiPR1AfM4JPIU8haKyFky4ODsPV3QAWDtR+shyWisBAIAevoriqED6fnXFHYBU4WpDY0AsmsAOQ8gkTcGgBRJQdYAtre3Y+KbH2ICgLNu/j3+9vx/AUQgAwj0ZQCTvVD09PBLdr1RhakN6S5gA9AYABL5Ev4WisiBHlANYCKRwNSpU5EOfSAC3Pbgc0ggAqOAAejpryi6DpU1gFQlZg1gnQFmAIl8Cn8LReTg/U81BPI+nZ2dMAwj6zlDBCsQjQygdQ1kMwPIAJAqTa3LDQC5Ig2Rt/C3UEQOfvbNUfhLC3DiyaW9T0tLC1Rbpk9VFIwBIGr4GyDHLuB6zr9GlWV2AWcFgBHIwBOVgmcIRdLGwU04/jjgz02pbtxixWIxLFiwoG/uMUXBBRP2QwzRyAAali7gvgxg+ANfqi1OXcAMAIm88QyhSFr31DrgVgD3As3NzWhvby/6vVpbW/HQQaPQAWD+Of+LSXuPTP0gAg2QkZn/MAnFHAXMDCBVmFafGgVcZ6QeqSd5I0LkJfwtFJFNIpHAW/e+BaQzBYZhoK2traRM4LABDRgPYMdBDZkVMSKRATSngdF1qKwBpCpRLQFgfXpBGjQEU+dLFFbhb6GIbDo7OzPBn0nXdaxYsaL4NzWzfYaeWg0EgEQgA2GofYNA1Mw8gMwAUmXVNfQFgA1mAMhMNJEnBoAUOS0tLYBtGkBN0zBmzJji3zQdABq6DkQpADQzgMlkXwaQ8wBShVlrAOvNLmBmAIk8MQCkyInFYtj37H0zQaCmaZg/fz5isVjxb2pmAHU9syQaotAFnM4AGkYSipFKq6rMAFKFacwAEhWMt+oUSZd87xKcMfgMxPQYnr746dKCPwAwlz+LWAZQLDWAms4uYKoOjTWARAVjAEiRdNoBp2GP6Xtgv132w5CmISW/n6QDQCXZC5jz4UVhFLC53rGuQ9WZAaTqMDOAmgCNzAAS+cIAkCJJURQcPvrwwN5P0nVvSlIHzJVBIpABzHQB69ZBILysUGWZNYAAMKA3/T/MABJ54pWaKABmAIikDqQzYVEIAM0uYOhJqGYNYD0bXqowy01HJu/ODCCRJwaAREFIB3tqMgkl3QUVhRpAcyJowxIAMgNIFed0zDEDSOSJV2qiAEh9ugtY1wE9M7y4iltUGdnzADIDSFXiFAAyA0jkiQEgURAsNYCKEZ0A8D0DWAlgwwcfYWcOAqFqcTrXmAEk8hT+YYpElZAOANWkDiWzJFq4A8D29naMf38bJgD4+g9uwm+3pPq+VY0BIFWYoiBpb82YASTyxACQKACSbmxSXcDhHwWcSCQwdepUmIsuGCK4YrMgAXYBU3VYA8CkpgCK4v5iImIASBQIzewCNqAY5kog4Q0AOzs7YZjT3aTpAFYAUJl5oSrQ1b6AL6kx+CPKhwEgURDSg0A0SxewY2F6SLS0tEC1TXStARgDQE2vykBUSVkZwDo2bUT58CwhCoBi6QKOQg1gLBbDggULMhcQVVFwUwMQA6BxEAhVga4xA0hUCAaAREEwB4HoRiQygADQ2tqKf+yxAzoA3Hvpt3F6Ot5V61gDSJWX1QXMDCBRXjxLiIKQGQVs4IMtPegAsG5rr/fvhMDOAxswHsDQAXWoM8e+cPoNqgJrBlDX2LQR5cOzhCgASnrk69/e34JvvfQBJgD46p1/Qnt7e3U3rMz0hlR3r2zbBs0MAJkBpCqwZgB1ZgCJ8uJZQhSEunokAMxZuTlrapS2tjYkEolqbllZGenBL9K9DVp6CWROA0PVkJUBZABIlBfPEqIAKPV16ARg2J7XdR0rVqyoxiZVhN6YygAaW7f0dQEzA0hVYGTVAIZ3ABZRUBgAEgVAqW9AC3JPKE3TMGbMmGpsUkUY6Xo/2bYNqw2gA8CadR9Vd6Mokqx1fwYzgER58SwhCoBSX48YgMuGNfRNjaIqmD9/PmKxWDU3rawknQH8+3/i2B3ABAD7Hj4+9LWPVHuyu4CZASTKhwEgUQDMqU++tp2Gv+xajw4Aj86aidbW1upuWJkZjY1IAPj58nf7ah8NI/S1j1R7rBlABoBE+TEAJApCuitU0wWjDMF4ALvGdq3qJlVEQwM6AYjt6bDXPlLtMbK6gBkAEuXDAJAoAGp69QvVEDQkU7mwugHbVXOTKkIaGyNZ+0i1x7B0ATMAJMqPASBRAMypT+qSBhp7U/mwuu22r+YmVUZTI2IAvr/bdjCbXE3TQl/7SLXHmgHU68O9Cg9REHiWEAVAMbuADUGTGQAODH8GUGlsAgB8dXsNFwJYAWDMW28h1txc1e2i6GEXMFFhGAASBUCpT3cB64KmZOq5+oFRyACmAsC6rd2IAYgBwOjR1dwiiihD6wv6DGYAifJiFzBRALT6RgBAnW5kAsCGQYOruEWVoaQDwPptPQCApApAUTx+g6g8rBlAqWcGkCgfBoBEATC7gOuSgkY99Vz9duEPANXGAQCApu7UwBfragxElSTWLuB0Rp6I3DEAJAqAmQHcrqfvuSh0AStNqQBwl82pf29pYuaFqsPaBSysASTKiwEgUQDMUcDbd/c9pwwYUKWtqRw1/R133pL698btG6u4NRRlUmftAmYGkCgfBoBEAch0AadnRE6qAOrCX4iuDRiY9e8tQwa6vJKovMQ6CKQh/OceUakYABIFwOwCNm2ri0YtnNaUHfBtGzKoSltCUSdZXcAMAInyCVUAOHfuXOy+++5oamrCwQcfjCeeeMLz9Y899hgOPvhgNDU1YY899sCdd95ZoS2lsDEDwASAxQAWQSKxFm7dgOyAr3eH8Nc9Um2yzv0n6ZIMInIXmgBw0aJFmD59OmbOnIkXX3wRRxxxBI455hisXLnS8fXvvPMOjj32WBxxxBF48cUXcfnll+OCCy7A73//+wpvOYWB2tiIdgCjAZwM4JweYPTo0Whvb6/ylpWXlg4AEwA6AKxqCn/dI9UoTcsch2u7e6u9NUQ1LzQB4Jw5c9Da2opzzjkH++yzD2699VaMGjUK8+bNc3z9nXfeidGjR+PWW2/FPvvsg3POOQdnn302brrppgpvOYXBmnUf41wAYnlORNDW1hbqTKA2YCBuQirwnQDga39eHvqgl2rTkvfWZ47Db973CI9DojxCEQD29PTg+eefx8SJE7OenzhxIpYtW+b4O08//XTO6ydNmoTnnnsOvb28e6TC3P3r32UFfyZd17FixYqKb0+ltP/ur7gYfYGvADj33HNDHfRS7UkkErjp5QSPQ6IChCIAXLduHXRdx7Bhw7KeHzZsGNasWeP4O2vWrHF8fTKZxLp16xx/p7u7Gxs2bMh6ECUSCdzy8587/kzTNIwZM6bCW1QZiUQCN9y+IOd5EcHTTz9dhS2iqFq2bFnODRiPQyJvoQgATYptCSoRyXku3+udnjfdcMMNGDJkSOYxatSoEreYwqCzszNz7NjdeOONiMViFd6iyujs7Kz2JhARUZFCEQAOHToUmqblZPvWrl2bk+UzDR8+3PH1dXV12GmnnRx/57LLLsP69eszj3g8HswXoH6tpaXF9abhkEMOqfDWVI7b91YUBWPHjq3CFlFUjRs3LudYVFWVxyGRh1AEgA0NDTj44IOxdOnSrOeXLl2KcePGOf7O2LFjc17/97//HYcccgjqXWaRb2xsxODBg7MeRLFYDD/96U9zng9z9y+Q+t533XVXVsOrKAruuuuu0GY9qTaZx6KWngtQ0zQsWLCAxyGRB0Xc+q76mUWLFuH000/HnXfeibFjx2LBggW466678Oqrr6K5uRmXXXYZVq1ahV/+8pcAUtPA7Lfffmhra8O5556Lp59+GtOmTcP999+Pb3zjG74+c8OGDRgyZAjWr1/PYJBw00034ZJLLoFhGNA0DfPnz0dra2u1N6vsEolEptZq7NixbHSpahKJBFasWIExY8bwOCRPbL9DFAACqYmgZ82ahdWrV2O//fbDLbfcgiOPPBIAcOaZZ6KrqwuPPvpo5vWPPfYYLrroIrz66qsYOXIkLrnkEkybNs335/EAIjs2QEREtY/td8gCwErjAURERNT/sP0OSQ0gEREREfnHAJCIiIgoYhgAEhEREUUMA0AiIiKiiGEASERERBQxDACJiIiIIoYBIBEREVHEMAAkIiIiihgGgEREREQRwwCQiIiIKGIYABIRERFFTF21N6A/M5dR3rBhQ5W3hIiIiPwy222zHY8iBoAl2LhxIwBg1KhRVd4SIiIiKtTGjRsxZMiQam9GVSgS5fC3RIZh4L333sP2228PRVGqvTlVtWHDBowaNQrxeByDBw+u9uaEGvd1ZXA/Vwb3c2VwP2cTEWzcuBEjR46EqkazGo4ZwBKoqopYLFbtzagpgwcP5sWlQrivK4P7uTK4nyuD+7lPVDN/pmiGvUREREQRxgCQiIiIKGIYAFIgGhsbcdVVV6GxsbHamxJ63NeVwf1cGdzPlcH9THYcBEJEREQUMcwAEhEREUUMA0AiIiKiiGEASERERBQxDACJiIiIIoYBIBUkmUziiiuuwO67744BAwZgjz32wI9//GMYhpF5jYjg6quvxsiRIzFgwACMHz8er776ahW3un/auHEjpk+fjubmZgwYMADjxo3Ds88+m/k593PhHn/8cRx//PEYOXIkFEXBn/70p6yf+9mn3d3d+N73voehQ4di0KBBOOGEE5BIJCr4LWpfvv38hz/8AZMmTcLQoUOhKApeeumlnPfgfvbHa1/39vbikksuwf77749BgwZh5MiROOOMM/Dee+9lvQf3dTQxAKSC/PSnP8Wdd96JO+64A6+//jpmzZqF2bNn42c/+1nmNbNmzcKcOXNwxx134Nlnn8Xw4cPxpS99KbN2MvlzzjnnYOnSpbjvvvvwyiuvYOLEiTj66KOxatUqANzPxdi8eTMOPPBA3HHHHY4/97NPp0+fjj/+8Y/4zW9+gyeffBKbNm3CcccdB13XK/U1al6+/bx582YcfvjhuPHGG13fg/vZH699vWXLFrzwwgv40Y9+hBdeeAF/+MMf8Oabb+KEE07Ieh33dUQJUQG+8pWvyNlnn5313Ne//nU57bTTRETEMAwZPny43HjjjZmfb9u2TYYMGSJ33nlnRbe1P9uyZYtomiZ/+ctfsp4/8MADZebMmdzPAQAgf/zjHzP/9rNPP/nkE6mvr5ff/OY3mdesWrVKVFWVhx56qGLb3p/Y97PVO++8IwDkxRdfzHqe+7k4XvvatHz5cgEg7777rohwX0cZM4BUkC984Qv45z//iTfffBMA8PLLL+PJJ5/EscceCwB45513sGbNGkycODHzO42NjTjqqKOwbNmyqmxzf5RMJqHrOpqamrKeHzBgAJ588knu5zLws0+ff/559Pb2Zr1m5MiR2G+//bjfA8T9XD7r16+HoijYYYcdAHBfR1ldtTeA+pdLLrkE69evx9577w1N06DrOq677jp8+9vfBgCsWbMGADBs2LCs3xs2bBjefffdim9vf7X99ttj7Nix+MlPfoJ99tkHw4YNw/33349//etfaGlp4X4uAz/7dM2aNWhoaMCnPvWpnNeYv0+l434uj23btuHSSy/FKaecgsGDBwPgvo4yZgCpIIsWLcKvfvUr/N///R9eeOEF3Hvvvbjppptw7733Zr1OUZSsf4tIznPk7b777oOIYNddd0VjYyNuv/12nHLKKdA0LfMa7ufgFbNPud8rg/u5eL29vfjWt74FwzAwd+7cvK/nvg4/BoBUkIsvvhiXXnopvvWtb2H//ffH6aefjosuugg33HADAGD48OEAkHPnuHbt2pzMCnn79Kc/jcceewybNm1CPB7H8uXL0dvbi9133537uQz87NPhw4ejp6cHH3/8setrqHTcz8Hq7e3FSSedhHfeeQdLly7NZP8A7usoYwBIBdmyZQtUNfuw0TQtMw2MGZwsXbo08/Oenh489thjGDduXEW3NSwGDRqEESNG4OOPP8bDDz+Mr371q9zPZeBnnx588MGor6/Pes3q1avxn//8h/s9QNzPwTGDv87OTvzjH//ATjvtlPVz7uvoYg0gFeT444/Hddddh9GjR2PffffFiy++iDlz5uDss88GkOo+mz59Oq6//nq0tLSgpaUF119/PQYOHIhTTjmlylvfvzz88MMQEey1115YsWIFLr74Yuy1114466yzuJ+LtGnTJqxYsSLz73feeQcvvfQSdtxxR4wePTrvPh0yZAhaW1vxgx/8ADvttBN23HFHzJgxA/vvvz+OPvroan2tmpNvP3/00UdYuXJlZj66//73vwBS2ajhw4dzPxfAa1+PHDkSkydPxgsvvIC//OUv0HU9k+Hecccd0dDQwH0dZdUbgEz90YYNG+TCCy+U0aNHS1NTk+yxxx4yc+ZM6e7uzrzGMAy56qqrZPjw4dLY2ChHHnmkvPLKK1Xc6v5p0aJFsscee0hDQ4MMHz5czj//fPnkk08yP+d+LlxHR4cAyHlMmTJFRPzt061bt8p3v/td2XHHHWXAgAFy3HHHycqVK6vwbWpXvv189913O/78qquuyrwH97M/XvvanGbH6dHR0ZF5D+7raFJERCoVbBIRERFR9bEGkIiIiChiGAASERERRQwDQCIiIqKIYQBIREREFDEMAImIiIgihgEgERERUcQwACQiIiKKGAaARERERBHDAJCIiIgoYhgAEhEREUUMA0AiIiKiiGEASERERBQxDACJiIiIIoYBIBEREVHEMAAkIiIiihgGgEREREQRwwCQiIiIKGIYABIRERFFDANAIiIioohhAEhEREQUMQwAiYiIiCKGASARERFRxDAAJCIiIooYBoBEREREEcMAkIiIiChiGAASERERRQwDQCIiIqKIYQBIREREFDEMAImIiIgihgEgERERUcQwACQiIiKKmP8HDEq5kujyFHUAAAAASUVORK5CYII=' width=640.0/>\n",
       "            </div>\n",
       "        "
      ],
      "text/plain": [
       "Canvas(toolbar=Toolbar(toolitems=[('Home', 'Reset original view', 'home', 'home'), ('Back', 'Back to previous …"
      ]
     },
     "metadata": {},
     "output_type": "display_data"
    }
   ],
   "source": [
    "est_chi_square = (dc.pw.exp.exp_trans-dc.pw.exp.final_trans) @ inv(dc.pw.CovT) @ (dc.pw.exp.exp_trans-dc.pw.exp.final_trans).T\n",
    "sol_chi_square = (dc.pw.exp.exp_trans-dc.pw.exp.true_trans) @ inv(dc.pw.CovT) @ (dc.pw.exp.exp_trans-dc.pw.exp.true_trans).T\n",
    "from scipy import integrate\n",
    "est_sol_MSE = integrate.trapezoid((dc.pw.fine.true_xs-dc.pw.fine.final_xs)**2, dc.pw.fine.E)\n",
    "\n",
    "print(f'Chi2 estimate to data: {est_chi_square}')\n",
    "print(f'Chi2 true to data: {sol_chi_square}')\n",
    "print(f'Integral SE estimate to true: {est_sol_MSE}')\n",
    "\n",
    "\n",
    "figure()\n",
    "plot(dc.pw.fine.E, dc.pw.fine.true_xs, 'g')\n",
    "plot(dc.pw.fine.E, dc.pw.fine.final_xs, 'r')\n",
    "yscale('log')\n",
    "# ylim([0,dc.exp_par.max_xs+100])\n",
    "figure()\n",
    "plot(dc.pw.exp.E, dc.pw.exp.true_trans, 'g')\n",
    "plot(dc.pw.exp.E, dc.pw.exp.final_trans, 'r')\n",
    "\n",
    "# plot(dc.pw.exp.E, dc.pw.exp[f'{selected_model_ires}_post'], 'b')\n",
    "\n",
    "plot(dc.pw.exp.E, dc.pw.exp.exp_trans, '.k')\n"
   ]
  },
  {
   "attachments": {},
   "cell_type": "markdown",
   "metadata": {},
   "source": [
    "## Notes\n",
    "\n",
    "#### Initial uncertainty on parameters in sammy\n",
    "should be large, we don't have a prior we just want the GLLS to converge.\n",
    "\n",
    "Fudge factor cant be too larger for numerics:\n",
    " - M' = (M^-1 + (G.T @ V^-1 @ G.T) )^-1\n",
    " - first term is full rank, second is not guranteed (it is if NEpts>=NPar). Becasue the first term is full rank, then adding it to the second makes the whole thing full rank and therefore invertable. However, if the first term (M^-1 or 1/prior variance) is driven numerically to 0, then you are left with only the second term. If it is not full rank it won't be invertable then the thing will not be numerically stable. \n",
    "\n",
    "#### Sammy is not always converging\n",
    "- could run sammy multiple times?\n",
    "- also, the problem is resolved when I 'cheat' with the resonance energies. I think having multiple small resonances right on top of one another is causing sammy to run away.\n",
    "\n",
    "\n",
    "#### Unexpected behavior when finding integer number of resonances\n",
    "Often times the weight constrained solution for an integer number of resonances will have selected a smaller resonance than expected when there's a larger existing resonance that would drive the chi2 even lower. I believe this is a problem with not finding the maximum weight solution to an integer number of resonances.\n",
    "\n",
    "- Now I am driving neutron width to the total leaving 0 Gt, currently hard coded max Gn = Gt-0.005\n",
    "\n",
    "#### LRT\n",
    "I am currently calculating the likelihood using sts.multivariate_normal.pdf. When trying to calculate it using just the chi2 to the data, I get an error because the determinate of the covariance matrix is 0... This seems incorrect.\n",
    "\n",
    "Using LRT for nested models only works if the nested parameter are the exact same. I don't beleive that this is the case.\n",
    "\n",
    "#### Other\n",
    "- Can cutoff weights at 1e-5 or 6 because this corresponds directly to a neutron width this small of a resonance is insignificant"
   ]
  },
  {
   "cell_type": "code",
   "execution_count": null,
   "metadata": {},
   "outputs": [],
   "source": [
    "\n"
   ]
  },
  {
   "cell_type": "code",
   "execution_count": null,
   "metadata": {},
   "outputs": [],
   "source": []
  }
 ],
 "metadata": {
  "kernelspec": {
   "display_name": "atari",
   "language": "python",
   "name": "python3"
  },
  "language_info": {
   "codemirror_mode": {
    "name": "ipython",
    "version": 3
   },
   "file_extension": ".py",
   "mimetype": "text/x-python",
   "name": "python",
   "nbconvert_exporter": "python",
   "pygments_lexer": "ipython3",
   "version": "3.9.16"
  },
  "orig_nbformat": 4
 },
 "nbformat": 4,
 "nbformat_minor": 2
}
