{
 "cells": [
  {
   "cell_type": "code",
   "execution_count": 1,
   "metadata": {},
   "outputs": [],
   "source": [
    "import numpy as np\n",
    "import pandas as pd\n",
    "import os\n",
    "from matplotlib.pyplot import *\n",
    "import h5py\n",
    "import scipy.stats as sts\n",
    "\n",
    "from ATARI.syndat.particle_pair import Particle_Pair\n",
    "from ATARI.syndat.experiment import Experiment\n",
    "from ATARI.syndat.MMDA import generate\n",
    "from ATARI.theory.xs import SLBW\n",
    "from ATARI.theory.scattering_params import FofE_recursive\n",
    "from ATARI.theory.scattering_params import gstat\n",
    "from ATARI.utils.datacontainer import DataContainer\n",
    "from ATARI.utils.atario import fill_resonance_ladder\n",
    "from ATARI.utils.stats import chi2_val\n",
    "\n",
    "from numpy.linalg import inv\n",
    "from scipy.linalg import block_diag\n",
    "\n",
    "from scipy.optimize import lsq_linear\n",
    "from qpsolvers import solve_qp\n",
    "from scipy.optimize import linprog\n",
    "\n",
    "import functions as fn \n",
    "import importlib"
   ]
  },
  {
   "cell_type": "code",
   "execution_count": 2,
   "metadata": {},
   "outputs": [],
   "source": [
    "%matplotlib widget"
   ]
  },
  {
   "cell_type": "code",
   "execution_count": 3,
   "metadata": {},
   "outputs": [],
   "source": [
    "ac = 0.81271  # scattering radius in 1e-12 cm \n",
    "M = 180.948030  # amu of target nucleus\n",
    "m = 1           # amu of incident neutron\n",
    "I = 3.5         # intrinsic spin, positive parity\n",
    "i = 0.5         # intrinsic spin, positive parity\n",
    "l_max = 1       # highest order l-wave to consider\n",
    "\n",
    "\n",
    "spin_groups = [ (3.0,1,0) ]\n",
    "average_parameters = pd.DataFrame({ 'dE'    :   {'3.0':8.79, '4.0':4.99},\n",
    "                                    'Gg'    :   {'3.0':64.0, '4.0':64.0},\n",
    "                                    'gn2'    :   {'3.0':46.4, '4.0':35.5}  })\n",
    "\n",
    "Ta_pair = Particle_Pair( ac, M, m, I, i, l_max,\n",
    "                                input_options={},\n",
    "                                spin_groups=spin_groups,\n",
    "                                average_parameters=average_parameters )   \n",
    "\n",
    "\n",
    "E_min_max = [75, 125]\n",
    "energy_grid = E_min_max\n",
    "\n",
    "input_options = {'Add Noise': True,\n",
    "                'Calculate Covariance': True,\n",
    "                'Compression Points':[],\n",
    "                'Grouping Factors':None}\n",
    "\n",
    "# experiment_parameters = {'bw': {'val':0.0256,   'unc'   :   0},\n",
    "#                          'n':  {'val':0.067166,     'unc'   :0}}\n",
    "experiment_parameters = {'bw': {'val':0.1024,   'unc'   :   0},\n",
    "                         'n':  {'val':0.067166,     'unc'   :0}}\n",
    "\n",
    "# initialize experimental setup\n",
    "exp = Experiment(energy_grid, \n",
    "                        input_options=input_options, \n",
    "                        experiment_parameters=experiment_parameters)\n",
    "\n",
    "\n",
    "case_file = '/Users/noahwalton/research_local/resonance_fitting/ATARI_workspace/SLBW_noexp/lasso/Ta181_500samples_E75_125/Ta181_500samples_E75_125_1.hdf5'\n",
    "dataset_range = (0, 10)\n",
    "samples_not_generated = generate(Ta_pair, exp, \n",
    "                                        'syndat_SLBW', \n",
    "                                        dataset_range, \n",
    "                                        case_file,\n",
    "                                        fixed_resonance_ladder=None, \n",
    "                                        open_data=None,\n",
    "                                        vary_Erange=None,\n",
    "                                        use_hdf5=True,\n",
    "                                        overwrite = False\n",
    "                                                                    )"
   ]
  },
  {
   "cell_type": "code",
   "execution_count": 4,
   "metadata": {},
   "outputs": [
    {
     "name": "stdout",
     "output_type": "stream",
     "text": [
      "<KeysViewHDF5 ['CovT', 'exp_cov', 'exp_pw', 'par_fit', 'par_fit_pv_0p03', 'par_fit_pv_0p07', 'par_par_est_7_pv_0001', 'par_par_est_7_pv_0001668', 'par_par_est_7_pv_0002782', 'par_par_est_7_pv_0004641', 'par_par_est_7_pv_0007742', 'par_par_est_7_pv_001', 'par_par_est_7_pv_0012915', 'par_par_est_7_pv_0021544', 'par_par_est_7_pv_0035938', 'par_par_est_7_pv_005', 'par_par_est_7_pv_0059948', 'par_par_est_7_pv_01', 'par_par_est_7_pv_019346938775510206', 'par_par_est_7_pv_025', 'par_par_est_7_pv_03769387755102041', 'par_par_est_7_pv_05', 'par_par_est_7_pv_056040816326530615', 'par_par_est_7_pv_07438775510204082', 'par_par_est_7_pv_075', 'par_par_est_7_pv_09273469387755102', 'par_par_est_7_pv_1', 'par_par_est_7_pv_11108163265306123', 'par_par_est_7_pv_12942857142857145', 'par_par_est_7_pv_14777551020408164', 'par_par_est_7_pv_16612244897959183', 'par_par_est_7_pv_18446938775510205', 'par_par_est_7_pv_2', 'par_par_est_7_pv_20281632653061227', 'par_par_est_7_pv_22116326530612246', 'par_par_est_7_pv_23951020408163265', 'par_par_est_7_pv_2578571428571429', 'par_par_est_7_pv_2762040816326531', 'par_par_est_7_pv_2945510204081633', 'par_par_est_7_pv_31289795918367347', 'par_par_est_7_pv_33124489795918366', 'par_par_est_7_pv_3495918367346939', 'par_par_est_7_pv_3679387755102041', 'par_par_est_7_pv_3862857142857143', 'par_par_est_7_pv_40463265306122453', 'par_par_est_7_pv_4229795918367347', 'par_par_est_7_pv_4413265306122449', 'par_par_est_7_pv_4596734693877551', 'par_par_est_7_pv_4780204081632653', 'par_par_est_7_pv_49636734693877554', 'par_par_est_7_pv_5', 'par_par_est_7_pv_5147142857142858', 'par_par_est_7_pv_533061224489796', 'par_par_est_7_pv_5514081632653062', 'par_par_est_7_pv_5697551020408164', 'par_par_est_7_pv_5881020408163266', 'par_par_est_7_pv_6064489795918367', 'par_par_est_7_pv_6247959183673469', 'par_par_est_7_pv_6431428571428571', 'par_par_est_7_pv_6614897959183673', 'par_par_est_7_pv_6798367346938776', 'par_par_est_7_pv_6981836734693878', 'par_par_est_7_pv_716530612244898', 'par_par_est_7_pv_7348775510204082', 'par_par_est_7_pv_7532244897959184', 'par_par_est_7_pv_7715714285714286', 'par_par_est_7_pv_7899183673469388', 'par_par_est_7_pv_8082653061224491', 'par_par_est_7_pv_8266122448979593', 'par_par_est_7_pv_8449591836734694', 'par_par_est_7_pv_8633061224489796', 'par_par_est_7_pv_8816530612244898', 'par_par_est_7_pv_9', 'par_par_est_iFB_7_pv_0001', 'par_par_est_iFB_7_pv_0001668', 'par_par_est_iFB_7_pv_0001668100537200059', 'par_par_est_iFB_7_pv_0002782', 'par_par_est_iFB_7_pv_0002782559402207126', 'par_par_est_iFB_7_pv_0004641', 'par_par_est_iFB_7_pv_00046415888336127773', 'par_par_est_iFB_7_pv_0007742', 'par_par_est_iFB_7_pv_000774263682681127', 'par_par_est_iFB_7_pv_001', 'par_par_est_iFB_7_pv_0012915', 'par_par_est_iFB_7_pv_001291549665014884', 'par_par_est_iFB_7_pv_0021544', 'par_par_est_iFB_7_pv_002154434690031882', 'par_par_est_iFB_7_pv_0035938', 'par_par_est_iFB_7_pv_003593813663804626', 'par_par_est_iFB_7_pv_0059948', 'par_par_est_iFB_7_pv_005994842503189409', 'par_par_est_iFB_7_pv_01', 'par_par_est_iFB_7_pv_019346938775510206', 'par_par_est_iFB_7_pv_03769387755102041', 'par_par_est_iFB_7_pv_056040816326530615', 'par_par_est_iFB_7_pv_07438775510204082', 'par_par_est_iFB_7_pv_09273469387755102', 'par_par_est_iFB_7_pv_11108163265306123', 'par_par_est_iFB_7_pv_12942857142857145', 'par_par_est_iFB_7_pv_14777551020408164', 'par_par_est_iFB_7_pv_16612244897959183', 'par_par_est_iFB_7_pv_18446938775510205', 'par_par_est_iFB_7_pv_20281632653061227', 'par_par_est_iFB_7_pv_22116326530612246', 'par_par_est_iFB_7_pv_23951020408163265', 'par_par_est_iFB_7_pv_2578571428571429', 'par_par_est_iFB_7_pv_2762040816326531', 'par_par_est_iFB_7_pv_2945510204081633', 'par_par_est_iFB_7_pv_31289795918367347', 'par_par_est_iFB_7_pv_33124489795918366', 'par_par_est_iFB_7_pv_3495918367346939', 'par_par_est_iFB_7_pv_3679387755102041', 'par_par_est_iFB_7_pv_3862857142857143', 'par_par_est_iFB_7_pv_40463265306122453', 'par_par_est_iFB_7_pv_4229795918367347', 'par_par_est_iFB_7_pv_4413265306122449', 'par_par_est_iFB_7_pv_4596734693877551', 'par_par_est_iFB_7_pv_4780204081632653', 'par_par_est_iFB_7_pv_49636734693877554', 'par_par_est_iFB_7_pv_5147142857142858', 'par_par_est_iFB_7_pv_533061224489796', 'par_par_est_iFB_7_pv_5514081632653062', 'par_par_est_iFB_7_pv_5697551020408164', 'par_par_est_iFB_7_pv_5881020408163266', 'par_par_est_iFB_7_pv_6064489795918367', 'par_par_est_iFB_7_pv_6247959183673469', 'par_par_est_iFB_7_pv_6431428571428571', 'par_par_est_iFB_7_pv_6614897959183673', 'par_par_est_iFB_7_pv_6798367346938776', 'par_par_est_iFB_7_pv_6981836734693878', 'par_par_est_iFB_7_pv_716530612244898', 'par_par_est_iFB_7_pv_7348775510204082', 'par_par_est_iFB_7_pv_7532244897959184', 'par_par_est_iFB_7_pv_7715714285714286', 'par_par_est_iFB_7_pv_7899183673469388', 'par_par_est_iFB_7_pv_8082653061224491', 'par_par_est_iFB_7_pv_8266122448979593', 'par_par_est_iFB_7_pv_8449591836734694', 'par_par_est_iFB_7_pv_8633061224489796', 'par_par_est_iFB_7_pv_8816530612244898', 'par_par_est_iFB_7_pv_9', 'par_true', 'pw_exp', 'pw_fine', 'theo_par', 'theo_pw']>\n"
     ]
    }
   ],
   "source": [
    "with h5py.File(case_file) as f:\n",
    "    print(f['sample_7'].keys())"
   ]
  },
  {
   "cell_type": "code",
   "execution_count": 7,
   "metadata": {},
   "outputs": [
    {
     "name": "stdout",
     "output_type": "stream",
     "text": [
      "Model 'true' already exists in pw.exp, bypassing pointwise reconstruction\n"
     ]
    },
    {
     "name": "stderr",
     "output_type": "stream",
     "text": [
      "/Users/noahwalton/opt/anaconda3/envs/atari/lib/python3.9/site-packages/pandas/core/arraylike.py:402: RuntimeWarning: invalid value encountered in log\n",
      "  result = getattr(ufunc, method)(*inputs, **kwargs)\n"
     ]
    }
   ],
   "source": [
    "from ATARI.utils.misc import fine_egrid \n",
    "\n",
    "\n",
    "from ATARI.utils.io.experimental_parameters import BuildExperimentalParameters_fromDIRECT, DirectExperimentalParameters\n",
    "from ATARI.utils.io.theoretical_parameters import BuildTheoreticalParameters_fromHDF5, BuildTheoreticalParameters_fromATARI, DirectTheoreticalParameters\n",
    "from ATARI.utils.io.pointwise_container import BuildPointwiseContainer_fromHDF5, BuildPointwiseContainer_fromATARI, DirectPointwiseContainer\n",
    "from ATARI.utils.io.data_container import BuildDataContainer_fromBUILDERS, BuildDataContainer_fromOBJECTS, DirectDataContainer\n",
    "\n",
    "\n",
    "# read hdf\n",
    "case_file = \"/Users/noahwalton/research_local/resonance_fitting/ATARI_workspace/SLBW_noexp/lasso/Ta181_500samples_E75_125/Ta181_500samples_E75_125_1.hdf5\"\n",
    "casenum = 128\n",
    " \n",
    "\n",
    "### Build from hdf5\n",
    "builder_exppar = BuildExperimentalParameters_fromDIRECT(0.067166, 0, 1e-2)\n",
    "exppar = builder_exppar.construct()\n",
    "\n",
    "builder_theopar = BuildTheoreticalParameters_fromHDF5('true', case_file, casenum, Ta_pair)\n",
    "truepar = builder_theopar.construct()\n",
    "\n",
    "builder_pw = BuildPointwiseContainer_fromHDF5(case_file, casenum)\n",
    "pw = builder_pw.construct_lite_w_CovT()\n",
    "\n",
    "builder_dc = BuildDataContainer_fromOBJECTS( pw, exppar, [truepar])\n",
    "dc = builder_dc.construct()\n",
    "\n",
    "dc.pw.fill_exp_xs(dc.experimental_parameters)\n",
    "\n",
    "# with h5py.File(case_file) as f:\n",
    "#     print(f['sample_114'].keys())"
   ]
  },
  {
   "cell_type": "code",
   "execution_count": 8,
   "metadata": {},
   "outputs": [
    {
     "name": "stderr",
     "output_type": "stream",
     "text": [
      "/Users/noahwalton/opt/anaconda3/envs/atari/lib/python3.9/site-packages/ipywidgets/widgets/widget.py:502: DeprecationWarning: Passing unrecognized arguments to super(Toolbar).__init__().\n",
      "__init__() missing 1 required positional argument: 'canvas'\n",
      "This is deprecated in traitlets 4.2.This error will be raised in a future release of traitlets.\n",
      "  super().__init__(**kwargs)\n"
     ]
    },
    {
     "data": {
      "text/plain": [
       "<ErrorbarContainer object of 3 artists>"
      ]
     },
     "execution_count": 8,
     "metadata": {},
     "output_type": "execute_result"
    },
    {
     "data": {
      "application/vnd.jupyter.widget-view+json": {
       "model_id": "294fa35af4f14e38adbb51c15c5fee67",
       "version_major": 2,
       "version_minor": 0
      },
      "image/png": "[encoded data removed]",
      "text/html": [
       "\n",
       "            <div style=\"display: inline-block;\">\n",
       "                <div class=\"jupyter-widgets widget-label\" style=\"text-align: center;\">\n",
       "                    Figure\n",
       "                </div>\n",
       "                <img src='data:image/png;base64,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' width=640.0/>\n",
       "            </div>\n",
       "        "
      ],
      "text/plain": [
       "Canvas(toolbar=Toolbar(toolitems=[('Home', 'Reset original view', 'home', 'home'), ('Back', 'Back to previous …"
      ]
     },
     "metadata": {},
     "output_type": "display_data"
    }
   ],
   "source": [
    "figure()\n",
    "# plot(pw.fine.E, pw.fine.theo_xs)\n",
    "plot(dc.pw.exp.E, dc.pw.exp.true_xs)\n",
    "\n",
    "errorbar(dc.pw.exp.E, dc.pw.exp.exp_xs, yerr=dc.pw.exp.exp_xs_unc, fmt='.', capsize=2)\n",
    "# plot(dc.pw.exp.E, dc.pw.exp.exp_trans, '.')\n",
    "# ylim([-max_xs*.1, max_xs*1.25])\n"
   ]
  },
  {
   "cell_type": "code",
   "execution_count": 9,
   "metadata": {},
   "outputs": [
    {
     "data": {
      "text/plain": [
       "nan"
      ]
     },
     "execution_count": 9,
     "metadata": {},
     "output_type": "execute_result"
    }
   ],
   "source": [
    "chi2_val(dc.pw.exp.true_xs, dc.pw.exp.exp_xs, np.diag(dc.pw.exp.exp_xs_unc**2))\n",
    "chi2_val(dc.pw.exp.true_xs, dc.pw.exp.exp_xs, np.diag(np.diag(dc.pw.CovXS)))"
   ]
  },
  {
   "cell_type": "code",
   "execution_count": null,
   "metadata": {},
   "outputs": [],
   "source": []
  },
  {
   "cell_type": "code",
   "execution_count": 10,
   "metadata": {},
   "outputs": [],
   "source": [
    "\n",
    "import classes as cls"
   ]
  },
  {
   "attachments": {},
   "cell_type": "markdown",
   "metadata": {},
   "source": [
    "## Approach\n",
    "\n",
    "0. Solve initial and reduce feature bank (don't want to do this step but I am for now to speed up computation)\n",
    "\n",
    "1. Loop and refine feature grid while chi2 improves\n",
    "    - Solve quadratic program to get min($\\Chi^2$) s.t. blackout resonance constraint and a large lasso constraint (99 quantile for weights * 99 quantile for # of resonances)\n",
    "    - solve min(|weights|) with constraint on chi2\n",
    "    - repeat with feature refinement until some threshold\n",
    "\n",
    "\n",
    "3. After initial solve, begin to step up in chi2 constraint on min(|weights|) solve\n",
    "\n",
    "5. Perform LRT between the models from 4"
   ]
  },
  {
   "cell_type": "code",
   "execution_count": 21,
   "metadata": {},
   "outputs": [
    {
     "ename": "TypeError",
     "evalue": "can't multiply sequence by non-int of type 'float'",
     "output_type": "error",
     "traceback": [
      "\u001b[0;31m---------------------------------------------------------------------------\u001b[0m",
      "\u001b[0;31mTypeError\u001b[0m                                 Traceback (most recent call last)",
      "Cell \u001b[0;32mIn[21], line 3\u001b[0m\n\u001b[1;32m      1\u001b[0m \u001b[39m### Unit test for feature bank construction\u001b[39;00m\n\u001b[0;32m----> 3\u001b[0m fb0 \u001b[39m=\u001b[39m prob\u001b[39m.\u001b[39;49mget_FeatureBank(dc, [\u001b[39m575\u001b[39;49m], [\u001b[39m100e-3\u001b[39;49m])\n\u001b[1;32m      4\u001b[0m \u001b[39m# inp0 = prob.get_MatrixInputs(dc, fb0)\u001b[39;00m\n\u001b[1;32m      5\u001b[0m fb0\u001b[39m.\u001b[39msolution_ws \u001b[39m=\u001b[39m np\u001b[39m.\u001b[39marray([\u001b[39m50e-3\u001b[39m])\n",
      "File \u001b[0;32m~/Documents/GitHub/ATARI/Fitting/noah_dev/classes.py:99\u001b[0m, in \u001b[0;36mProblemHandler.get_FeatureBank\u001b[0;34m(self, dc, ElFeatures, GtFeatures)\u001b[0m\n\u001b[1;32m     97\u001b[0m \u001b[39mdef\u001b[39;00m \u001b[39mget_FeatureBank\u001b[39m(\u001b[39mself\u001b[39m, dc: DataContainer, ElFeatures:np\u001b[39m.\u001b[39mndarray, GtFeatures: np\u001b[39m.\u001b[39mndarray):\n\u001b[0;32m---> 99\u001b[0m     feature_matrix, potential_scattering, feature_pairs \u001b[39m=\u001b[39m fn\u001b[39m.\u001b[39;49mget_resonance_feature_bank(dc\u001b[39m.\u001b[39;49mpw\u001b[39m.\u001b[39;49mexp\u001b[39m.\u001b[39;49mE, dc\u001b[39m.\u001b[39;49mtheoretical_parameters[\u001b[39m'\u001b[39;49m\u001b[39mtrue\u001b[39;49m\u001b[39m'\u001b[39;49m]\u001b[39m.\u001b[39;49mparticle_pair, ElFeatures, GtFeatures)\n\u001b[1;32m    100\u001b[0m     nfeatures \u001b[39m=\u001b[39m np\u001b[39m.\u001b[39mshape(feature_matrix)[\u001b[39m1\u001b[39m]\n\u001b[1;32m    102\u001b[0m     \u001b[39mreturn\u001b[39;00m FeatureBank(feature_matrix, feature_pairs, potential_scattering\u001b[39m.\u001b[39mreshape((\u001b[39m-\u001b[39m\u001b[39m1\u001b[39m,\u001b[39m1\u001b[39m)), nfeatures, [\u001b[39m0\u001b[39m,feature_pairs[:,\u001b[39m1\u001b[39m]\u001b[39m*\u001b[39m\u001b[39m0.999\u001b[39m] )\n",
      "File \u001b[0;32m~/Documents/GitHub/ATARI/Fitting/noah_dev/functions.py:75\u001b[0m, in \u001b[0;36mget_resonance_feature_bank\u001b[0;34m(E, particle_pair, Elam_features, Gtot_features)\u001b[0m\n\u001b[1;32m     72\u001b[0m \u001b[39mdef\u001b[39;00m \u001b[39mget_resonance_feature_bank\u001b[39m(E, particle_pair, Elam_features, Gtot_features):\n\u001b[1;32m     74\u001b[0m     E \u001b[39m=\u001b[39m np\u001b[39m.\u001b[39marray(E)\n\u001b[0;32m---> 75\u001b[0m     Gtot_features \u001b[39m=\u001b[39m Gtot_features\u001b[39m*\u001b[39;49m\u001b[39m1e-3\u001b[39;49m\n\u001b[1;32m     76\u001b[0m     number_of_resonances \u001b[39m=\u001b[39m \u001b[39mlen\u001b[39m(Elam_features)\u001b[39m*\u001b[39m\u001b[39mlen\u001b[39m(Gtot_features)\n\u001b[1;32m     77\u001b[0m     Resonance_Matrix \u001b[39m=\u001b[39m np\u001b[39m.\u001b[39mzeros((\u001b[39mlen\u001b[39m(E), number_of_resonances))\n",
      "\u001b[0;31mTypeError\u001b[0m: can't multiply sequence by non-int of type 'float'"
     ]
    }
   ],
   "source": [
    "### Unit test for feature bank construction\n",
    "\n",
    "# fb0 = prob.get_FeatureBank(dc, [575], [100e-3])\n",
    "# # inp0 = prob.get_MatrixInputs(dc, fb0)\n",
    "# fb0.solution_ws = np.array([50e-3])\n",
    "# test_par = TheoreticalParameters(Ta_pair, pd.DataFrame({'E':575, 'Gt':100, 'Gnx':50, 'Gg':50, 'J':3.0,'chs':1,'lwave':0.0, 'J_ID':None}, index=[0]))\n",
    "# test,_,_ = SLBW(dc.pw.exp.E, Ta_pair, test_par.resonance_ladder)\n",
    "\n",
    "# figure()\n",
    "# plot(dc.pw.exp.E, fb0.model-test)\n",
    "# # plot(dc.pw.exp.E, test)\n"
   ]
  },
  {
   "attachments": {},
   "cell_type": "markdown",
   "metadata": {},
   "source": [
    "## Step 0, reduce initial feature bank for computational speed"
   ]
  },
  {
   "cell_type": "code",
   "execution_count": 16,
   "metadata": {},
   "outputs": [],
   "source": [
    "# ### Step 0\n",
    "# average_parameters.loc[:,['Gn']] = average_parameters['gn2']/12.5\n",
    "# Elam_features, Gtot_features = fn.get_parameter_grid(dc.pw.exp.E, average_parameters, '3.0', 2e0, 3e0)\n",
    "# # Gtot_features = np.append(Gtot_features, np.round(np.array(dc.theoretical_parameters['true'].resonance_ladder.Gt),1)*1e-3 )\n",
    "# # Elam_features = np.append(Elam_features, np.round(np.array(dc.theoretical_parameters['true'].resonance_ladder.E),1))\n",
    "# # Elam_features = np.round(np.array(theo_resladder.E),1)\n",
    "# # Gtot_features = np.array(theo_resladder.Gt)*1e-3\n",
    "# # Elam_features = np.array(theo_resladder.E)\n",
    "\n",
    "# w_threshold = 1e-6\n",
    "# prob = cls.ProblemHandler(w_threshold)\n",
    "\n",
    "# fb0 = prob.get_FeatureBank(dc, Elam_features, Gtot_features)\n",
    "# inp0 = prob.get_MatrixInputs(dc, fb0)\n",
    "\n",
    "# sol_lp0 = cls.Solvers.solve_linear_program(inp0)\n",
    "# print(fb0.nfeatures)\n",
    "# print(np.count_nonzero(sol_lp0>0))\n",
    "# Gtot_features"
   ]
  },
  {
   "attachments": {},
   "cell_type": "markdown",
   "metadata": {},
   "source": [
    "## Step 1, solve unconstrained problem"
   ]
  },
  {
   "cell_type": "code",
   "execution_count": 17,
   "metadata": {},
   "outputs": [],
   "source": [
    "qpopt = cls.QPopt(verbose=True,\n",
    "                abstol = 1e-6,\n",
    "                reltol = 1e-6,\n",
    "                feastol=1e-6,\n",
    "                    maxiters = 200)"
   ]
  },
  {
   "cell_type": "markdown",
   "metadata": {},
   "source": [
    "#### Sobes Functions"
   ]
  },
  {
   "cell_type": "code",
   "execution_count": 18,
   "metadata": {},
   "outputs": [],
   "source": [
    "from scipy.stats import chi2 as chi2pdf\n",
    "from scipy.stats.distributions import chi2\n",
    "from cvxopt import matrix, solvers, lapack, blas, mul, div\n",
    "\n",
    "\n",
    "def getD(xi,res_par_avg):    \n",
    "    return res_par_avg['<D>']*2*np.sqrt(np.log(1/(1-xi))/np.pi)\n",
    "\n",
    "def make_res_par_avg(D_avg, Gn_avg, n_dof, Gg_avg, g_dof, print):\n",
    "    \n",
    "    res_par_avg = {'<D>'  :D_avg,'<Gn>' :Gn_avg,'n_dof':n_dof,'<Gg>' :Gg_avg,'g_dof':g_dof}\n",
    "\n",
    "    res_par_avg['D01']  = getD(0.01,res_par_avg)\n",
    "    res_par_avg['D99']  = getD(0.99,res_par_avg)\n",
    "    res_par_avg['Gn01'] = res_par_avg['<Gn>']*chi2.ppf(0.01, df=res_par_avg['n_dof'])/res_par_avg['n_dof']\n",
    "    res_par_avg['Gn99'] = res_par_avg['<Gn>']*chi2.ppf(0.99, df=res_par_avg['n_dof'])/res_par_avg['n_dof']\n",
    "    res_par_avg['Gg01'] = res_par_avg['<Gg>']*chi2.ppf(0.01, df=res_par_avg['g_dof'])/res_par_avg['g_dof']\n",
    "    res_par_avg['Gg99'] = res_par_avg['<Gg>']*chi2.ppf(0.99, df=res_par_avg['g_dof'])/res_par_avg['g_dof']\n",
    "    res_par_avg['Gt01'] = res_par_avg['Gn01'] + res_par_avg['Gg01']\n",
    "    res_par_avg['Gt99'] = res_par_avg['Gn99'] + res_par_avg['Gg99']\n",
    "\n",
    "    if print:\n",
    "        print('D99  =',res_par_avg['D99'])\n",
    "        print('Gn01 =',res_par_avg['Gn01'])\n",
    "        print('Gn99 =',res_par_avg['Gn99'])\n",
    "        print('Gg01 =',res_par_avg['Gg01'])\n",
    "        print('Gg99 =',res_par_avg['Gg99'])\n",
    "        print('Gt01 =',res_par_avg['Gt01'])\n",
    "        print('Gt99 =',res_par_avg['Gt99'])\n",
    "\n",
    "    return res_par_avg\n",
    "\n",
    "def refine_feature_vectors(Er, x, thr, option, Gt, res_par_avg):            \n",
    "    \n",
    "    x_bin = x > thr['ub']  \n",
    "    if option < 2:\n",
    "        x_bin = x_bin.reshape((len(Er),len(Gt)        ))  \n",
    "        x_bin = np.any(x_bin,axis=1)\n",
    "    else:\n",
    "        x_bin = x_bin.reshape((len(Er),len(Gt),len(Gt)))\n",
    "        x_bin = np.any(x_bin,axis=(1,2))\n",
    "        \n",
    "    Er = Er[x_bin] \n",
    "    \n",
    "    deltaE = min(np.diff(Er))/3 # divide by 3 such that neighboring resonances won't split into a repeating resonance\n",
    "    Er_new = np.zeros(2*len(Er))\n",
    "    \n",
    "    for iEr in range(len(Er)):\n",
    "        Er_new[2*iEr  ] = Er[iEr] - deltaE\n",
    "        Er_new[2*iEr+1] = Er[iEr] + deltaE\n",
    "        \n",
    "    if option < 2:\n",
    "        num_Gt = int(        len(x)/len(Er_new) ) + 1 \n",
    "        num_Gn = 1\n",
    "    else:\n",
    "        num_Gt = int(np.sqrt(len(x)/len(Er_new))) + 1 \n",
    "        num_Gn = num_Gt\n",
    "                        \n",
    "    Gt = np.logspace(np.log10(res_par_avg['Gt01']), np.log10(res_par_avg['Gt99']), num_Gt)    \n",
    "    Gn = np.logspace(np.log10(res_par_avg['Gn01']), np.log10(res_par_avg['Gn99']), num_Gn)\n",
    "            \n",
    "    return Er_new, Gt, Gn\n",
    "\n",
    "def collapse_Er(Er,x,res_par_avg):    \n",
    "\n",
    "    x_bin = x > thr['ub']  \n",
    "    if option < 2:\n",
    "        x_bin = x_bin.reshape((len(Er),len(Gt)        ))\n",
    "        x_bin = np.any(x_bin,axis=1)\n",
    "    else:\n",
    "        x_bin = x_bin.reshape((len(Er),len(Gt),len(Gt)))\n",
    "        x_bin = np.any(x_bin,axis=(1,2))\n",
    "        \n",
    "    Er = Er[ x_bin]        \n",
    "    diff_Er = np.diff(Er)\n",
    "    \n",
    "    Er_lb = Er - res_par_avg['D01']/2\n",
    "    Er_ub = Er + res_par_avg['D01']/2    \n",
    "\n",
    "    index = np.argwhere(diff_Er < res_par_avg['D01'])\n",
    "    for iEr in np.flipud(index):       \n",
    "        Er_lb = np.delete(Er_lb, iEr+1        )\n",
    "        Er_ub = np.delete(Er_ub, iEr          ) \n",
    "    \n",
    "    return Er_lb, Er_ub\n",
    "\n",
    "def collapse_feature_bank(Er,Gt,Gn,thr,A,x,option,res_par_avg):    \n",
    "\n",
    "    if option < 2:\n",
    "        inc = len(Gt)        \n",
    "    else:\n",
    "        inc = len(Gt)*len(Gn)\n",
    "    \n",
    "    for iEr in range(len(Er)):\n",
    "        index = slice(inc*iEr,inc*(iEr+1))\n",
    "        A[:,iEr] = (A[:,index].dot(x[index])).flatten()\n",
    "    A = A[:,slice(len(Er))]\n",
    "        \n",
    "    x_bin = x > thr['ub']  \n",
    "    if option < 2:\n",
    "        x_bin = x_bin.reshape((len(Er),len(Gt)        ))\n",
    "        x_bin = np.any(x_bin,axis=1)\n",
    "    else:\n",
    "        x_bin = x_bin.reshape((len(Er),len(Gt),len(Gt)))\n",
    "        x_bin = np.any(x_bin,axis=(1,2))\n",
    "        \n",
    "    Er = Er[  x_bin]\n",
    "    A  =  A[:,x_bin]\n",
    "      \n",
    "    diff_Er = np.diff(Er)    \n",
    "    index = np.argwhere(diff_Er < res_par_avg['D01'])\n",
    "    for iEr in np.flipud(index): \n",
    "        A[:,iEr] = A[:,iEr] + A[:,iEr+1]\n",
    "        A = np.delete(A, iEr+1, axis=1)  \n",
    "    \n",
    "    return A\n",
    "\n",
    "def build_constraints(Er, Gt, res_par_avg, index_0T, dc:DataContainer, feature_bank:cls.FeatureBank, Gn=[1]):\n",
    "\n",
    "    # get 0Trans constraint\n",
    "    # lb, ub = fn.get_bound_arrays(nfeatures, feature_bank.w_bounds)\n",
    "    C, d = fn.get_0Trans_constraint(np.array(dc.pw.exp.E), index_0T, dc.experimental_parameters.max_xs, dc.theoretical_parameters['true'].particle_pair, feature_bank.feature_pairs)\n",
    "    d = d.reshape((-1,1))\n",
    "    \n",
    "    num_Er = len(Er)\n",
    "    num_Gt = len(Gt)\n",
    "    num_Gn = len(Gn)    \n",
    "    num_F = num_Er*num_Gt*num_Gn\n",
    "\n",
    "    # concatenate upper bound constraints\n",
    "    C = np.concatenate((C, -np.eye(num_F),np.eye(num_F)))\n",
    "    if option == 0:\n",
    "        d = np.concatenate((d, np.zeros((num_F,1)),res_par_avg['Gn99']*np.ones((num_F,1))))  \n",
    "    else:\n",
    "        d = np.concatenate((d, np.zeros((num_F,1)),                    np.ones((num_F,1))))       \n",
    "    \n",
    "    # lasso constraint\n",
    "    C =  np.concatenate((C,np.ones( (1,num_F))))\n",
    "    d =  np.concatenate((d,np.zeros((1,1    ))))\n",
    "    \n",
    "    return C, d\n",
    "\n",
    "def make_qp_input(A,data,C,d):\n",
    "    P = matrix( np.transpose(A).dot(A))\n",
    "    q = matrix(-np.transpose(A).dot(data))\n",
    "    G = matrix(C)\n",
    "    h = matrix(d)\n",
    "    return P, q, G, h\n",
    "\n",
    "def qp_solve(P,q,G,h,theta=None,x0=None):        \n",
    "    \n",
    "    if theta is not None:\n",
    "        h[-1] = theta\n",
    "    \n",
    "    if x0 is not None:\n",
    "        x0 = {'x':matrix(x0)}        \n",
    "    \n",
    "    prob = solvers.qp(P, q, G, h, initvals = x0)\n",
    "    x = np.array(prob['x'])                  \n",
    "    \n",
    "    return x  \n",
    "\n",
    "def     qcl1(A, b):\n",
    "    \"\"\"\n",
    "    Returns the solution u, z of\n",
    "\n",
    "        (primal)  minimize    || u ||_1\n",
    "                  subject to  || A * u - b ||_2  <= 1\n",
    "\n",
    "        (dual)    maximize    b^T z - ||z||_2\n",
    "                  subject to  || A'*z ||_inf <= 1.\n",
    "\n",
    "    Exploits structure, assuming A is m by n with m >= n.\n",
    "    \"\"\"\n",
    "\n",
    "    m, n = A.size\n",
    "\n",
    "    # Solve equivalent cone LP with variables x = [u; v].\n",
    "    #\n",
    "    #     minimize    [0; 1]' * x\n",
    "    #     subject to  [ I  -I ] * x <=  [  0 ]   (componentwise)\n",
    "    #                 [-I  -I ] * x <=  [  0 ]   (componentwise)\n",
    "    #                 [ 0   0 ] * x <=  [  1 ]   (SOC)\n",
    "    #                 [-A   0 ]         [ -b ]\n",
    "    #\n",
    "    #     maximize    -t + b' * w\n",
    "    #     subject to  z1 - z2 = A'*w\n",
    "    #                 z1 + z2 = 1\n",
    "    #                 z1 >= 0,  z2 >=0,  ||w||_2 <= t.\n",
    "\n",
    "    c = matrix(n*[0.0] + n*[1.0])\n",
    "    h = matrix( 0.0, (2*n + m + 1, 1))\n",
    "    h[2*n] = 1.0\n",
    "    h[2*n+1:] = -b\n",
    "\n",
    "    def G(x, y, alpha = 1.0, beta = 0.0, trans = 'N'):\n",
    "        y *= beta\n",
    "        if trans=='N':\n",
    "            # y += alpha * G * x\n",
    "            y[:n] += alpha * (x[:n] - x[n:2*n])\n",
    "            y[n:2*n] += alpha * (-x[:n] - x[n:2*n])\n",
    "            y[2*n+1:] -= alpha * A*x[:n]\n",
    "\n",
    "        else:\n",
    "            # y += alpha * G'*x\n",
    "            y[:n] += alpha * (x[:n] - x[n:2*n] - A.T * x[-m:])\n",
    "            y[n:] -= alpha * (x[:n] + x[n:2*n])\n",
    "\n",
    "\n",
    "    def Fkkt(W):\n",
    "        \"\"\"\n",
    "        Returns a function f(x, y, z) that solves\n",
    "\n",
    "            [ 0   G'   ] [ x ] = [ bx ]\n",
    "            [ G  -W'*W ] [ z ]   [ bz ].\n",
    "        \"\"\"\n",
    "\n",
    "        # First factor\n",
    "        #\n",
    "        #     S = G' * W**-1 * W**-T * G\n",
    "        #       = [0; -A]' * W3^-2 * [0; -A] + 4 * (W1**2 + W2**2)**-1\n",
    "        #\n",
    "        # where\n",
    "        #\n",
    "        #     W1 = diag(d1) with d1 = W['d'][:n] = 1 ./ W['di'][:n]\n",
    "        #     W2 = diag(d2) with d2 = W['d'][n:] = 1 ./ W['di'][n:]\n",
    "        #     W3 = beta * (2*v*v' - J),  W3^-1 = 1/beta * (2*J*v*v'*J - J)\n",
    "        #        with beta = W['beta'][0], v = W['v'][0], J = [1, 0; 0, -I].\n",
    "\n",
    "        # As = W3^-1 * [ 0 ; -A ] = 1/beta * ( 2*J*v * v' - I ) * [0; A]\n",
    "        beta, v = W['beta'][0], W['v'][0]\n",
    "        As = 2 * v * (v[1:].T * A)\n",
    "        As[1:,:] *= -1.0\n",
    "        As[1:,:] -= A\n",
    "        As /= beta\n",
    "\n",
    "        # S = As'*As + 4 * (W1**2 + W2**2)**-1\n",
    "        S = As.T * As\n",
    "        d1, d2 = W['d'][:n], W['d'][n:]\n",
    "        d = 4.0 * (d1**2 + d2**2)**-1\n",
    "        S[::n+1] += d\n",
    "        lapack.potrf(S)\n",
    "\n",
    "        def f(x, y, z):\n",
    "\n",
    "            # z := - W**-T * z\n",
    "            z[:n] = -div( z[:n], d1 )\n",
    "            z[n:2*n] = -div( z[n:2*n], d2 )\n",
    "            z[2*n:] -= 2.0*v*( v[0]*z[2*n] - blas.dot(v[1:], z[2*n+1:]) )\n",
    "            z[2*n+1:] *= -1.0\n",
    "            z[2*n:] /= beta\n",
    "\n",
    "            # x := x - G' * W**-1 * z\n",
    "            x[:n] -= div(z[:n], d1) - div(z[n:2*n], d2) + As.T * z[-(m+1):]\n",
    "            x[n:] += div(z[:n], d1) + div(z[n:2*n], d2)\n",
    "\n",
    "            # Solve for x[:n]:\n",
    "            #\n",
    "            #    S*x[:n] = x[:n] - (W1**2 - W2**2)(W1**2 + W2**2)^-1 * x[n:]\n",
    "\n",
    "            x[:n] -= mul( div(d1**2 - d2**2, d1**2 + d2**2), x[n:])\n",
    "            lapack.potrs(S, x)\n",
    "\n",
    "            # Solve for x[n:]:\n",
    "            #\n",
    "            #    (d1**-2 + d2**-2) * x[n:] = x[n:] + (d1**-2 - d2**-2)*x[:n]\n",
    "\n",
    "            x[n:] += mul( d1**-2 - d2**-2, x[:n])\n",
    "            x[n:] = div( x[n:], d1**-2 + d2**-2)\n",
    "\n",
    "            # z := z + W^-T * G*x\n",
    "            z[:n] += div( x[:n] - x[n:2*n], d1)\n",
    "            z[n:2*n] += div( -x[:n] - x[n:2*n], d2)\n",
    "            z[2*n:] += As*x[:n]\n",
    "\n",
    "        return f\n",
    "\n",
    "    dims = {'l': 2*n, 'q': [m+1], 's': []}\n",
    "    sol = solvers.conelp(c, G, h, dims, kktsolver = Fkkt)\n",
    "    if sol['status'] == 'optimal':\n",
    "        return sol['x'][:n],  sol['z'][-m:]\n",
    "    else:\n",
    "        return None, None"
   ]
  },
  {
   "cell_type": "code",
   "execution_count": 19,
   "metadata": {},
   "outputs": [
    {
     "data": {
      "text/html": [
       "<div>\n",
       "<style scoped>\n",
       "    .dataframe tbody tr th:only-of-type {\n",
       "        vertical-align: middle;\n",
       "    }\n",
       "\n",
       "    .dataframe tbody tr th {\n",
       "        vertical-align: top;\n",
       "    }\n",
       "\n",
       "    .dataframe thead th {\n",
       "        text-align: right;\n",
       "    }\n",
       "</style>\n",
       "<table border=\"1\" class=\"dataframe\">\n",
       "  <thead>\n",
       "    <tr style=\"text-align: right;\">\n",
       "      <th></th>\n",
       "      <th>E</th>\n",
       "      <th>Gnx</th>\n",
       "      <th>Gt</th>\n",
       "    </tr>\n",
       "  </thead>\n",
       "  <tbody>\n",
       "    <tr>\n",
       "      <th>0</th>\n",
       "      <td>84.882858</td>\n",
       "      <td>0.248553</td>\n",
       "      <td>64.534479</td>\n",
       "    </tr>\n",
       "    <tr>\n",
       "      <th>1</th>\n",
       "      <td>87.255861</td>\n",
       "      <td>4.112082</td>\n",
       "      <td>68.966932</td>\n",
       "    </tr>\n",
       "    <tr>\n",
       "      <th>2</th>\n",
       "      <td>94.096864</td>\n",
       "      <td>4.563721</td>\n",
       "      <td>68.856976</td>\n",
       "    </tr>\n",
       "    <tr>\n",
       "      <th>3</th>\n",
       "      <td>112.074777</td>\n",
       "      <td>2.839020</td>\n",
       "      <td>68.251959</td>\n",
       "    </tr>\n",
       "  </tbody>\n",
       "</table>\n",
       "</div>"
      ],
      "text/plain": [
       "            E       Gnx         Gt\n",
       "0   84.882858  0.248553  64.534479\n",
       "1   87.255861  4.112082  68.966932\n",
       "2   94.096864  4.563721  68.856976\n",
       "3  112.074777  2.839020  68.251959"
      ]
     },
     "execution_count": 19,
     "metadata": {},
     "output_type": "execute_result"
    }
   ],
   "source": [
    "dc.theoretical_parameters['true'].resonance_ladder[[\"E\", \"Gnx\", \"Gt\"]]"
   ]
  },
  {
   "cell_type": "code",
   "execution_count": null,
   "metadata": {},
   "outputs": [],
   "source": []
  },
  {
   "cell_type": "code",
   "execution_count": 20,
   "metadata": {},
   "outputs": [
    {
     "ename": "KeyboardInterrupt",
     "evalue": "",
     "output_type": "error",
     "traceback": [
      "\u001b[0;31m---------------------------------------------------------------------------\u001b[0m",
      "\u001b[0;31mKeyboardInterrupt\u001b[0m                         Traceback (most recent call last)",
      "Cell \u001b[0;32mIn[20], line 90\u001b[0m\n\u001b[1;32m     87\u001b[0m     theta \u001b[39m=\u001b[39m \u001b[39mlen\u001b[39m(Er_true)\n\u001b[1;32m     88\u001b[0m fb0\u001b[39m.\u001b[39mw_bounds \u001b[39m=\u001b[39m (\u001b[39m0\u001b[39m, theta)\n\u001b[0;32m---> 90\u001b[0m x \u001b[39m=\u001b[39m qp_solve(P, q, G, h, theta, x0 \u001b[39m=\u001b[39;49m \u001b[39mNone\u001b[39;49;00m)\n\u001b[1;32m     91\u001b[0m fb0\u001b[39m.\u001b[39msolution_ws \u001b[39m=\u001b[39m x\n\u001b[1;32m     92\u001b[0m \u001b[39m# fb0.solution_ws = cls.Solvers.solve_quadratic_program(inp0, qpopt)\u001b[39;00m\n\u001b[1;32m     93\u001b[0m \u001b[39m# x = fb0.solution_ws\u001b[39;00m\n\u001b[1;32m     94\u001b[0m \n\u001b[1;32m     95\u001b[0m \u001b[39m# plot(A, x, data, unc, Er, Gt, Gn, Er_true, Gn_true, Gt_true, res_par_avg, thr, option)  \u001b[39;00m\n",
      "Cell \u001b[0;32mIn[18], line 158\u001b[0m, in \u001b[0;36mqp_solve\u001b[0;34m(P, q, G, h, theta, x0)\u001b[0m\n\u001b[1;32m    155\u001b[0m \u001b[39mif\u001b[39;00m x0 \u001b[39mis\u001b[39;00m \u001b[39mnot\u001b[39;00m \u001b[39mNone\u001b[39;00m:\n\u001b[1;32m    156\u001b[0m     x0 \u001b[39m=\u001b[39m {\u001b[39m'\u001b[39m\u001b[39mx\u001b[39m\u001b[39m'\u001b[39m:matrix(x0)}        \n\u001b[0;32m--> 158\u001b[0m prob \u001b[39m=\u001b[39m solvers\u001b[39m.\u001b[39;49mqp(P, q, G, h, initvals \u001b[39m=\u001b[39;49m x0)\n\u001b[1;32m    159\u001b[0m x \u001b[39m=\u001b[39m np\u001b[39m.\u001b[39marray(prob[\u001b[39m'\u001b[39m\u001b[39mx\u001b[39m\u001b[39m'\u001b[39m])                  \n\u001b[1;32m    161\u001b[0m \u001b[39mreturn\u001b[39;00m x\n",
      "File \u001b[0;32m~/opt/anaconda3/envs/atari/lib/python3.9/site-packages/cvxopt/coneprog.py:4485\u001b[0m, in \u001b[0;36mqp\u001b[0;34m(P, q, G, h, A, b, solver, kktsolver, initvals, **kwargs)\u001b[0m\n\u001b[1;32m   4475\u001b[0m         pinfres, dinfres \u001b[39m=\u001b[39m \u001b[39mNone\u001b[39;00m, \u001b[39mNone\u001b[39;00m\n\u001b[1;32m   4477\u001b[0m     \u001b[39mreturn\u001b[39;00m {\u001b[39m'\u001b[39m\u001b[39mstatus\u001b[39m\u001b[39m'\u001b[39m: status, \u001b[39m'\u001b[39m\u001b[39mx\u001b[39m\u001b[39m'\u001b[39m: x, \u001b[39m'\u001b[39m\u001b[39ms\u001b[39m\u001b[39m'\u001b[39m: s, \u001b[39m'\u001b[39m\u001b[39my\u001b[39m\u001b[39m'\u001b[39m: y, \u001b[39m'\u001b[39m\u001b[39mz\u001b[39m\u001b[39m'\u001b[39m: z,\n\u001b[1;32m   4478\u001b[0m         \u001b[39m'\u001b[39m\u001b[39mprimal objective\u001b[39m\u001b[39m'\u001b[39m: pcost, \u001b[39m'\u001b[39m\u001b[39mdual objective\u001b[39m\u001b[39m'\u001b[39m: dcost,\n\u001b[1;32m   4479\u001b[0m         \u001b[39m'\u001b[39m\u001b[39mgap\u001b[39m\u001b[39m'\u001b[39m: gap, \u001b[39m'\u001b[39m\u001b[39mrelative gap\u001b[39m\u001b[39m'\u001b[39m: relgap,\n\u001b[0;32m   (...)\u001b[0m\n\u001b[1;32m   4482\u001b[0m         \u001b[39m'\u001b[39m\u001b[39mresidual as primal infeasibility certificate\u001b[39m\u001b[39m'\u001b[39m: pinfres,\n\u001b[1;32m   4483\u001b[0m         \u001b[39m'\u001b[39m\u001b[39mresidual as dual infeasibility certificate\u001b[39m\u001b[39m'\u001b[39m: dinfres}\n\u001b[0;32m-> 4485\u001b[0m \u001b[39mreturn\u001b[39;00m coneqp(P, q, G, h, \u001b[39mNone\u001b[39;49;00m, A,  b, initvals, kktsolver \u001b[39m=\u001b[39;49m kktsolver, options \u001b[39m=\u001b[39;49m options)\n",
      "File \u001b[0;32m~/opt/anaconda3/envs/atari/lib/python3.9/site-packages/cvxopt/coneprog.py:2065\u001b[0m, in \u001b[0;36mconeqp\u001b[0;34m(P, q, G, h, dims, A, b, initvals, kktsolver, xnewcopy, xdot, xaxpy, xscal, ynewcopy, ydot, yaxpy, yscal, **kwargs)\u001b[0m\n\u001b[1;32m   2063\u001b[0m \u001b[39mfor\u001b[39;00m r \u001b[39min\u001b[39;00m W[\u001b[39m'\u001b[39m\u001b[39mr\u001b[39m\u001b[39m'\u001b[39m]: r[::r\u001b[39m.\u001b[39msize[\u001b[39m0\u001b[39m]\u001b[39m+\u001b[39m\u001b[39m1\u001b[39m ] \u001b[39m=\u001b[39m \u001b[39m1.0\u001b[39m\n\u001b[1;32m   2064\u001b[0m \u001b[39mfor\u001b[39;00m rti \u001b[39min\u001b[39;00m W[\u001b[39m'\u001b[39m\u001b[39mrti\u001b[39m\u001b[39m'\u001b[39m]: rti[::rti\u001b[39m.\u001b[39msize[\u001b[39m0\u001b[39m]\u001b[39m+\u001b[39m\u001b[39m1\u001b[39m ] \u001b[39m=\u001b[39m \u001b[39m1.0\u001b[39m\n\u001b[0;32m-> 2065\u001b[0m \u001b[39mtry\u001b[39;00m: f \u001b[39m=\u001b[39m kktsolver(W)\n\u001b[1;32m   2066\u001b[0m \u001b[39mexcept\u001b[39;00m \u001b[39mArithmeticError\u001b[39;00m:\n\u001b[1;32m   2067\u001b[0m     \u001b[39mraise\u001b[39;00m \u001b[39mValueError\u001b[39;00m(\u001b[39m\"\u001b[39m\u001b[39mRank(A) < p or Rank([P; A; G]) < n\u001b[39m\u001b[39m\"\u001b[39m)\n",
      "File \u001b[0;32m~/opt/anaconda3/envs/atari/lib/python3.9/site-packages/cvxopt/coneprog.py:1981\u001b[0m, in \u001b[0;36mconeqp.<locals>.kktsolver\u001b[0;34m(W)\u001b[0m\n\u001b[1;32m   1980\u001b[0m \u001b[39mdef\u001b[39;00m \u001b[39mkktsolver\u001b[39m(W):\n\u001b[0;32m-> 1981\u001b[0m     \u001b[39mreturn\u001b[39;00m factor(W, P)\n",
      "File \u001b[0;32m~/opt/anaconda3/envs/atari/lib/python3.9/site-packages/cvxopt/misc.py:1418\u001b[0m, in \u001b[0;36mkkt_chol2.<locals>.factor\u001b[0;34m(W, H, Df)\u001b[0m\n\u001b[1;32m   1414\u001b[0m \u001b[39mif\u001b[39;00m mnl: base\u001b[39m.\u001b[39mgemm(spmatrix(W[\u001b[39m'\u001b[39m\u001b[39mdnli\u001b[39m\u001b[39m'\u001b[39m], \u001b[39mlist\u001b[39m(\u001b[39mrange\u001b[39m(mnl)), \n\u001b[1;32m   1415\u001b[0m     \u001b[39mlist\u001b[39m(\u001b[39mrange\u001b[39m(mnl))), Df, F[\u001b[39m'\u001b[39m\u001b[39mDfs\u001b[39m\u001b[39m'\u001b[39m], partial \u001b[39m=\u001b[39m \u001b[39mTrue\u001b[39;00m)\n\u001b[1;32m   1417\u001b[0m \u001b[39m# Gs = Wl^{-1} * G.\u001b[39;00m\n\u001b[0;32m-> 1418\u001b[0m base\u001b[39m.\u001b[39;49mgemm(spmatrix(W[\u001b[39m'\u001b[39;49m\u001b[39mdi\u001b[39;49m\u001b[39m'\u001b[39;49m], \u001b[39mlist\u001b[39;49m(\u001b[39mrange\u001b[39;49m(ml)), \u001b[39mlist\u001b[39;49m(\u001b[39mrange\u001b[39;49m(ml))), \n\u001b[1;32m   1419\u001b[0m     G, F[\u001b[39m'\u001b[39;49m\u001b[39mGs\u001b[39;49m\u001b[39m'\u001b[39;49m], partial \u001b[39m=\u001b[39;49m \u001b[39mTrue\u001b[39;49;00m)\n\u001b[1;32m   1421\u001b[0m \u001b[39mif\u001b[39;00m F[\u001b[39m'\u001b[39m\u001b[39mfirstcall\u001b[39m\u001b[39m'\u001b[39m]:\n\u001b[1;32m   1422\u001b[0m     base\u001b[39m.\u001b[39msyrk(F[\u001b[39m'\u001b[39m\u001b[39mGs\u001b[39m\u001b[39m'\u001b[39m], F[\u001b[39m'\u001b[39m\u001b[39mS\u001b[39m\u001b[39m'\u001b[39m], trans \u001b[39m=\u001b[39m \u001b[39m'\u001b[39m\u001b[39mT\u001b[39m\u001b[39m'\u001b[39m) \n",
      "\u001b[0;31mKeyboardInterrupt\u001b[0m: "
     ]
    }
   ],
   "source": [
    "#\n",
    "\"\"\"\n",
    "Fix Wigner constraint for dynamic feature bank updating\n",
    "KKT sparsty\n",
    "\"\"\"\n",
    "\n",
    "solvers.options['show_progress'] = False\n",
    "solvers.options['abstol'] = 1e-7\n",
    "solvers.options['reltol'] = 1e-6\n",
    "qpopt.verbose = False\n",
    "np.random.seed(0)\n",
    "max_iter = int(1e2)\n",
    "\n",
    "# option\n",
    "# 0: w = Gn\n",
    "# 1: w = Gn/Gt\n",
    "# 2: w = binary\n",
    "option = 0\n",
    "if option != 0:\n",
    "    raise ValueError(\"other weight options not implemented\")\n",
    "\n",
    "unc = 0.01\n",
    "chi2_step = 0.05\n",
    "\n",
    "res_par_avg = make_res_par_avg(D_avg = 8.79, Gn_avg = 46.4e-3, n_dof = 1, Gg_avg = 64e-3, g_dof = 1e3, print = False)\n",
    "\n",
    "if option == 0:\n",
    "    thr = {'ub':res_par_avg['Gn01'],'lb':res_par_avg['Gn01']/10}\n",
    "else:\n",
    "    thr = {'ub':1e-5,'lb':1e-6}\n",
    "thr['chi2_tol'] = 1e-3\n",
    "\n",
    "w_threshold = 1e-6\n",
    "prob = cls.ProblemHandler(w_threshold)\n",
    "\n",
    "### make syndat\n",
    "# E = np.transpose(np.linspace(0, res_par_avg['D99']*2, num = int(5e2)))\n",
    "# while True:\n",
    "#     Er_true, Gn_true, Gt_true = sample_res_par(res_par_avg,max(E))\n",
    "#     if len(Er_true) > 2:\n",
    "#         break\n",
    "# sigma = make_sigma(E,Er_true, Gn_true, Gt_true)\n",
    "# data = make_data(sigma, unc)\n",
    "Er_true = dc.theoretical_parameters['true'].resonance_ladder[\"E\"].values\n",
    "Gn_true = dc.theoretical_parameters['true'].resonance_ladder[\"Gnx\"].values\n",
    "Gt_true = dc.theoretical_parameters['true'].resonance_ladder[\"Gt\"].values\n",
    "E = dc.pw.exp.E\n",
    "E = E[np.isfinite(dc.pw.exp.exp_cs)]\n",
    "sigma = dc.pw.exp.theo_cs\n",
    "data = dc.pw.exp.exp_cs.values.reshape((-1,1))\n",
    "\n",
    "### Initial solve \n",
    "chi2_old = 0\n",
    "for i in range(max_iter):\n",
    "        \n",
    "    if chi2_old == 0:\n",
    "        # for first itteration, build a feature bank based on some grid and qunatiles\n",
    "        # Er, Gt, Gn = build_feature_vectors(E, option, num_Er = int(1e2), num_Gt = int(3), res_par_avg = res_par_avg)\n",
    "        Er, Gt, Gn = fn.get_parameter_grid_new(dc.pw.exp.E, res_par_avg, num_Er=int(3e2), num_Gt=int(20))\n",
    "        # Gt = np.append(Gt, np.round(np.array(dc.theoretical_parameters['true'].resonance_ladder.Gt),1)*1e-3 )\n",
    "        # Er = np.append(Er, np.round(np.array(dc.theoretical_parameters['true'].resonance_ladder.E),1))\n",
    "    else:\n",
    "        # all subsequent itterations refine the feature bank\n",
    "        Er, Gt, Gn = refine_feature_vectors(Er, x, thr, option, Gt, res_par_avg)\n",
    "\n",
    "    # build actual feature bank matrices and constraints\n",
    "    # A, C, d, Er, Gt, Gn, x_true = build_feature_bank(E, res_par_avg, option, Er_true, Gt_true, Gn_true, Er, Gt, Gn)\n",
    "    fb0 = prob.get_FeatureBank(dc, Er, Gt)\n",
    "    data, cov, fb0.potential_scattering, fb0.feature_matrix, index_0T = fn.remove_nan_values(np.array(dc.pw.exp.exp_xs), np.array(dc.pw.CovXS), fb0.potential_scattering, fb0.feature_matrix)\n",
    "    data = data.reshape((-1,1))\n",
    "    data_corrected = data-fb0.potential_scattering\n",
    "    # index_0T=[]\n",
    "    C, d = build_constraints(Er, Gt, res_par_avg, index_0T, dc, fb0, Gn=[1])\n",
    "\n",
    "    ### make and solve min(chi2) with quadratic program\n",
    "    # P, q, G, h = make_qp_input(A,data,C,d)   # G=C, h=d    P = matrix( np.transpose(A).dot(A)), q = matrix(-np.transpose(A).dot(data))\n",
    "    P, q, G, h = make_qp_input(fb0.feature_matrix, data_corrected, C, d)\n",
    "\n",
    "    \n",
    "    # inp0 = prob.get_MatrixInputs(dc, fb0)\n",
    "\n",
    "    # print(np.linalg.norm((sigma-data)/unc)**2/len(E))\n",
    "    # plot(A, x_true, data, unc, Er, Gt, Gn, Er_true, Gn_true, Gt_true, res_par_avg, thr, option)  \n",
    "    if option == 0:       \n",
    "        theta = len(Er_true)*res_par_avg['Gn99']\n",
    "    else:\n",
    "        theta = len(Er_true)\n",
    "    fb0.w_bounds = (0, theta)\n",
    "    \n",
    "    x = qp_solve(P, q, G, h, theta, x0 = None)\n",
    "    fb0.solution_ws = x\n",
    "    # fb0.solution_ws = cls.Solvers.solve_quadratic_program(inp0, qpopt)\n",
    "    # x = fb0.solution_ws\n",
    "\n",
    "    # plot(A, x, data, unc, Er, Gt, Gn, Er_true, Gn_true, Gt_true, res_par_avg, thr, option)  \n",
    "    chi2_new = np.linalg.norm(fb0.model-data) #((fb0.feature_matrix @ fb0.solution_ws).flatten() + fb0.potential_scattering)\n",
    "    # print(np.linalg.norm(fb0.model-data))\n",
    "    # chi2_new = chi2_val(fb0.model, data, dc.pw.CovXS)  #!!! Need to do something like cholesky decomp to get chi2 calculation into cvxopt qcl1 constraint!\n",
    "    #                                                       Otherwise, it eliminates too many of the resonances whenever I solve it and I run out of them!\n",
    "    print(chi2_new)\n",
    "    figure()\n",
    "    plot(fb0.model, 'b', lw=3)\n",
    "    plot(data, '.k')\n",
    "\n",
    "    ### solve min(|weights|) with constraint on chi2  - https://cvxopt.org/userguide/coneprog.html#exploiting-structure\n",
    "    x1, z = qcl1(matrix(fb0.feature_matrix/chi2_new), matrix((data_corrected)/chi2_new))    \n",
    "    # x1 = min_w() \n",
    "\n",
    "    # ### Handle failed solve\n",
    "    if x1 is not None:      \n",
    "        x1 = np.array(x1)                 \n",
    "        # plot(fb0.feature_matrix, x1, data, unc, Er, Gt, Gn, Er_true, Gn_true, Gt_true, res_par_avg, thr, option)        \n",
    "        x = x1      \n",
    "    else:\n",
    "        print('KKT Failed')\n",
    "    \n",
    "    fb0.solution_ws = x\n",
    "    print(np.linalg.norm(fb0.model-data))\n",
    "    # print(chi2_new)\n",
    "    plot(fb0.model, 'r')\n",
    "\n",
    "    ### evaluate new chi2, if improvement is greater than some threshold -> loop with refined feature bank\n",
    "    if abs(chi2_new-chi2_old)/chi2_new < thr['chi2_tol']:\n",
    "        break\n",
    "    else:\n",
    "        chi2_old = chi2_new\n"
   ]
  },
  {
   "cell_type": "code",
   "execution_count": null,
   "metadata": {},
   "outputs": [
    {
     "data": {
      "text/plain": [
       "10.862351042705617"
      ]
     },
     "execution_count": 49,
     "metadata": {},
     "output_type": "execute_result"
    }
   ],
   "source": [
    "np.linalg.norm((fb0.feature_matrix.dot(x)-(data-fb0.potential_scattering)))#/unc)**2/len(E)"
   ]
  },
  {
   "cell_type": "code",
   "execution_count": null,
   "metadata": {},
   "outputs": [],
   "source": [
    "A = fb0.feature_matrix.copy()\n",
    "unc =0.1\n",
    "chi2_step = 1"
   ]
  },
  {
   "cell_type": "markdown",
   "metadata": {},
   "source": [
    "#### Step up in chi2 constraint until there are zeros resonances\n",
    "Could also do a bisection here to ensure that we get all intger number of resonances"
   ]
  },
  {
   "cell_type": "code",
   "execution_count": null,
   "metadata": {},
   "outputs": [
    {
     "ename": "ValueError",
     "evalue": "x and y must have same first dimension, but have shapes (647,) and (638, 1)",
     "output_type": "error",
     "traceback": [
      "\u001b[0;31m---------------------------------------------------------------------------\u001b[0m",
      "\u001b[0;31mValueError\u001b[0m                                Traceback (most recent call last)",
      "Cell \u001b[0;32mIn[53], line 19\u001b[0m\n\u001b[1;32m     16\u001b[0m A_new \u001b[39m=\u001b[39m collapse_feature_bank(Er,Gt,Gn,thr,A,x,option,res_par_avg)    \n\u001b[1;32m     18\u001b[0m figure()\n\u001b[0;32m---> 19\u001b[0m plot(E,data\u001b[39m-\u001b[39;49mfb0\u001b[39m.\u001b[39;49mpotential_scattering,\u001b[39m'\u001b[39;49m\u001b[39m.\u001b[39;49m\u001b[39m'\u001b[39;49m) \n\u001b[1;32m     20\u001b[0m plot(E,A_new)\n\u001b[1;32m     21\u001b[0m \u001b[39m# title(str(('num res=',len(Er_lb),'chi2=',np.linalg.norm((A.dot(x)-(data-fb0.potential_scattering))/unc)**2/len(E))))\u001b[39;00m\n",
      "File \u001b[0;32m~/opt/anaconda3/envs/atari/lib/python3.9/site-packages/matplotlib/pyplot.py:2740\u001b[0m, in \u001b[0;36mplot\u001b[0;34m(scalex, scaley, data, *args, **kwargs)\u001b[0m\n\u001b[1;32m   2738\u001b[0m \u001b[39m@_copy_docstring_and_deprecators\u001b[39m(Axes\u001b[39m.\u001b[39mplot)\n\u001b[1;32m   2739\u001b[0m \u001b[39mdef\u001b[39;00m \u001b[39mplot\u001b[39m(\u001b[39m*\u001b[39margs, scalex\u001b[39m=\u001b[39m\u001b[39mTrue\u001b[39;00m, scaley\u001b[39m=\u001b[39m\u001b[39mTrue\u001b[39;00m, data\u001b[39m=\u001b[39m\u001b[39mNone\u001b[39;00m, \u001b[39m*\u001b[39m\u001b[39m*\u001b[39mkwargs):\n\u001b[0;32m-> 2740\u001b[0m     \u001b[39mreturn\u001b[39;00m gca()\u001b[39m.\u001b[39;49mplot(\n\u001b[1;32m   2741\u001b[0m         \u001b[39m*\u001b[39;49margs, scalex\u001b[39m=\u001b[39;49mscalex, scaley\u001b[39m=\u001b[39;49mscaley,\n\u001b[1;32m   2742\u001b[0m         \u001b[39m*\u001b[39;49m\u001b[39m*\u001b[39;49m({\u001b[39m\"\u001b[39;49m\u001b[39mdata\u001b[39;49m\u001b[39m\"\u001b[39;49m: data} \u001b[39mif\u001b[39;49;00m data \u001b[39mis\u001b[39;49;00m \u001b[39mnot\u001b[39;49;00m \u001b[39mNone\u001b[39;49;00m \u001b[39melse\u001b[39;49;00m {}), \u001b[39m*\u001b[39;49m\u001b[39m*\u001b[39;49mkwargs)\n",
      "File \u001b[0;32m~/opt/anaconda3/envs/atari/lib/python3.9/site-packages/matplotlib/axes/_axes.py:1662\u001b[0m, in \u001b[0;36mAxes.plot\u001b[0;34m(self, scalex, scaley, data, *args, **kwargs)\u001b[0m\n\u001b[1;32m   1419\u001b[0m \u001b[39m\u001b[39m\u001b[39m\"\"\"\u001b[39;00m\n\u001b[1;32m   1420\u001b[0m \u001b[39mPlot y versus x as lines and/or markers.\u001b[39;00m\n\u001b[1;32m   1421\u001b[0m \n\u001b[0;32m   (...)\u001b[0m\n\u001b[1;32m   1659\u001b[0m \u001b[39m(``'green'``) or hex strings (``'#008000'``).\u001b[39;00m\n\u001b[1;32m   1660\u001b[0m \u001b[39m\"\"\"\u001b[39;00m\n\u001b[1;32m   1661\u001b[0m kwargs \u001b[39m=\u001b[39m cbook\u001b[39m.\u001b[39mnormalize_kwargs(kwargs, mlines\u001b[39m.\u001b[39mLine2D)\n\u001b[0;32m-> 1662\u001b[0m lines \u001b[39m=\u001b[39m [\u001b[39m*\u001b[39m\u001b[39mself\u001b[39m\u001b[39m.\u001b[39m_get_lines(\u001b[39m*\u001b[39margs, data\u001b[39m=\u001b[39mdata, \u001b[39m*\u001b[39m\u001b[39m*\u001b[39mkwargs)]\n\u001b[1;32m   1663\u001b[0m \u001b[39mfor\u001b[39;00m line \u001b[39min\u001b[39;00m lines:\n\u001b[1;32m   1664\u001b[0m     \u001b[39mself\u001b[39m\u001b[39m.\u001b[39madd_line(line)\n",
      "File \u001b[0;32m~/opt/anaconda3/envs/atari/lib/python3.9/site-packages/matplotlib/axes/_base.py:311\u001b[0m, in \u001b[0;36m_process_plot_var_args.__call__\u001b[0;34m(self, data, *args, **kwargs)\u001b[0m\n\u001b[1;32m    309\u001b[0m     this \u001b[39m+\u001b[39m\u001b[39m=\u001b[39m args[\u001b[39m0\u001b[39m],\n\u001b[1;32m    310\u001b[0m     args \u001b[39m=\u001b[39m args[\u001b[39m1\u001b[39m:]\n\u001b[0;32m--> 311\u001b[0m \u001b[39myield from\u001b[39;00m \u001b[39mself\u001b[39;49m\u001b[39m.\u001b[39;49m_plot_args(\n\u001b[1;32m    312\u001b[0m     this, kwargs, ambiguous_fmt_datakey\u001b[39m=\u001b[39;49mambiguous_fmt_datakey)\n",
      "File \u001b[0;32m~/opt/anaconda3/envs/atari/lib/python3.9/site-packages/matplotlib/axes/_base.py:504\u001b[0m, in \u001b[0;36m_process_plot_var_args._plot_args\u001b[0;34m(self, tup, kwargs, return_kwargs, ambiguous_fmt_datakey)\u001b[0m\n\u001b[1;32m    501\u001b[0m     \u001b[39mself\u001b[39m\u001b[39m.\u001b[39maxes\u001b[39m.\u001b[39myaxis\u001b[39m.\u001b[39mupdate_units(y)\n\u001b[1;32m    503\u001b[0m \u001b[39mif\u001b[39;00m x\u001b[39m.\u001b[39mshape[\u001b[39m0\u001b[39m] \u001b[39m!=\u001b[39m y\u001b[39m.\u001b[39mshape[\u001b[39m0\u001b[39m]:\n\u001b[0;32m--> 504\u001b[0m     \u001b[39mraise\u001b[39;00m \u001b[39mValueError\u001b[39;00m(\u001b[39mf\u001b[39m\u001b[39m\"\u001b[39m\u001b[39mx and y must have same first dimension, but \u001b[39m\u001b[39m\"\u001b[39m\n\u001b[1;32m    505\u001b[0m                      \u001b[39mf\u001b[39m\u001b[39m\"\u001b[39m\u001b[39mhave shapes \u001b[39m\u001b[39m{\u001b[39;00mx\u001b[39m.\u001b[39mshape\u001b[39m}\u001b[39;00m\u001b[39m and \u001b[39m\u001b[39m{\u001b[39;00my\u001b[39m.\u001b[39mshape\u001b[39m}\u001b[39;00m\u001b[39m\"\u001b[39m)\n\u001b[1;32m    506\u001b[0m \u001b[39mif\u001b[39;00m x\u001b[39m.\u001b[39mndim \u001b[39m>\u001b[39m \u001b[39m2\u001b[39m \u001b[39mor\u001b[39;00m y\u001b[39m.\u001b[39mndim \u001b[39m>\u001b[39m \u001b[39m2\u001b[39m:\n\u001b[1;32m    507\u001b[0m     \u001b[39mraise\u001b[39;00m \u001b[39mValueError\u001b[39;00m(\u001b[39mf\u001b[39m\u001b[39m\"\u001b[39m\u001b[39mx and y can be no greater than 2D, but have \u001b[39m\u001b[39m\"\u001b[39m\n\u001b[1;32m    508\u001b[0m                      \u001b[39mf\u001b[39m\u001b[39m\"\u001b[39m\u001b[39mshapes \u001b[39m\u001b[39m{\u001b[39;00mx\u001b[39m.\u001b[39mshape\u001b[39m}\u001b[39;00m\u001b[39m and \u001b[39m\u001b[39m{\u001b[39;00my\u001b[39m.\u001b[39mshape\u001b[39m}\u001b[39;00m\u001b[39m\"\u001b[39m)\n",
      "\u001b[0;31mValueError\u001b[0m: x and y must have same first dimension, but have shapes (647,) and (638, 1)"
     ]
    },
    {
     "data": {
      "application/vnd.jupyter.widget-view+json": {
       "model_id": "6a778ae9ae834dc89a3eb08fb78d93ae",
       "version_major": 2,
       "version_minor": 0
      },
      "image/png": "[encoded data removed]",
      "text/html": [
       "\n",
       "            <div style=\"display: inline-block;\">\n",
       "                <div class=\"jupyter-widgets widget-label\" style=\"text-align: center;\">\n",
       "                    Figure\n",
       "                </div>\n",
       "                <img src='data:image/png;base64,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' width=640.0/>\n",
       "            </div>\n",
       "        "
      ],
      "text/plain": [
       "Canvas(toolbar=Toolbar(toolitems=[('Home', 'Reset original view', 'home', 'home'), ('Back', 'Back to previous …"
      ]
     },
     "metadata": {},
     "output_type": "display_data"
    }
   ],
   "source": [
    "\n",
    "### After initial solve, begin to step up in chi2 constraint on min(|weights|) solve \n",
    "steps = 0\n",
    "while True:\n",
    "    chi2_new += chi2_step\n",
    "    # x1, z = qcl1(matrix(A/chi2_new), matrix(data/chi2_new))        \n",
    "    x1, z = qcl1(matrix(A/chi2_new), matrix((data-fb0.potential_scattering)/chi2_new))    \n",
    "    \n",
    "    if x1 is not None:      \n",
    "        x1 = np.array(x1 )         \n",
    "        x = x1 \n",
    "        \n",
    "        Er_lb, Er_ub = collapse_Er(Er,x,res_par_avg)\n",
    "        if Er_lb.size == 0:\n",
    "            break\n",
    "\n",
    "        A_new = collapse_feature_bank(Er,Gt,Gn,thr,A,x,option,res_par_avg)    \n",
    "\n",
    "        figure()\n",
    "        plot(E,data-fb0.potential_scattering,'.') \n",
    "        plot(E,A_new)\n",
    "        # title(str(('num res=',len(Er_lb),'chi2=',np.linalg.norm((A.dot(x)-(data-fb0.potential_scattering))/unc)**2/len(E))))\n",
    "        title(str(('num res=',len(Er_lb),'chi2=',np.linalg.norm((A.dot(x)-(data-fb0.potential_scattering))) )))\n",
    "        for iEr in range(len(Er_true)):\n",
    "            axvline(Er_true[iEr],color='red'  ,alpha=0.2)    \n",
    "        for iEr in range(len(Er_lb)):\n",
    "            fill_between(np.linspace(Er_lb[iEr],Er_ub[iEr]), 0, max(sigma), alpha=0.1, color='green')\n",
    "        # show() \n",
    "              \n",
    "    else:\n",
    "        print('KKT Failed')\n",
    "\n",
    "    steps += 1\n",
    "    if steps == 3:\n",
    "        break"
   ]
  },
  {
   "cell_type": "code",
   "execution_count": null,
   "metadata": {},
   "outputs": [],
   "source": [
    "## Plotting combined features\n",
    "# numres = 4\n",
    "# # numres_other = 9\n",
    "# rxn = 'xs'\n",
    "# E = fine_egrid(dc.pw.exp.E, ppeV=1000)\n",
    "# before, _, _ = SLBW(E, Ta_pair, fill_resonance_ladder(ires_resladder, Ta_pair, J=3.0, chs=1, lwave=0.0, J_ID=1) )\n",
    "# combined, _, _ = SLBW(E, Ta_pair, fill_resonance_ladder(ires_resladder_combined, Ta_pair, J=3.0, chs=1, lwave=0.0, J_ID=1) )\n",
    "\n",
    "# figure()\n",
    "# # plot(dc.pw.fine.E, dc.pw.fine[f'theo_{rxn}'], 'g', lw=5)\n",
    "# plot(dc.pw.exp.E, dc.pw.exp[f'exp_{rxn}'], '.k')\n",
    "\n",
    "# plot(E, before, 'b', lw=2)\n",
    "# plot(E, combined, 'r', lw=1)\n",
    "# # # plot(dc.pw.exp.E, integer_feature_solutions[numres_other].model, 'b', lw=2)\n",
    "# plot(dc.pw.exp.E, integer_feature_solutions[numres].model, 'r', lw=1)"
   ]
  },
  {
   "cell_type": "code",
   "execution_count": null,
   "metadata": {},
   "outputs": [
    {
     "ename": "NameError",
     "evalue": "name 'target_numres' is not defined",
     "output_type": "error",
     "traceback": [
      "\u001b[0;31m---------------------------------------------------------------------------\u001b[0m",
      "\u001b[0;31mNameError\u001b[0m                                 Traceback (most recent call last)",
      "Cell \u001b[0;32mIn[123], line 3\u001b[0m\n\u001b[1;32m      1\u001b[0m \u001b[39m### Here's where I handle resonances at the same energies and those with weights very small\u001b[39;00m\n\u001b[1;32m      2\u001b[0m integer_resonance_solutions \u001b[39m=\u001b[39m {}\n\u001b[0;32m----> 3\u001b[0m \u001b[39mfor\u001b[39;00m numres \u001b[39min\u001b[39;00m target_numres[target_wcon\u001b[39m!=\u001b[39m\u001b[39m0\u001b[39m]:\n\u001b[1;32m      4\u001b[0m     ires_featurebank \u001b[39m=\u001b[39m integer_feature_solutions[numres]\n\u001b[1;32m      5\u001b[0m     ires_resladder \u001b[39m=\u001b[39m ires_featurebank\u001b[39m.\u001b[39mget_parameter_solution()\n",
      "\u001b[0;31mNameError\u001b[0m: name 'target_numres' is not defined"
     ]
    }
   ],
   "source": [
    "### Here's where I handle resonances at the same energies and those with weights very small\n",
    "integer_resonance_solutions = {}\n",
    "for numres in target_numres[target_wcon!=0]:\n",
    "    ires_featurebank = integer_feature_solutions[numres]\n",
    "    ires_resladder = ires_featurebank.get_parameter_solution()\n",
    "\n",
    "    ires_resladder_combined = ires_resladder.groupby(ires_resladder['E'], group_keys=False).apply(calculate_combined_parameters).reset_index(drop=True)\n",
    "    ires_resladder_combined = ires_resladder_combined.drop(ires_resladder_combined[ires_resladder_combined['w'] < prob.w_threshold].index)\n",
    "    new_numres = len(ires_resladder_combined)\n",
    "\n",
    "    ires_resladder_combined = fill_resonance_ladder(ires_resladder_combined, Ta_pair, J=3.0, chs=1, lwave=0.0, J_ID=1)\n",
    "    integer_resonance_solutions[new_numres] = {'prior':ires_resladder_combined}\n",
    "\n",
    "    # add prior to dc\n",
    "    est_par_builder = BuildTheoreticalParameters_fromATARI(f'{new_numres}_prior', ires_resladder_combined, Ta_pair)\n",
    "    est_par = est_par_builder.construct()\n",
    "    dc.add_theoretical_parameters(est_par)\n",
    "\n",
    "integer_resonance_solutions.keys()"
   ]
  },
  {
   "cell_type": "code",
   "execution_count": null,
   "metadata": {},
   "outputs": [],
   "source": [
    "# integer_resonance_solutions[10]"
   ]
  },
  {
   "cell_type": "code",
   "execution_count": null,
   "metadata": {},
   "outputs": [],
   "source": [
    "# numres = 4\n",
    "# numres_other = 7\n",
    "# rxn = 'trans'\n",
    "\n",
    "# figure()\n",
    "# # plot(dc.pw.exp.E, dc.pw.exp[f'theo_{rxn}'], 'g', lw=5)\n",
    "# plot(dc.pw.exp.E, dc.pw.exp[f'exp_{rxn}'], '.k')\n",
    "# plot(dc.pw.exp.E, dc.pw.exp[f'{numres_other}_prior_{rxn}'], 'b', lw=2)\n",
    "# plot(dc.pw.exp.E, dc.pw.exp[f'{numres}_prior_{rxn}'], 'r', lw=1)\n",
    "# # plot(dc.pw.exp.E, integer_feature_solutions[numres_other].model, 'b', lw=2)\n",
    "# # plot(dc.pw.exp.E, integer_feature_solutions[numres].model, 'r', lw=1)\n",
    "# # ylim([-0.1, dc.exp_par.max_xs])\n",
    "\n",
    "# # print(chi2_val(dc.pw.exp[f'{numres}_prior_{rxn}'], dc.pw.exp[f'exp_{rxn}'], dc.pw.CovT))"
   ]
  },
  {
   "cell_type": "code",
   "execution_count": null,
   "metadata": {},
   "outputs": [],
   "source": []
  },
  {
   "attachments": {},
   "cell_type": "markdown",
   "metadata": {},
   "source": [
    "## Step 4, run GLLS on transmission with reduced, unconstrained solution from 3 as prior"
   ]
  },
  {
   "cell_type": "code",
   "execution_count": null,
   "metadata": {},
   "outputs": [],
   "source": [
    "from ATARI.sammy_interface import sammy_functions, sammy_classes\n",
    "sammyRTO = sammy_classes.SammyRunTimeOptions(\n",
    "    path_to_SAMMY_exe = '/Users/noahwalton/gitlab/sammy/sammy/build/bin/sammy',\n",
    "    model = 'SLBW',\n",
    "    reaction = 'transmission',\n",
    "    solve_bayes = True,\n",
    "    experimental_corrections = 'no_exp',\n",
    "    one_spingroup = True,\n",
    "    energy_window = None,\n",
    "    sammy_runDIR = 'SAMMY_runDIR_1',\n",
    "    keep_runDIR = False,\n",
    "    shell = 'zsh'\n",
    "    )"
   ]
  },
  {
   "cell_type": "code",
   "execution_count": null,
   "metadata": {},
   "outputs": [
    {
     "data": {
      "text/plain": [
       "dict_keys([0, 1, 2, 3, 4, 5, 6, 7, 8, 9, 11, 13, 15, 16])"
      ]
     },
     "execution_count": 31,
     "metadata": {},
     "output_type": "execute_result"
    }
   ],
   "source": [
    "integer_resonance_solutions.keys()"
   ]
  },
  {
   "cell_type": "code",
   "execution_count": null,
   "metadata": {},
   "outputs": [],
   "source": [
    "\n",
    "from ATARI.utils.stats import chi2_val\n",
    "from ATARI.atari_io.internal import fill_resonance_ladder\n",
    "from ATARI.sammy_interface import sammy_functions\n",
    "\n",
    "def run_sammy_return_full_ladder(sammyINP, sammyRTO):\n",
    "    pw_posterior, par_posterior = sammy_functions.run_sammy(sammyINP, sammyRTO)\n",
    "\n",
    "    par_posterior.rename(columns={'Gn1':'Gnx'}, inplace=True)\n",
    "    par_posterior = fill_resonance_ladder(par_posterior, Ta_pair, J=3.0,\n",
    "                                                    chs=1.0,\n",
    "                                                    lwave=0.0,\n",
    "                                                    J_ID= 1.0  )\n",
    "\n",
    "    return pw_posterior, par_posterior\n",
    "\n",
    "\n",
    "def run_recursive_sammy(sammyINP, sammyRTO, pw_prior, exp_df, CovT, Dchi2_threshold = 0.1):\n",
    "   \n",
    "    Dchi2 = 100\n",
    "    pw_posterior_new = None\n",
    "    par_posterior_new = sammyINP.resonance_ladder\n",
    "    while Dchi2 > Dchi2_threshold:\n",
    "\n",
    "        pw_posterior = pw_posterior_new\n",
    "        par_posterior = par_posterior_new\n",
    "        sammyINP.resonance_ladder = par_posterior\n",
    "        pw_posterior_new, par_posterior_new = run_sammy_return_full_ladder(sammyINP, sammyRTO)\n",
    "\n",
    "        [df.sort_values('E', axis=0, ascending=True, inplace=True) for df in [pw_posterior_new, exp_df]]\n",
    "        [df.reset_index(drop=True, inplace=True) for df in [pw_posterior_new, exp_df]]\n",
    "        CovT.sort_index(axis='index', inplace=True)\n",
    "        CovT.sort_index(axis='columns', inplace=True)\n",
    "\n",
    "        # [df.sort_values('E', axis=0, ascending=True, inplace=True) for df in [pw_posterior_new, exp_df]]\n",
    "        # [df.reset_index(drop=True, inplace=True) for df in [pw_posterior_new, exp_df]]\n",
    "        # CovT.sort_index(axis='index', inplace=True)\n",
    "        # CovT.sort_index(axis='columns', inplace=True)\n",
    "        # chi2_prior = stats.chi2_val(pw_posterior_new.theo_trans, exp_df.exp_trans, CovT)\n",
    "        # chi2_posterior = stats.chi2_val(pw_posterior_new.theo_trans_bayes, exp_df.exp_trans, CovT)\n",
    "\n",
    "        # chi2_prior = stats.chi2_val(pw_posterior_new.theo_trans[::-1], exp_df.exp_trans[::-1], CovT)\n",
    "        # chi2_posterior = stats.chi2_val(pw_posterior_new.theo_trans_bayes[::-1], exp_df.exp_trans[::-1], CovT)\n",
    "\n",
    "        chi2_prior = chi2_val(pw_posterior_new.theo_trans, exp_df.exp_trans, CovT)\n",
    "        chi2_posterior = chi2_val(pw_posterior_new.theo_trans_bayes, exp_df.exp_trans, CovT)\n",
    "\n",
    "        Dchi2 = chi2_prior - chi2_posterior\n",
    "\n",
    "        # if chi2_posterior/len(pw_posterior_new) < 100:\n",
    "        #     sammyINP.initial_parameter_uncertainty = 0.3\n",
    "        # elif chi2_posterior/len(pw_posterior_new) < 1:\n",
    "        #     sammyINP.initial_parameter_uncertainty = 0.2\n",
    "    return pw_posterior, par_posterior"
   ]
  },
  {
   "cell_type": "code",
   "execution_count": null,
   "metadata": {},
   "outputs": [
    {
     "name": "stdout",
     "output_type": "stream",
     "text": [
      "Running recursive sammy for case 5\n",
      "Model '5_post' already exists in pw.exp, bypassing pointwise reconstruction\n"
     ]
    }
   ],
   "source": [
    "### Run GLLS\n",
    "for numres in [5]:#integer_resonance_solutions.keys():\n",
    "    if numres == 0:\n",
    "        continue\n",
    "    prior = integer_resonance_solutions[numres]['prior']\n",
    "    \n",
    "    sammyINP = sammy_classes.SammyInputData(\n",
    "        particle_pair = Ta_pair,\n",
    "        resonance_ladder = prior, \n",
    "        experimental_data = dc.pw.exp, \n",
    "        experimental_cov = dc.pw.CovT, \n",
    "        initial_parameter_uncertainty = 0.2\n",
    "    )\n",
    "    print(f'Running recursive sammy for case {numres}')\n",
    "    lst, posterior = run_recursive_sammy(sammyINP, sammyRTO, dc.pw.exp[f'{numres}_prior_trans'], dc.pw.exp, dc.pw.CovT, Dchi2_threshold=0.01)\n",
    "    # lst, posterior = sammy_functions.run_sammy(sammyINP, sammyRTO)\n",
    "\n",
    "    posterior.rename(columns={\"Gn1\":\"Gnx\"},inplace=True)\n",
    "    ## if posterior is worse than prior, re-run\n",
    "    posterior = fill_resonance_ladder(posterior, Ta_pair, J=3.0, chs=1, lwave=0.0, J_ID=1)\n",
    "    integer_resonance_solutions[numres]['posterior'] = posterior\n",
    "\n",
    "    est_par_builder = BuildTheoreticalParameters_fromATARI(f'{numres}_post', posterior, Ta_pair)\n",
    "    est_par = est_par_builder.construct()\n",
    "    dc.add_theoretical_parameters(est_par)\n",
    "\n",
    "dc.models_to_pw()"
   ]
  },
  {
   "cell_type": "code",
   "execution_count": null,
   "metadata": {},
   "outputs": [
    {
     "data": {
      "text/html": [
       "<div>\n",
       "<style scoped>\n",
       "    .dataframe tbody tr th:only-of-type {\n",
       "        vertical-align: middle;\n",
       "    }\n",
       "\n",
       "    .dataframe tbody tr th {\n",
       "        vertical-align: top;\n",
       "    }\n",
       "\n",
       "    .dataframe thead th {\n",
       "        text-align: right;\n",
       "    }\n",
       "</style>\n",
       "<table border=\"1\" class=\"dataframe\">\n",
       "  <thead>\n",
       "    <tr style=\"text-align: right;\">\n",
       "      <th></th>\n",
       "      <th>E</th>\n",
       "      <th>Gt</th>\n",
       "      <th>Gnx</th>\n",
       "      <th>Gg</th>\n",
       "      <th>w</th>\n",
       "      <th>J</th>\n",
       "      <th>chs</th>\n",
       "      <th>lwave</th>\n",
       "      <th>J_ID</th>\n",
       "      <th>gnx2</th>\n",
       "    </tr>\n",
       "  </thead>\n",
       "  <tbody>\n",
       "    <tr>\n",
       "      <th>0</th>\n",
       "      <td>92.800000</td>\n",
       "      <td>57.530397</td>\n",
       "      <td>0.266763</td>\n",
       "      <td>57.263633</td>\n",
       "      <td>0.000267</td>\n",
       "      <td>3.0</td>\n",
       "      <td>1</td>\n",
       "      <td>0.0</td>\n",
       "      <td>1</td>\n",
       "      <td>7.798086</td>\n",
       "    </tr>\n",
       "    <tr>\n",
       "      <th>1</th>\n",
       "      <td>99.000000</td>\n",
       "      <td>63.530296</td>\n",
       "      <td>0.140043</td>\n",
       "      <td>63.390253</td>\n",
       "      <td>0.000140</td>\n",
       "      <td>3.0</td>\n",
       "      <td>1</td>\n",
       "      <td>0.0</td>\n",
       "      <td>1</td>\n",
       "      <td>3.963516</td>\n",
       "    </tr>\n",
       "    <tr>\n",
       "      <th>2</th>\n",
       "      <td>99.023007</td>\n",
       "      <td>93.530397</td>\n",
       "      <td>0.078253</td>\n",
       "      <td>93.452143</td>\n",
       "      <td>0.000078</td>\n",
       "      <td>3.0</td>\n",
       "      <td>1</td>\n",
       "      <td>0.0</td>\n",
       "      <td>1</td>\n",
       "      <td>2.214468</td>\n",
       "    </tr>\n",
       "    <tr>\n",
       "      <th>3</th>\n",
       "      <td>105.023007</td>\n",
       "      <td>57.530397</td>\n",
       "      <td>0.008972</td>\n",
       "      <td>57.521425</td>\n",
       "      <td>0.000009</td>\n",
       "      <td>3.0</td>\n",
       "      <td>1</td>\n",
       "      <td>0.0</td>\n",
       "      <td>1</td>\n",
       "      <td>0.246530</td>\n",
       "    </tr>\n",
       "    <tr>\n",
       "      <th>4</th>\n",
       "      <td>108.200000</td>\n",
       "      <td>93.530397</td>\n",
       "      <td>0.021017</td>\n",
       "      <td>93.509380</td>\n",
       "      <td>0.000021</td>\n",
       "      <td>3.0</td>\n",
       "      <td>1</td>\n",
       "      <td>0.0</td>\n",
       "      <td>1</td>\n",
       "      <td>0.568962</td>\n",
       "    </tr>\n",
       "  </tbody>\n",
       "</table>\n",
       "</div>"
      ],
      "text/plain": [
       "            E         Gt       Gnx         Gg         w    J  chs  lwave  \\\n",
       "0   92.800000  57.530397  0.266763  57.263633  0.000267  3.0    1    0.0   \n",
       "1   99.000000  63.530296  0.140043  63.390253  0.000140  3.0    1    0.0   \n",
       "2   99.023007  93.530397  0.078253  93.452143  0.000078  3.0    1    0.0   \n",
       "3  105.023007  57.530397  0.008972  57.521425  0.000009  3.0    1    0.0   \n",
       "4  108.200000  93.530397  0.021017  93.509380  0.000021  3.0    1    0.0   \n",
       "\n",
       "   J_ID      gnx2  \n",
       "0     1  7.798086  \n",
       "1     1  3.963516  \n",
       "2     1  2.214468  \n",
       "3     1  0.246530  \n",
       "4     1  0.568962  "
      ]
     },
     "execution_count": 37,
     "metadata": {},
     "output_type": "execute_result"
    }
   ],
   "source": [
    "dc.theoretical_parameters['5_prior'].resonance_ladder"
   ]
  },
  {
   "cell_type": "code",
   "execution_count": null,
   "metadata": {},
   "outputs": [
    {
     "name": "stderr",
     "output_type": "stream",
     "text": [
      "/Users/noahwalton/opt/anaconda3/envs/atari/lib/python3.9/site-packages/ipywidgets/widgets/widget.py:502: DeprecationWarning: Passing unrecognized arguments to super(Toolbar).__init__().\n",
      "__init__() missing 1 required positional argument: 'canvas'\n",
      "This is deprecated in traitlets 4.2.This error will be raised in a future release of traitlets.\n",
      "  super().__init__(**kwargs)\n"
     ]
    },
    {
     "data": {
      "text/plain": [
       "[<matplotlib.lines.Line2D at 0x7f920a6bc640>]"
      ]
     },
     "execution_count": 38,
     "metadata": {},
     "output_type": "execute_result"
    },
    {
     "data": {
      "application/vnd.jupyter.widget-view+json": {
       "model_id": "437498522ffa4b6a8b493e21d90cdcc0",
       "version_major": 2,
       "version_minor": 0
      },
      "image/png": "[encoded data removed]",
      "text/html": [
       "\n",
       "            <div style=\"display: inline-block;\">\n",
       "                <div class=\"jupyter-widgets widget-label\" style=\"text-align: center;\">\n",
       "                    Figure\n",
       "                </div>\n",
       "                <img src='data:image/png;base64,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' width=640.0/>\n",
       "            </div>\n",
       "        "
      ],
      "text/plain": [
       "Canvas(toolbar=Toolbar(toolitems=[('Home', 'Reset original view', 'home', 'home'), ('Back', 'Back to previous …"
      ]
     },
     "metadata": {},
     "output_type": "display_data"
    }
   ],
   "source": [
    "# dc.theoretical_parameters['3_post'].resonance_ladder #.keys()\n",
    "\n",
    "figure()\n",
    "plot(dc.pw.exp.E, dc.pw.exp['true_trans'], 'g')\n",
    "plot(dc.pw.exp.E, dc.pw.exp['5_prior_trans'], 'b')\n",
    "plot(dc.pw.exp.E, dc.pw.exp['5_post_trans'], 'r')\n",
    "plot(dc.pw.exp.E, dc.pw.exp.exp_trans, '.k')"
   ]
  },
  {
   "cell_type": "code",
   "execution_count": null,
   "metadata": {},
   "outputs": [
    {
     "data": {
      "text/plain": [
       "[(642.6677276853724, 'true'),\n",
       " (34008.03804751533, '0_prior'),\n",
       " (30195.45631063132, '1_prior'),\n",
       " (809.0860109512934, '2_prior'),\n",
       " (761.3116362157965, '3_prior'),\n",
       " (755.6633892655166, '4_prior'),\n",
       " (732.4268334767725, '5_prior'),\n",
       " (731.2366152237604, '6_prior'),\n",
       " (730.2573056081044, '7_prior'),\n",
       " (728.8304510595933, '8_prior'),\n",
       " (727.7728481972074, '9_prior'),\n",
       " (726.8841701421162, '11_prior'),\n",
       " (726.1210785319432, '13_prior'),\n",
       " (725.5592926230319, '15_prior'),\n",
       " (725.4654040727328, '16_prior'),\n",
       " (680.8087001843618, '5_post')]"
      ]
     },
     "execution_count": 39,
     "metadata": {},
     "output_type": "execute_result"
    }
   ],
   "source": [
    "### Calculate Chi2 on trans\n",
    "[ (chi2_val(dc.pw.exp[f'{numres}_trans'], dc.pw.exp.exp_trans, dc.pw.CovT), numres) for numres in dc.theoretical_parameters.keys()]"
   ]
  },
  {
   "cell_type": "code",
   "execution_count": null,
   "metadata": {},
   "outputs": [],
   "source": [
    "### Interrogate\n",
    "\n",
    "# print(dc.est_par['9_prior'].resonance_ladder[['E','Gt','Gnx','Gg','w']])\n",
    "# # print(dc.est_par['10_prior'].resonance_ladder[['E','Gt','Gnx','Gg','w']])\n",
    "# test, _,_ = SLBW(dc.pw.exp.E, Ta_pair, dc.est_par['9_prior'].resonance_ladder)\n",
    "\n",
    "# rxn = 'xs'\n",
    "# less = dc.pw.exp[f'9_prior_{rxn}']\n",
    "# more = dc.pw.exp[f'10_prior_{rxn}']\n",
    "\n",
    "# dat =dc.pw.exp[f'exp_{rxn}']\n",
    "# figure()\n",
    "# plot(dc.pw.exp.E, dc.pw.exp[f'theo_{rxn}'], 'g', lw=5)\n",
    "# plot(dc.pw.exp.E, dat, '.k')\n",
    "# plot(dc.pw.exp.E, less, 'b', lw=4)\n",
    "# # plot(dc.pw.exp.E, more, 'r', lw=1)\n",
    "# plot(dc.pw.exp.E, test, 'k', lw=1)\n",
    "\n",
    "# # plot(dc.pw.exp.E, (less-dat)**2, 'b', lw=2)\n",
    "# # plot(dc.pw.exp.E, (more-dat)**2, 'r', lw=1)\n",
    "\n",
    "# print(chi2_val(less, dat, np.array(dc.pw.CovT)))\n",
    "# # print(np.sum((less-dat)**2))\n",
    "# print(chi2_val(more, dat, np.array(dc.pw.CovT)))\n",
    "# # print(np.sum((more-dat)**2))"
   ]
  },
  {
   "cell_type": "code",
   "execution_count": null,
   "metadata": {},
   "outputs": [],
   "source": [
    "### Interrogate some more\n",
    "\n",
    "# numres = 5\n",
    "# inumres = numres-min(target_numres)\n",
    "\n",
    "# # constrained unreduced\n",
    "# constrained_solution = target_sol_ws[:, inumres]\n",
    "\n",
    "# fb3, solw_reduced = prob.reduce_FeatureBank(fb1, constrained_solution)\n",
    "# inp3 = prob.get_MatrixInputs(dc, fb3)\n",
    "# fb3.solution_ws = Solvers.solve_quadratic_program(inp3)\n",
    "\n",
    "# prior = fb3.get_parameter_solution()\n",
    "# prior = fill_resonance_ladder(prior, Ta_pair, J=3.0, chs=1, lwave=0.0, J_ID=1)\n",
    "\n",
    "# sammyINP = sammy_classes.SammyInputData(\n",
    "#     particle_pair = Ta_pair,\n",
    "#     resonance_ladder = prior, \n",
    "#     experimental_data = dc.pw.exp, \n",
    "#     experimental_cov = dc.pw.CovT, \n",
    "# )\n",
    "\n",
    "# lst, posterior = sammy_functions.run_sammy(sammyINP, sammyRTO)\n",
    "# posterior = fill_resonance_ladder(posterior, Ta_pair, J=3.0, chs=1, lwave=0.0, J_ID=1)\n",
    "\n",
    "# print(chi2_val(lst.theo_trans, dc.pw.exp.exp_trans, dc.pw.CovT))\n",
    "# print(chi2_val(lst.theo_trans_bayes, dc.pw.exp.exp_trans, dc.pw.CovT))\n",
    "# print(prior[['E','Gt','Gnx']])\n",
    "# print(posterior[['E','Gt','Gnx']])"
   ]
  },
  {
   "cell_type": "code",
   "execution_count": null,
   "metadata": {},
   "outputs": [],
   "source": [
    "### Run individual bayes\n",
    "\n",
    "\n",
    "# numres = 7\n",
    "# inumres = numres-min(target_numres)\n",
    "\n",
    "# constrained_solution = target_sol_ws[:, inumres]\n",
    "\n",
    "# fb3, solw_reduced = prob.reduce_FeatureBank(fb1, constrained_solution)\n",
    "# inp3 = prob.get_MatrixInputs(dc, fb3)\n",
    "# # fb3.solution_ws = cls.Solvers.solve_quadratic_program(inp3, qpopt)\n",
    "\n",
    "# # prior = fb3.get_parameter_solution()\n",
    "# # prior = fill_resonance_ladder(prior, Ta_pair, J=3.0, chs=1, lwave=0.0, J_ID=1)\n",
    "\n",
    "# # est_par_builder = BuildTheoreticalParameters_fromATARI('test_prior', prior, Ta_pair)\n",
    "# # est_par = est_par_builder.construct()\n",
    "# # dc.add_theoretical_parameters(est_par)\n",
    "  \n",
    "# # sammyINP = sammy_classes.SammyInputData(\n",
    "# #     particle_pair = Ta_pair,\n",
    "# #     resonance_ladder = prior, \n",
    "# #     experimental_data = dc.pw.exp, \n",
    "# #     experimental_cov = dc.pw.CovT, \n",
    "# #     initial_parameter_uncertainty = 0.2\n",
    "# # )\n",
    "\n",
    "\n",
    "# print(f'Running recursive sammy for case {numres}')\n",
    "# lst, posterior = run_recursive_sammy(sammyINP, sammyRTO, dc.pw.exp, dc.pw.CovT, Dchi2_threshold=0.1)\n",
    "\n",
    "\n",
    "# posterior.rename(columns={'Gn1':'Gnx'}, inplace=True)\n",
    "# posterior = fill_resonance_ladder(posterior, Ta_pair, J=3.0, chs=1, lwave=0.0, J_ID=1)\n",
    "\n",
    "\n",
    "# est_par_builder = BuildTheoreticalParameters_fromATARI('test_post', posterior, Ta_pair)\n",
    "# est_par = est_par_builder.construct()\n",
    "# dc.add_theoretical_parameters(est_par)\n",
    "\n",
    "# dc.models_to_pw()"
   ]
  },
  {
   "cell_type": "code",
   "execution_count": null,
   "metadata": {},
   "outputs": [],
   "source": [
    "# figure()\n",
    "# plot(dc.pw.exp.E, dc.pw.exp.exp_xs, '.k')\n",
    "# plot(dc.pw.exp.E, np.flipud(fb3.model))\n"
   ]
  },
  {
   "cell_type": "code",
   "execution_count": null,
   "metadata": {},
   "outputs": [
    {
     "name": "stdout",
     "output_type": "stream",
     "text": [
      "true\n",
      "0_prior\n",
      "1_prior\n",
      "2_prior\n",
      "3_prior\n",
      "4_prior\n",
      "5_prior\n",
      "6_prior\n",
      "7_prior\n",
      "8_prior\n",
      "9_prior\n",
      "11_prior\n",
      "13_prior\n",
      "15_prior\n",
      "16_prior\n",
      "5_post\n"
     ]
    },
    {
     "data": {
      "text/plain": [
       "[None,\n",
       " None,\n",
       " None,\n",
       " None,\n",
       " None,\n",
       " None,\n",
       " None,\n",
       " None,\n",
       " None,\n",
       " None,\n",
       " None,\n",
       " None,\n",
       " None,\n",
       " None,\n",
       " None,\n",
       " None]"
      ]
     },
     "execution_count": 52,
     "metadata": {},
     "output_type": "execute_result"
    }
   ],
   "source": [
    "\n",
    "# print(chi2_val(dc.pw.exp['7_prior_trans'], dc.pw.exp.exp_trans, dc.pw.CovT))\n",
    "# print(chi2_val(dc.pw.exp['7_post_trans'], dc.pw.exp.exp_trans, dc.pw.CovT))\n",
    "# # print(prior[['E','Gt','Gnx']])\n",
    "# # print(posterior[['E','Gt','Gnx']])\n",
    "\n",
    "# figure()\n",
    "# plot(dc.pw.exp.E, dc.pw.exp[f'true_trans'], 'g', lw=3)\n",
    "# plot(dc.pw.exp.E, dc.pw.exp[f'exp_trans'], '.k')\n",
    "# plot(dc.pw.exp.E, dc.pw.exp['7_prior_trans'], 'b', lw=1)\n",
    "# plot(dc.pw.exp.E, dc.pw.exp['7_post_trans'], 'r', lw=1)\n",
    "\n",
    "[print(key) for key in dc.theoretical_parameters.keys()]"
   ]
  },
  {
   "attachments": {},
   "cell_type": "markdown",
   "metadata": {},
   "source": [
    "## Step 5, Likelihood ratio test on each of the posterior solutions to determine which number of resonances we should have"
   ]
  },
  {
   "cell_type": "code",
   "execution_count": null,
   "metadata": {},
   "outputs": [
    {
     "data": {
      "text/plain": [
       "array([[  5.        , 680.80870018]])"
      ]
     },
     "execution_count": 53,
     "metadata": {},
     "output_type": "execute_result"
    }
   ],
   "source": [
    "# [ (chi2_val(dc.pw.exp[f'{numres}_trans'], dc.pw.exp.exp_trans, dc.pw.CovT), numres) for numres in dc.est_par.keys()]\n",
    "\n",
    "posterior_ires_chi2 = [ (int(key.split('_')[0]),\n",
    "                          chi2_val(dc.pw.exp[f'{key}_trans'], dc.pw.exp.exp_trans, dc.pw.CovT))\n",
    "                              for key in dc.theoretical_parameters.keys() if key!='true' and key!='final' and key.split('_')[1]=='post']\n",
    "posterior_ires_chi2 = np.array(posterior_ires_chi2)\n",
    "posterior_ires_chi2 = posterior_ires_chi2[posterior_ires_chi2[:, 0].argsort()]\n",
    "posterior_ires_chi2"
   ]
  },
  {
   "cell_type": "code",
   "execution_count": null,
   "metadata": {},
   "outputs": [
    {
     "name": "stdout",
     "output_type": "stream",
     "text": [
      "5_post\n",
      "680.8087001843618\n"
     ]
    }
   ],
   "source": [
    "for key in dc.theoretical_parameters.keys():\n",
    "    if key!='true' and key!='final' and key.split('_')[1]=='post':\n",
    "        print(key)\n",
    "        print(chi2_val(dc.pw.exp[f'{key}_trans'], dc.pw.exp.exp_trans, dc.pw.CovT))"
   ]
  },
  {
   "cell_type": "code",
   "execution_count": null,
   "metadata": {},
   "outputs": [
    {
     "name": "stdout",
     "output_type": "stream",
     "text": [
      "inf\n",
      "Model Selected: 5.0\n"
     ]
    },
    {
     "name": "stderr",
     "output_type": "stream",
     "text": [
      "/Users/noahwalton/opt/anaconda3/envs/atari/lib/python3.9/site-packages/scipy/stats/_multivariate.py:583: RuntimeWarning: overflow encountered in exp\n",
      "  out = np.exp(self._logpdf(x, mean, cov_object))\n"
     ]
    }
   ],
   "source": [
    "import numpy as np\n",
    "from scipy.stats import chi2\n",
    "\n",
    "def likelihood_ratio_test(X2_null, X2_alt, df):\n",
    "    \"\"\"\n",
    "    Perform a likelihood ratio test for nested models.\n",
    "\n",
    "    Args:\n",
    "        LLmin: Log-likelihood of the null (restricted) model.\n",
    "        LLmax: Log-likelihood of the alternative (unrestricted) model.\n",
    "        df: Degrees of freedom difference between the two models.\n",
    "\n",
    "    Returns:\n",
    "        lrt_stat: Likelihood ratio test statistic.\n",
    "        p_value: p-value associated with the test statistic.\n",
    "    \"\"\"\n",
    "    # lrt_stat = 2 * (LLalt - LLnull)\n",
    "    lrt_stat = X2_null - X2_alt\n",
    "    p_value = 1 - chi2.cdf(lrt_stat, df)\n",
    "    return lrt_stat, p_value\n",
    "\n",
    "def likelihood_val(fit):\n",
    "    return sts.multivariate_normal.pdf( np.array(dc.pw.exp.exp_trans), fit, np.array(dc.pw.CovT) )\n",
    "    \n",
    "\n",
    "### Find first plausible model\n",
    "for i in range(len(posterior_ires_chi2)):\n",
    "    likelihood = likelihood_val( np.array(dc.pw.exp[f'{int(posterior_ires_chi2[i,0])}_post_trans']) )\n",
    "\n",
    "    print(np.log(likelihood))\n",
    "    if np.log(likelihood) >= -100:\n",
    "        istart = i\n",
    "        break\n",
    "    elif i == len(posterior_ires_chi2)-1:\n",
    "        istart = 0\n",
    "        break\n",
    "\n",
    "\n",
    "\n",
    "\n",
    "inull = istart \n",
    "ialt = inull\n",
    "iend = np.shape(posterior_ires_chi2)[0]\n",
    "\n",
    "significance_level = 0.05\n",
    "\n",
    "while ialt < iend:\n",
    "\n",
    "    # reset p_value\n",
    "    p_value = 1.0\n",
    "\n",
    "    while p_value > significance_level:\n",
    "\n",
    "        ialt += 1\n",
    "        if ialt == iend:\n",
    "            break\n",
    "        df_diff = posterior_ires_chi2[ialt][0]*3 - posterior_ires_chi2[inull][0]*3\n",
    "        lrt_stat, p_value = likelihood_ratio_test(posterior_ires_chi2[inull][1], posterior_ires_chi2[ialt][1], df_diff)\n",
    "        print(f\"Model {posterior_ires_chi2[inull][0]} vs. Model {posterior_ires_chi2[ialt][0]}:\\n p={p_value} D={lrt_stat}\")\n",
    "        # print(f\"D: {lrt_stat}\")\n",
    "        # print(f\"P-value: {p_value}\")\n",
    "\n",
    "    if ialt == iend:\n",
    "        selected_model_ires = int(posterior_ires_chi2[inull][0])\n",
    "        break\n",
    "    else:\n",
    "        inull = ialt\n",
    "\n",
    "print(f'Model Selected: {posterior_ires_chi2[inull][0]}')"
   ]
  },
  {
   "cell_type": "code",
   "execution_count": null,
   "metadata": {},
   "outputs": [],
   "source": [
    "# iresnull = 2\n",
    "# iresalt = 5\n",
    "\n",
    "# rxn = 'trans'\n",
    "# null = dc.pw.exp[f'{iresnull}_post_{rxn}']\n",
    "# alt = dc.pw.exp[f'{iresalt}_post_{rxn}']\n",
    "\n",
    "# dat =dc.pw.exp[f'exp_{rxn}']\n",
    "# figure()\n",
    "# plot(dc.pw.exp.E, dc.pw.exp[f'true_{rxn}'], 'g', lw=3)\n",
    "# plot(dc.pw.exp.E, dat, '.k')\n",
    "# plot(dc.pw.exp.E, null, 'b', lw=1)\n",
    "# plot(dc.pw.exp.E, alt, 'r', lw=1)\n",
    "\n",
    "\n",
    "# print(chi2_val(null, dat, dc.pw.CovT))\n",
    "# print(chi2_val(alt, dat, dc.pw.CovT))\n",
    "\n",
    "# for each in dc.theoretical_parameters[f'{iresnull}_post'].resonance_ladder.E:\n",
    "#     axvline(each, ymin=0.93,ymax=1, alpha=1, color='b', lw=3)\n",
    "\n",
    "# for each in dc.theoretical_parameters[f'{iresalt}_post'].resonance_ladder.E:\n",
    "#     axvline(each, ymin=0.93,ymax=1, alpha=1, color='r', lw=1)\n"
   ]
  },
  {
   "cell_type": "code",
   "execution_count": null,
   "metadata": {},
   "outputs": [],
   "source": [
    "final_estimate = dc.theoretical_parameters[f'{selected_model_ires}_post'].resonance_ladder\n",
    "\n",
    "# import time\n",
    "# start_time = time.time()\n",
    "# # final_estimate = main(args)\n",
    "# end_time = time.time()\n",
    "# elapsed_time = end_time - start_time\n",
    "# final_estimate['tfit'] = np.ones(len(final_estimate))*elapsed_time\n",
    "# final_estimate\n",
    "# final_estimate.to_csv(f'./par_est_{casenum}.csv')\n",
    "\n",
    "\n",
    "final_par = BuildTheoreticalParameters_fromATARI('final', final_estimate, Ta_pair)\n",
    "dc.add_theoretical_parameters(final_par)\n",
    "dc.mem_2_full()\n",
    "dc.models_to_pw()"
   ]
  },
  {
   "cell_type": "code",
   "execution_count": null,
   "metadata": {},
   "outputs": [],
   "source": [
    "# print(dc.theoretical_parameters[f'{selected_model_ires}_prior'].resonance_ladder)\n",
    "# print(dc.theoretical_parameters[f'{selected_model_ires}_post'].resonance_ladder)\n",
    "\n",
    "# print(dc.theoretical_parameters['true'].resonance_ladder)\n"
   ]
  },
  {
   "cell_type": "code",
   "execution_count": null,
   "metadata": {},
   "outputs": [
    {
     "name": "stdout",
     "output_type": "stream",
     "text": [
      "Chi2 estimate to data: 680.8087001843618\n",
      "Chi2 true to data: 642.6677276853724\n",
      "Integral SE estimate to true: 44.366647826534866\n"
     ]
    },
    {
     "name": "stderr",
     "output_type": "stream",
     "text": [
      "/Users/noahwalton/opt/anaconda3/envs/atari/lib/python3.9/site-packages/ipywidgets/widgets/widget.py:502: DeprecationWarning: Passing unrecognized arguments to super(Toolbar).__init__().\n",
      "__init__() missing 1 required positional argument: 'canvas'\n",
      "This is deprecated in traitlets 4.2.This error will be raised in a future release of traitlets.\n",
      "  super().__init__(**kwargs)\n"
     ]
    },
    {
     "data": {
      "text/plain": [
       "[<matplotlib.lines.Line2D at 0x7fe42925e2b0>]"
      ]
     },
     "execution_count": 59,
     "metadata": {},
     "output_type": "execute_result"
    },
    {
     "data": {
      "application/vnd.jupyter.widget-view+json": {
       "model_id": "7614b09946174e41bd320d5b0feabd4b",
       "version_major": 2,
       "version_minor": 0
      },
      "image/png": "[encoded data removed]",
      "text/html": [
       "\n",
       "            <div style=\"display: inline-block;\">\n",
       "                <div class=\"jupyter-widgets widget-label\" style=\"text-align: center;\">\n",
       "                    Figure\n",
       "                </div>\n",
       "                <img src='data:image/png;base64,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' width=640.0/>\n",
       "            </div>\n",
       "        "
      ],
      "text/plain": [
       "Canvas(toolbar=Toolbar(toolitems=[('Home', 'Reset original view', 'home', 'home'), ('Back', 'Back to previous …"
      ]
     },
     "metadata": {},
     "output_type": "display_data"
    },
    {
     "data": {
      "application/vnd.jupyter.widget-view+json": {
       "model_id": "086ed028215a4e54a0e9ff2f106e3538",
       "version_major": 2,
       "version_minor": 0
      },
      "image/png": "[encoded data removed]",
      "text/html": [
       "\n",
       "            <div style=\"display: inline-block;\">\n",
       "                <div class=\"jupyter-widgets widget-label\" style=\"text-align: center;\">\n",
       "                    Figure\n",
       "                </div>\n",
       "                <img src='data:image/png;base64,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' width=640.0/>\n",
       "            </div>\n",
       "        "
      ],
      "text/plain": [
       "Canvas(toolbar=Toolbar(toolitems=[('Home', 'Reset original view', 'home', 'home'), ('Back', 'Back to previous …"
      ]
     },
     "metadata": {},
     "output_type": "display_data"
    }
   ],
   "source": [
    "est_chi_square = (dc.pw.exp.exp_trans-dc.pw.exp.final_trans) @ inv(dc.pw.CovT) @ (dc.pw.exp.exp_trans-dc.pw.exp.final_trans).T\n",
    "sol_chi_square = (dc.pw.exp.exp_trans-dc.pw.exp.true_trans) @ inv(dc.pw.CovT) @ (dc.pw.exp.exp_trans-dc.pw.exp.true_trans).T\n",
    "from scipy import integrate\n",
    "est_sol_MSE = integrate.trapezoid((dc.pw.fine.true_xs-dc.pw.fine.final_xs)**2, dc.pw.fine.E)\n",
    "\n",
    "print(f'Chi2 estimate to data: {est_chi_square}')\n",
    "print(f'Chi2 true to data: {sol_chi_square}')\n",
    "print(f'Integral SE estimate to true: {est_sol_MSE}')\n",
    "\n",
    "\n",
    "figure()\n",
    "plot(dc.pw.fine.E, dc.pw.fine.true_xs, 'g')\n",
    "plot(dc.pw.fine.E, dc.pw.fine.final_xs, 'r')\n",
    "yscale('log')\n",
    "# ylim([0,dc.exp_par.max_xs+100])\n",
    "figure()\n",
    "plot(dc.pw.exp.E, dc.pw.exp.true_trans, 'g')\n",
    "plot(dc.pw.exp.E, dc.pw.exp.final_trans, 'r')\n",
    "\n",
    "# plot(dc.pw.exp.E, dc.pw.exp[f'{selected_model_ires}_post'], 'b')\n",
    "\n",
    "plot(dc.pw.exp.E, dc.pw.exp.exp_trans, '.k')\n"
   ]
  },
  {
   "attachments": {},
   "cell_type": "markdown",
   "metadata": {},
   "source": [
    "## Notes\n",
    "\n",
    "#### Initial uncertainty on parameters in sammy\n",
    "should be large, we don't have a prior we just want the GLLS to converge.\n",
    "\n",
    "Fudge factor cant be too larger for numerics:\n",
    " - M' = (M^-1 + (G.T @ V^-1 @ G.T) )^-1\n",
    " - first term is full rank, second is not guranteed (it is if NEpts>=NPar). Becasue the first term is full rank, then adding it to the second makes the whole thing full rank and therefore invertable. However, if the first term (M^-1 or 1/prior variance) is driven numerically to 0, then you are left with only the second term. If it is not full rank it won't be invertable then the thing will not be numerically stable. \n",
    "\n",
    "#### Sammy is not always converging\n",
    "- could run sammy multiple times?\n",
    "- also, the problem is resolved when I 'cheat' with the resonance energies. I think having multiple small resonances right on top of one another is causing sammy to run away.\n",
    "\n",
    "\n",
    "#### Unexpected behavior when finding integer number of resonances\n",
    "Often times the weight constrained solution for an integer number of resonances will have selected a smaller resonance than expected when there's a larger existing resonance that would drive the chi2 even lower. I believe this is a problem with not finding the maximum weight solution to an integer number of resonances.\n",
    "\n",
    "- Now I am driving neutron width to the total leaving 0 Gt, currently hard coded max Gn = Gt-0.005\n",
    "\n",
    "#### LRT\n",
    "I am currently calculating the likelihood using sts.multivariate_normal.pdf. When trying to calculate it using just the chi2 to the data, I get an error because the determinate of the covariance matrix is 0... This seems incorrect.\n",
    "\n",
    "Using LRT for nested models only works if the nested parameter are the exact same. I don't beleive that this is the case.\n",
    "\n",
    "#### Other\n",
    "- Can cutoff weights at 1e-5 or 6 because this corresponds directly to a neutron width this small of a resonance is insignificant"
   ]
  },
  {
   "cell_type": "code",
   "execution_count": null,
   "metadata": {},
   "outputs": [],
   "source": [
    "\n"
   ]
  }
 ],
 "metadata": {
  "kernelspec": {
   "display_name": "atari",
   "language": "python",
   "name": "python3"
  },
  "language_info": {
   "codemirror_mode": {
    "name": "ipython",
    "version": 3
   },
   "file_extension": ".py",
   "mimetype": "text/x-python",
   "name": "python",
   "nbconvert_exporter": "python",
   "pygments_lexer": "ipython3",
   "version": "3.9.16"
  },
  "orig_nbformat": 4
 },
 "nbformat": 4,
 "nbformat_minor": 2
}
