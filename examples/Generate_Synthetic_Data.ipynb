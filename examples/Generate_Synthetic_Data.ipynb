{
 "cells": [
  {
   "cell_type": "code",
   "execution_count": 1,
   "metadata": {},
   "outputs": [],
   "source": [
    "import ATARI.utils.hdf5 as h5io\n",
    "from matplotlib.pyplot import *\n",
    "import numpy as np\n",
    "import pandas as pd\n",
    "import importlib\n",
    "import os\n",
    "from copy import copy\n",
    "from ATARI.sammy_interface import sammy_classes, sammy_functions, template_creator\n",
    "\n",
    "from ATARI.models.particle_pair import Particle_Pair\n",
    "from ATARI.models.experimental_model import Experimental_Model\n"
   ]
  },
  {
   "cell_type": "code",
   "execution_count": 2,
   "metadata": {},
   "outputs": [],
   "source": [
    "%matplotlib widget"
   ]
  },
  {
   "cell_type": "markdown",
   "metadata": {},
   "source": [
    "# Define generative models\n",
    "\n",
    "Neutron induced reaction measurements using the time-of-flight method can be modelled using 3 primary categories:\n",
    "1. A reaction model, represented here in ATARI the Particle_Pair class\n",
    "2. An experimental model, represented here in ATARI by the Experimental_Model class\n",
    "3. A reduction model, represented in ATARI by a Reduction_Model protocol\n",
    "\n",
    "These three models attempt to describe everything that is happenning in one of these experiments. \n",
    "Traditionally, these models are used to analyze experimental data. \n",
    "The Syndat module of the ATARI code uses these models in a generative manner, producing statistical samples of experimental data.\n",
    "\n",
    "The Generative_Model class is a container for the above three models that will be used to generate data.\n",
    "This class can be instantiated with defaults, or each of the respective models can be supplied individually.\n",
    "The following code snippet shows how these models can be created and manipulated from the defaults in the Generative Model container."
   ]
  },
  {
   "cell_type": "code",
   "execution_count": 3,
   "metadata": {},
   "outputs": [],
   "source": [
    "# # take default values and inspect each\n",
    "\n",
    "# generative_model_1 = Generative_Model()\n",
    "\n",
    "# print(\"Particle Pair Model:\\n\")\n",
    "# print(generative_model_1.particle_pair)\n",
    "\n",
    "# print()\n",
    "# print(\"Experimental Model Sammy Inputs:\")\n",
    "# print(generative_model_1.experimental_model.sammy_inputs)\n",
    "\n",
    "# print()\n",
    "# print(\"Experimental Model Sammy Inputs Altered:\")\n",
    "# generative_model_1.experimental_model.sammy_inputs = {'alphanumeric': [\"BROADENING IS NOT WANTED\"],\n",
    "#                                                       'ResFunc' : ''}\n",
    "# print(generative_model_1.experimental_model.sammy_inputs)\n",
    "\n",
    "\n",
    "# print()\n",
    "# print(\"Reduction Model:\")\n",
    "# print(generative_model_1._reduction_model)"
   ]
  },
  {
   "cell_type": "markdown",
   "metadata": {},
   "source": [
    "## Reaction Model: Particle Pair class\n",
    "Each of the 3 models can also be created outside and then added to the Generative Model container.\n",
    "These ATARI classes have additional functionality if you want to work with them at this lower level.\n",
    "The following code snippet demonstrates some of these capabilities."
   ]
  },
  {
   "cell_type": "code",
   "execution_count": 4,
   "metadata": {},
   "outputs": [
    {
     "name": "stdout",
     "output_type": "stream",
     "text": [
      "Spin group data for all parity\n",
      "(Jpi, #Chs, l-waves)\n",
      "(-4.5, 1, [1])\n",
      "(-3.5, 2, [1, 1])\n",
      "(-2.5, 2, [1, 1])\n",
      "(-1.5, 1, [1])\n",
      "(0.5, 1, [2])\n",
      "(1.5, 2, [2, 2])\n",
      "(2.5, 3, [0, 2, 2])\n",
      "(3.5, 3, [0, 2, 2])\n",
      "(4.5, 2, [2, 2])\n",
      "(5.5, 1, [2])\n",
      "\n",
      "Interrogate spin group attribute:\n",
      "{'J_ID': 1, '<D>': 8.79, '<Gn>': 46.5, 'n_dof': 1, '<Gg>': 64.0, 'g_dof': 1000, 'D01': 0.9943384234177864, 'D99': 21.284662911191237, 'Gn01': 0.007304585392801135, 'Gn99': 308.52269194748646, 'Gg01': 57.53039660349525, 'Gg99': 70.84601563854191, 'Gt01': 57.53770118888805, 'Gt99': 379.3687075860284}\n",
      "\n",
      "Resonance ladder sampled from resonance statistics:\n",
      "             E         Gg         Gn1    J J_ID varyE varyGg varyGn1\n",
      "0   206.599057  68.893429   53.570745  3.0    1   0.0    0.0     0.0\n",
      "1   223.973511  67.297201      1.3556  3.0    1   0.0    0.0     0.0\n",
      "2   242.845535  65.317575   43.653579  3.0    1   0.0    0.0     0.0\n",
      "3    248.04466  64.271643  387.733425  3.0    1   0.0    0.0     0.0\n",
      "4   208.123748   65.66196   37.191724  4.0    2   0.0    0.0     0.0\n",
      "5   210.032509  67.391364   66.897316  4.0    2   0.0    0.0     0.0\n",
      "6    217.03508  65.730172   49.123667  4.0    2   0.0    0.0     0.0\n",
      "7   221.175084  67.067836  141.519798  4.0    2   0.0    0.0     0.0\n",
      "8   223.344879  66.687115    4.600839  4.0    2   0.0    0.0     0.0\n",
      "9   229.540682  69.617915    1.508287  4.0    2   0.0    0.0     0.0\n",
      "10   230.95143  65.119425   76.507393  4.0    2   0.0    0.0     0.0\n",
      "11   237.62655  61.715837    0.002704  4.0    2   0.0    0.0     0.0\n",
      "12  238.716354  66.318595   59.117349  4.0    2   0.0    0.0     0.0\n",
      "13  242.059821  70.981622   10.404568  4.0    2   0.0    0.0     0.0\n"
     ]
    }
   ],
   "source": [
    "Ta_pair = Particle_Pair(isotope = \"Ta181\",\n",
    "                        resonance_ladder = pd.DataFrame(),\n",
    "                        formalism = \"XCT\",\n",
    "                        energy_range = [200,250],\n",
    "                        ac = 8.127,\n",
    "                        M = 180.94803,\n",
    "                        I = 3,\n",
    "                        l_max = 2\n",
    ")\n",
    "\n",
    "# print quant number map up to l_max\n",
    "Ta_pair.map_quantum_numbers(print_out=True)\n",
    "\n",
    "# add spin group information for both s-wave resonances\n",
    "Ta_pair.add_spin_group(Jpi='3.0',\n",
    "                       J_ID=1,\n",
    "                       D_avg=8.79,\n",
    "                       Gn_avg=46.5,\n",
    "                       Gn_dof=1,\n",
    "                       Gg_avg=64.0,\n",
    "                       Gg_dof=1000)\n",
    "Ta_pair.add_spin_group(Jpi='4.0',\n",
    "                       J_ID=2,\n",
    "                       D_avg=4.99,\n",
    "                       Gn_avg=35.5,\n",
    "                       Gn_dof=1,\n",
    "                       Gg_avg=64.0,\n",
    "                       Gg_dof=1000)\n",
    "\n",
    "print()\n",
    "print(\"Interrogate spin group attribute:\")\n",
    "print(Ta_pair.spin_groups['3.0'])\n",
    "\n",
    "\n",
    "print()\n",
    "print(\"Resonance ladder sampled from resonance statistics:\")\n",
    "print(Ta_pair.sample_resonance_ladder())"
   ]
  },
  {
   "cell_type": "markdown",
   "metadata": {},
   "source": [
    "## Experimental Model class & Sammy\n",
    "\n",
    "This class's primary purpose is to hold relevant experimental information used in calculating experimentally corrected resonance models with SAMMY.\n",
    "The ATARI code come with a sammy-interface module that wraps around the sammy code. For more details on this interface, see the user example notebook. \n",
    "Before the Experimental_Model can be passed to syndat, the user must define the template parameter to be a path to a sammy input template. \n",
    "\n",
    "The sammy interface has a module for creating template input files from these generative models. \n",
    "The idea is that you make the template, inspect it manually, then give it to the experimental model class to be used with syndat"
   ]
  },
  {
   "cell_type": "code",
   "execution_count": 5,
   "metadata": {},
   "outputs": [],
   "source": [
    "\n",
    "trans12mm_gen_exp = Experimental_Model(title = \"T12mm\", \n",
    "                                 reaction = \"transmission\", \n",
    "                                 energy_range = [200, 250], \n",
    "                                 template = None, \n",
    "                                 energy_grid = None, \n",
    "                                 n = (0.067166, 0.0), \n",
    "                                 FP = (35.185, 0.0), \n",
    "                                 t0 = (3326.0, 0.0), \n",
    "                                 burst = (10, 1.0), \n",
    "                                 temp = (300, 0.0), \n",
    "                                 channel_widths = { \n",
    "                                     \"maxE\": [250],\n",
    "                                     \"chw\": [100.0],\n",
    "                                     \"dchw\": [0.8]\n",
    "                                 }\n",
    ")\n",
    "\n",
    "cap12mm_gen_exp = Experimental_Model(title = \"Y12mm\", \n",
    "                                 reaction = \"capture\", \n",
    "                                 energy_range = [200, 250], \n",
    "                                 template = None, \n",
    "                                 energy_grid = None, \n",
    "                                 n = (0.067166, 0.0), \n",
    "                                 FP = (35.185, 0.0), \n",
    "                                 t0 = (3326.0, 0.0), \n",
    "                                 burst = (10, 1.0), \n",
    "                                 temp = (300, 0.0), \n",
    "                                 channel_widths = { \n",
    "                                     \"maxE\": [250],\n",
    "                                     \"chw\": [100.0],\n",
    "                                     \"dchw\": [0.8]\n",
    "                                 }\n",
    ")\n",
    "\n",
    "\n",
    "sammy_rto = sammy_classes.SammyRunTimeOptions('/Users/noahwalton/gitlab/sammy/sammy/build/bin/sammy',\n",
    "                                        {\"Print\":   True,\n",
    "                                         \"bayes\":   False,\n",
    "                                         \"keep_runDIR\": False,\n",
    "                                         \"sammy_runDIR\": \"sammy_runDIR_1\"\n",
    "                                         })\n",
    "\n",
    "template_creator.make_input_template(\n",
    "    'template_T.inp', Ta_pair, trans12mm_gen_exp, sammy_rto)\n",
    "\n",
    "template_creator.make_input_template(\n",
    "    'template_Y.inp', Ta_pair, cap12mm_gen_exp, sammy_rto)\n",
    "\n",
    "\n",
    "cap12mm_gen_exp.template = os.path.realpath('template_Y.inp')\n",
    "\n",
    "trans12mm_gen_exp.template = os.path.realpath('template_T.inp')"
   ]
  },
  {
   "cell_type": "code",
   "execution_count": 6,
   "metadata": {},
   "outputs": [
    {
     "data": {
      "text/plain": [
       "{'alphanumeric': ['USE MULTIPLE SCATTERING',\n",
       "  'INFINITE SLAB',\n",
       "  'NORMALIZE AS YIELD Rather than cross section',\n",
       "  'BROADENING IS WANTED',\n",
       "  'DO NOT SHIFT RPI RESOLUTION'],\n",
       " 'ResFunc': 'RPI C'}"
      ]
     },
     "execution_count": 6,
     "metadata": {},
     "output_type": "execute_result"
    }
   ],
   "source": [
    "cap12mm_gen_exp.sammy_inputs\n"
   ]
  },
  {
   "cell_type": "code",
   "execution_count": null,
   "metadata": {},
   "outputs": [],
   "source": []
  },
  {
   "cell_type": "markdown",
   "metadata": {},
   "source": [
    "## Measurement models\n",
    "\n",
    "Syndat needs both a generative and reductive measurement model. \n",
    "The generative model is considered 'true' and is used to generate statistical samples of raw experimental observables. \n",
    "These raw observables, however, are not used directly in evaluations, rather they are put through a data reduction model to get an object like experimental transmission or capture yield. \n",
    "By defining both a generative and reductive measurment model, Syndat can be used to investigate the impact of incorrectly specified measurement models/parameters used in the data reduction process.\n",
    "\n"
   ]
  },
  {
   "cell_type": "code",
   "execution_count": 7,
   "metadata": {},
   "outputs": [],
   "source": [
    "from ATARI.models.measurement_models.transmission_rpi import Transmission_RPI\n",
    "from ATARI.models.measurement_models.capture_yield_rpi import Capture_Yield_RPI\n",
    "from ATARI.syndat.syndat_model import Syndat_Model\n",
    "from ATARI.syndat.control import syndatOPT\n",
    "\n",
    "trans12mm_gen_meas = Transmission_RPI()\n",
    "trans12mm_red_meas = Transmission_RPI()\n",
    "\n",
    "cap12mm_gen_meas = Capture_Yield_RPI()\n",
    "cap12mm_red_meas = Capture_Yield_RPI()"
   ]
  },
  {
   "cell_type": "markdown",
   "metadata": {},
   "source": [
    "## Sampling from Syndat\n",
    "\n",
    "The syndat class contains all necessary model information. \n",
    "It also takes a syndat options class which can be instantiated with default settings.\n",
    "Once you've constructed your syndat model, the sample method can be used to draw any number of samples.\n",
    "This method takes either a sammyRTO arguement or a pw_true arguement. \n",
    "If pw_true is given, this will be taken as the true experimental function around with measurement data will be sampled. \n",
    "Usually the user will provide a sammyRTO instead which will allow the true experimental function to be reconstructed by sammy.\n",
    "This also allows new resonance ladders to be sampled each time.\n"
   ]
  },
  {
   "cell_type": "code",
   "execution_count": 8,
   "metadata": {},
   "outputs": [
    {
     "data": {
      "text/plain": [
       "calculate_covariance: True\n",
       "explicit_covariance: False\n",
       "sampleRES: True\n",
       "sampleTNCS: True\n",
       "sampleTURP: True\n",
       "sample_counting_noise: True\n",
       "save_raw_data: False\n",
       "smoothTNCS: False"
      ]
     },
     "execution_count": 8,
     "metadata": {},
     "output_type": "execute_result"
    }
   ],
   "source": [
    "synOPT = syndatOPT()\n",
    "synOPT.calculate_covariance = True\n",
    "synOPT "
   ]
  },
  {
   "cell_type": "code",
   "execution_count": 9,
   "metadata": {},
   "outputs": [],
   "source": [
    "cap12mm_gen_meas.model_parameters.neutron_spectrum"
   ]
  },
  {
   "cell_type": "code",
   "execution_count": 10,
   "metadata": {},
   "outputs": [],
   "source": [
    "# synT.sample(sammyRTO=sammy_rto, num_samples=5)\n",
    "\n",
    "syndat_trans12mm = Syndat_Model(trans12mm_gen_exp,\n",
    "                            trans12mm_gen_meas,\n",
    "                            trans12mm_red_meas,\n",
    "                            options = synOPT)\n",
    "\n",
    "syndat_trans12mm.sample(Ta_pair, \n",
    "                    sammyRTO=sammy_rto,\n",
    "                    num_samples=1)\n",
    "\n",
    "syndat_cap12mm = Syndat_Model(cap12mm_gen_exp,\n",
    "                            cap12mm_gen_meas,\n",
    "                            cap12mm_red_meas,\n",
    "                            options = synOPT)\n",
    "\n",
    "syndat_cap12mm.sample(Ta_pair, \n",
    "                    sammyRTO=sammy_rto,\n",
    "                    num_samples=1)"
   ]
  },
  {
   "cell_type": "code",
   "execution_count": 11,
   "metadata": {},
   "outputs": [
    {
     "name": "stdout",
     "output_type": "stream",
     "text": [
      "dict_keys(['Cov_sys', 'Jac_sys', 'diag_stat'])\n",
      "dict_keys([])\n"
     ]
    }
   ],
   "source": [
    "print(syndat_trans12mm.covariance_data.keys())\n",
    "print(syndat_cap12mm.covariance_data.keys())"
   ]
  },
  {
   "cell_type": "code",
   "execution_count": 10,
   "metadata": {},
   "outputs": [
    {
     "data": {
      "application/vnd.jupyter.widget-view+json": {
       "model_id": "4d82a1d8c0624d07b8cea3beeb22cbe7",
       "version_major": 2,
       "version_minor": 0
      },
      "image/png": "[encoded data removed]",
      "text/html": [
       "\n",
       "            <div style=\"display: inline-block;\">\n",
       "                <div class=\"jupyter-widgets widget-label\" style=\"text-align: center;\">\n",
       "                    Figure\n",
       "                </div>\n",
       "                <img src='data:image/png;base64,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' width=700.0/>\n",
       "            </div>\n",
       "        "
      ],
      "text/plain": [
       "Canvas(toolbar=Toolbar(toolitems=[('Home', 'Reset original view', 'home', 'home'), ('Back', 'Back to previous …"
      ]
     },
     "metadata": {},
     "output_type": "display_data"
    }
   ],
   "source": [
    "data = syndat_trans12mm.datasets[0].pw_reduced\n",
    "\n",
    "### Plot \n",
    "figure(figsize=(7,4))\n",
    "errorbar(data.E, data.exp, yerr=data.exp_unc, zorder=0,\n",
    "                                        fmt='.', color='darkgreen', linewidth=0.5, markersize=1.5, capsize=1, label='12mm')\n",
    "\n",
    "plot(data.E, data.true)\n",
    "ylabel(\"T\")\n",
    "\n",
    "### make it pretty\n",
    "xlim([200,250])\n",
    "ylim([-0.1,1.1])\n",
    "legend()\n",
    "xlabel('Energy (eV)')\n",
    "tight_layout()"
   ]
  },
  {
   "cell_type": "markdown",
   "metadata": {},
   "source": [
    "# TODO\n",
    "- Rename modules\n",
    "- implement to_hdf5\n",
    "- implement IDC for sammy YW scheme\n",
    "- develop syndat_model_correlations input\n",
    "- implement generative model parameter sampling for experimental model (into sammy, generate template each sample)"
   ]
  },
  {
   "cell_type": "markdown",
   "metadata": {},
   "source": [
    "## Syndat control module for multiple datasets\n",
    "\n",
    "The above example show how to build and sample from a complete syndat model for one experimental dataset. \n",
    "The Syndat Control Module can be used to build and sample from several syndat models at once.\n",
    "This module also allows correlations between datasets to be modelled.\n",
    "\n",
    "<!-- 1. sample resonance ladder\n",
    "For all models/datasets:\n",
    "2. sample correlated parameters\n",
    "3. sample uncorrelated parameters\n",
    "4. generate raw data \n",
    "5. reduce raw data -->"
   ]
  },
  {
   "cell_type": "code",
   "execution_count": null,
   "metadata": {},
   "outputs": [],
   "source": [
    "# trans1mm_gen_exp = Experimental_Model(title = \"T1mm\", \n",
    "#                                  reaction = \"transmission\", \n",
    "#                                  energy_range = [200, 250], \n",
    "#                                  template = None, \n",
    "#                                  energy_grid = None, \n",
    "#                                  n = (0.00566,0.0), \n",
    "#                                  FP = (100.14,0.0), \n",
    "#                                  t0 = (3326.0, 0.0), \n",
    "#                                  burst = (8, 0.0), \n",
    "#                                  temp = (294.2610, 0.0), \n",
    "#                                  channel_widths = { \n",
    "#                                      \"maxE\": [250],\n",
    "#                                      \"chw\": [100.0],\n",
    "#                                      \"dchw\": [0.8]\n",
    "#                                  }\n",
    "# )\n",
    "\n",
    "# trans1mm_gen_meas = Transmission_RPI()\n",
    "# trans1mm_red_meas = Transmission_RPI()\n",
    "\n",
    "# syndat_trans1mm = Syndat_Model(trans1mm_gen_exp,\n",
    "#                             trans1mm_gen_meas,\n",
    "#                             trans1mm_red_meas)"
   ]
  },
  {
   "cell_type": "markdown",
   "metadata": {},
   "source": [
    "### Now, put each of these syndat models into the control module class\n",
    "\n",
    "Options can be redefined here, each respective syndat model will take on the new options."
   ]
  },
  {
   "cell_type": "code",
   "execution_count": null,
   "metadata": {},
   "outputs": [],
   "source": [
    "# from ATARI.syndat.control import Syndat_Control\n",
    "\n",
    "# syndat = Syndat_Control(particle_pair= Ta_pair,\n",
    "#                         syndat_models= [syndat_trans12mm, syndat_trans1mm],\n",
    "#                         model_correlations=None,\n",
    "#                         options=synOPT\n",
    "#                         )"
   ]
  },
  {
   "cell_type": "code",
   "execution_count": null,
   "metadata": {},
   "outputs": [],
   "source": [
    "\n",
    "# ### Plot \n",
    "# fig, axes = subplots(2,1, figsize=(8,6), sharex=True)\n",
    "\n",
    "# ### Trans\n",
    "# axes[0].errorbar(data.E, data.exp, yerr=data.exp_unc, zorder=0,\n",
    "#                                         fmt='.', color='darkgreen', linewidth=0.5, markersize=1.5, capsize=1, label='12mm')\n",
    "\n",
    "# axes[0].plot(data.E, data.true)\n",
    "# axes[0].set_ylabel(\"T\")\n",
    "\n",
    "# # ### Capture\n",
    "# # axes[1].errorbar(synY.data.E, synY.data.exp, yerr=synY.data.exp_unc, zorder=0, \n",
    "# #                                         fmt='.', color='indigo', linewidth=0.5, markersize=1.5, capsize=1, label='1mm')\n",
    "# # axes[1].plot(synY.data.E, synY.data.true)\n",
    "\n",
    "# # axes[1].set_ylabel(r\"$Y_{\\gamma}$\")\n",
    "\n",
    "# ### make it pretty\n",
    "# for ax in axes:\n",
    "#     ax.set_xlim([200,250])\n",
    "#     ax.set_ylim([-0.1,1.1])\n",
    "#     ax.legend()\n",
    "\n",
    "# fig.supxlabel('Energy (eV)')\n",
    "# fig.tight_layout()"
   ]
  },
  {
   "cell_type": "code",
   "execution_count": null,
   "metadata": {},
   "outputs": [
    {
     "ename": "SyntaxError",
     "evalue": "incomplete input (1636470085.py, line 52)",
     "output_type": "error",
     "traceback": [
      "\u001b[0;36m  Cell \u001b[0;32mIn[48], line 52\u001b[0;36m\u001b[0m\n\u001b[0;31m    \u001b[0m\n\u001b[0m    ^\u001b[0m\n\u001b[0;31mSyntaxError\u001b[0m\u001b[0;31m:\u001b[0m incomplete input\n"
     ]
    }
   ],
   "source": [
    "### capture data info\n",
    "# 'n'         :   (0.067166,            0),\n",
    "# 'FP'        :   (35.185,              0),\n",
    "# 't0'        :   (3.326,               0),\n",
    "# 'bw'        :   (0.0064,              0),\n",
    "\n",
    "# exp_model_Y = experimental_model(\"Y1mm\", \"capture\", [200,250],\n",
    "                               \n",
    "#                                     parameters={\n",
    "#                                         'FP':(100.14,0.01),\n",
    "#                                         't0':(2.0, 0.0)\n",
    "#                                         } ,\n",
    "\n",
    "#                                     channel_width_info={\n",
    "#                                           \"maxE\": [500], \n",
    "#                                           \"chw\": [100.0],\n",
    "#                                           \"dchw\": [0.8]\n",
    "#                                           }\n",
    "#                                                                   )\n",
    "\n",
    "# exp_model_Y\n",
    "\n",
    "\n",
    "class model_correlation:\n",
    "    def __set_name__(self, owner, name):\n",
    "        self._name = name\n",
    "\n",
    "    def __get__(self, instance, owner) -> tuple:\n",
    "        return instance.__dict__[self._name]\n",
    "\n",
    "    def __set__(self, instance, value):\n",
    "        # instance.__dict__[self._name] = date.fromisoformat(value)\n",
    "        if isinstance(value, tuple):\n",
    "            if len(value) != 2:\n",
    "                raise ValueError(\"Tuple for parameter must be (value, uncertainty)\")\n",
    "        else:\n",
    "            raise ValueError(\"Must supply tuple for parameter value and uncertainty\")\n",
    "        instance.__dict__[self._name] = value\n",
    "\n",
    "\n",
    "class model_correlation:\n",
    "    def __init__(self):\n",
    "        pass\n",
    "\n",
    "    self._enable = [True, True, True]\n",
    "    self._model_type = 'measurement'\n",
    "    self._parameter_key = 'ks'\n",
    "    self._parameter = (0.0563, 0.02402339737495515)\n",
    "\n",
    "    def sample_true_parameter(self):\n",
    "        \n",
    "\n"
   ]
  },
  {
   "cell_type": "markdown",
   "metadata": {},
   "source": [
    "# Investigate Noise Distribution : need to update this"
   ]
  },
  {
   "cell_type": "code",
   "execution_count": null,
   "metadata": {},
   "outputs": [],
   "source": [
    "\n",
    "# jb_df = pd.read_csv(\"/Users/noahwalton/research_local/resonance_fitting/synthetic_data/Ta181/JB_sol/JB_reduction_data.csv\", index_col='Unnamed: 0')\n",
    "# jb_cov = np.load(\"/Users/noahwalton/research_local/resonance_fitting/synthetic_data/Ta181/JB_sol/JB_cov.npy\")\n",
    "# jb_sys = np.load(\"/Users/noahwalton/research_local/resonance_fitting/synthetic_data/Ta181/JB_sol/JB_syst.npy\")\n",
    "# jb_stat = np.load(\"/Users/noahwalton/research_local/resonance_fitting/synthetic_data/Ta181/JB_sol/JB_stat.npy\")\n",
    "# jb_df['bw'] = jb_df.bw*1e-6\n",
    "# realdat = jb_df.loc[(jb_df.e < 120) & (jb_df.e > 3)]\n",
    "\n",
    "\n",
    "# transdat12 = sammy_functions.readlst(\n",
    "#     \"/Users/noahwalton/research_local/resonance_fitting/ATARI_workspace/measurement_data/trans-Ta-12mm.dat\")\n",
    "# exptrans12 = Experimental_Model(title=\"trans12mm\",\n",
    "#                                 reaction=\"transmission\",\n",
    "#                                 energy_range=[2, 120],\n",
    "\n",
    "#                                 sammy_inputs={\n",
    "#                                     'alphanumeric':   [\"BROADENING IS WANTED\"],\n",
    "#                                     'ResFunc':   \"ORRES\"\n",
    "#                                 },\n",
    "\n",
    "#                                 n= (0.067166, 0.0),\n",
    "#                                 FP= (35.185, 0.0),\n",
    "#                                 burst= (8, 0.0),\n",
    "#                                 temp= (294.2610, 0.0),\n",
    "\n",
    "#                                 channel_width_info={\n",
    "#                                     \"maxE\": [270],\n",
    "#                                     \"chw\": [102.7],\n",
    "#                                     \"dchw\": [0.8]\n",
    "#                                 },\n",
    "\n",
    "#                                 additional_resfunc_lines=[\"WATER 0004 5.6822000 -0.54425 0.07733000\", \"WATER      0.5000000  0.05000 0.00700000\", \"LITHI 000  -1.000000  -1.0000 6.00000000\",\n",
    "#                                                           \"LITHI      0.1000000  0.10000 0.60000000\", \"LITHI      166.87839 -28.7093 1.260690\", \"LITHI      0.2574580 -0.06871 0.004915\"]\n",
    "#                                 )\n",
    "\n",
    "# transdat12 = transdat12[(transdat12.E < max(exptrans12.energy_range)) & (\n",
    "#     transdat12.E > min(exptrans12.energy_range))]"
   ]
  },
  {
   "cell_type": "code",
   "execution_count": null,
   "metadata": {},
   "outputs": [],
   "source": [
    "# from syndat.old.control import syndat\n",
    "# from ATARI.models.Y_reduction_rpi import yield_rpi\n",
    "# from ATARI.models.T_reduction_rpi import transmission_rpi\n",
    "\n",
    "# fit from jeff\n",
    "\n",
    "\n",
    "# sammyRTO = sammy_classes.SammyRunTimeOptions('/Users/noahwalton/gitlab/sammy/sammy/build/bin/sammy',\n",
    "#                                              {\"Print\":   True,\n",
    "#                                               \"bayes\":   False,\n",
    "#                                               \"keep_runDIR\": False\n",
    "#                                               })\n",
    "\n",
    "# matnum = 7328\n",
    "# jeff_file = \"/Users/noahwalton/research_local/data/JEFF33_endf6/73-Ta-181g.jeff33\"\n",
    "# jeff_parameters = sammy_functions.get_endf_parameters(\n",
    "#     jeff_file, matnum, sammyRTO)\n",
    "\n",
    "# jeff_parameters = jeff_parameters[(\n",
    "#     jeff_parameters.E < 120) & (jeff_parameters.E > 2)]\n",
    "# jeff_parameters[\"varyGn1\"] = np.ones(len(jeff_parameters))*1\n",
    "# jeff_parameters[\"varyGg\"] = np.ones(len(jeff_parameters))*1\n",
    "# jeff_parameters[\"varyE\"] = np.ones(len(jeff_parameters))*1\n",
    "\n",
    "\n",
    "# datasets = [transdat12]\n",
    "# experiments = [exptrans12]\n",
    "# # templates = [os.path.realpath('template_T.inp')]\n",
    "# templates = []\n",
    "# for data, exp in zip(datasets, experiments):\n",
    "#     filepath = f'template_{exp.title}'\n",
    "#     # templates are already made and edited!\n",
    "#     template_creator.make_input_template(filepath, model, exp, rto)\n",
    "#     templates.append(os.path.realpath(filepath))\n",
    "\n",
    "# sammyINPyw = sammy_classes.SammyInputDataYW(\n",
    "#     particle_pair=Ta_pair,\n",
    "#     model=model,\n",
    "#     resonance_ladder=jeff_parameters,\n",
    "\n",
    "#     datasets=datasets,\n",
    "#     templates=templates,\n",
    "#     experiments=experiments,\n",
    "\n",
    "#     max_steps=20,\n",
    "#     iterations=2,\n",
    "#     step_threshold=0.01,\n",
    "#     autoelim_threshold=None,\n",
    "\n",
    "#     LS=False,\n",
    "#     LevMar=True,\n",
    "#     LevMarV=1.5,\n",
    "#     # LevMarVd=5,\n",
    "#     initial_parameter_uncertainty=0.1\n",
    "# )\n",
    "\n",
    "# sammyRTO.bayes = True\n",
    "# sammyRTO.keep_runDIR = True\n",
    "# sammyOUT = sammy_functions.run_sammy_YW(sammyINPyw, sammyRTO)"
   ]
  },
  {
   "cell_type": "markdown",
   "metadata": {},
   "source": [
    "### Randomly sampled resonances ladders\n",
    "Usually produces a similar signal to noise ratio unless the resonance ladder is drastically different, could look at average over many repetitions? Want to match "
   ]
  },
  {
   "cell_type": "code",
   "execution_count": null,
   "metadata": {},
   "outputs": [],
   "source": [
    "\n",
    "# sammyRTO = sammy_classes.SammyRunTimeOptions('/Users/noahwalton/gitlab/sammy/sammy/build/bin/sammy',\n",
    "#                                              {\"Print\":   True,\n",
    "#                                               \"bayes\":   False,\n",
    "#                                               \"keep_runDIR\": False\n",
    "#                                               })\n",
    "\n",
    "\n",
    "# datasets = [transdat12]\n",
    "# experiments = [exptrans12]\n",
    "# # templates = [os.path.realpath('template_T.inp')]\n",
    "# templates = []\n",
    "# for data, exp in zip(datasets, experiments):\n",
    "#     filepath = f'template_{exp.title}'\n",
    "#     template_creator.make_input_template(filepath, Ta_pair, exp, rto)\n",
    "#     templates.append(os.path.realpath(filepath))\n",
    "\n",
    "# res = Ta_pair.sample_resonance_ladder([2,120])\n",
    "\n",
    "# sammyINPyw = sammy_classes.SammyInputDataYW(\n",
    "#     particle_pair=Ta_pair,\n",
    "#     resonance_ladder=res,\n",
    "\n",
    "#     datasets=datasets,\n",
    "#     templates=templates,\n",
    "#     experiments=experiments,\n",
    "# )\n",
    "\n",
    "# sammyOUT = sammy_functions.run_sammy_YW(sammyINPyw, sammyRTO)"
   ]
  },
  {
   "cell_type": "code",
   "execution_count": null,
   "metadata": {},
   "outputs": [],
   "source": [
    "\n",
    "# true_df = copy(sammyOUT.pw[0])\n",
    "# assert (isinstance(true_df, pd.DataFrame))\n",
    "# true_df = true_df[[\"E\", \"theo_trans\"]]\n",
    "# true_df.rename(columns={\"theo_trans\": \"true\"}, inplace=True)\n",
    "\n",
    "\n",
    "# generation_T1 = transmission_rpi(reduction_parameters={'trigo':   (9758727,             0),\n",
    "#                                                        'trigs':   (18476117,            0)}\n",
    "#                                                        )\n",
    "# reduction_T1 = transmission_rpi(reduction_parameters={'trigo':   (9758727,             0),\n",
    "#                                                       'trigs':   (18476117,            0)}\n",
    "#                                                       )\n",
    "\n",
    "# synT = syndat(options={})\n",
    "# synT.(true_df, generation_T1, reduction_T1, exp_model_T)"
   ]
  },
  {
   "cell_type": "code",
   "execution_count": null,
   "metadata": {},
   "outputs": [],
   "source": [
    "# figure()\n",
    "# plot(transdat12.E, transdat12.exp, 'k.', markersize=1)\n",
    "# plot(synT.data.E, synT.data.exp, 'b.', markersize=1)\n",
    "# # plot(synT.data.E, synT.data.true, 'b', markersize=1)\n",
    "# ylim([-0.1,1])"
   ]
  },
  {
   "cell_type": "code",
   "execution_count": null,
   "metadata": {},
   "outputs": [],
   "source": [
    "\n",
    "# freq = np.fft.fftfreq(len(synT.data.tof), synT.data.tof[1] - synT.data.tof[0])\n",
    "\n",
    "# Y = np.fft.fft(transdat12.exp)\n",
    "\n",
    "# Ysyn = np.fft.fft(synT.data.exp)\n",
    "# # P_signal = np.abs(Ysyn)**2\n",
    "# # P_noise = np.abs(Y[noise_indices])**2\n",
    "# # SNR = np.sum(P_signal) / np.sum(P_noise)\n",
    "\n",
    "# figure()\n",
    "# plot(freq, abs(Y), 'k.')\n",
    "# plot(freq, abs(Ysyn), 'b.')\n",
    "# ylim(-0.01, 100)\n",
    "# xlim(0)\n",
    "\n",
    "# # xscale('log')\n",
    "# # yscale('log')"
   ]
  },
  {
   "cell_type": "code",
   "execution_count": null,
   "metadata": {},
   "outputs": [],
   "source": []
  },
  {
   "cell_type": "code",
   "execution_count": null,
   "metadata": {},
   "outputs": [],
   "source": []
  }
 ],
 "metadata": {
  "kernelspec": {
   "display_name": "test",
   "language": "python",
   "name": "python3"
  },
  "language_info": {
   "codemirror_mode": {
    "name": "ipython",
    "version": 3
   },
   "file_extension": ".py",
   "mimetype": "text/x-python",
   "name": "python",
   "nbconvert_exporter": "python",
   "pygments_lexer": "ipython3",
   "version": "3.10.12"
  }
 },
 "nbformat": 4,
 "nbformat_minor": 2
}
