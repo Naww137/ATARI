{
   "cells": [
      {
         "cell_type": "code",
         "execution_count": null,
         "metadata": {},
         "outputs": [],
         "source": [
            "from ATARI.theory.resonance_statistics import make_res_par_avg\n",
            "import ATARI.utils.hdf5 as h5io\n",
            "from matplotlib.pyplot import *\n",
            "import numpy as np\n",
            "import pandas as pd\n",
            "import importlib\n",
            "import os\n",
            "from copy import copy\n",
            "from ATARI.sammy_interface import sammy_classes, sammy_functions, template_creator\n",
            "\n",
            "from ATARI.ModelData.particle_pair import Particle_Pair\n",
            "from ATARI.ModelData.experimental_model import Experimental_Model"
         ]
      },
      {
         "cell_type": "code",
         "execution_count": null,
         "metadata": {},
         "outputs": [],
         "source": [
            "sammypath = ''\n",
            "assert(sammypath != '')"
         ]
      },
      {
         "cell_type": "code",
         "execution_count": null,
         "metadata": {},
         "outputs": [],
         "source": [
            "%matplotlib widget"
         ]
      },
      {
         "cell_type": "markdown",
         "metadata": {},
         "source": [
            "# ATARI Sammy Interface\n",
            "\n",
            "This user example details basic use of the ATARI/SAMMY interface module. \n",
            "The example given here shows how to do individual sammy runs using the NV or IQ solution scheme.\n",
            "The AutoFit example will detail sammy interface with YW scheme that can be used for automatic evaluations or simultaneous data fitting."
         ]
      },
      {
         "cell_type": "code",
         "execution_count": null,
         "metadata": {},
         "outputs": [],
         "source": [
            "### setup the reaction model and sample a resonance\n",
            "Ta_pair = Particle_Pair()      \n",
            "\n",
            "Ta_pair.add_spin_group(Jpi='3.0',\n",
            "                       J_ID=1,\n",
            "                       D=8.79,\n",
            "                       gn2_avg=465,\n",
            "                       gn2_dof=1,\n",
            "                       gg2_avg=350,\n",
            "                       gg2_dof=1000)\n",
            "\n",
            "# setup experimental transmission model\n",
            "exp_model_T = Experimental_Model()\n",
            "\n",
            "\n",
            "# calculate experimentally corrected transmission or capture yield with sammy\n",
            "rto = sammy_classes.SammyRunTimeOptions(sammypath,\n",
            "                                        {\"Print\":   True,\n",
            "                                         \"bayes\":   False,\n",
            "                                         \"keep_runDIR\": True,\n",
            "                                         \"sammy_runDIR\": \"sammy_runDIR_1\"\n",
            "                                         })\n",
            "\n",
            "template_creator.make_input_template(\n",
            "    'template_T.inp', Ta_pair, exp_model_T, rto)\n",
            "exp_model_T.template = os.path.realpath('template_T.inp')\n",
            "\n"
         ]
      },
      {
         "cell_type": "code",
         "execution_count": null,
         "metadata": {},
         "outputs": [],
         "source": [
            "### Generate syndat from measurement models\n",
            "from ATARI.ModelData.measurement_models.transmission_rpi import Transmission_RPI\n",
            "from ATARI.syndat.control import Syndat_Model, syndatOPT\n",
            "\n",
            "\n",
            "generative = Transmission_RPI()\n",
            "reductive = Transmission_RPI()\n",
            "\n",
            "synOPT = syndatOPT(calculate_covariance=True, explicit_covariance=True)\n",
            "\n",
            "synT = Syndat_Model(\n",
            "              exp_model_T,\n",
            "              generative,\n",
            "              reductive,\n",
            "              synOPT)\n",
            "## need to test syndat covariance generation with different tof ordering !!!\n",
            "\n",
            "synT.sample(Ta_pair, \n",
            "            sammyRTO=rto,\n",
            "            num_samples=1)"
         ]
      },
      {
         "cell_type": "code",
         "execution_count": null,
         "metadata": {},
         "outputs": [],
         "source": [
            "vars(generative.model_parameters)"
         ]
      },
      {
         "cell_type": "code",
         "execution_count": null,
         "metadata": {},
         "outputs": [],
         "source": [
            "datasample = synT.samples[0]\n",
            "data = datasample.pw_reduced\n",
            "\n",
            "\n",
            "figure()\n",
            "errorbar(data.E, data.exp, yerr=data.exp_unc, zorder=0,\n",
            "                                        fmt='.', color='darkgreen', linewidth=0.5, markersize=1.5, capsize=1, label='12mm')\n",
            "plot(data.E, data.true)\n",
            "ylabel(\"T\")\n",
            "\n",
            "xlim([200,250])\n",
            "ylim([-0.1,1.1])\n",
            "legend()\n",
            "xlabel('Energy (eV)')\n",
            "tight_layout()"
         ]
      },
      {
         "cell_type": "code",
         "execution_count": null,
         "metadata": {},
         "outputs": [],
         "source": [
            "### Option to read in idc or you can just pass to sammy a filepath\n",
            "\n",
            "\n",
            "# def read_idc(filepath):\n",
            "#     data = {\n",
            "#         'J': {},\n",
            "#         'C': None,\n",
            "#         'stat': None\n",
            "#     }\n",
            "\n",
            "#     with open(filepath, 'r') as f:\n",
            "#         num_params = None\n",
            "#         in_partial_derivatives = False\n",
            "#         in_uncertainties = False\n",
            "#         in_correlations = False\n",
            "#         for line in f.readlines():\n",
            "            \n",
            "#             if line.lower().startswith(\"nu\"):\n",
            "#                 num_params = int(line.split()[-1])\n",
            "            \n",
            "#             elif line.lower().startswith(\"free-forma\"):\n",
            "#                 in_partial_derivatives = True\n",
            "\n",
            "#             elif line.lower().startswith(\"uncertaint\"):\n",
            "#                 in_partial_derivatives = False\n",
            "#                 in_uncertainties = True\n",
            "            \n",
            "#             elif line.lower().startswith(\"correlatio\"):\n",
            "#                 in_uncertainties = False\n",
            "#                 in_correlations = True\n",
            "\n",
            "#             elif in_partial_derivatives:\n",
            "#                 splitline = line.split()\n",
            "#                 E = float(splitline[0])\n",
            "#                 stat_unc = float(splitline[1])\n",
            "#                 derivatives = [float(x) for x in splitline[2:]]\n",
            "#                 data['J'][E] = {'stat_unc': stat_unc, 'derivatives': derivatives}\n",
            "                \n",
            "#             elif in_uncertainties:\n",
            "#                 uncertainties = [float(e) for e in line.split()]\n",
            "#                 data['C'] = np.diag(uncertainties)\n",
            "\n",
            "#             elif in_correlations:\n",
            "#                 assert isinstance(num_params, int)\n",
            "#                 correlations = []\n",
            "#                 for _ in range(num_params):\n",
            "#                     line = f.readline().strip().split()\n",
            "#                     correlations.append([float(x) for x in line])\n",
            "\n",
            "#     data['stat'] = None  # You need to fill in the logic for reading the 'stat' data\n",
            "\n",
            "#     return data\n",
            "\n",
            "# Usage\n",
            "# filepath = '/Users/noahwalton/research_local/resonance_fitting/ATARI_workspace/measurement_data/trans-Ta-1mm.idc'\n",
            "# read_data = read_idc(filepath)"
         ]
      },
      {
         "cell_type": "code",
         "execution_count": null,
         "metadata": {},
         "outputs": [],
         "source": [
            "print(datasample.covariance_data.keys())"
         ]
      },
      {
         "cell_type": "code",
         "execution_count": null,
         "metadata": {},
         "outputs": [],
         "source": [
            "datasample.covariance_data['CovT']"
         ]
      },
      {
         "cell_type": "code",
         "execution_count": null,
         "metadata": {},
         "outputs": [],
         "source": [
            "# ### decomposed covariance test\n",
            "# stat = copy(datasample.covariance_data[\"diag_stat\"])\n",
            "# CT = copy(datasample.covariance_data['CovT'])\n",
            "# J = copy(datasample.covariance_data['Jac_sys'])\n",
            "# C = copy(datasample.covariance_data['Cov_sys'])\n",
            "# # C = np.diag(np.diag(C))\n",
            "# test = J.T@C@J\n",
            "# test.index.name = None\n",
            "# assert(np.max(abs((np.diag(stat.var_stat) + test) - CT)) == 0.0)"
         ]
      },
      {
         "cell_type": "markdown",
         "metadata": {},
         "source": [
            "# Fit the data with sammy"
         ]
      },
      {
         "cell_type": "code",
         "execution_count": null,
         "metadata": {},
         "outputs": [],
         "source": [
            "rto.bayes=True\n",
            "rto.get_ECSCM = True\n",
            "rto.ECSCM_rxn = 'transmission'\n",
            "\n",
            "sammyINP = sammy_classes.SammyInputData(\n",
            "    Ta_pair,\n",
            "    Ta_pair.resonance_ladder,\n",
            "    os.path.realpath('template_T.inp'),\n",
            "    exp_model_T,\n",
            "    # energy_grid=exp_model_T.energy_grid\n",
            "    experimental_data=data,\n",
            "    experimental_covariance = datasample.covariance_data\n",
            ")\n",
            "\n",
            "sammyINP.initial_parameter_uncertainty=10\n",
            "\n",
            "# std = 0.01\n",
            "# data.exp = np.random.default_rng().normal(data.true, std)\n",
            "# data.exp_unc = std\n",
            "\n",
            "sammyINP.experimental_data = data\n",
            "sammyINP.resonance_ladder[\"varyE\"] = np.ones(len(Ta_pair.resonance_ladder))\n",
            "sammyINP.resonance_ladder[\"varyGg\"] = np.ones(len(Ta_pair.resonance_ladder))\n",
            "sammyINP.resonance_ladder[\"varyGn1\"] = np.ones(len(Ta_pair.resonance_ladder))\n",
            "\n",
            "sammyOUT2 = sammy_functions.run_sammy(sammyINP, rto)\n",
            "print(sammyOUT2.chi2_post)\n",
            "print(sammyOUT2.chi2n_post)"
         ]
      },
      {
         "cell_type": "markdown",
         "metadata": {},
         "source": [
            "BACKGround functions\n",
            "EXPON 0 0 582.77685 33.822441 0.0514968 0.0046811 \n",
            "\n",
            "NORMALIZATION AND BACKGROUND ARE NEXT\n",
            "1.0000000        0.0                                         3\n",
            "0.0384200\n",
            "\n",
            "!! when fitting background or normalization, the output lst has an additional column I need to be robust to."
         ]
      },
      {
         "cell_type": "code",
         "execution_count": null,
         "metadata": {},
         "outputs": [],
         "source": [
            "\n",
            "### Plot \n",
            "figure()\n",
            "\n",
            "errorbar(data.E, data.exp, yerr=data.exp_unc, zorder=0,\n",
            "                                        fmt='.', color='k', linewidth=0.5, markersize=1.5, capsize=1, label='12mm')\n",
            "\n",
            "plot(data.E, data.true, 'g')\n",
            "\n",
            "plot(sammyOUT2.pw.E, sammyOUT2.pw.theo_trans, 'b')\n",
            "plot(sammyOUT2.pw_post.E, sammyOUT2.pw_post.theo_trans_bayes, 'r')\n",
            "\n",
            "# plot(sammyOUT2.pw.E, sammyOUT2.pw.theo_xs, 'b')\n",
            "# plot(sammyOUT2.pw_post.E, sammyOUT2.pw_post.theo_xs_bayes, 'r')\n",
            "# # plot(sammyOUT_old.est_df.E, sammyOUT_old.est_df.theo, 'b')\n",
            "# # sammyOUT_old = copy(sammyOUT2)\n",
            "\n",
            "x = sammyOUT2.est_df.E\n",
            "y = sammyOUT2.est_df.theo\n",
            "y_err=  sammyOUT2.est_df.theo_unc #\n",
            "# y_err = np.sqrt(np.diag(sammyOUT2.ECSCM))\n",
            "fill_between(x, y - y_err, y + y_err, color='r', alpha=0.5, label='Error Band')\n",
            "plot(x, y, 'r')\n",
            "\n",
            "ylabel(\"T\")\n",
            "\n",
            "# xlim([200,225])\n",
            "# ylim([-0.1,1.1])\n",
            "legend()\n",
            "\n",
            "xlabel('Energy (eV)')\n",
            "tight_layout()\n",
            "\n",
            "\n",
            "# figure()\n",
            "# imshow(sammyOUT2.ECSCM)\n",
            "# colorbar()"
         ]
      },
      {
         "cell_type": "code",
         "execution_count": null,
         "metadata": {},
         "outputs": [],
         "source": [
            "ladder = copy(sammyOUT2.par_post)\n",
            "print(ladder)\n",
            "Ta_pair.spin_groups"
         ]
      },
      {
         "cell_type": "code",
         "execution_count": null,
         "metadata": {},
         "outputs": [],
         "source": [
            "from ATARI.utils.atario import expand_sammy_ladder_2_atari\n",
            "\n",
            "expand_sammy_ladder_2_atari(Ta_pair, ladder)\n",
            "ladder"
         ]
      },
      {
         "cell_type": "code",
         "execution_count": null,
         "metadata": {},
         "outputs": [],
         "source": [
            "# samples = 100\n",
            "\n",
            "# cov_true = np.zeros([len(sammyOUT2.pw),len(sammyOUT2.pw)])\n",
            "# cov_est = np.zeros([len(sammyOUT2.est_df),len(sammyOUT2.est_df)])\n",
            "\n",
            "# for i in range(samples):\n",
            "#     # synT.run(sammyOUT.pw)\n",
            "#     data.exp = np.random.default_rng().normal(synT.data.true, std)\n",
            "#     data.exp_unc = std\n",
            "#     sammyINP.experimental_data = synT.data\n",
            "#     sammyOUT2 = sammy_functions.run_sammy(sammyINP, rto)\n",
            "#     residual = np.atleast_2d(sammyOUT2.pw.theo_trans_bayes) - np.atleast_2d(synT.data.true)\n",
            "#     cov_true += residual.T@residual\n",
            "#     cov_est += sammyOUT2.ECSCM\n",
            "#     # true.append(cov_true)\n",
            "#     # est.append(cov_est)"
         ]
      },
      {
         "cell_type": "code",
         "execution_count": null,
         "metadata": {},
         "outputs": [],
         "source": [
            "# iest = 0\n",
            "# fig, axes = subplots(1,2, figsize=(10,4))\n",
            "# # im1 = axes[0].imshow(np.log10(cov_true/(samples)))\n",
            "# # im2 = axes[1].imshow(np.log10(cov_est/(samples-1)))\n",
            "# im1 = axes[0].pcolormesh(cov_true/(samples), clim=(-1e-5, 8e-5))\n",
            "# im2 = axes[1].pcolormesh(cov_est/(samples-1), clim=(-1e-5, 8e-5))\n",
            "# axes[0].set_title(\"empirical\")\n",
            "\n",
            "# axes[1].set_title(\"estimated\")\n",
            "# # for ax in axes:\n",
            "# colorbar(im1)\n",
            "\n",
            "# colorbar(im2)\n",
            "\n",
            "# print(\"Empirical Fnorm\")\n",
            "# print(np.linalg.norm(cov_true/(samples), ord='fro'))\n",
            "# print(\"Estimated Fnorm\")\n",
            "# print(np.linalg.norm(cov_est/(samples-1), ord='fro'))"
         ]
      },
      {
         "cell_type": "code",
         "execution_count": null,
         "metadata": {},
         "outputs": [],
         "source": [
            "# ### Plot \n",
            "# figure()\n",
            "\n",
            "# # errorbar(synT.data.E, synT.data.exp, yerr=synT.data.exp_unc, zorder=0,\n",
            "# #                                         fmt='.', color='k', linewidth=0.5, markersize=1.5, capsize=1, label='12mm')\n",
            "\n",
            "# # plot(synT.data.E, synT.data.true, 'g')\n",
            "# plot(synT.data.E, np.sqrt(np.diag(cov_true/samples)), label=\"empirical\")\n",
            "# plot(x, np.sqrt(np.diag(cov_est/(samples-1))), label=\"mean estimated\")\n",
            "\n",
            "\n",
            "# xlim([200,225])\n",
            "# # ylim([-0.1,1.1])\n",
            "# legend()\n",
            "\n",
            "# xlabel('Energy (eV)')\n",
            "# tight_layout()"
         ]
      },
      {
         "cell_type": "code",
         "execution_count": null,
         "metadata": {},
         "outputs": [],
         "source": []
      },
      {
         "cell_type": "code",
         "execution_count": null,
         "metadata": {},
         "outputs": [],
         "source": [
            "# # result_dict = {}\n",
            "# # stds = [0.1, 0.01, 0.001, 0.0001]\n",
            "# stds = [0.00001, 0.05]\n",
            "\n",
            "# for istd in stds:\n",
            "#     samples = 1000\n",
            "#     cov_true = np.zeros([len(sammyOUT2.pw), len(sammyOUT2.pw)])\n",
            "#     cov_est = np.zeros([len(sammyOUT2.est_df), len(sammyOUT2.est_df)])\n",
            "#     for i in range(samples):\n",
            "#         # synT.run(sammyOUT.pw)\n",
            "#         synT.data.exp = np.random.default_rng().normal(synT.data.true, istd)\n",
            "#         synT.data.exp_unc = istd\n",
            "#         sammyINP.experimental_data = synT.data\n",
            "#         sammyOUT2 = sammy_functions.run_sammy(sammyINP, rto)\n",
            "#         residual = np.atleast_2d(\n",
            "#             sammyOUT2.pw.theo_trans_bayes) - np.atleast_2d(synT.data.true)\n",
            "#         cov_true += residual.T@residual\n",
            "#         cov_est += sammyOUT2.ECSCM\n",
            "        \n",
            "#     result_dict[istd] = [cov_true, cov_est]"
         ]
      },
      {
         "cell_type": "code",
         "execution_count": null,
         "metadata": {},
         "outputs": [],
         "source": [
            "# stds = [1.0, 0.1, 0.05, 0.01, 0.001, 0.0001]\n",
            "# true= []\n",
            "# est = []\n",
            "\n",
            "# for istd in stds:\n",
            "#     res = result_dict[istd]\n",
            "#     cov_true = res[0]\n",
            "#     cov_est = res[1]\n",
            "#     print(istd)\n",
            "#     # print(\"Empirical Fnorm: \", np.linalg.norm(cov_true/(samples), ord='fro'))\n",
            "#     # print(\"Estimated Fnorm: \", np.linalg.norm(cov_est/(samples-1), ord='fro'))\n",
            "#     # true.append(np.linalg.norm(cov_true/(samples), ord='fro'))\n",
            "#     # est.append(np.linalg.norm(cov_est/(samples-1), ord='fro'))\n",
            "#     print(\"Empirical Fnorm: \", np.sum(np.diag(cov_true)**2/(samples)))\n",
            "#     print(\"Estimated Fnorm: \", np.sum(np.diag(cov_est)**2/(samples-1)))\n",
            "#     true.append(np.sum(np.diag(cov_true)**2/(samples)))\n",
            "#     est.append(np.sum(np.diag(cov_est)**2/(samples-1)))"
         ]
      },
      {
         "cell_type": "code",
         "execution_count": null,
         "metadata": {},
         "outputs": [],
         "source": [
            "# figure()\n",
            "# plot(stds, true, '.', label='Empirical')\n",
            "# plot(stds, est, '.r', label='Estimate')\n",
            "# xscale(\"log\")\n",
            "# yscale(\"log\")\n",
            "# legend()\n",
            "# # ylabel(\"Noise Level\")\n",
            "# xlabel(\"Noise Level\")"
         ]
      },
      {
         "cell_type": "code",
         "execution_count": null,
         "metadata": {},
         "outputs": [],
         "source": []
      }
   ],
   "metadata": {
      "kernelspec": {
         "display_name": "test",
         "language": "python",
         "name": "python3"
      },
      "language_info": {
         "codemirror_mode": {
            "name": "ipython",
            "version": 3
         },
         "file_extension": ".py",
         "mimetype": "text/x-python",
         "name": "python",
         "nbconvert_exporter": "python",
         "pygments_lexer": "ipython3",
         "version": "3.10.12"
      }
   },
   "nbformat": 4,
   "nbformat_minor": 2
}
