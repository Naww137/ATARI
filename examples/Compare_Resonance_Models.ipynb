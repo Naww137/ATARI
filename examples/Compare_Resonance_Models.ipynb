{
 "cells": [
  {
   "cell_type": "code",
   "execution_count": null,
   "metadata": {},
   "outputs": [],
   "source": [
    "import numpy as np\n",
    "import pandas as pd\n",
    "import os\n",
    "from matplotlib.pyplot import *\n",
    "import importlib\n",
    "\n",
    "import ATARI.utils.hdf5 as h5io\n",
    "\n",
    "from copy import copy\n",
    "from ATARI.theory.resonance_statistics import make_res_par_avg\n",
    "\n",
    "from ATARI.sammy_interface import sammy_classes, sammy_functions, template_creator\n",
    "from ATARI.ModelData.experimental_model import Experimental_Model\n",
    "from ATARI.ModelData.particle_pair import Particle_Pair\n",
    "from ATARI.ModelData.particle import Particle, Neutron, Ta181\n",
    "\n",
    "from ATARI.PiTFAll import fnorm\n"
   ]
  },
  {
   "cell_type": "code",
   "execution_count": null,
   "metadata": {},
   "outputs": [],
   "source": [
    "sammypath = ''\n",
    "assert(sammypath != '')"
   ]
  },
  {
   "cell_type": "code",
   "execution_count": null,
   "metadata": {},
   "outputs": [],
   "source": [
    "%matplotlib widget"
   ]
  },
  {
   "cell_type": "code",
   "execution_count": null,
   "metadata": {},
   "outputs": [],
   "source": [
    "Ta181 = Particle(Z=73, A=181, I=3.5, mass=180.94803, name='Ta181')\n",
    "Ta_pair = Particle_Pair(isotope = \"Ta181\",\n",
    "                        resonance_ladder = pd.DataFrame(),\n",
    "                        formalism = \"XCT\",\n",
    "                        energy_range = [200,250],\n",
    "                        ac = 0.8127,\n",
    "                        target=Ta181,\n",
    "                        projectile=Neutron,\n",
    "                        l_max = 1\n",
    ")\n",
    "\n",
    "# print quant number map up to l_max\n",
    "Ta_pair.map_quantum_numbers(print_out=True)\n",
    "\n",
    "# J = 3, <D> = 9.0030 eV, <gn2> = 452.56615 meV, <gg2> = 32.0 meV\n",
    "# J = 4, <D> = 8.3031 eV, <gn2> = 332.24347 meV, <gg2> = 32.0 meV\n",
    "\n",
    "# add spin group information for both s-wave resonances\n",
    "Ta_pair.add_spin_group(Jpi='3.0',\n",
    "                       J_ID=1,\n",
    "                       D=9.0030,\n",
    "                       gn2_avg=452.56615, #46.5,\n",
    "                       gn2_dof=1,\n",
    "                       gg2_avg=32.0,\n",
    "                       gg2_dof=1000)\n",
    "\n",
    "Ta_pair.add_spin_group(Jpi='4.0',\n",
    "                       J_ID=2,\n",
    "                       D=8.3031,\n",
    "                       gn2_avg=332.24347, #35.5,\n",
    "                       gn2_dof=1,\n",
    "                       gg2_avg=32.0,\n",
    "                       gg2_dof=1000)\n",
    "\n",
    "resonance_ladder = Ta_pair.sample_resonance_ladder()\n",
    "resonance_ladder"
   ]
  },
  {
   "cell_type": "markdown",
   "metadata": {},
   "source": [
    "### To calculate a doppler broadenned cross section without any other experimental corrections\n",
    "\n",
    "1. Build experimental model with reaction, energy grid, and temperature you want. Also, empty the inputs for additional alphanumeric commands and Resolution function\n",
    "2. Use the template generator to make a template corresponding to the experimental model you just made and inspect it - alternatively, you can use the preloaded dop_2sg.inp or dop_1sg.inp template in the ATARI.sammy_interface.sammy_templates folder\n",
    "4. Run sammy without bayes \n"
   ]
  },
  {
   "cell_type": "code",
   "execution_count": null,
   "metadata": {},
   "outputs": [],
   "source": [
    "\n",
    "theo_exp_model = Experimental_Model(\n",
    "                                 title = \"theo\", \n",
    "                                 reaction = \"elastic\", \n",
    "                                 energy_range = [200, 250], \n",
    "                                 template = None, \n",
    "                                 energy_grid = np.linspace(200,250,1000), \n",
    "                                 temp = (295.0, 0.0),\n",
    "                                 sammy_inputs= {\"alphanumeric\":[],\n",
    "                                             \"ResFunc\": None},\n",
    "                                 )\n",
    "# theo_exp_model"
   ]
  },
  {
   "cell_type": "code",
   "execution_count": null,
   "metadata": {},
   "outputs": [],
   "source": [
    "\n",
    "rto = sammy_classes.SammyRunTimeOptions(sammypath,\n",
    "                                        Print        = True,\n",
    "                                        bayes        = False,\n",
    "                                        keep_runDIR  = False,\n",
    "                                        sammy_runDIR = 'sammy_runDIR_1')\n",
    "\n",
    "template_creator.make_input_template('theo.inp',Ta_pair, theo_exp_model, rto)\n",
    "theo_exp_model.template= os.path.realpath('theo.inp')"
   ]
  },
  {
   "cell_type": "code",
   "execution_count": null,
   "metadata": {},
   "outputs": [],
   "source": [
    "sammyINP = sammy_classes.SammyInputData(\n",
    "    Ta_pair,\n",
    "    resonance_ladder,\n",
    "    template=theo_exp_model.template,\n",
    "    experiment=theo_exp_model,\n",
    "    energy_grid = theo_exp_model.energy_grid\n",
    ")\n",
    "\n",
    "sammyOUT = sammy_functions.run_sammy(sammyINP, rto)"
   ]
  },
  {
   "cell_type": "code",
   "execution_count": null,
   "metadata": {},
   "outputs": [],
   "source": [
    "sammyOUT.pw"
   ]
  },
  {
   "cell_type": "code",
   "execution_count": null,
   "metadata": {},
   "outputs": [],
   "source": [
    "figure()\n",
    "plot(sammyOUT.pw.E, sammyOUT.pw.theo_xs)"
   ]
  },
  {
   "cell_type": "code",
   "execution_count": null,
   "metadata": {},
   "outputs": [],
   "source": [
    "# from ATARI.PiTFAll.fnorm import calc_theo_broad_xs_for_all_reaction\n",
    "# calc_theo_broad_xs_for_all_reaction('/Users/noahwalton/gitlab/sammy/sammy/build/bin/sammy',\n",
    "#                                      shell,\n",
    "#                                         particle_pair, \n",
    "#                                         resonance_ladder, \n",
    "#                                         energy_range,\n",
    "#                                         temperature,\n",
    "#                                         target_thickness,\n",
    "#                                         template, \n",
    "#                                         reactions)"
   ]
  },
  {
   "cell_type": "code",
   "execution_count": null,
   "metadata": {},
   "outputs": [],
   "source": []
  }
 ],
 "metadata": {
  "kernelspec": {
   "display_name": "test",
   "language": "python",
   "name": "python3"
  },
  "language_info": {
   "codemirror_mode": {
    "name": "ipython",
    "version": 3
   },
   "file_extension": ".py",
   "mimetype": "text/x-python",
   "name": "python",
   "nbconvert_exporter": "python",
   "pygments_lexer": "ipython3",
   "version": "3.10.12"
  }
 },
 "nbformat": 4,
 "nbformat_minor": 2
}
