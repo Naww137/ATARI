{
 "cells": [
  {
   "cell_type": "code",
   "execution_count": 37,
   "metadata": {},
   "outputs": [],
   "source": [
    "import ATARI.utils.hdf5 as h5io\n",
    "from matplotlib.pyplot import *\n",
    "import numpy as np\n",
    "import pandas as pd\n",
    "import importlib\n",
    "import os\n",
    "from copy import copy\n",
    "from ATARI.sammy_interface import sammy_classes, sammy_functions, template_creator\n",
    "\n",
    "from ATARI.models.particle_pair import Particle_Pair\n",
    "from ATARI.models.experimental_model import Experimental_Model\n"
   ]
  },
  {
   "cell_type": "code",
   "execution_count": 38,
   "metadata": {},
   "outputs": [],
   "source": [
    "%matplotlib widget"
   ]
  },
  {
   "cell_type": "markdown",
   "metadata": {},
   "source": [
    "# Define generative models\n",
    "\n",
    "Neutron induced reaction measurements using the time-of-flight method can be modelled using 3 primary categories:\n",
    "1. A reaction model, represented here in ATARI the Particle_Pair class\n",
    "2. An experimental model, represented here in ATARI by the Experimental_Model class\n",
    "3. A reduction model, represented in ATARI by a Reduction_Model protocol\n",
    "\n",
    "These three models attempt to describe everything that is happenning in one of these experiments. \n",
    "Traditionally, these models are used to analyze experimental data. \n",
    "The Syndat module of the ATARI code uses these models in a generative manner, producing statistical samples of experimental data.\n",
    "\n",
    "The Generative_Model class is a container for the above three models that will be used to generate data.\n",
    "This class can be instantiated with defaults, or each of the respective models can be supplied individually.\n",
    "The following code snippet shows how these models can be created and manipulated from the defaults in the Generative Model container."
   ]
  },
  {
   "cell_type": "code",
   "execution_count": 39,
   "metadata": {},
   "outputs": [],
   "source": [
    "# # take default values and inspect each\n",
    "\n",
    "# generative_model_1 = Generative_Model()\n",
    "\n",
    "# print(\"Particle Pair Model:\\n\")\n",
    "# print(generative_model_1.particle_pair)\n",
    "\n",
    "# print()\n",
    "# print(\"Experimental Model Sammy Inputs:\")\n",
    "# print(generative_model_1.experimental_model.sammy_inputs)\n",
    "\n",
    "# print()\n",
    "# print(\"Experimental Model Sammy Inputs Altered:\")\n",
    "# generative_model_1.experimental_model.sammy_inputs = {'alphanumeric': [\"BROADENING IS NOT WANTED\"],\n",
    "#                                                       'ResFunc' : ''}\n",
    "# print(generative_model_1.experimental_model.sammy_inputs)\n",
    "\n",
    "\n",
    "# print()\n",
    "# print(\"Reduction Model:\")\n",
    "# print(generative_model_1._reduction_model)"
   ]
  },
  {
   "cell_type": "markdown",
   "metadata": {},
   "source": [
    "## Reaction Model: Particle Pair class\n",
    "Each of the 3 models can also be created outside and then added to the Generative Model container.\n",
    "These ATARI classes have additional functionality if you want to work with them at this lower level.\n",
    "The following code snippet demonstrates some of these capabilities."
   ]
  },
  {
   "cell_type": "code",
   "execution_count": 40,
   "metadata": {},
   "outputs": [
    {
     "name": "stdout",
     "output_type": "stream",
     "text": [
      "Spin group data for all parity\n",
      "(Jpi, #Chs, l-waves)\n",
      "(-4.5, 1, [1])\n",
      "(-3.5, 2, [1, 1])\n",
      "(-2.5, 2, [1, 1])\n",
      "(-1.5, 1, [1])\n",
      "(0.5, 1, [2])\n",
      "(1.5, 2, [2, 2])\n",
      "(2.5, 3, [0, 2, 2])\n",
      "(3.5, 3, [0, 2, 2])\n",
      "(4.5, 2, [2, 2])\n",
      "(5.5, 1, [2])\n",
      "\n",
      "Interrogate spin group attribute:\n",
      "{'J_ID': 1, '<D>': 8.79, '<Gn>': 46.5, 'n_dof': 1, '<Gg>': 64.0, 'g_dof': 1000, 'D01': 0.9943384234177864, 'D99': 21.284662911191237, 'Gn01': 0.007304585392801135, 'Gn99': 308.52269194748646, 'Gg01': 57.53039660349525, 'Gg99': 70.84601563854191, 'Gt01': 57.53770118888805, 'Gt99': 379.3687075860284}\n",
      "\n",
      "Resonance ladder sampled from resonance statistics:\n",
      "             E         Gg         Gn1    J J_ID varyE varyGg varyGn1\n",
      "0    204.82379  69.551147    2.331096  3.0    1   0.0    0.0     0.0\n",
      "1   213.157632  62.621499   20.951439  3.0    1   0.0    0.0     0.0\n",
      "2   219.233517  70.750617   49.540866  3.0    1   0.0    0.0     0.0\n",
      "3   220.452397  63.257836    3.887326  3.0    1   0.0    0.0     0.0\n",
      "4   237.115487   61.95324   41.238642  3.0    1   0.0    0.0     0.0\n",
      "5   240.069341  70.834983     0.44881  3.0    1   0.0    0.0     0.0\n",
      "6   201.130523  62.762602  106.632963  4.0    2   0.0    0.0     0.0\n",
      "7   204.191906   71.76769   21.850131  4.0    2   0.0    0.0     0.0\n",
      "8   208.092637  64.414381   15.393327  4.0    2   0.0    0.0     0.0\n",
      "9   211.434226  63.630755    1.241415  4.0    2   0.0    0.0     0.0\n",
      "10  212.267778  66.654655    0.263846  4.0    2   0.0    0.0     0.0\n",
      "11  217.488891  63.098639    0.811087  4.0    2   0.0    0.0     0.0\n",
      "12  222.883322  61.869472   74.286966  4.0    2   0.0    0.0     0.0\n",
      "13  225.348274  62.151263    2.085147  4.0    2   0.0    0.0     0.0\n",
      "14  229.445258   63.56757   25.426152  4.0    2   0.0    0.0     0.0\n",
      "15  234.784956  61.188603   17.732029  4.0    2   0.0    0.0     0.0\n",
      "16  238.201534  62.700007   45.703812  4.0    2   0.0    0.0     0.0\n",
      "17  242.205165  60.479639   69.798013  4.0    2   0.0    0.0     0.0\n",
      "18  248.005166   67.14678    29.85687  4.0    2   0.0    0.0     0.0\n"
     ]
    }
   ],
   "source": [
    "Ta_pair = Particle_Pair(isotope = \"Ta181\",\n",
    "                        resonance_ladder = pd.DataFrame(),\n",
    "                        formalism = \"XCT\",\n",
    "                        energy_range = [200,250],\n",
    "                        ac = 8.127,\n",
    "                        M = 180.94803,\n",
    "                        I = 3,\n",
    "                        l_max = 2\n",
    ")\n",
    "\n",
    "# print quant number map up to l_max\n",
    "Ta_pair.map_quantum_numbers(print_out=True)\n",
    "\n",
    "# add spin group information for both s-wave resonances\n",
    "Ta_pair.add_spin_group(Jpi='3.0',\n",
    "                       J_ID=1,\n",
    "                       D_avg=8.79,\n",
    "                       Gn_avg=46.5,\n",
    "                       Gn_dof=1,\n",
    "                       Gg_avg=64.0,\n",
    "                       Gg_dof=1000)\n",
    "Ta_pair.add_spin_group(Jpi='4.0',\n",
    "                       J_ID=2,\n",
    "                       D_avg=4.99,\n",
    "                       Gn_avg=35.5,\n",
    "                       Gn_dof=1,\n",
    "                       Gg_avg=64.0,\n",
    "                       Gg_dof=1000)\n",
    "\n",
    "print()\n",
    "print(\"Interrogate spin group attribute:\")\n",
    "print(Ta_pair.spin_groups['3.0'])\n",
    "\n",
    "\n",
    "print()\n",
    "print(\"Resonance ladder sampled from resonance statistics:\")\n",
    "print(Ta_pair.sample_resonance_ladder())"
   ]
  },
  {
   "cell_type": "markdown",
   "metadata": {},
   "source": [
    "## Experimental Model class & Sammy\n",
    "\n",
    "This class's primary purpose is to hold relevant experimental information used in calculating experimentally corrected resonance models with SAMMY.\n",
    "The ATARI code come with a sammy-interface module that wraps around the sammy code. For more details on this interface, see the user example notebook. \n",
    "Before the Experimental_Model can be passed to syndat, the user must define the template parameter to be a path to a sammy input template. \n",
    "\n",
    "The sammy interface has a module for creating template input files from these generative models. \n",
    "The idea is that you make the template, inspect it manually, then give it to the experimental model class to be used with syndat"
   ]
  },
  {
   "cell_type": "code",
   "execution_count": 41,
   "metadata": {},
   "outputs": [],
   "source": [
    "\n",
    "trans12mm_gen_exp = Experimental_Model(title = \"T12mm\", \n",
    "                                 reaction = \"transmission\", \n",
    "                                 energy_range = [200, 250], \n",
    "                                 template = None, \n",
    "                                 energy_grid = None, \n",
    "                                 n = (0.067166, 0.0), \n",
    "                                 FP = (35.185, 0.0), \n",
    "                                 t0 = (3326.0, 0.0), \n",
    "                                 burst = (10, 1.0), \n",
    "                                 temp = (300, 0.0), \n",
    "                                 channel_widths = { \n",
    "                                     \"maxE\": [250],\n",
    "                                     \"chw\": [100.0],\n",
    "                                     \"dchw\": [0.8]\n",
    "                                 }\n",
    ")\n",
    "\n",
    "\n",
    "sammy_rto = sammy_classes.SammyRunTimeOptions('/Users/noahwalton/gitlab/sammy/sammy/build/bin/sammy',\n",
    "                                        {\"Print\":   True,\n",
    "                                         \"bayes\":   False,\n",
    "                                         \"keep_runDIR\": False,\n",
    "                                         \"sammy_runDIR\": \"sammy_runDIR_1\"\n",
    "                                         })\n",
    "\n",
    "template_creator.make_input_template(\n",
    "    'template_T.inp', Ta_pair, trans12mm_gen_exp, sammy_rto)\n",
    "\n",
    "\n",
    "trans12mm_gen_exp.template = os.path.realpath('template_T.inp')"
   ]
  },
  {
   "cell_type": "markdown",
   "metadata": {},
   "source": [
    "## Measurement models\n",
    "\n",
    "Syndat needs both a generative and reductive measurement model. \n",
    "The generative model is considered 'true' and is used to generate statistical samples of raw experimental observables. \n",
    "These raw observables, however, are not used directly in evaluations, rather they are put through a data reduction model to get an object like experimental transmission or capture yield. \n",
    "By defining both a generative and reductive measurment model, Syndat can be used to investigate the impact of incorrectly specified measurement models/parameters used in the data reduction process.\n",
    "\n"
   ]
  },
  {
   "cell_type": "code",
   "execution_count": 42,
   "metadata": {},
   "outputs": [],
   "source": [
    "from ATARI.models.measurement_models.transmission_rpi import Transmission_RPI\n",
    "from ATARI.syndat.syndat_model import Syndat_Model\n",
    "from ATARI.syndat.control import syndatOPT\n",
    "\n",
    "trans12mm_gen_meas = Transmission_RPI()\n",
    "trans12mm_red_meas = Transmission_RPI()"
   ]
  },
  {
   "cell_type": "markdown",
   "metadata": {},
   "source": [
    "## Sampling from Syndat\n",
    "\n",
    "The syndat class contains all necessary model information. \n",
    "It also takes a syndat options class which can be instantiated with default settings.\n",
    "Once you've constructed your syndat model, the sample method can be used to draw any number of samples.\n",
    "This method takes either a sammyRTO arguement or a pw_true arguement. \n",
    "If pw_true is given, this will be taken as the true experimental function around with measurement data will be sampled. \n",
    "Usually the user will provide a sammyRTO instead which will allow the true experimental function to be reconstructed by sammy.\n",
    "This also allows new resonance ladders to be sampled each time.\n"
   ]
  },
  {
   "cell_type": "code",
   "execution_count": 43,
   "metadata": {},
   "outputs": [
    {
     "data": {
      "text/plain": [
       "calculate_covariance: True\n",
       "explicit_covariance: False\n",
       "sampleRES: True\n",
       "sampleTNCS: True\n",
       "sampleTURP: True\n",
       "sample_counting_noise: True\n",
       "save_raw_data: False\n",
       "smoothTNCS: False"
      ]
     },
     "execution_count": 43,
     "metadata": {},
     "output_type": "execute_result"
    }
   ],
   "source": [
    "synOPT = syndatOPT()\n",
    "synOPT.calculate_covariance = True\n",
    "synOPT "
   ]
  },
  {
   "cell_type": "code",
   "execution_count": 44,
   "metadata": {},
   "outputs": [],
   "source": [
    "# synT.sample(sammyRTO=sammy_rto, num_samples=5)\n",
    "\n",
    "syndat_trans12mm = Syndat_Model(trans12mm_gen_exp,\n",
    "                            trans12mm_gen_meas,\n",
    "                            trans12mm_red_meas,\n",
    "                            options = synOPT)\n",
    "\n",
    "syndat_trans12mm.sample(Ta_pair, \n",
    "                    sammyRTO=sammy_rto,\n",
    "                    num_samples=1)"
   ]
  },
  {
   "cell_type": "code",
   "execution_count": 57,
   "metadata": {},
   "outputs": [
    {
     "data": {
      "application/vnd.jupyter.widget-view+json": {
       "model_id": "010681441d1d49bc8e23cebea2093288",
       "version_major": 2,
       "version_minor": 0
      },
      "image/png": "[encoded data removed]",
      "text/html": [
       "\n",
       "            <div style=\"display: inline-block;\">\n",
       "                <div class=\"jupyter-widgets widget-label\" style=\"text-align: center;\">\n",
       "                    Figure\n",
       "                </div>\n",
       "                <img src='data:image/png;base64,iVBORw0KGgoAAAANSUhEUgAAArwAAAGQCAYAAABMPLOTAAAAOXRFWHRTb2Z0d2FyZQBNYXRwbG90bGliIHZlcnNpb24zLjcuMSwgaHR0cHM6Ly9tYXRwbG90bGliLm9yZy/bCgiHAAAACXBIWXMAAA9hAAAPYQGoP6dpAACYTUlEQVR4nOzdd3wUdf4/8NdsT+9lE9LooUMAqQEsQVSwnIIVFPTCnZ4FvPM49Wf5nud5nsp5ttwpop6HFT0LIlFKaAJJ6B3SyaZn07N1fn/MzrLp22d2834+HnmIm9mZz2aS3fd85v15vxmWZVkQQgghhBDipyRCD4AQQgghhBBPooCXEEIIIYT4NQp4CSGEEEKIX6OAlxBCCCGE+DUKeAkhhBBCiF+jgJcQQgghhPg1CngJIYQQQohfo4CXEEIIIYT4NQp4CSGEEEKIX6OAlxBCCCGE+DUKeAkhhBBCiF+jgJcQQgghhPg1CngJIYQQQohfkwk9ADEwm82orKxESEgIGIYRejiEEEIIIX6LZVm0tLQgISEBEol35l4p4AVQWVmJpKQkoYdBCCGEEDJolJeXY8iQIV45FgW8AEJCQgBwP/jQ0FCBR0MIIYQQ4r+am5uRlJRkjb+8gQJewJrGEBoaSgEvIYQQQogXeDONlBatEUIIIYQQv0YBLyGEEEII8WsU8BJCCCGEEL9GObyEEEII8XsmkwkGg0HoYQwKcrkcUqlU6GF0QQEvIYQQQvwWy7KoqqqCVqsVeiiDSnh4OOLj40XT34ACXkIIIYT4LT7YjY2NRWBgoGgCMH/Fsiza29tRU1MDAFCr1QKPiEMBLyGEEEL8kslksga7UVFRQg9n0AgICAAA1NTUIDY2VhTpDbRojRBCCCF+ic/ZDQwMFHgkgw//MxdL3jTN8BJCCCHEr7kjjUGj1UDTpIE6TA11uDhu04uZ2FJHaIaXEEIIIWQAOXk5yPhzBnLycoQeCnECBbyEEEIIIQPIzszG3BFzkZ2Z7ZXj5eXlYfHixUhISADDMPj666+t3zMYDHjiiScwfvx4BAUFISEhAcuXL0dlZaVXxuaLKOAlhBBCCBmAOlyN8MBwr6UztLW1YeLEiXjjjTd6fK+9vR2FhYV4+umnUVhYiM2bN+PcuXNYsmSJV8bmiyjgJYQQQggRmUWLFuHPf/4zbrnllh7fCwsLQ25uLpYuXYpRo0ZhxowZ+Oc//4mCggKUlZVZt2MYBjk5ObjhhhsQGBiI9PR07N+/HxcuXMD8+fMRFBSEmTNn4uLFi9bnPPvss5g0aRI2bNiA5ORkBAcH4ze/+Q1MJhP+9re/IT4+HrGxsXjhhRe88nNwFwp4CSGEEEJ8XFNTExiGQXh4eJfH/+///g/Lly/HkSNHMHr0aNx5553Izs7GunXrkJ+fDwB46KGHujzn4sWL+OGHH7B161Zs2rQJGzZswPXXX4+Kigrs2rULL730Ep566in88ssv3np5LqMqDYQQQgghPqyzsxN//OMfceeddyI0NLTL9+677z4sXboUAPDEE09g5syZePrpp7Fw4UIAwCOPPIL77ruvy3PMZjM2bNiAkJAQjBkzBgsWLMDZs2exZcsWSCQSjBo1Ci+99BJ27tyJGTNmeOdFuohmeAkhhBBCBrD3wl4cKjmEvRf2Cj2ULgwGA26//XaYzWa89dZbPb4/YcIE67/j4uIAAOPHj+/yWGdnJ5qbm62PpaamIiQkpMs2Y8aMgUQi6fIY303NF1DASwghhBAygFe2vYKqpiq8su0VoYdiZTAYsHTpUhQXFyM3N7fH7C4AyOVy67/52ri9PWY2m3t9Dr9Nb4/ZPkfsKOAlhBBCCBnA2qy1iA+Lx9qstUIPBcDlYPf8+fP46aefqHXyACiHlxBCCCFkALOHz8a01GmYPXy2V47X2tqKCxcuWP+/uLgYR44cQWRkJBISEnDrrbeisLAQ3333HUwmE6qqqgAAkZGRUCgUXhmjL6GAlxBCCCFEZPLz87FgwQLr/69ZswYAsGLFCjz77LP45ptvAACTJk3q8rwdO3Zg/vz53hqmz2BYlmWFHoStvLw8vPzyyygoKIBGo8FXX32Fm266qd/n7Nq1C2vWrMHJkyeRkJCAP/zhD1i9erXdx2xubkZYWBiampp6zX8hhBBCiO/p7OxEcXEx0tLSoFKpXN7fkjeW4JuHvnHDyPxffz97IeIu0eXw9tdZpDfFxcW47rrrMHfuXBw+fBh/+tOf8PDDD+PLL7/08EgJIYQQQogvEF1Kw6JFi7Bo0SK7t3/nnXeQnJyM9evXAwDS09ORn5+Pv//97/jVr37loVESQgghZDDRaDXQtmuh0Wq81l6YuI/oZngdtX//fmRlZXV5bOHChcjPz4fBYOj1OTqdDs3NzV2+CCGEEEL6kpOXg93ndyMnL0fooRAn+HzAW1VVZS2kzIuLi4PRaERdXV2vz3nxxRcRFhZm/UpKSvLGUAkhhBDio7Izs1HwVAGyM7OFHgpxgs8HvMDlosk8fh1e98d569atQ1NTk/WrvLzc42MkhBBCiO9Sh6sxJWUKpTP4KNHl8DoqPj7eWnuOV1NTA5lM1mcRZqVSCaVS6Y3hEUIIIURgIitINSiI7Wfu8zO8M2fORG5ubpfHtm3bhqlTp/Zog0cIIYSQwYOPA9rb2wUeyeDD/8zFEouJboa3v84iycnJWLduHS5duoQPP/wQALB69Wq88cYbWLNmDR544AHs378f7733HjZt2iTUSyCEEEKICEilUoSHh6OmpgYAEBgY2Ge6I3EPlmXR3t6OmpoahIeHQyqVCj0kACIMePvrLLJx40ZoNBqUlZVZv5+WloYtW7bgsccew5tvvomEhAS8/vrrVJKMEEIIIYiPjwcAa9BLvCM8PNz6sxcD0XVaEwJ1WiOEEEL8m8lk6rNcKXEvuVze78yuEHGX6GZ4CSGEEELcTSqViub2OvE+n1+0RgghhBBCSH8o4CWEEEIIIX6NAl5CCCGEEOLXKOAlhBBCCCF+jQJeQgghhBDi1yjgJYQQQgghfo0CXkIIIYQQ4tco4CWEEEIIIX6NAl5CCCGEEOLXKOAlhBBCCCF+jQJeQgghhBDi1yjgJYQQQgghfo0CXkIIIYQQ4tco4CWEEEIIIX6NAl5CCCGEEOLXKOAlhBBCCCF+jQJeQgghhBDi1yjgJYQQQgghfo0CXkIIIYQQ4tco4CWEEEIIIX6NAl5CCCGEEOLXKOAlhBBCCCF+jQJeQgghhBDi1yjgJYQQQgghfo0CXkIIIYQQ4tco4CWEEEIIIX6NAl5CCCGEEOLXKOAlhBBCCCF+jQJeQgghhBDi1yjgJYQQQgghfo0CXkIIIYQQ4tco4CWEEEIIIX6NAl5CCCGEEOLXKOAlhBBCCCF+jQJeQgghhBDi1yjgJYQQQgghfo0CXkIIIYQQ4tco4CWEEEIIIX6NAl5CCCGEEOLXKOAlhBBCCCF+jQJeQgghhBDi1yjgJYQQQgghfk2UAe9bb72FtLQ0qFQqZGRkYPfu3f1u//HHH2PixIkIDAyEWq3Gfffdh/r6ei+NlhBCCCGEiJnoAt5PP/0Ujz76KJ588kkcPnwYc+fOxaJFi1BWVtbr9nv27MHy5cuxatUqnDx5Ep9//jkOHTqE+++/38sjJ4QQQgghYiS6gPfVV1/FqlWrcP/99yM9PR3r169HUlIS3n777V63/+WXX5CamoqHH34YaWlpmDNnDrKzs5Gfn+/lkRNCCCGEEDESVcCr1+tRUFCArKysLo9nZWVh3759vT5n1qxZqKiowJYtW8CyLKqrq/HFF1/g+uuv98aQCSGEEEKIyIkq4K2rq4PJZEJcXFyXx+Pi4lBVVdXrc2bNmoWPP/4Yy5Ytg0KhQHx8PMLDw/HPf/6zz+PodDo0Nzd3+SKEEEIIIf5JVAEvj2GYLv/PsmyPx3inTp3Cww8/jP/3//4fCgoKsHXrVhQXF2P16tV97v/FF19EWFiY9SspKcmt4yeEEEIIIeLBsCzLCj0Inl6vR2BgID7//HPcfPPN1scfeeQRHDlyBLt27erxnHvuuQednZ34/PPPrY/t2bMHc+fORWVlJdRqdY/n6HQ66HQ66/83NzcjKSkJTU1NCA0NdfOrIoQQQgghvObmZoSFhXk17hLVDK9CoUBGRgZyc3O7PJ6bm4tZs2b1+pz29nZIJF1fhlQqBcDNDPdGqVQiNDS0yxchhBBCCPFPogp4AWDNmjV49913sWHDBpw+fRqPPfYYysrKrCkK69atw/Lly63bL168GJs3b8bbb7+NoqIi7N27Fw8//DCmT5+OhIQEoV4GIYQQQggRCZnQA+hu2bJlqK+vx/PPPw+NRoNx48Zhy5YtSElJAQBoNJouNXnvvfdetLS04I033sDatWsRHh6OK6+8Ei+99JJQL4EQQgghhIiIqHJ4hSJELgkhhBBCyGA06HN4CSGEEEIIcTcKeAkhhBBCiF+jgJcQQgghhPg1CngJIYQQQohfo4CXEEIIIYT4NQp4CSGEEEKIX6OAlxBCCCGE+DXRNZ4QmkargaZJA3WYmvt/y7/V4WqBR0YIIYQQQpxBM7zd5OTlIOPPGcjJy+nyb0IIIYQQ4ptohreb7MxsbD+zHdmZ2QDQ5d/d2c4G0wwwIYQQQog40QxvN+pwNcIDw6EOV3f5d29oBpgQQgghRPwo4HVBdmY25o6Y2+cMMCGEEEIIER4FvC4YaAaYEEIIIYQIj3J43YByeQkhhBBCxItmeN2AcnkJIYQQQsSLAl43oFxeQgghhBDxooC3m70X9uJQySHsvbC3y7/7Q7m8hBBCCCHiRTm83byy7RVUNVXhlW2vAID137OHzxZ4ZIQQQgghxBkU8HazNmst9hftx9qstQDQ5d/d2TsDTAghhBBChEMBbzezh8/GtNRp1hld23931302mBBCCCGEiA/l8NowmVk8+HEhtO1DYTSZB9x+bdZaxIfF9zkDTAgh7qDRalBYWgiNViP0UAghxCdRwGtj+5kafH9cg7KGazDv5Z34d14RzOauk+C2HzzdZ4MJIcQR9gayVPqQEEJcQwGvjSnJ4Xj06hGQSjpwSduBF7acxtnqpfjxZBVYlgXQ+wcP5fISQpzRXyBrGwxT6UNCCHENBbw2ooKVePTqkUhXf4yXfjUeQyICYDCFIPujAqz6IB8NbfpeP3gol5cQ4oz+AlnbYJhKHxJCiGso4O2FhDFh2bRk5D42D7EhhZBLGWw/U4Nb3tqLTmNojw8eyuUlhDijv0CWZnUJIcR9KODtRqPVQNuutfy3Bip5Lv5+awxiQqQoqW/HzW/tRZsuvstzKJeXENKdqwvNaFaXEELchwLebnLycrD7/G7k5OVY//3aT79HYekdiA5uhbbdgOK663C+ukXooRJCRIwWmhFCiHhQHd5usjOzsWTiEqjDuFmVJROXQMJI8PAnD+OD++Zg3Vdl+KWoAdkfFSDn7uHW2WBCCLGVnZmN7We2uz0lQaPVQNOkgTpMTbO/hBBiJ5rh7UYdrsaUlClQh6ut/56UPAnhgeFIi0nEm3dOgVzagqK6Nqz8cCd2n99DMziEkB5sUxJcTW+wrQRDM8eEEOI4CngdFBWsRErUNihkEpQ3RODp63fSohJCSL9sg1Tb4Nfekoa2lWBoMRshhDiOAl4H7b2wFycrf8A9M5QAgM2HO9DUYaTUBkJIn2yDVNvgt7+ShrbBsG0lGFrMRgghjqOA10H8B1Rh6RtIV4eiVWfE45//aF3oRggZPOxNVbANUm2D3/5KGtoGw1QJhhBCXEMBr4P4D6jHF67F41kjAQDnaxKQ+9hBusVIyCDTV6pCf2yD3/4CWarvTQgh7kMBrx1sby3afkBdOToWU5LDoTOyyDsfQLcYCRlk+kpVAFxvOU6zuoQQ4j4U8Nqhrzw7hmHw+MJRAIBNB8tQ3tAuxPAIIQLpK1UB8E7LcVerPxBCyGBBAa8d+ru1OGtYNGYNi4LBxOKz/HIBRkcIEYPui8k8lZJAJcoIIcRx1HjCDgPdWlw2LQn7Ltbj++MarLlmJBiG8fIICSFiY/u+0T0tildW347G9uF4aesZnK9uQaW2Eyq5BIEKGUIDZGhsHwaDyYy6lmprJRjbmeM373zTI80tCCHE31DA6wZXpcdBIZOgqLYNZ6pakK4OFXpIhBAR4YPUv//4Ci7UGFFYloxZf/0BlVozgKvw9s6LfTzzamT+bQcSw89jz/l85OTlYG3WWuwv2k8lygghxAEU8DpIo9VYZ1r4D5lgpQzzR8Zg26lqfH9MQwEvGXSo3W3/Vs97DAeKA1Dbejee+aYVMskiVGrNkDKAVFqBG8ZPQlp0AFTyVoSoIqCSh+JoeRU+2H8RmiZA05SEBaO/xoqZY5EWk0iL2QghxEGUw+ugnLycXmvuXj+B+5DfclwDlmWFGBohghmsuaQDVWIwmALwwven8MgnbZBL70RFoxkKKWAyH8BDCwKxdFohzlevRmjAD6hv24xffzQbZ6o+xU2TE8HiWxTX3Y3Zw4oRESjHxVoDXvupht5fCCHECTTD66DszGwsmbgE6rCus1jWtIa6NpzWtGBMAs3yksEjOzN7UOaSdq/EwAe/6epp+Of28zijuROnNcUAAJW8Hn+6LhM3TkrEPe/l4PGFz0OjHY3bMq63vp/Y/gxt32tK6hW4570D+OZoJd1BIoQQJ1DAa4fuaQy93bINVsqwYFQMfjxZje+PV1LASwaVwZpLaptPywW/Nfjjl9+hRdcGbbsBgAxjEwLx+MKxeHXb/Vg+c3mX53d/P7H9Gdp+Tx0OPLNkLJ7++gT+9uMZpEQme+slEkKIX6CUBjv0lcbQ3fUTEgAA3x+jtAZCBgPbSgy3ZjyKpMjXUd44B9p2AyIC21Hd/DSmpuzCglGxcLV4yz0zUnDnFclgWaC8cT50RpPLzS0IIWSwoBleO/SVxtDdVaNjoZBJUFLfjqK6NgyLCfbSCAkhQmFZ4IN9JXjh+zZImFSEKGVYmzUSV6UrUdvy7oDvG454dvFY5J7SoLYF2FxwFp8XXE6poEVshBDSN1HO8L711ltIS0uDSqVCRkYGdu/e3e/2Op0OTz75JFJSUqBUKjFs2DBs2LDBbeNRh6sxJWXKgLdrg5QyjE8MAwAcKdO67fiE+BJ/7P7V12tqbNOjtD4Lz3xzEnqTGSGqEmx/fD7unZ2GpMgE6/uGbVqUKxQyCeJCywAAb+0q9FhzC0II8TeiC3g//fRTPProo3jyySdx+PBhzJ07F4sWLUJZWVmfz1m6dCl+/vlnvPfeezh79iw2bdqE0aNHe3HUl01KCgcAHCnX+uUHPyG98cfuX7Z/v729pvKGdtz81l40d6ZBIZXg2cVjkBr1I2JClD32ZZsW5Wrwu+7aKy3ji0S6ehqVKCOEEDuILuB99dVXsWrVKtx///1IT0/H+vXrkZSUhLfffrvX7bdu3Ypdu3Zhy5YtuPrqq5Gamorp06dj1qxZXh45xzbg9ZcPfkIGYlutIDszG3NHzPX5ig22f7/dX9NpTTNueXsfSurbIZe2YPNvZ+He2Wl95ulmZ2aj4KkCZGdm97kmwN583NkjhmJcYiiMZhbfHat0y2slhBB/J6qAV6/Xo6CgAFlZWV0ez8rKwr59+3p9zjfffIOpU6fib3/7GxITEzFy5Eg8/vjj6Ojo6PM4Op0Ozc3NXb7cJTFMDwA4pWnCipkP+MUHPyEDsb217i8VG2yDXNvXdLC4AUtz9qO2RYdhMSrEhHyIqKD2fvdlmxZlG/za6l7irD+3TB4CAPiy8JLzL5AQQgYRUQW8dXV1MJlMiIuL6/J4XFwcqqqqen1OUVER9uzZgxMnTuCrr77C+vXr8cUXX+DBBx/s8zgvvvgiwsLCrF9JSUluew3/O7oRJnMjTGagoT3QLz74CRmIbbUCf9Fb4H6qshn3vX8QLZ1GTEuNwPS0fdh/8QeHUhX6WhPgSD7ukkkJkEoYHC3XotMQ7tTrI4SQwURUAS+P6XZfkGXZHo/xzGYzGIbBxx9/jOnTp+O6667Dq6++io0bN/Y5y7tu3To0NTVZv8rLy9029tXzshGkrAfApTUQQvyDwRSIlRsPoU1vwrgEBf72qxQ8fOX9A6Yq2MuRi4boYCXmj4wBAGjbRzh1PEIIGUxEFfBGR0dDKpX2mM2tqanpMevLU6vVSExMRFhYmPWx9PR0sCyLioqKXp+jVCoRGhra5ctd1OFqhAU0AKCAlxBf09dC0zadEcV116KquRNhAR3YcuJmfLD/33alKnjKzVMSAQD1bcNxqZFyeQkhpD+iCngVCgUyMjKQm5vb5fHc3Nw+F6HNnj0blZWVaG1ttT527tw5SCQSDBkyxKPj7UugogYAcKS8UZDjEyIkX26G0NtCU5ZlsXzDz+g0xCBUxWDDiqmYM3xKj8DW3vKF7nJ1ehzkUhNM5lD89Yf/eOWYhBDiq0QV8ALAmjVr8O6772LDhg04ffo0HnvsMZSVlWH16tUAuHSE5csvt+e88847ERUVhfvuuw+nTp1CXl4efv/732PlypUICAgQ5DUEKmoBAOUNHThUctonP/gJcZYji6/ExnahGh+4/2XLDhSUGsGyeqjD/oeM1FRR5Oar5FJMsNT9njDkOkHHQgghYie6gHfZsmVYv349nn/+eUyaNAl5eXnYsmULUlJSAAAajaZLTd7g4GDk5uZCq9Vi6tSpuOuuu7B48WK8/vrrQr0ESCV6DIsJAgA0tYf75Ac/IY6wXbBlu/jK12pR2y5Ue2XbK6ht1mHDHi0AwGT+Gv9v8fL+d+BlE5O4PN7KJhf7FhNCiJ8TZWvh3/72t/jtb3/b6/c2btzY47HRo0f3SIMQCj8rdHW6HhdrgcjgDKzNukfoYRHiUbYLtp5d8qx18dWz3zyL5759Ds8sfgbPLnlW6GE6ZG3WWhwqmQQTq8SEIWFgWa1Hq1DYXjTYO3ucrg4BwNUFJoQQ0jfRzfD6Ov52bkndLgBAeMAkvyrVREhvbp+2Cu/cvReTk+9AQWkj9MZgAPDpJhQtnUMhlWRAJmHw11smgGFYjx7PmSoP6Wpuwe1pTQtY1rPjI4QQXybKGV5ftjZrLfYX7ccDc7Pw/75pRachUughET+h0WqgadJAHabucwbQnm084dlvK/BLUSOARgAXANyF3FPVuGbM5RQBocbmjFadEU//7yQAIHveUIxJuFzJxXZRnjsvZrMzs7Fk4hKow+z/2QyPDYZUwqCpwwBNUycSwoVZt0AIIWJHM7xuxtfSvHESV1XCaA5Cu94o8KiIP7CnVbUQ7awv1LTil6IGSBhgdHwI4kKVAICnvz6Blk6DoGNzFB/MvrhlF2pbdFDImvC7K7vWufXUojxnqjyo5FLreoEzVZTWQAghfaGA10PCAuUID5QDAErr+287Sog97EkPECKF4IsCrt71glGx2PpoJnb9fgEU0iZUNXfi7z+eFXRsjuKC2Vp8ll8HAIgNOQyVXNplG0c6onmDbVoDIYSQ3lHA60HqMC7gPVJG/e6J63prdevMNu5kNJmxuZALeG+bytW9bmyrQXjgDwCAD38pRbsuVpCxOWNt1lokhN8AgykYkUEyMMjnUjFsFpSJrY0yH/CeooVrhBDSJwp4PajTwLUs/rJwl8AjIf6sr9Jf3igJtvt8HWpadIgMUuDK0Vw3xJy8HBwq+Q+GxtSBZYFzNVOx69wej43BVbY/p1nDZiFEdTMAICWqBHsu7EROXo7LbYM96fIMLwW8hBDSFwp4PWjeyLEAgMSIyQKPhPgb2yCtr9xYb+TMfl7AXdTdOCkBChn3dsK32H3jjgWQSjohYZLw/77+1mNjcJXtz2nfxXp0GqIRIJfixZuvs7YK9nbbYEfwpclK6trQoTcJPBpCCBEnCnjdzPbW57hEbsarrpXKBRH3sg3S+sqN9XTObGObHj+d4tpo35aRZH2cX3w1JiEZt0wOBwCEBV7pkTG4g+3PKSevCACwdOoQjFYnWReRebttsCNigpWIClLAzAJnqymPlxBCekMBr5vZ3vpMjQoEAJTU0aI14hzbmVzbcli2QZptbqztNp7Omf3fkUvQm8wYmxDapWyXrd/MvwIAcKrShB9P7LaOTUz4n1OLLhh552oBmLFyTprQw7IbwzDWtIYfT5zwma52ZHDztS6MxPdRwOtmtrc+ky0Bb2VTB3RGutVIHGc7k2tbDosP0sCE480dF3BJOwsf7CvBM//7BNXNLV5pZ/3tMe6D6raMIX1uMzQmGCp5PYxmFi9s+c4j5bzcZeuJKgBAgPwiFNK+82Ft7+KIBZ/W8NLW/4gyz5iQ7nyhTCHxLxTwupntrc+YYCUCFVKwLFDR2CH00IgPsp3JtS2Hted8HYrrrsXsv27Hyz+eRX3reDzzzUlcqL0WSRHv4q4rHvX42C7UtAIAZg6L7ne7sICLAIDwwCtFVc6rO252F6ho/HHAWsdiW8DGz/DGhEwSZZ4xId35QplC4l+o05oHMQyDlKggnNY0o7S+DcNigoUeEhEp2y5kALp0JOPTEtThakxJnoVvjoTg0/wDAFIAAFekReJi7Q5MTs7CsQotqpuBd3axWDjOcw1PmjsNaOrgmkoMiei/u1dYQBGqm6fjVKUJk5Nni6acF49LAzmBAHkjAODz7OcwMSmpz+2d6YjmaXzAazDFIj4sXuDREDIwXyhTSPwLzfB6WEok5fGSgdne3uvrVt+Bonqcq74Nn+aXgwFgMm/H328LwcNXmXFJ+0/cO0uHb383BzJJG87XtOK+97d7LGf2kuWORWSQAkHKvq+bNVoNOg2lGBajgtHMorkj1e1jcdUr215BU0c8zCwwNDoI146fPmCtY7EtYBsWEwy5lIGZVdLdJEII6QUFvB6WEs0FvGUNFPCSvtne3uvtVt8XBRW4690DMJhCMCQiAMNjv0dF46v474H1XXJ7Y0NUSInaBrmUwaESA9r1mR7JmeWDqoFmd/nb/yEqLq2hqWOo28fiqrVZaxEVxM06zx3Rf3qGWClkEgyP5fJ4qR4vIYT0RCkNHpYaxfW5L6lvE3gkRGxs0xi6397j/82yLGqaJ+Pxz48CAMICLmDrow/iaLkSJyq/subD7i/ab/13kLIGz984Dus2H0d4wF1YOSfC7WOvaOQu4AYKePnb/zpDOO549zRaO4egqcOAsAC528fkrFnDZiFAXga9CcgcGSP0cJw2LIZLn6KLa0II6YlmeD2MT2koq6cPIdLVQKuUWZbFrz/6CVXN0wEAd18Rh1DVl2jpqO3S3tb233wFgfkj5Zg4JAwMI0VrZ4rbx355hjew3+342/8zhw/F0GgVWEjxRf5Zt4/HFaX17dCbQiGXMpgxNEro4TjNZG4AABSUFgk8EkIGZltCkRBvoIDXw1KiuRne8sZ2GE1mgUdDxGSgVcovbT2L3FN6sKwZQyL2QSb9Dnsu9F8dwLaCwFXpXOOTn8/UuH3s/Awvy9bZXZ4rWMUFYh8fKHT7eFyRd56rzpCREtFvPrLYHavgWpj/UnRa4JEQMjDbVCxCvMGlgHflypVoaaHOPv1Rh6qgkElgMLHIPZUvqtqdRFh9rVLee2EvCksj8c4uLu/VaP4IL/3qOrva29puc1V6LABgz/k6dBrcWwe6vIGb4X3h+zV2l+f69dx5AICmjjiwrHi6D+adqwPg2+kMAHDLFK6bXWzICIFHQsjAbMssEuINLgW8H3zwATo6aEVwfyQSBkmWPMdb3v61qGp3EvGwvb33p83fQCa9DQDwx0WjkZHSidnDZ9tVHcB2m4iANkglzegwmLC/qN6t4+VneCcMSbK7jubVY4ZBKZOgvs2IXy4Wi6LLkt5oxr6L3AzvmHhG0LG4at7IiQCAdoNC4JEQMjDbVCxCvMGlgFdMszRixi9cGx2fSUW2Sa/423vPf/shKhozAQA3TFBi9bxhvW5v2+2rr85f/9r9L2jb9wAAfj5d7baxNnUY0NzJ1fiNCobd5blUcimmpnIL6Nb/vFUUXZYOlzWiXW+GyazFjrMfCToWV8WFqgAA1c06em8mokDtg4mYuJzDyzC+PSviDSmWgFcqiRdV7U4iLNtZXe723jDUtd4IE8t1J/vnHVf1+VzbXN2+On9lZ2bjxVvuAgBsP13jtiDItgavVOJYc4tZlq5sKvkEUXRZOlTCLfSaNzIeq+f59sUoH/DqjWY0thsEHg0h1D6YiIvLKzRGjhw5YNDb0NDg6mF8WkI490FkMAUJPBIiJraLNr5Y/SWig9egvo1FalQggpS7wDAPd5m9tb1Y6t7tq7fOX+pwNZbPjMWrudtQ2dSJzYUHMWtYsssXXfaWJOvNrGFcFYTDZW1IiYoQ/AKw2NIQZuawFMHH4qr61mpImDaY2SBUNXUiMohSG4iwsjOzsf3M9l4vbPt6byPEU1wOeJ977jmEhYW5Yyx+KyZECQAwmh0PEIj/Wpu11lo/9528i2jpTIFSJsFbd2Xgj5u5GTrb2dtnlzxrfS7fatj2/3ujkksxZ3gMfjpdjVUfvIZHrx7dZT/OsG06UdHo2HPHJ4YhRClDc6cRHQbhS4Dx9bFTovovr+YLcvJy0GmIhEI2DNXNnRiTECr0kMgg11/74L7e2wjxFJcD3ttvvx2xsbHuGIvf4gPelk4J9l7YS0n6BMDlRRtxoRPxWm4eAOC5JWO7BCrdZ3KdcVV6LH46XY3YkKuQnXmDy+PmA14GjdaUDHt/p2VSCa4YGomfTtegVZfo8lhcVWoJePk8e1+WnZmN45dOoqBUh6rmTqGHQ0i/ur+3dW/EQ4i7uZTDS/m79okN4VIawIZSzUHSBcsCT399AgYTixBVKZZNS+pxq2+gygwDuWo0d0GqN6kRqHC9dS6f0nCsYodTdTRnWvJ4KxuDBS0639JpQF2rHgCQGu37Aa86XI2RcVzt5aomCniJd3RfmNbfQrVj5aV4c/tePPVVPh77rATPfdeBTw614ExVM97ZdTnflxa7EU+gKg1eEBvKzfBKJEF46Mo1Ao+GiIm2Yzj2F9VDIWMQovwBVU1VfS5Cc1ZsqAoJYSoADC7Uul43m5/hvX36NU7V0Zw93JLKwAzHyz++5vJ4nFVq6X4YHaxEsA83nLAVb63UQAEvcZ/+AtDuC9Ns/59fmPvJwTw8+HEhlrx5Ai9v0+I/B6rxS1EDjpZr8Y+fz+Pa9bvx85k5yEhZiezMbFrsRjzCpXd5s5k6h9kjRCmDSi5Bp8GM4TFThB4OEZDtbbuWTiMuNc4AAIxNKMfXh79DTl6OW9IYuhsWG4zKpk5crGlDRkqkS/viZ3izxmTgx5OO19EcGRuCUBWD5k4VFk/8nUtjcUVxHZ/O4Pv5u7z4MO7iWkMzvMSNcvJy8Ny3z+GZxc/0yLftvjDN9v9XfvAnGE0r8MfNLQC4i225tBrXjx+LWcMSwDDAjyerkXe+FhWNOjC4EfVtgf0udiPEWdRa2AsYhrHm8da00AfRYGY7c/HwJ7kws0EIDejA+qU3WDukuSONobthMcEAgIu1rS7tx7YGb6ITVRoArhlL5sh4y/6Ey9Ur4QNeP0hn4MWHceeEZniJO/XXBr37wjR1uBphAZH4oqAV56pvRZByLgDg+vFqbH10LtLVX2P97Vdg6bQk3DY1Ce+umIrCp6/B1elxYCHFbz4uQKAyus/FboQ4iwJeL+HzeGtadAKPhAiJ/+C4adJ9uFDDBX1/vnE8UqIT3R7kdsU1njhUUubSXvgavFFBCgQqnL9BNHcEl8e761ytS+NxRYklpcGvZngtKQ20aI24U3/VFro7rWnGhZqb8EruOZjMQIiqFD8+mok375qC0fG9Vw4JVsrwym0ToZA2o7yhA7///CgoY5K4GwW8XhJrmeGtpYC3V4NlkQL/wfH1kVYYzSxmDo3CkkmjPH7cPRe+BACcrKxzaT+2NXj76vBmj/mjuIV0xyq0qG/VCXL++ZJkfjXDawl4te0GdBpMAo+GDCYsy2Lj3mIseWMPOgwxCAuQY/2ySUiN2opR8SEDPv9E5UG06v4BmQTYdqoada0TvDBqMphQwOslQQruw6eo1rWAw1u8HYAMpkUKRpMKmw5yM60PLhjulWM+ctXtAACDKRx6o/O596cquZniqGDGpcV1caEqqOR1YFkg73ytIOffn0qS8UIDuPUCAKU1EO/gFqYdxV3v5uLZb0/BYGJhMh/GX24OwE2TE2FbzMm2u2R3r2x7BZqmA1CHcd+r1E7Hp4e4co2DZUKEeBYFvF5yse4wAGDvxRMCj8Q+3g5A+ssR8ze1rROgM5oxMSn8csUCD7thwhxIGD3MLFDW0Ob0fradygcA1DSfRnZmtjXv2FEarQYK6XkAwI4ztV4//7Ylyfyh6QSPYZjLaQ20cI24SX+B6gvf/xsM/oB9Fw2QSRgMCf8FFY1P4709r/W4C2TbXbI7rr16PF685TqEqsrBMFK8mrsbwOCaECGeQwGvlywaOwsAEB08TOCR2MfbAYgjOWK+bNvJ3ahpHg0AeHD+MK/VsmYYBkqZFgBwocb5gDc6mEu/uHbcdJcW1+Xk5eBc9VcAuBne2NB4r57/yyXJFAhRyb1yTG+Jozxe4mbdA1V+xvWH4+dR2rAUClkqwgMY/PeBGXjp1mut5Qq73wXig9reShnyjXjmjJiD5TO59xkJMwUsyw6qCRHiOf5RfNIHjIiPA1CG5g6hR2KfwRKAetsz3+wAw2RAJW/A1elxXj22Uq5FhyHWpUoNda3cSpKxCfEujSU7MxvXj1+MlRtroW034Ei51qX9OepySTL/SWfgxYdRLV7iXrZt0AHugvXlH39GXOgfYGYlCFRUY9tjdyI2VAWAC1xnD5+NodFDu5RY5IPagUoZrp4/F2/u+B6aJhnOVbdiVDx9HhHX0Qyvl8Ray5L53qI1yp9yD5OZRadhKgBg5ewhkEi816lQo9WAZasAAEW1zs/w8rOGfFDlLHW4GtPSMpBpWby262yNS/tzVKkfLljj8SkNF2sa6O+WuIVtoMqyLEKUNyEm5I8wsxIsHBuHoTHfWoLdrpy9CxSslCFYVQEA2HKcfn+Je1DA6yV8Hd76Nh2MJnE37DCazHh750U0tI2C0WT2Sv5Ufzli/uKXono0trOQMp145OpMrx47Jy8HF2q4n62zM7wGkxkNbVzeK38B56r5I2MAAN8eK/bq+S+u87+SZDw+peFA8RnKeyRuxbIsXv7xLP654xIA4N5ZqXjrrgxIGNcrgnTP9w0PKAIAbD1R5fK+CQEo4PWaqCAlJAzAsrAGDWLDz+S+mnsUL209g4rG+Vjw9x8xNeVOj+dP9beYwV98dZj7kAgLLIJSJvXqsbMzs/GfVdzP9mJtq1Ntwesti7xY1ohTmkNuGde8UVzAW1xnQk1zp9fOv1/P8Fpm30NUSZT3SNyGZYG/bj2Dt3ZeBACow/bjmcVjUNNc1SVQ7a9cYX/fs8335e5IHYNUApytbsHn+Xl+PyFCPI8CXi+RShhEB4s7rSEnLwczXrwZ7+zibiWZ2U6UN5rx0KbzMJrmAIDHbpE+fNUaxIcN7XUxg6/TaDXYf7EAW45XAgAiAs97fQzqcDUWjZ8KCQO0dBqx/Uy+w+eRryFtMmvxWu6rbhlXbIgK4xK5YvTxYVd67fyX+GFJMh4f8Da0mSnvkditv9S1ysZKlNRPRs4ubtb1uSVjERNyDAzTszxhf+UK+/uebdWXnLwc7L34E+JCmwAAr+Xu8PsJEeJ5FPB6kdjbC6+a/WukRj0NMyvBpCQZDKYnMG+kAgBQ1zbWo6kN7+2RI0D+MpIiJrt930LLycvB1a8+ina9GfGhCuiNZwTJq1TJpRgSwd3Cv/71VQ6fx9pW7vdWIml1a2A6fySXxxsTPHfAxSzucKG6wi9LkvH4HN7q5k7qVkXs1tf7O8uyeODDH9DSOR0A8H83jcPw2EvWGdfu5Qn7K1fY3/ds83357ZbPGA8AUMiu6LO6AyH2ooDXi6wL15rFOcP7v6Nt0JvUCFXJkHPPPExLHYN/3jkfEgbQG8Nx06T7PHKLtNNgwr6L9TCzSnz0S4lb9y0G2ZnZSI78FQAgJqQEey4416zBHYbFcDOa6ep5Dp9HfoY3LIBxa2A6cxhXi7hNr3Yq1cJR//j5vwAAldzgdyXJAO7CmmEAo5mF0Rwg9HCIj+ir9Nc7u4pwUsNVZfnDwiTcMyOlSwpa94Vp/S1Us3cRG7/dbVNHQsIAJfUmTBxypVcuiIn/ooDXi2JDuJkXMbYXbuow4PXtFwAAz9041rrwJVQlR1o0l2+69WSRR26RXqhphcnMBTqfF1T4XUtUlTwKHYahAIB1i65yulmDOwyLCQYASCUJDp9H/vdWJml365gmJ4dDJmFgMAWjotHzdfump90AABgZF+7xYwlBLpVY06eOlpdQ3iOxS2+lKDcXVuClrWcAAE9dn47fLuDa/fZXT9edooKVuCKNuyBu6kjz6LF8CVVOcg4FvF4UGyreHN4fT1ZBbzRDKWvATZMSu3yvVVcIAPgs/4hHjn22qsX6b227we/K0Hx/XANAijHqUMwaPtTpZg3uMCyWC3h1hnCHn8sHvHKpe4PSQIUMo+K5mcjcU0Vu3Xdvmjq4Wd0RsREeP5ZQ+LQGbTso75E45avCs/j9F0cBAA/MTcP9c4dav2dvPV13WDSem11uaEuiAM+COs85hwJeLxJzDu+3R7kFVW26Xdh3cV+X1bT3zeK6xDEY5dacQP4qtaCUexMzs1wg9Z9fSt13EBH4/hj3+m6anCDwSC7P8HYawx1+bm0rF/AaTPVu/+BhwK383nQw36377U15A/d75o/5uzz+Dk1EUBrlPRK72JaGPFXZjN9/cRYmMzA0uh7rFqULNq7Zw6MBAB2GaLy9iwI8wPudUP2FKAPet956C2lpaVCpVMjIyMDu3bvtet7evXshk8kwadIkzw7QSXwOr9hSGmpbdNh7oQ4AUN28Ba9se6XLatoVs+aCgQn1bSzyS0vddouUv0rdeY6rWnDn9BhIJUBhmRZfFhzwi6t5ndGE/NJ6AEBE4CWBRwMMteTw6o3B2HFmj0PP5X9vz1Xnu31mYflMbqZIZxzi1v32ptpywRnfS6F8fxEfxr3XJIaPobxHYhc+L/elrf/E6v8UwGiWQikrwcb7rurRJKe/8mLulhoVBIWMgYRR4YbxKzx+PLGyTWOgTqjOEV3A++mnn+LRRx/Fk08+icOHD2Pu3LlYtGgRysrK+n1eU1MTli9fjquuuspLI3VcjCWHV2wpDT+c0MDMAkNjpIgOYbE2a22X1bQBCikCFdUAgNZOtdtukfJXqXojdwV/29QJuHYs9wf8648+9IvbNccqmmAwASZzI/57YL3Qw0FUkAISRg+GkeDlH99z6Ll8wPuve/7u9pmFhWOHg2GAsgadxy8Ii+saAAC1rRc9ehwh8cG8weR/ZdeIZ3B5uWpImPtQ1tCOIREBGBa7E8lRiT227a+8mLtJJQxGxoUAABra/fcitT8tnQY8+ulXyHz5D3hl2/tCD8dniS7gffXVV7Fq1Srcf//9SE9Px/r165GUlIS333673+dlZ2fjzjvvxMyZM700UsfZthf2xmp0e31zhEtnuHP6SGtelu1qWo1WA5mUy60MD7zCbbdI1eFqBKviUNdqAACMig/BXTOSAQChqquwcvYDbjmOkA4WN1j+dRGPLxT+1jLDMFBb6rTeOMmx2RI+EJ09fLzbZxbCAuUYZflQO1TSMMDWrrnUyHWa+/bofzx6HCFFBnHvNSbz4AwQiONmD5+N5MgHcKTcCKVMgnfuzoBM0vvFZ3/lxTxhVBxXq/uMzXqPweJCTQtuenMvDhSnIDr4MXxROBFz/7Ydlxpno6XTIPTwfIqoAl69Xo+CggJkZWV1eTwrKwv79u3r83nvv/8+Ll68iGeeecbTQ3QJn8OrN5rR3GEUeDScw6WlyC9tBAPghgm955jm5OXgbNW3AACFbDxmDZvltuN3GiIBAEMiAhCslGHm0CgoZRKwUALw/UVFBywBb1Jkp2huLQ+N4X7mkUHD7H5Om86INj1XPSPGTW2Fu5uexo1r55lyj61ANprMMFlKdT18lf/eHo0I5Bbm6Ywyv0gNIp6361wtqpunAeBq7TZ1nOizu5m95cXcZXQ8dzF81o8D3u6VFzRaDd7YvhdL3tiDi7VtiA9VIVBRDamEQXlDB+rbxuGRT3b2+lzSO1EFvHV1dTCZTIiLi+vyeFxcHKqqeu+nff78efzxj3/Exx9/DJlMZtdxdDodmpubu3x5g0ouRaiKGyNfxF9of97yAwAgNrQZLNvYa15WdmY2dv3+AyhlDEzmAJyrbnXLsfde2Gt9A+Pf0GxnIDVNni9R5SkarQaHiguQX8Ll7wYpxPNGlBDGBXyaJvt/B/nZ3UCFFEFK+/7OHDUtlQt4fzpT4rEVyHWtenD3Vky4duwct+9fLCKCuIYxrTrWL1KDiGc1tOmx9rMjABjcMT0ZS6cmiard+6hBEPB2r7yQ/Z/v8PdtWrTrzZg5NArfPTwHw2O/xtFnspASuQsAsP1MJ85Xt1DVBjuJKuDlMUzXBHmWZXs8BgAmkwl33nknnnvuOYwcOdLu/b/44osICwuzfiUlJbk8ZnvFWnLrxNJ8okM/CgCwYubYPvOy1OFqXDE0A5OSuBX+W0+4p3TUK9tesc7w8m9oABCg4Lpg5Z0/5pbjCCEnLwdzXroD7XozQlUyqOSevU3viHjrBYUDAa+lQoOnZneByzO8jW1BmD3sKo/cLq1u5l6zXNrRYyGOP4m0BLyRQcm0kpsM6JlvTqKuVQ+5tBbZmdzfobdq7dqDnxApqW/zuzrtPNvKCzvO1OBYBXfH9e4r4vDRqunW2trBShn+csuNMJkLAUjw4g9nqGqDnUQV8EZHR0MqlfaYza2pqekx6wsALS0tyM/Px0MPPQSZTAaZTIbnn38eR48ehUwmw/bt23s9zrp169DU1GT9Ki8v98jr6Q2/MPx8TbXXjtmXVp0RZ6q4JgI3TR4xYF5Wh+EsAGDL8UK3HH9t1loEKUcAAEbFh1ofr27iCp1/fXinW44jhOzMbKSrFwMAJgwJQlOHd1Y02yNQwQWvJXVau5/Dz/DGBHsu4I0LVSE1KhAsAJl0lEdul9Z4qHmG2IRbUhradCxiQ+MFHg0Rs60nqvDt0UowYFFW/wI27vs3AO/W2h1ITIgSEYFymFngvJvuMIoNX3khNCAGT319AgAQHXwUf755KmRSSZeycbOHz8YY9TnIJAy2n6lBUZ2cqjbYQVQBr0KhQEZGBnJzc7s8npubi1mzeuaNhoaG4vjx4zhy5Ij1a/Xq1Rg1ahSOHDmCK664otfjKJVKhIaGdvnylvo2rtrEluO7vHbMvuSXNMDMAgppMxLCAwbMy7pu3AwAQGTQcLccf9awWZBJuEVq/IIlAJg9fCwAYFyi795yVoerYWK5Qu2dhuNeW9Fsj/wS7u/rTB9pQr2xBrwenOEFLqc1tOk988Z9uQZ2k2guQDwhIpCb4TWzQHMHLWwhvWts01uDq3tmxmP/uk9FOUvIMIz1LuCZKu+kIArl79vO4pK2A0MiAhAferkuefcUE6W8CXfPSAEAvPD9abfWyPdXogp4AWDNmjV49913sWHDBpw+fRqPPfYYysrKsHr1agDc7Ozy5csBABKJBOPGjevyFRsbC5VKhXHjxiEoSHwleaYkc6kX4xJ6D8a9iV9QFaS074N/TAI3U1TXanbL8S9pO2BmFZBLGWt9WACYmsoF1Awi3XIcIZjNLNp1XND2m/nXCNpOuLt7Z90EADCaQvrf0Ia3At6MFG6hYnWT3CMtcastqUQ1LRdEcwHiCXKpBCGW9QIN7XqBR0PEovvipue+PYm6Vh1GxAbjyesnC9oFciCjLXcB/TWPd++FvcgvqcPGvSUAgLuukKCgbL/1fdA2xYSvg7xsaihClDKc0jSjsExGbcQHILqAd9myZVi/fj2ef/55TJo0CXl5ediyZQtSUrgrGY1GM2BNXjEbEhEOADCYPRs42IMvmVXTss+uP5TECG6x0yVth1vKqvFvXMNigiGXXv5VtOaYNotjYZ8zzla3wMQqEaSQYt5IYdsJdzfBkrPeojOhTWdftRBvpDQAQGo0d+FjYiM9slim1jLD+8Dc20RzAeIp/CyvlgJeYmG7uGnXuVp8faQSEgZ4+baJUMqkXbb1ZnMJe1gXrlX7Z8D79x9fBXAnWAA3T05E7qnXu8zo2qaY8OttPs1/D79dwE8QLbHsg/RFdAEvAPz2t79FSUkJdDodCgoKkJmZaf3exo0bsXPnzj6f++yzz+LIkSOeH6ST+A+hhjbhPoQ0Wg32XyjA0XItAKCmeY9dwUViOBfwtutN0La7fpv0UAlX/zc5suuqf75KQ7UDi6rE5hNLi9xhsQxkUnH9mYWo5Ai2VFqwd+GaNxatAUByJNfuVyaJxaNXr3H7/vnFohOT0kRzAeIpfKWGhjZKaSAcfnHT/XN+jRe3nAYA3Dc7DZOSwnts683mEva4nNLgnwFvuvq3UMjSEKxk8NT16f0uGrRdb3Pf7FQEKxnIpDG4cdLDAozcd4jrk3gQ4FdPNwo465KTl4MrX1kJo5lFZBCD6BDGrpW4KrnUulL0ktb1kmE/njwOAKhr7VqNQQIuR6umpRNGk3vSJ7ztm6MnAQC1Lb8IPJLe8RcVVfYGvF5KaYgLVUEhlYBhZEiLnuL2/fNthWM9/DrEINKycK1RwItrIi78wqj9RSacqWpBiEqKeSPbe53F9XZziYHw3dZqW3SCThh5gtFkxnZurTb+3w3jERWs7LFo0HbG3Xa9jUouxZzh3KL+Nn3PrnjkMgp4vUzTdB4AUNGoFWwM2ZnZGBF3PQBg7gi1Qytx+bSGikbXV7kHKbgFa7dlZHZ5/POCDWBZI8zs5ZlFXxOk5G4z3TNjnsAj6R2fNlJpZ61jbwW8UgmDIZHc71hZg/srKfAzvHGh/t+BjL+bJOTFNREfMyvFK9vOAQBGxRVj3svTep3F9XZziYEEK2VIsrw3+MvCNT6nenPhWVQ1d0Iq6cCNk/tuANXXjPuModx6l1+K6j06Xl9HAa+X/e/IxwCASm2TYGNQh6thMqcBAK5Ii3LouUPC+YDX9Rne5k4uD3hkfNeySavnZVsDK0dqxYqFycyixnLXbfHE6cIOpg988wl7ZnjNZhZ1lguP2BDPB4p8WoO7A15Tl9fh/zO81pQGCniJxd4Le3GkLAJVzZ1IDA/A329b4lP1W/kWw/6ycI3PqX59O1fqMyLwXI9cal5/M+7DYrjP0kMlDdAbffOuqDdQwOtlq+fdY/lXsFsWfjlDZzShXR8LAEiLNjm0MMF24Zqr+OAjKqhr8KEOVyMlintj88U83kuNHdAbzWBgRILlAkFs4h3oZqftMMBo5n5Xo4IVHh0XAFjWreFUZY1b91vfqoOZBSQMEOXhxXdiYE2f8rPbv8R5L/3wBiTMtQCAxxeORGp0ok/Vb/W3FsPZmdmYOfQ6VGrDAQBy6YEurYVtP5v7m3H/6fSHMJmb0Gkw4/glrbeG73Mo4PWya8Zw9YQNJqBDoI4x//llD1jIEBbAYOuJDxxamMAvXLvk4gxvu96Idj33+nsLopzpBiYWF+u4wugyaSNqmu2vdetNCeH2/3z5dIbIIEWXahqeUtpQAADYff60W/fLN52IDlZC6sdd1nh884lGNywwJf4hIWIVJJIgpERJceNE38v39LeFa+pwNYzm6TCzQHxoM34p+sb6WezIosHV87Ix25LH+0uReLp6ig0FvF4WqJCCAVcKSqjE+3d37wQAMMxFrJ7n2MIEa8Dr4gxvfSv32pUyibVigK14S45llQ+WJrtYwwW82vazolnh3F28AykN3ipJxrt1ynwAgEo+xK375dsKx4b6/+wuAEQG0gwvuayp3YBdZ7nPnv+7MQMSCdOle5cv4Gd4z1W3wGz2/U4LRpMZje2jAQC/nT+hy2exI4sG1eFqLBo3DADl8fanZ6RBPKqqqQoSpgMmNgSNbQYMifD+GNRhM6BpMuKGCWOgDlc7dDvLXSkNfDpDdLASDNNztk3twzO8RXVtAIAVM69FduZIgUfTuwR+0Zod5/F8NTdLHeql7IxJyUMAFKFS695AjZ/h9UYeshhQDi+x9Vl+OToMJqjk9Zg7IhpA1+5dYmghPJDU6CAopBK0602oaOxAclSg0ENyyds782AwBSNExWDZ9NFd8ncd/WyeMZRbj5Nf0gi90QyFjOYzu6OfiJfl5OWgw1ALQLgPoupm7lbnDRMmOfxcPuDVthvsblrQG36GN7qPnNB4a9ks13OFva2olpvhnTV8mGhz4/ifb3OnccDz+P3xPQCA+rZij48LgHUldnOnEU1uvB1/uULD4Jjhvdx4glIaBjuTmcUH+0sAAIHyg6hq4i5i+6v1KkZyqQTDYoMB+Eelhn/v5tK2AuRH+1ysZq8RscGIDFKgw2CiPN4+UMDrZdmZ2Ziawt3CEOJWY1OHwTo7m25p1eiIUJUcoZaWpa7M8loXrPVxm9xaJ9YXUxpquRneoTHBAo+kbyEqOULsbD4xIi4DADAjbYzHxwUAgQqZtUqHOys18DV4YwbNDC93Yatt18PkB7d/ifO2n6lBRWMHlDIjjpS/a0216l7r1RckhnOB4YlL4lwfYS9NUwdadFxpzj9c6/rPXyJhcEUaX56M8nh7QwGvl6nD1UiO4m49CJHDe0bDXRVLJU1o19c5tY/ECO42kisL1+otrz0qqK8ZXm6Wr7pJ51O5Wi2dBmvO69CYIIFH0z9+lnf3+eP9Vuno0HOBcVq0YyXsXMGXJittaHPbPvkZ3sFQkgy4PMNrZoHmDprlHcw27uPuziydmoj8p/b5TBmy3lQ1nQIA5J4uFHgkrvn5dA1YFghUaHBrt1r0zpo5jHuP3nm2EoWlhaJpCy0WFPAKgC8XJESP+1OWgLel84zTC6oSrbV4nZ99s+bw9hF8xIYowTCA3mT2qRzEIsvsbkyIEqEqucCj6Z/ach5/t+n/9fu74K22wrZSPFCLt9YywzsYmk4A3O1ffhafmk8MXueqW7D3Qj0kDLB6/tgupa26l77yBdeO42qbxwSLc32EvQ4Wc7OwIaoKt+2Tz+MtLNMi489XiHbRtFAo4BUAP/MiRCB32hLwrph5ldNX+UP4bmsupTT0P8Mrl0qsbYztbX8rBhct+btDo8U9uwsAakvgNywmo9/fhdL6RgBAdfN5r4wLAJL4gLfejSkNg2yGF7i8cI0C3sHrg30lAICsMfHWyQqeI6WvxCJdzZXfamj3nTt/3bEsiwPF9ZZ/n3fbBQefx2sySzE99Vafnsn3BAp4BRBh7XHv/duMpzVc/cIrR490ekEV/6Z54lKl03+o9XbMGvpipQZ+hpdfWCFmakstXqkkut/fBY3lwubrwx96ZVyA+7utmc2sdaZ6sJQlA2wqNQjwXkOE19RuwJeF3Azi4okhPb7vSOkrsahpPgsAKKnz3Vq8ZQ3tqG7WQcKYkV/yhdsuOBiGsbYZBuP8Z7y/ooBXAJc/hLw762I0mXG2mnuTSFc7vmCNx1dq2H76iNN/qH11WbPli7V4i+p8aIbXckFR22Lssw5nc6cBJpY7R48vXOm1saVEuTfgPa0ph8nMggGsdw4GA+vFNc3wDko/nqpCp8EMvbEEB4v/2+P7/XXvEqtPDr0JAGjVsWjXO18pSEgHLOkM4xNDkP/UfrdecPBpDRptkM/UV/YWCngFECnQbcaiujbojWYEKaTWGTRn8DO8gYpEp/9Q+bJk/bWqVftgabKLNZYZXhFXaOCpLQsDTeYQvLLtlV634RcmSiUduCp9jtfGxv9+Vmo7cKCowOVbfu/kbQIAKOUGr3SLEwtqPjG4/XSqGgAQE1KB1fN8Zxa3P3+49mGwLHchXKn1nckQWwcsVRTmjIh3+wXH+MQwAIAZ8X2+rw9Wg+edX0SsObxe/hDi83dHq0MhcaG1Kj/Da2JDEBkc6/DzTWbWmr/c32xbnI+lNJjMLIrr+ZJkvjPDK5fG9FmHs8IS8Cqk3r19GBOihEougZkF5ry02OVbfgtG3ggASIpw/s6GL6LmE4NXp8GE3ee5SjyxIVU+NYvbn9nDZyNAzr0vudoASSgHS7j83elp7q98w5fDlEmi8Jv5a9y+f19GAa8AbGd4WdZ7ifd8hYZ0dc9cLkdEBSmgsNTI/u6o47dMGtr0YFmAYS7fcu3N5Rle3wh4K7UdXIcbqQRDIsTfAYiv0sAwQZiUdEWv21yuxNHo1ZXcDMNYZ3knJV/t8i0/g5nbV2KE+Gfe3Yn/+9JSDu+gs/9iPToMJqjDVFDJ/avdrFzGpY7Z0ylSbCq1HShv6IBUwiAjxf2tVsMC5Na1MbEh49y+f19GAa8A+Bleg4lFqwvdyhzFL1gbow5zaT8Mw4BhtACAt3d96vDz69u4/N2IQAVk/dxejrf0si2p842yORcsFRpSowMhdWEG3VuClTJrE5GKPmoq849XNZ/0+kpuPuBVSBNcnp0abDV4eTTDO/hotBoUlhbif0e42rtjE8zILz3kN/mcGq0GLMsF8L4Y8B4q4dIZxiWEIthSNtDdhlnuMPJVgwiHAl4BBCikCJBzU6TerNRwqtI9M7wAMCKW68V+1ehbHX5uXUv/bYV5fAvYisYWnyibw1doGBrtO7OIieHcOThS1nstSD6Hd+0193p9JXdyJPemrTO6noZwtKLEsq9al/flSyiHd/DJyctBxp8zsO1UJQCguO4bVDVV+U0+Z05eDsobjgFwrfmRUPguaNMtXdE8QR3GhXZHyn27G527UcArEG8vXKtt0aGuVQcGQJjK9e5Vw2O53N3IoGSHn8vP8PZXoYHbN/czkkgCcd+sBxw+jrcV8TV4fSB/l9dhKAcAfF6ws9fvV2i5lIaZw7xf4iY50tJtr9nk8uzUoZJzAIDC0h0uj8uXhAdSHd7BJjszG1ek3Yp2vQJBCimevmEZ4sPi+8zT9zXZmdl4/sZHAfheDq9Gq0HeuUsAPJO/y7ukLQAA7Dx7xmPH8EUU8Aok3JJb561bjfyCNb2pAh/+8q7L++MXm9U7MXPEN53oq8saL1Qlt6YGqBTea2vrLL6EVmqU7wS880eNBQAkRU7p9ft8SoMQOcn8MY39VJGwV1TwMADArVOvcXlcvuTyhTXl8A4W6nA1zOx4AEDmyBjMHzUH01KnYfbw2QKPzD3U4WrMHp4OAKj0oQo+ALD+p/dwSWsCwGJ6qudmeO+cfhUAQML4x0JFd6GAVyDWDyIv3Wo8Z6m/G6pqc8utaYWMm6Utq9c6/NzLNXj7T2mQSBjrohtvV7RwBn97bUhkwABbisfYBG6mvq6XVK+WTgO0lkCJr8zhTXyDCIU0yuXZqdZOLlfuylGTXR6XL4kIsixaa9fDbPb8Alk+f9QXcu791d4Le1HVHAMAuDo9zifbBw8kwbLgVqPthMkLv9fuMmHILQCA4TGBCOtnwbarpqVxd14vaXUwmMweO46voYBXIN4uTVZiKZcVompzy63poxV7AADHLhU7/Fy+y9pAObwAoJRxi/p2ny90+DjeZDaz1lbLST5QoYGXYpmN5n8/bPG3C8MD5R5bXNEffqWxhAnDzKGznN6PwWRGbYvOsq8mt4zNV4QHcH9jZpZrIuJpfP6oL+Tc+6sXt7wDCZMMwIwFo2N9sn3wQOJCVZBKGBjNrPVv2xecr+GC89nDHS/n6Qh1qAoBcikMJhblbmre4w8o4BWIt3N4S+q4X3qFzD0f+L+azN0aDlLEO/xca0qDHR2vmjq4fKdNB751+DjeVNuqg95ohoQB4i3l1HxBqqWj2aVGrqSaLeuMtQCzu8DlHG8WUpyr7n1RnT1qWnRgAbCsAZ/lb3DT6HyDQiZBiOVixVMX17azutmZ2Zg7Yq5Ptar1N1NT7wMAjIqTIzJI4ZPtgwcilTDWTpy+lMfLd1jzZP4uwN0dHWqt1OD6mh1/QQGvQC7P8Hont664jvulL6o94JbyNCPiuFnipg7Hb5fwM7xRdgS86Wru1kzmqOsdPo438fVqI4OkqGupFng09osJUSJALoWZ7fnBYc3fDRdmxlohk1hn+N/e9bHT++HrOMeFqvym25QjIjx8cW07q6sOVyM8MNxvmhz4orIGrgrPzVNGAPDN9sH24Dt++krA22kw4UwVt5bGzF7w+PH4bp8Xaqg0GY8CXoFEWnLrvJHD22kwWZP7q5uPu6U8TXTI5ZQMR3MDL8/wDpzSwAfWEYFDHByhd/HBYUXjEZ+6dcgwDFIss7yl3dIa+CBeqBleAEgI5960rxp9s9P74APelKhQv/vQtwefB++pEoi2s7p7L+zFoRL/qfnqa1iWRWFZIwBg1jDxL/R1Bb+uwFdq8ZbWt4NlAbO5FRv2vObx4w2P5d47qRbvZRTwCsSbBeHLGrg/tEAFEBsa4JbyNHxKhtHMoqnD/g9SlmWti9bsSWlQSLmfT0WD1vFBehEf8EYFweduHfINHkrru+Z6VQic0gAA6jDutpyZdb62scZysRcf5juLCd3J0+81trO6r2x7xa9qvvqakvp2aNsNYGBAeIB/38pOCOdSGnwl4LUGnkw1Hl/o+RJx/AwvBbyXUcArEG8WhOfTGYbHhrmtPI1SJrV26eLr6trjYs0l6Cy5olF2zPCerDwIACgoE3c9QX42NEip87lZxNRoLqjsO+AVbhEev3DNlYUp/Ayv2odyq92Jf685UVHs9pX6JjOL//yyC4dKCrH3wl6szVrrVzVffc1hy+xuh+E8Nuz9t8Cj8Sy+UoOvNJ+4aEktiAoyeqVE3LDYIOtxWdZ3Kll4EgW8AuELwte0tHu8XAwf8MaFStxanoafoa1tsT9of2vXRwAAmcSEQMXAK/+vGzfXcqxUxwfoRXxweEl7zOdu5w6U0iBESTJeDP871up8wKtp5gJefpHLYMO/1/xzxwa3p9v892AZnvq6FSz7O7z0wz8xe/hsv6r56msOl2kBALdNneZzd5oc5Ws5vPxMK8tqvFIiLjUqCAwDNHcarWmEgx0FvALhUwK07Qa8s8uzOZ8lloC3pvmEW8vTXG4+YX8wsnAM14o4NsS+IGpobBwAoFXHODg67+JLv9S3nve527kpkT1Lk7XpjNZmBYIGvDTD6zJ+vUBC+Ei3B0G/FNUDAFTycahrXYHCkhK/q/nqS46UawEA144d5XN3mhzFB7y+ktJwwRLwnqv2Tok4lVxqLZFJC9c4FPAKhO+0xjBS3HXFKo8ei5/hvXnybLeWp+EXrtU5Eoww3Ari2FD7bpN7M/XDWWYza51liAgy+9ztXH6Gt7yhw1rEnX89YQFyhKo8VyB9IHzAW+fCDC8f8PpSuTh34nN4pYz7F+3xHRwZxoDKJjPueu8wfim65FMLN/1Fh95kPR+TksOFHYwX8CkNzZ1GtHihxrQrzGYWF2u4z+FPf/2612bfaeFaVxTwCkQllyJIIQUAKGSeazEIXJ65m5Sc6NbyNHydVEdulxwoOgUAkDD2/QHynaIa2vWizUOqadHBYGIhlTCYmjLM527nJoQHQC5loDeZUWW5/X+snKt/HBfq/YYTtlyd4TWZWVQ38zO8g3TRmuWiUdthcGu6TbveeDldKuRjDI8JQIdBgbkj3vb72+lidKKyCUYzi9gQJRIGwcVdkFJmnTiq1HYKPJr+VTV3osNggkzC4NrxU702+z7MWouXAl6AAl5BBSq4AG7nuXyPHaNNZ0R1MxcspFm6armLMykNP5zgOrSV1p+0a3s+9UNvNKNdb3JwhN7B57rGhsjR1NHoc7dzpRLGeuuLz+P9vGA7AKDTUCnYuADXA976Vh2MZu5ihN/XYMMHvCZTgFvTbc5WtYBlAZXcgAPFX2BC0gEAQFmDEbGhjjekIa45YsnfnZwcDoYRdwqYuyRYLmLzzh0X9fsuH3CmRAVCLvVe2MVXajhc5p28YbGjgFdAbXquQcFH+zd77Bj87G5EoNztvbv5KguOLFoblzgTADBn+AS7tg+QS6GUcb+m3mrD7Ch+wRrL1vlsC8/kqK6lyYbFTAMAzBo2SrAxAZcXrTW0653qCa+xpDPEhighlQyOIKA7/qJRJg13a7rNaU0LAGDikEgUPFWANVevgFzKwGBiraXgiPccLucqNExKihB4JN7DpzWs+ezPon7f5Ss08AGotwyzpDTkl5SJ+ufjLRTwCmh4LHdb46r0Gz12DL6lcFq0e2d3AedmeCUM92ackTrcru0ZhkFU0OUmF2LEz/BmpKT6bAvP1KiupcmaOrh0m5Fx0YKNCeBmJ6USBizr3PnXDPL8XeBy4wmGCcLMobPctt9TGq5N+aTkGExJmYIhkQlI6qOm82Bg22JZCIdtZngHi0RLLd606Cmift/l2/vyObXewgfYMmkcVsx8wKvHFiMKeAU0LIarQBAdnOKxYxyr4N5840Ldf6r5TmmOLCgqb+BmhRRS+2eAvNmkw1EarQZHyssBACPiony2hSfffOJI+SVotBqcrqoBALToSoUcFiSSyxc8zqQ1VPFNJwZpSTLgclkyQIJz1RVu2y8/wztGHWp9LGWQBby2Qa5ti2VvO1peCk1TJyQMMGFImNePLxS+goyEiRb1++4FgWZ4I4MUCFZyd7b2XfR8O2Oxo4BXQAopt7K0vKHRY8f46fRxAEBV0zG379s6w+vAorWSei0AYPf57+x+Dn9LVoyVGnLycvDt0f0AhG3Q4KrUaG7seedO49FPv0JxLfez/uH4R0IOC4BrebzWGryDeIZXIZNALjUCAHLy/uOWfZrNLM5YKgKk2wa8/J2CBv/u8sWzDXJtWyx72/qfvgYAhAW021Xf3F/wKQ0N7RB1/XM+h3eYl2d4AYAFN+n1793fev3YYkMBr4DOVRcCAH4pOuGxYwQquNnjW6bMcfu++Rzedr0J7XrjgNubzCx0Bu45v85cavdx+EU3YkxpyM7MRoiK+xkL2YLXVXygopCl4UBxClhIYTIX4qnr7xN4ZK4FvIO9Bi8vJpi7oFk07la37K+soR1tehMUMgmG2qRLWdtU1w2OGV7bINe2xbK3JYRzqSrzRiZ7/dhC4gNeszlctPXPmzsNqLG8dw2NcX9q4UCmpnC/E1NSFnn92GJDAa+Arh7DLeBSh9mXz+qMSi03izw5eYjb9x2slFkXlNkzy1vfqoOJBSQMMDYhye7jRIo4hzc2NB4mMzfDxecv+qIhEQHgF3bLpcDzN47FpKRDmDPC/RdKjnKl29rlHF7fvRhxh5gQ/tZv6ABb2oev9zoqLgQym1Xn/J2C0obBEfDaBrl7L+zFoZJDgsw0nq/mJhxmD0/w+rGFxDefkEoi8ejVawQeTe+KLPm7sSFKQWqaT09LAwAwEHY9hhhQwCugtOgYAECHwTOnoanDgHpLkFjVdNzt+2cY5nJ7YTuCEb7Ga3SwssuH5ECsKQ0izOH9/vgesJBCygBxPlz2SimTIib4BDr0hRgR+wWuSVeiqUMcHbNohtd1EW7+GzptTWcI6fJ4sqVrX1l9m2jrZruTbZD7yrZXUNVU5fWZRqPJjCPlDQAAli326rGFFh3MVV9hGClGxk0Veji9EqpCAy9EqbOMQyvI8cWEAl4BefpWPd9S2GhuwFs7X/XIMawL1+wIRvh6wI7mU0aIeIb3jZ//CwCQSpodCuLF6LVlcyCRvIUnr78fOXk5oimxZg14HZzhZVn2cpe1QbxoDbj8XuOugPeUJeC1XbAGAEmR3J2CNr3JoYY0vso2yF2btRbxYfFe77R4rroVehNgNrdi08H1Xj220KQSBtHBXM7yiUvuW5DpLhqtBnsvcIvFvF2hgXegeAsA4FxNgyDHFxPf/oT2cZdnLj3TFpGvwSth6jz2Jny5NNnAH278DG+cg8HH5fbC4msfeVU6l4s8PNaz3fK8Yfbw2ZiWOg2zh89Gdma2aEqsOTvD29Cmh95Su9fR3zl/c/ni2vW/Ia4yST2ArgvWAO5OAd8MoGwQLFyzDXJt/368iZ9tB3MJjy/0rbbm7mBmuUXf/znwvcAj6SknLwf/OfATgMtdz7ztoQW3AwDa9Qp0GsTZvMlbKOAVEN82V9uuh8ns/tt/fNvPqCCTx96EoxyZ4W3iA17Hbv3bthcWm0AFlxs9NsH3O0tptBpo27k0BnW4WjQl1vgcXnt+x2zx+bvRwUooZIP7rS7S5r3GVa9vfxd1rdwH52h1z5zg5EFUmmxo9FCMiB2BodFDUV5fiYa2Nq+nAZ2p4gLeUFULhkYP9eqxxWB8IvcePGnIfGEH0ovszGyEqkYCEKZCAwCMVg9BkIKrq843SRqsBvengMD4WRczCzR3uH/2kg94WbbaY2/C/Azv6aqKAY9R3ezc7eWoIEu3LRGmNJypqgMAhAf6/pWzmNIYbDk7w0v5u5eFuzF9as6wZQAAdZgCYQE9F+GkWLr2lQyCgJf/m3k1dwOuf2Mfyhp+g3WbP/PqGPh6yKX1+0T3t+sNadFcM6N2g2KALb3vXM1FGExcXWShcngZhrEuqC4fJItJ+yLKgPett95CWloaVCoVMjIysHv37j633bx5M6655hrExMQgNDQUM2fOxI8//ujF0TpPLpUgRMXlH3li9pLP4T1Xs9djb4RRloD38/ytAx7D2ZQGT8+Eu+JQCdeY4Vz1HoFH4joxpTHY4gPeFp0RHXr7LyzOVnGtu324PLLbuHPh5y/FXK5kQnjvrZ75Endl9f6f0pCdmY3cxw7iQPEVaO4IgIQJwM5zw/H6z+dR2Vjplc5r/AzvuyueE93frjfwF7T8HR0xeemH98AwMkgYg6DrCPi7LuWNFPCKyqeffopHH30UTz75JA4fPoy5c+di0aJFKCsr63X7vLw8XHPNNdiyZQsKCgqwYMECLF68GIcPH/byyJ1jXUzi5tlLlmWtM7wfr3rNY2+E/KK1yKCUAY9R7WzA6+GZcFfojOEAgJWzrxd2IG4gpjQGW8FKGVRy7q1q59kCuwOIH08eAADUtJzz2Nh8xeVFa67//Ww5fhQAcKnxYK/f52d4/bE0Wff2wTJpJP66tR1lDTokhgfgziu4mqev5p7DXe/9hKl/nunRWdealk7UteohYYAlE6eJ7m/XG/hF0HxXRTFZOHY5ACA5UgWJhBFsHHzAWzYI7rr0R3QB76uvvopVq1bh/vvvR3p6OtavX4+kpCS8/fbbvW6/fv16/OEPf8C0adMwYsQI/OUvf8GIESPw7be+0VXEUxUIGtr0aO7kajMuGj/VY2+EfH5lh0GOorqifrd1tkqDp2fCndXYpkdTBzfjOC3Nc+2hBzvb8nc3vbXC7gAiMWIcAGDBqMkeG5uv4O+SuOPCOiwgHQCwbFrvNZr5D9eSulavzHB6k21nteZOA+5+9wAu1LRCHabCpgdm4C83j8dfbh4PmYRBcV0UxiWu9eis6xlLOkNqdBACLHmag42YZ3jlMq7e/KSkOEHHkWy5CC3zw4tQR4gq4NXr9SgoKEBWVlaXx7OysrBv3z679mE2m9HS0oLIyL5Xzet0OjQ3N3f5EkpkIH+73n0zlxqtBj+e5Ga4E8JUUMk990bIpzSwbFC/9Sc7DSY0WWZnnVkxL8b2wkWWGXR1mGpQtfMUAp/WMD5xlt0BRFkD/3et9cygfEikTVkyswtpQSzLoraFm6m6YULvdU/5Gd7GdiOmvjDHr/JKbTurfbC3BGerWxAbosR/H5hhDSruvCIZf7llPABA2zEcF2svemw81nrI8e5pKOKL1JaqINXNnS79bnvCsfJaAEBsiLDjSoqggBcQWcBbV1cHk8mEuLiuV0NxcXGoqqqyax+vvPIK2trasHRp361rX3zxRYSFhVm/kpLs7/rlbtYZXjfOXObk5eDXHz0JgLvy9yQ+pUEqCcMj/XS64RcQqeQShKocDw75gPdQyRnRzBjxKSNpHv4Zk8t3EjRNbQPeSeCdr+bqTv50+nOPjctXhNukBbV0DtwGvC+1rTq06IwAWCikvU8UhKjkiLL8vU5Pvc6v8kqL6opwvuY8zlRdxAf7SwAAT16f3uM94PrxajAwQsLE4YXv3/fYeM5UcTO83RuADCYxIUpIGMBgYu0qj+lNByz57hdq8wQdh+2itcHQEKYvogp4eQzTNdeFZdkej/Vm06ZNePbZZ/Hpp58iNja2z+3WrVuHpqYm61d5ebnLY3ZWpAdyeLMzszE0egYAzwe84YEK8KlJEQF9XzjYVmiw51x2x/+c/vDFc6KZMSqq5TroCNEffbDhZ3jbdFK7Olm16YzQm7hZr7VZd3h0bL5AIZMgWOl6WlCxpU2qwVSN9/f9u8/t+NlOhSzRr/JK+UYTz3zzHepa9UgIU+G68T1fX5BShsnJ3J2s9IQ7PTYefoZ39CCe4ZVLJdb3hyoRpTXojWa0dHKfDQ8tuEnQsQyJ4GbB2/QmUVY78hZRBbzR0dGQSqU9ZnNramp6zPp29+mnn2LVqlX47LPPcPXVV/e7rVKpRGhoaJcvoXgih7eorgiN7VyqxFAPB7xSCQOljBv7v3Z/2ud2zlZo4PE/p6ExE0QzY3R5hleYcjODCf+BFqJKsKuJyrlqbuZLJmnDtePmenRsvsJaz9qF9xr+d356av+LVFMtlRqKaluw98Jep48nNlyjCTWMpnkAgJVz0iDvo8PideMTAQDHyj2zWElvNOOi5aJ79CCe4QWAeEtag0ZEC9cu1LTCaGYRopJhcrKwazxUcqm1SsRgTmsQVcCrUCiQkZGB3NzcLo/n5uZi1qxZfT5v06ZNuPfee/Hf//4X11/vW6vl3VkuiPfKtldgMnM5zPwHjyelRocDAOYMX9znNs5WaODxP6f6Np3dt7Q9rcgy20UzvJ7HB7wRgSl2NVE5W8UHvDWiSYERGn+XxJXmE3zAOzFJ3e/MLb9wrcMQbNeMvK8YGj0UQ8IXorLJjBClDMum9X1X62LNV2BZIy7UdlhLRLrTxdpWGExcQJUYHuD2/fsSteVzhZ9YEQO+XFx6fKhTdzXd7XJpMvFcFHibqAJeAFizZg3effddbNiwAadPn8Zjjz2GsrIyrF69GgCXjrB8+XLr9ps2bcLy5cvxyiuvYMaMGaiqqkJVVRWampqEegkOiXBjQXjemmvWQC7lZhc8ndIAAKlR3Ax5p6HvYNbZCg08/ufUqbfvlranmc0sii11Rj09i04u5/B2GpR2BbB8bmNNyxHRpMAIzR3NJy7aeZHHL1wLUiR7rK25EHLyclDeOAoAtzgtRNWz8Qbv4avux6Qk7uew9aR9a1AcYbtgTQwBlZDiRVipwXp+RDL7Ts0nRBjwLlu2DOvXr8fzzz+PSZMmIS8vD1u2bEFKCndLQKPRdKnJm5OTA6PRiAcffBBqtdr69cgjjwj1EhxyeYbXfVUaRsZNBcOoIGEuX9V5Er9KtrKfNxtXUxr4RTABilhRfIBe0nZAbzRDLmUwhDobeBz/e9NuUNoVwPIzvOuuu1c0KTBCc8fdpOI67hb6QAs1+eYTclmiX7W7zRxxN1Ty8ZBKgHtnp/a7rTpcjdumcm1lvz1a5vYSbbRg7TK1tRavmAJe/vyII786KZL7nB7MtXhFF/ACwG9/+1uUlJRAp9OhoKAAmZmZ1u9t3LgRO3futP7/zp07wbJsj6+NGzd6f+BOiAh0Pa+uu0Ml3AWBOkwBhczzpzghnHuzqdT2faukusm5tsI8Poc3QB4tig9Q/tZuSlQQpAIWFB8s+NQcmSQK98y4f8Dt+RzehWPH+dWiKVe42nzCaDJb8/+GDtAmlZ/hNZqC8dbOfzl1PDH69hgX8N84MdF6od+frDFxYBjgZGU7pv8ly213GzRaDQ4UcRUARoskoBLS5RlecdyuZ1nWZoZXHOfH2nyCZniJUPhArqnDAKOp91adjvr4wDYAAItat+xvIGrrgoG+r66rW/gZXqVTx4i15HC26+WiuEVtrdBA6QxeERZ4udRVh6H/Ga3aFh3q2/RgGGBELM1+8fiLa2crwlzSdsBgYqGUSaw5k32JClIgUCEBw0hw/fjl/W7rK9p0Rmw9waUm3DPTvkVIsaEqZCRHAADGJ97ttrsNOXk5KCzjWmeLJaASEv8ZJJYZXv49SMIAI+PE8R5EAS8FvIILD7icA9bkpra5fEmyWUOHu2V/A+FneDV9zPCyLGvN4XU2pYF/nkIWgwfm/tqpfbiTtUIDLVjzGv42evEAC4D4dIbUqMHbfao3rlaEKbKpOz1Qm1SGuZzqozf5RxWT3FPV6DCYkBoViElJ4XY/79px8QCA+tYkty24vS1jJaSSCDAARsb5x8/XFbbd1sRQZ/Z0lfg64PEBr6aJS8cbjCjgFZhMKkGYJeh1V6WGGu5vDWMTY9yyv4EkWFYIVzV39jpL3dhusP6BxTo5wxsdrADDcIXzFbIo5wfrJvyH/zAqSeY19ga8/OroUSKZWRELPofX2a6OfFUSexut8O8L/aU6+ZL/HbkEAFgyKdGhRWJZY7iAl2FG4OWt690ylt3nucA5LlRCXR5x+XNFZzS7tWups8SWzgBwlW6UMgnMrP/8TTqKAl4RiLTOvLjnD7Wk3rsdwKKDlZBJGJhZoKZF1+P7/G2mUJUEDa01Th1DJpUg2rJSv1oEpWesH/40w+s1/M/a3hneUfEU8NoK59cLOHlhbe+CNR5fKuuSH3y41rfqkHe+DgBw06QEh56bFBmA8EAGDCPFkkkPuWU8H/2yHQDQafBc22JfopRJrV0/xVCpgQ94x4go4GUYxqY02eBMa6CAVwTcuXDNaDKjxLIK01sBr1TCWFMOels0wOfv1rVecCn/ls//rWkR9g2t02CyXiEHKVoFHctgwudLFw0U8FZTwNsba5UGJ99n+AuNgRas8RIj/Cfg/f64BiYziwlDwux+/TyGYTAhkQt8GtvC3DKe5Kg5AICrx6S7ZX/+gF+4VtUs/O+b2EqS8ZIGeR4vBbwiwH8QHS2/4HLZmqK6NuiNZgQppEjyYrmsROvty57BKF+hITSAdWnRRlwI94bG5wMLpaS+DSwAk7kVnx7aIOhYBhO+o11xbWufeXqXGitxpoqrwU0Bb1fWxhMdBpjNjuc5FjuY0mCd4fWDQvdfH+bSGW6clOjU81t1JwAA3x477vJYWJbFBcuNsnkj+m58MdjEhw68eNobSuou4UINNxEippQGgBauUcArAny5oL9sed3lCgTW3urq0AEXlriTOrzvGV6+/WWbrsSlRRt8nlaNwAEvn84QIG/G6nlU49VbUqICwTBAc6exz7shr2z7AHojIJWYvdJl0JfwjSdMZhYtnUaHnltUU2Gts21vZRLrRbBISkU5q6y+HYVlWkgYYPEE50rcrZx9JQCgwxDn+nga2lHbYgDLGnCg+BOX9+cvxFKL95VtH1vWmhidLsPpKYO9+QQFvCLAr55Ojkp3uWzNqUphbqVYm0/0MsPLF0jXtp90qUtaLD/DK3BKA3/13mFwLYAnjlHJpUiw/J71lcc7LfUmAMDwGKqP3J1CJkGwklvg5Gge7/qfPwYAKGVG6/vVQPhFaxptJ0xOzCiLxccHzgAAMlJCEOtkADN/9FBIGKC62YAaF9cgHChqAACkqwPx4IIHXNqXP+FTGnr7DPKmiUOuAwCMSwgXXQc8muElgouw9rg3uhxAnbImy7snV8xe/TWf4DvOhKhaXOqSxucJu/qB4ar80kYAQFPHCVG0OR5M+Ja2feXx5pdWAgBiQx2bwRwsIoKcqwgTGcTliqrD7C+xFBeqglTCwGhmUdvLYlZfwLIsPjnEvScrZEed3k+wUmatx3q4XOvSmH4prgcAXJWeTE1VbKhFksObX8bVao4NcV8zKXexBrwCdFv75WIx8ksK3Npt0FEU8IpApOVDSGeUuxxAWVeHJng3dyihj+YTtS061LXqwAAYGhPgUpc0ftGakDm8BpMZ+SXcDItKVoYVM1cINpbBaKDSZD+fPg0AKKrd47Ux+RJrtzUHF679ePIwAKC587zdz5FKGOst3Uta35xROq1pQVNHAFhWjyUTkl3aF1+794iLAS8/w3tFmvDlGcUk3qYWr5D2nC8GAJzW/CToOHrDtxdu7jTibFW5147brjfing3HcOObhXgl932vHbc7CnhFgP8QUsqiXAqgalo6UdfKdXfxdg3SvnJ4+RJRIapO7L2w3cUqDfyiNeHe0I5fakK73gSFzIja1qM4XH5YsLEMRtaAt7b3gFchSwUALJ4w1VtD8in8e42jFWGGxcwEAFydPsGh512u1CB8qShnfHeMu2PQrj+ET/M/cGlffMB7uKzR6X1UNLbjkrYDUgmDjJQIl8bjb2y7rQnVfIJlWbAsN+t+W8YsQcbQn0CFDAFy7m//Hz97L//768OVMJhkCJCr8NjV93rtuN1RwCsCfK4bEOFSAMXn76YJ0N2Fn+Gta9Wj02CyPs43AchIiUfBUwUu5Sjzi9bqWnVOt2HWaDUoLC10+rYKP7syIy0KBU/lu61VKLFPfzO8ldoO1LQwYFkztB3HvD00n+Bs84nGdu4u1MQhjt1C9+VKDSzL4rtj3PuEQnbcpXQsAJiUHA4AOF7R5FROs0arwWeHCgEA4xLDEKSkhhO2+LsJ7XoTmh1clOku1c06tOkZsKwJVS1HBBnDQJIjud+bEOUorxyPZVl8uL8EANBpyEVJfbFXjtsbCnhFgC8fJpVEYPmM+53eD58rK0QplPBAOVRy7tfJdpUsP6ZJSbGYkjLFpZyzqCAlpJYGF/VO1hLNyctBxp8znJ5p/qWIy5+bPyrR5ddDHDeUL01W39ajtNbWE1zu3NgEFR65apXXx+YLnGk+wbIszldzF64Hir916HiJPtxt7VhFE8oa2qGSS5AW3e5SOhYAjIgNQZBCija9Cef5dpgOyMnLwQtbPgMAzEiLdGks/ihAIbX+fgtVqeGgJd0tNVqJB+f/WpAxDKSx/SQAYPuZM145Xn5pI85UtYBhjNA0bRZ03QsFvCIQFihHqIq76jKYnVtsptFqsPdCCQDv5+8CXHH1hF7KEPEzvKPdUDVCKmEQ42K3tclJkxEVFIXJSZMdfq5t/u6MoZQ/J4TEiADIpQz0RnOPcld8wHtrxnC6EOlDpBM5vFXNndCbZJAwwGNX3+3Q8Xy5+QSfzqAOq3U5HQvg3r8mDAkHABwu0zr8/OzMbEQETgMAXDGUAt7exPfTAMkbdp7lCiRfO1a8CwpvmjwdABAdMtErx/twfykA4IpUCSICVYKue6GAVyRcrY+Xk5eD7WfOARCu2LV14ZolX89oMuN8taUAd7x7xuTKwjWWZfHcd0WQSZ/Aqz/thcHBtIgTl5rQpjchLECO0dTUQBBSCYOUqJ5pDTUtnThUyl2MXDsuXpCx+QK+pJgjVRr44CxdHYq0GMcaLyT46Ayv2Xw5nSE7c5rL6Vg8Pq3hiBMBb0HpBRjNkWAYYGoqBby9EbIWr9nMYtfZWgDA/FGxXj++vWYOTQEAXGpkPZrrrNFq8PPpQ/jhOPd3FBNyGvVt9YKue6GAVyRc7XE9Vj0ZcukQy7+FCXjVYV2vrovr2qA3cV3fhkQE9PdUu8WEOL9wbf/FejS0jYRKPgal9fOQ+bcd+PZopd3Pzz1VAgCYOCTQq009SFe95fFuO1kNlgUmJoXb5MST7i5XabA/h7fQUoZvsiVYc4Sv5vAWljVC09SJEKUMN00e6bb0JX7h2v4ijcPrCP6+7X8AAJWsDqEquctj8UfxYcLdUTh+qQn1bXoEK2WYmireBYU/n/4PWNaE5k4TajxYLjAnLwe/evtVGM0sMlIi8Kfr7nHbhaOzKOAVCVd7XL+753swjAQySQdiQpTuHJrd1JYPt6MVFdBoNThtqdAwKj7EbQFinLXbmv0BL79Q7c0dXMkqneEMAuR6aJo68cgnh3Gqssyu/fzvyCkAQIfB9fagxHl8p68DRcXQaDWWxTzc3Y1FNLvbL74Ob2VTs90BF183dnKS4x/ifH3uFp0RTR2OLZQTEn8hfM3YOKjk7lsAPNkS8JbW6/HGjn879NzE8HkAgOmUv9unEbFcjj/f7MibdljSGeaOiIZcKt7Q6sEFv8aQCO7C15M/pwmJkxEawDXhWD4zBepwteDrXsR7VgaZyykNzl2ZzhlxOwAuV1ao7i4Jlhneb47kIScvB2ds2hy7i7X5hANXpjl5ObjiL4ux9yI3nn8vn4utj0xHRGA7zCzw5++/GXAfRpMZje3cB81DC7KcGDlxF36G94sC7vfsHz+/i6MV3N8NBbz946s0lNbX2pWTqjeacfxSEwBgihNlsAIVMusxfSWtwWRm8e2xSwCAOcPc2xo2NlSF+FAFGEaCGWm3O/TcE5Xce56EuejWMfmTuBDuourEJedLvzlrhzWdIcbrx3aEOlyNiUncGM9a1th4wj937IKEiYRM0iGaNDMKeEUiyXLL39kcXm07d2U7cYhwV//8rWSFLA6TkyZbrx7T3ZjvejmH1/4Z3slJkxEbsgwAcHV6LG6YOB0p0YmYPYzbV0NbyoD7OFHZjHa9GSzbBolEuE4x5HLAq5KPRKhqMhhMBMNIkRjOWvN7Se/4lAapJAwPzB14FfkpTTP0RjMiAuVIjQp06pj8LK+vpDUcKKpHQ5sRJnMzjpR/6vb9p8VweZO5p+27swRw6TtNHQFgADxx7a/cPiZ/secid740TXo0d3rvjkJ9qw7HKrQAxJ2/yxsVx01CeXKGVynjJoaunxAOpcy7ZVL7QgGvSNjm8DqTSL79DLcSsrxhv1vH5Qj+g41hYvH69u0emeGNtTafsH+G9709myCVzgYArJyTZn28qG4zAOBMFaAdYBHPDye4ILfDcAyv5b7q0JiJe41Wh0LC6MEwoXh9uwyf5nN1n81socAjE7+IQAW4+z8SHK0YeKaQb5IwOTnC6TtHib1UbxGzzwsqAABmcyEyUia5ff+V2lwAQO4p+9cPfGRZ6b5gdCxGq5PcPiZ/MSNtAswsVzryjMZ7aQ1552vBssAYdaj1LqSYjbJMQnnqZ7TvQh3OVJkAmLBy1giPHMMZFPCKRGJEABiGK5rtaBeksvp2NLYHQsIAf7ruZg+NcGCpUUEYEsFCwihxsTYLlZaVsqPcOcMbwqc02D/Dm57wACSMCsmREsy0KSeWnXkzTOYyABLknqru8/nNnQb89xduNobBL9ROWGBhAXKsXxYNk3kXpAxgZrlZy0evni/swHyAQiaBQsalKLyaO3CnpUJLNQE+99QZCT60cE3brsf3llXlda3/wwf7Xeuu1ptfz5kDljWjwxBlV/msdr0RnxdwbWDvmTnw3ajB7IP9H6DTwF3Inaps8tpxd5zh0hkWjBZ3OgMv3VIm9EJtq9NNnPrCsiz+vu0sAKC5Ywu+OiJcK+HuKOAVCaVMaq0h6OjCtR9PcvVHZwyNEvTqXyaVYN7IQjR1fAkG3Cx1YniAW1cUx1m7rentKitmMJmx/Qw3A7h8ZlKXWarD5YfR0pkHAPjqcEmfHdj+80spWnRGhAe0o6ZlO7UTFoFpqcORFv0LPs0ei6UZMQgL2IXMEeKZSRAz/sNurHrhgNvazvA6y1qpwQdyeL8svAS90YzEcBYhqgaPXNyerz0MvZFbZLnTkvfZn2+OVKKl04iUqEDMG+EbAZVQVsxcAZmE+zw87aUZXpOZxa5z4i9HZispIhCBCin0RjNK6ntv0+6sHWdrUFimhVLG4PPVq0TVjZQCXhHhO66VOzgTstUS8IohMfyhBQ/g5zUP4YP70nH9eDUeXzjSrfuPCFRALuWC1h1nCgZcab7luAa1LQYYzQ0orf+yy/eyM7Px4cpHAQC/FGkx9YW5PRbydBpM2LCnBADwuyvTqZ2wSOTk5WD3+d347thGBCq34FjFyy43BhgsJAx3K/34JW2/29W0dKKisQMMA0xMcq4hDuA7AS/Lsth0kLuTkxRZ6rGaodmZ2VgxayoAYPuZmgHHxBfuv/uKFCqHOIDD5YfR1MF1EjvtwQVZtn46dQFNHQaEKKUu3QnxJomEwYg4S1qDm/J4NVoN8ksK8OIW7ud/7+w0XJU+TVQNOKgZt4gMiQzAwRLHFq7VtHSi0DILkzVG+IBXHa62/oKPiNNA06SBRit12y+9RMIgNkSFS9oOLH7jbqxbdAeeXfJsj+00Wg0qtZV4Zyf3pnfPjGT8dv7VPca6ZJIa/9y+C+drWhEbfFWPDmxfFlagrlWHhDAVls8aI+pyM4NJdmY2lkxcAnUY93tl+2/Sv7uumIfCsosA+m8iwTecGBkbghAX7tLw3dbEXqUhv7QRF2paESCX4s833og/LJzpkd8pdbgad88IxCeH9mDvhTrojKY+F/VsO3kBpzTNUMgY3DZ1iNvH4m+yM7MxNeU6PLSpFmerWmA0mSHz8Hv2mzt3AkhAVHCNx4/lTqPjQnC0XIuzVS24YYLr+8vJy8HLP/6EmJB1CFbKsDpzmOs7dTPfOTuDQLIT3da+yD8HlgXGJgQiPkxcyfI5eTnI+HOG22feYi1pDeEBqX22CM7Jy8Hsl1bgdFU7lDIJfr9wZp9B96Lx3ONmTO6Ss2cys3hrx3kAwLJp4q6tONjY1nQUQ31HXzJnRCoAoLRBh06Dqc/t+IDXmYYTtvgZ3poWHfRG9+YLuotGq8Eb248AAJZMTMDwuCEe/Z0aow5FTIgS7XoTDhY39LndS1u5RcjJkTUIt1TYIH1Th6tx3fhpCFRIofPA7frujCYzqpq435HZw8I9eix3G21JbXJX6sfExMmICuJSgFbNSbN2dRQT+gQXET6lwZEc3v8cOAEAUMnOemRMrpicNBlRQVF9BqXOirU01mjXy/tcVDI5aTKig28DANwyJdFaC7Q3iydwb1iBiukYFnMvAO5W4ss/nsUlrQ4mcxMKy95w4ysgRDixIUpEBSlgMrM4V933hx2fvzvFhfxdgKv9q5QxYFngWIX9pbi86fWf38XOs9wipzuuSPb48SQSBgss9Vr5BU/d1bboUNrAlZm8aaJ4O3eJjUTCWBdKn/JwHu+mQ+WoaWFgMjfjeOV/PXosd+N/Rmer3ZP68drP+yCRJEAq6cT9c9MGfoIAKOAVkeQox9oLN3UYUNXElfy6dpz4Zrdy8nJQ31bv9hlevuxLiCqxz0Ul/9q9GVLJFADAytn9//GNiAvB5CSuFNEXBRJ8dug0Hv1kF97Zxa321bZ/gNqWS+4aPiGCYhgGYxK4941Tlb1/2BlNZhyr4AJAV2d4GYaBUs69p/1795cDbC2MTuNEMIwCieEsJg5xPl/ZEVeO5hY48R26uns19yxMZgY6wxlsP+v+ahH+LN1SCvO0xnN5vE0dBrxqqUZgNP0Pq2bf4bFjecLoeO5nVN7QgVad0aV9lda3obp5LgDg+vFyl1KgPIkCXhHhZ3grtZ12lQrJPVUNM8tAbyzFDyfE94YYHxbf5b/uwge8elNwl0UlfAthjVaDqKBbwTASpMebrcn5/XnzzsW4anQAWDB44suL+N9R7lbYrVNMUMqE7f9NiLuNsQQEp/oICE5rWtBhMCFEJcOwmGCXj6e2pCFFBoqvkkanwYTvj3EBuYTZ77VOlbOHR0MuZVBc14biuq633j/LL8emg+VgwMLM/o9KITrIGwHvP38+j8Z2A8ICOlDV/IXPVe+JDFIgxnK39Nsj+Xa3Gu9OZzThwf8WQmdk0Gk4ifBA8dZDp4BXRGJDlFDIJDCZWWia+q4zq9FqsO9CPv7+42kAAMvmi/IN8YWbXkDBUwV44aYX3LrfcYncDEx86FVYMfMB6+N8zvCLP3yI3Re4x5Iiz9u1z4SIBLxzz3xkjowBaynNv2yqCcGqQo+t1iZEKAPN8H59hLujkR4vRXVzlcvH07ZzqVdbT5a6vC93e2vnRehNITCz9fjdldO9dtwQlRzTUrmUhR021RpOXGrC019zP69JSZdQ07Kb3n8cNMaSn9rX77erDhQV4/19xQCAZxaPQ8FTB31yUmS0Ja3h1x896/Sd2L98fxonLjUjLECKD1cuwG/miffnQAGviEgkDIZYVjRvP320zyuunLwcXP/PN1DVrEeQUofq5v+K8g3RU4uJ5gyPRmJ4AFp1LI5UXO5Kx+UMR+NI+ViwrAQzhqrw3BL7bzPJpRK8ddcURAUVoqb5zzh+6R1kZ2aj4Cma4SX+ZYzNDJjZ3LWzY6fBhC8s3ca+O7bOLSlJd14xBgDQrk/rd6Gct5XWt1lTl+pb/4VTGu++jy6w1G19aesZPLzpMD47dBqrNu6HzmjGlaNj8cadi+n9xwmjLLfra1p0qG+1vyunvR7/fC9MZmBIuBa3TBnts4tm+YA3RDXaqbU2PxzX4ANL2bz1t09B1lhxlSHrjgJekeErNTy06Vk8+fWTvW6jDp2MUBXXUe2ZG9KR/9S+QfWGKJUwWDaNa7Dx3wOXF8Hk5OVAb5qFsgYGISoZXr99tsN/fMFKGSYmFaPD8Aviw+KpAgDxS2nRQVDKJGjTm3oskv3umAZNHQZEBrIIVJS4ZdFpQ9thGE210BkZ7D5f1+d2tmlJnqbRarD2s/3QG82YmhKCvN//w+vvo0unJmFsQiB0RjO+OVqJP3xZhOoWE0KUnXht6SQkRiTQ+48TgpUypFjWxLijCgH/e1neUIl3dl1EeWMEWNaE5TNdT/cREn9hYGYTHO4qeLRci8e/OAIAuGdGnPXiTcwo4BUZPuBVyEahqunyrUT+D66ysRL/3FELhpEhLKAUS6elD8o3xKVTkyCVMDhU0ojzlpXmYYFDER54DwBg3aJ0xDrZ09xTqRiEiIVMKrHO7nTP4/34ADdjo5IXoL6tzi3tdVfPy8aNk7i2uD+c6DuYffLrJzH9L4tw7/vvIvujfMz4Sy5e3bbHIwHwU19/gvxSHRjGjL/+ajIyUjO8/j4aFihHbMhH0GgfQ2L4RQTIWbBsG1bPkyEsUJwLf3xFerz78nif/PpJzPzrHVj0jx346w9nAADNnV9j60nxrZ1xxJTkcDBgoZKPxfTUe+16Dsuy+M8vpbjtnf1o05nRaTiJ8sa3PTtQN6GAV2T4bmnBymtw3bjLsw1Pfv0kMv58BW55+2u06tRgWR0evar/wvH+LD5MZV3lvOlgOUrr26DR3gwJE4BJScG4fZrzLZZpVpcMBr3l8e46exGHy7SQSoDfzJ+EqKAot6wPUIersWLWRADAT6eqe63HazSZUVA6FkMiNuBs9RT8eLIaVc16rP+5Gi//uNHlMdhq6jDgSDm3gG7BKGB47MALWz2lurkKetN5hAVsxaj4jShvWIGfz/h2ICUG7lq4VtPcicNlIxEf+ne06sIRqpJh2VQTpMy3olw744ihMcEYra4GAHz4iwlNHYYu3+9+x6Vdb8Saz47iqa9PQG8yI0RZhJqW51HT7Pk7Mu5AAa/IzBoWjbToejCMBBv3d8Jkya+71NiAuNDnUNWcAgYs6lv/idIG8eXtetOdlnqZnxeU48Y396KkvhPxoSqsXzaVWnASMoDeKjWs+2oLACAqqBwXaw+7dcFmRkoEooOVaO40Yn9RfZfvmc0s/rj5OJo6RoNlzUiLZrHmmpEYFsNCwqhwpHx8j1xjZzV3GrB8w0HUtzEwmupwqfFdt+zXWdmZ2YgKikJ2Zjbum3UPIoOCfD6QEoN0y8K1grJqh+8QaLQa7DhzCH/afAhz/7YDje3jwTASTE0xY/vj8xGgKER9W50o18446q07r4U6TIp2vQLPf3uqy/e4ibYMrPvqKXxZUIGFr+3EV4cvQcoA6xaNxv/dmIzIQJXPpFRSwCtCr98+H4EKBnWtwXhvTxE27ClGbcv9UMknQilj8erSEcj7wys+80vmKZkjYhAfqkBLpxHadgMmDgnDNw/NRmp0kNBDI0T0+BneI+V10Gg1aNUZUdXEta8NkOe7fcGmVMJg4dg4ANxiF15lYyV+t2knviioAAMWta0vYt7IfDx81Qgw+Ahmth1FdQw27C12eQwXqitw29s7cLRcC7lUh5qWZ5AYEeXyfl1xuPzyhYXtv4lr+BnekrpOvJr7vt3PK6lrw6oPtmDF+yX478Ea6IxmxIS0oqppHcYlFiA6WOlXi5nTYhLxxp3TIWGALwsr8Nmh09ZZ3UuN9QhWXo+9F67G2s+PorxRB5O5EdeMOYPsecNwpMK3fl8ZlmXdc9nsw5qbmxEWFoampiaEhoYKPRwAwMa9xXi229WW0VSLW6ZU4/U7nhBoVOJzzat/wfmaiYgNKUfeHx6ASt57T3pCSFetOiPGPbMVAIOE8CIEyMfjYm0bzOZKvH57LG6acqPbj7nnfB3ufu8AIoMUOPinq2Awsbj1nY04Wcmlcj19fQomJ+uhDuNaRq/cuBKf52sQFfwQlDIJtjwy1+m6wE0dBmT+7WM0dcRAJtHjvRUTEKJqsh5LKBqtBpomDdRh3Bj4f1NKlWtYlsWcl77HJS2D2BAWWx65BtHByl631RvN+ObIOfz3YAUOl+nAB0VJESyev2k6RsUaUdVc5dfn5cUtp5GTV4QAuR41LT8jOXIetO0B1jKd0cEKzBjagU8OPoj3VryBGyff2OV319GfixBxl8wrRyEOu2dmKt7YcRB1rcEIC+hAduZITE6KR2r0QqGHJiom08+oaHwVQ6MmQiVfLfRwCPEZwUoZ5BItDOYIVGqHAmgDwKKh7RMcqZjrkYD3iqGRCA+Uo6FNj19/tBOHywxobOeC3VunmLBq7rgu279w0wt4cH4lXtrahoMlLbj/g73IuXsMQlQyuz5oNVoNyhoqsf+iDB/sr0ZTRwzM5lYkRW/BvFE3u/31OUMd3vU1+GtA5W0MwyBQ8SGMpkWoaYnFig0HsX5pGlp0NVCHqdFpMOPHk6U4Us5g38VmNHde7jYWrCzFxdoNSI+PxYJRNwDgarX7s8euGYmfz9TgQk0rQlSLwDd8NZguYc5wIz5YmY1b3lqM+rYK5OTl4MbJN/b43RU7CnhFSiph8PssFX636WmsX/oMbpoyQeghiVJqTAp2nNuO1JgUoYdCiM8ZEXcehWUBGB6rwpPXLUNypAE648vW2UZ3k0sluCY9Dp8XVGD7mQ7LY03QaP+NU5oAAEu6bM9/oK6/vQOZf/sBxXXALW/vwqSkPfj4QA7um30fNty7oddj1bbocO/77+JEZTzkUi5YiQtlUVz7dzx61VMeeX1EXJIig7Hz7FNIjX4dJyuBu97bg3PV/8Oo+CWoaQ4Ga5PVKWXa0Niei3EJDRgeF4aTlQVQh98n4Oi9SyWX4q27puBXb7+PisYjGKsOxNt3/wEGkxrqMDVUcqnHuqd6CwW8IvbB/hzUth7Gv3bneGS2xR+8cNMLeGjBQx77gCbEn723YnUvM6XJHj3mXTNS8HlBCfTGcgwJP40xiZ34YN9OxIf1HVwkhAcgPvRTlDYsQasuAgeLZ0LCfIrSOq6EGj+T29QRiqMVbdh+ugZnqgxgMQVyKRfM/N9NM3CmagP+77t8HC4/jBsn03uqv+M/H1o6w/DQpguoaQlBeODdqLas0zSaahAbosE796zG2zsfx8Z972N43H2D9nNlZFwIpqUewYlL72Nk/H0YPyQZtu8Hvv5zoRxeiDOHFwBWblyJ9/e+3+8sBiGE+Jp731+FD/ZtwH2zueDCnvSElRtX4qP9uUiLeQ16YwBM5kaEB7IYGTcM56ovorkjGAyj6PKcEFUDyuq/wo2To/Dhyn+7lHNIfFtBaSPuevcr1Leew/AYE1bOmYN1m1fhvRXvuZyP6k+89XMQIu6igBfiDXjpD5AQ4o+ceW/jn2MyR+J3m86jqlnfYxsJ0w6VvBIVjT9j8hAGn2S/Q++hxMp2Eik5MhnPffscnln8DJ5d8qzQQxt0KOAViFgDXkIIIT216Yw4XKaF3mSC3sjije1v4MeT7+PuGQvBMKA7Y6RXVBFDPCjgFQgFvIQQ4rsokCHEtwgRd4my8cRbb72FtLQ0qFQqZGRkYPfu3f1uv2vXLmRkZEClUmHo0KF45513vDRSQgghQrNtB06twQkhvRFdwPvpp5/i0UcfxZNPPonDhw9j7ty5WLRoEcrKynrdvri4GNdddx3mzp2Lw4cP409/+hMefvhhfPnll14eOSGEEEIIESPRpTRcccUVmDJlCt5++23rY+np6bjpppvw4osv9tj+iSeewDfffIPTp09bH1u9ejWOHj2K/fv323VMSmkghBBCCPGOQZ/SoNfrUVBQgKysrC6PZ2VlYd++fb0+Z//+/T22X7hwIfLz82EwGHp9jk6nQ3Nzc5cvQgghhBDin0QV8NbV1cFkMiEuLq7L43Fxcaiqqur1OVVVVb1ubzQaUVdX1+tzXnzxRYSFhVm/kpKS3PMCCCGEEEKI6Igq4OUxDNPl/1mW7fHYQNv39jhv3bp1aGpqsn6Vl5e7OGJCCCGEECJWomotHB0dDalU2mM2t6ampscsLi8+Pr7X7WUyGaKionp9jlKphFKpdM+gCSGEEEKIqIlqhlehUCAjIwO5ubldHs/NzcWsWbN6fc7MmTN7bL9t2zZMnToVcrncY2MlhBBCCCG+QVQBLwCsWbMG7777LjZs2IDTp0/jscceQ1lZGVavXg2AS0dYvny5dfvVq1ejtLQUa9aswenTp7Fhwwa89957ePzxx4V6CYQQQgghREREldIAAMuWLUN9fT2ef/55aDQajBs3Dlu2bEFKSgoAQKPRdKnJm5aWhi1btuCxxx7Dm2++iYSEBLz++uv41a9+JdRLIIQQQgghIiK6OrxCoDq8hBBCCCHeMejr8BJCCCGEEOJuFPASQgghhBC/RgEvIYQQQgjxaxTwEkIIIYQQv0YBLyGEEEII8WsU8BJCCCGEEL9GAS8hhBBCCPFrFPASQgghhBC/RgEvIYQQQgjxaxTwEkIIIYQQv0YBLyGEEEII8WsU8BJCCCGEEL9GAS8hhBBCCPFrFPASQgghhBC/RgEvIYQQQgjxaxTwEkIIIYQQv0YBLyGEEEII8WsU8BJCCCGEEL9GAS8hhBBCCPFrFPASQgghhBC/JhN6AGLAsiwAoLm5WeCREEIIIYT4Nz7e4uMvb6CAF0B9fT0AICkpSeCREEIIIYQMDvX19QgLC/PKsSjgBRAZGQkAKCsr89oPnnhXc3MzkpKSUF5ejtDQUKGHQzyEzrP/o3Ps/+gc+7+mpiYkJydb4y9voIAXgETCpTKHhYXRH5efCw0NpXM8CNB59n90jv0fnWP/x8dfXjmW145ECCGEEEKIACjgJYQQQgghfo0CXgBKpRLPPPMMlEql0EMhHkLneHCg8+z/6Bz7PzrH/k+Ic8yw3qwJQQghhBBCiJfRDC8hhBBCCPFrFPASQgghhBC/RgEvIYQQQgjxa34b8L744ouYNm0aQkJCEBsbi5tuuglnz57tsg3Lsnj22WeRkJCAgIAAzJ8/HydPnuyyjU6nw+9+9ztER0cjKCgIS5YsQUVFhTdfCumDPed48+bNWLhwIaKjo8EwDI4cOdJjP3SOxWugc2wwGPDEE09g/PjxCAoKQkJCApYvX47Kysou+6FzLF72/B0/++yzGD16NIKCghAREYGrr74aBw4c6LINnWPxsucc28rOzgbDMFi/fn2Xx+kci5c95/jee+8FwzBdvmbMmNFlG0+eY78NeHft2oUHH3wQv/zyC3Jzc2E0GpGVlYW2tjbrNn/729/w6quv4o033sChQ4cQHx+Pa665Bi0tLdZtHn30UXz11Vf45JNPsGfPHrS2tuKGG26AyWQS4mURG/ac47a2NsyePRt//etf+9wPnWPxGugct7e3o7CwEE8//TQKCwuxefNmnDt3DkuWLOmyHzrH4mXP3/HIkSPxxhtv4Pjx49izZw9SU1ORlZWF2tpa6zZ0jsXLnnPM+/rrr3HgwAEkJCT0+B6dY/Gy9xxfe+210Gg01q8tW7Z0+b5HzzE7SNTU1LAA2F27drEsy7Jms5mNj49n//rXv1q36ezsZMPCwth33nmHZVmW1Wq1rFwuZz/55BPrNpcuXWIlEgm7detW774AMqDu59hWcXExC4A9fPhwl8fpHPuW/s4x7+DBgywAtrS0lGVZOse+xp5z3NTUxAJgf/rpJ5Zl6Rz7mr7OcUVFBZuYmMieOHGCTUlJYV977TXr9+gc+5bezvGKFSvYG2+8sc/nePoc++0Mb3dNTU0AYO3bXFxcjKqqKmRlZVm3USqVmDdvHvbt2wcAKCgogMFg6LJNQkICxo0bZ92GiEf3c2wPOse+xZ5z3NTUBIZhEB4eDoDOsa8Z6Bzr9Xr861//QlhYGCZOnAiAzrGv6e0cm81m3HPPPfj973+PsWPH9ngOnWPf0tff8c6dOxEbG4uRI0figQceQE1NjfV7nj7HMpf34ANYlsWaNWswZ84cjBs3DgBQVVUFAIiLi+uybVxcHEpLS63bKBQKRERE9NiGfz4Rh97OsT3oHPsOe85xZ2cn/vjHP+LOO+9EaGgoADrHvqS/c/zdd9/h9ttvR3t7O9RqNXJzcxEdHQ2AzrEv6escv/TSS5DJZHj44Yd7fR6dY9/R1zletGgRbrvtNqSkpKC4uBhPP/00rrzyShQUFECpVHr8HA+KgPehhx7CsWPHsGfPnh7fYximy/+zLNvjse7s2YZ4V3/n2Bl0jsVnoHNsMBhw++23w2w246233hpwf3SOxae/c7xgwQIcOXIEdXV1+Pe//42lS5fiwIEDiI2N7XN/dI7Fp7dzXFBQgH/84x8oLCx0+HzRORafvv6Oly1bZv33uHHjMHXqVKSkpOD777/HLbfc0uf+3HWO/T6l4Xe/+x2++eYb7NixA0OGDLE+Hh8fDwA9rhpqamqss77x8fHQ6/VobGzscxsivL7OsT3oHPuGgc6xwWDA0qVLUVxcjNzcXOvsLkDn2FcMdI6DgoIwfPhwzJgxA++99x5kMhnee+89AHSOfUVf53j37t2oqalBcnIyZDIZZDIZSktLsXbtWqSmpgKgc+wrHPk8VqvVSElJwfnz5wF4/hz7bcDLsiweeughbN68Gdu3b0daWlqX76elpSE+Ph65ubnWx/R6PXbt2oVZs2YBADIyMiCXy7tso9FocOLECes2RDgDnWN70DkWN3vOMR/snj9/Hj/99BOioqK6fJ/Osbg5+3fMsix0Oh0AOsdiN9A5vueee3Ds2DEcOXLE+pWQkIDf//73+PHHHwHQORY7Z/6O6+vrUV5eDrVaDcAL59jlZW8i9Zvf/IYNCwtjd+7cyWo0GutXe3u7dZu//vWvbFhYGLt582b2+PHj7B133MGq1Wq2ubnZus3q1avZIUOGsD/99BNbWFjIXnnllezEiRNZo9EoxMsiNuw5x/X19ezhw4fZ77//ngXAfvLJJ+zhw4dZjUZj3YbOsXgNdI4NBgO7ZMkSdsiQIeyRI0e6bKPT6az7oXMsXgOd49bWVnbdunXs/v372ZKSEragoIBdtWoVq1Qq2RMnTlj3Q+dYvOx5r+6ue5UGlqVzLGYDneOWlhZ27dq17L59+9ji4mJ2x44d7MyZM9nExESvxVx+G/AC6PXr/ffft25jNpvZZ555ho2Pj2eVSiWbmZnJHj9+vMt+Ojo62IceeoiNjIxkAwIC2BtuuIEtKyvz8qshvbHnHL///vu9bvPMM89Yt6FzLF4DnWO+3FxvXzt27LDuh86xeA10jjs6Otibb76ZTUhIYBUKBatWq9klS5awBw8e7LIfOsfiZc97dXe9Bbx0jsVroHPc3t7OZmVlsTExMaxcLmeTk5PZFStW9Dh/njzHjGWghBBCCCGE+CW/zeElhBBCCCEEoICXEEIIIYT4OQp4CSGEEEKIX6OAlxBCCCGE+DUKeAkhhBBCiF+jgJcQQgghhPg1CngJIYQQQohfo4CXEEIIIYT4NQp4CSFkEKqvr0dsbCxKSkrcut/jx49jyJAhaGtrc+t+CSHEFRTwEkJIP+69914wDNPj69prrxV6aC558cUXsXjxYqSmptq1/eLFi3H11Vf3+r39+/eDYRgUFhZi/PjxmD59Ol577TU3jpYQQlxDrYUJIaQf9957L6qrq/H+++93eVypVCIiIsJjx9Xr9VAoFB7Zd0dHBxISErBlyxbMnDnTrud8/fXXuOWWW1BcXIyUlJQu33vggQeQn5+Pw4cPAwC+/fZbrF69GmVlZZBKpW4fPyGEOIpmeAkhZABKpRLx8fFdvmyDXYZh8O677+Lmm29GYGAgRowYgW+++abLPk6dOoXrrrsOwcHBiIuLwz333IO6ujrr9+fPn4+HHnoIa9asQXR0NK655hoAwDfffIMRI0YgICAACxYswAcffACGYaDVatHW1obQ0FB88cUXXY717bffIigoCC0tLb2+nh9++AEymaxHsNvfGG+44QbExsZi48aNXZ7T3t6OTz/9FKtWrbI+tnDhQtTX12PXrl12/oQJIcSzKOAlhBA3eO6557B06VIcO3YM1113He666y40NDQAADQaDebNm4dJkyYhPz8fW7duRXV1NZYuXdplHx988AFkMhn27t2LnJwclJSU4NZbb8VNN92EI0eOIDs7G08++aR1+6CgINx+++09Zp/ff/993HrrrQgJCel1rHl5eZg6dWqXxwYao0wmw/Lly7Fx40bY3hj8/PPPodfrcdddd1kfUygUmDhxInbv3u3ET5IQQjyAJYQQ0qcVK1awUqmUDQoK6vL1/PPPW7cBwD711FPW/29tbWUZhmF/+OEHlmVZ9umnn2azsrK67Le8vJwFwJ49e5ZlWZadN28eO2nSpC7bPPHEE+y4ceO6PPbkk0+yANjGxkaWZVn2wIEDrFQqZS9dusSyLMvW1taycrmc3blzZ5+v6cYbb2RXrlzZ5TF7xnj69GkWALt9+3brNpmZmewdd9zR4xg333wze++99/Y5BkII8SaZoNE2IYT4gAULFuDtt9/u8lhkZGSX/58wYYL130FBQQgJCUFNTQ0AoKCgADt27EBwcHCPfV+8eBEjR44EgB6zrmfPnsW0adO6PDZ9+vQe/z927Fh8+OGH+OMf/4iPPvoIycnJyMzM7PP1dHR0QKVSdXnMnjGOHj0as2bNwoYNG7BgwQJcvHgRu3fvxrZt23o8JyAgAO3t7X2OgRBCvIkCXkIIGUBQUBCGDx/e7zZyubzL/zMMA7PZDAAwm81YvHgxXnrppR7PU6vVXY5ji2VZMAzT47Hu7r//frzxxhv44x//iPfffx/33Xdfj+fZio6ORmNjY5fH7B3jqlWr8NBDD+HNN9/E+++/j5SUFFx11VU9ntPQ0IBhw4b1OQZCCPEmyuElhBAPmzJlCk6ePInU1FQMHz68y1f3INfW6NGjcejQoS6P5efn99ju7rvvRllZGV5//XWcPHkSK1as6Hc8kydPxqlTp5wa49KlSyGVSvHf//4XH3zwQZ/B9YkTJzB58uR+x0EIId5CAS8hhAxAp9Ohqqqqy5dthYWBPPjgg2hoaMAdd9yBgwcPoqioCNu2bcPKlSthMpn6fF52djbOnDmDJ554AufOncNnn31mrZJgG2RGRETglltuwe9//3tkZWVhyJAh/Y5n4cKFOHnyZJdZXnvHGBwcjGXLluFPf/oTKisrce+99/bYf0lJCS5dutRn3V5CCPE2CngJIWQAW7duhVqt7vI1Z84cu5+fkJCAvXv3wmQyYeHChRg3bhweeeQRhIWFQSLp+204LS0NX3zxBTZv3owJEybg7bfftlZpUCqVXbZdtWoV9Ho9Vq5cOeB4xo8fj6lTp+Kzzz5zaoyrVq1CY2Mjrr76aiQnJ/fY/6ZNm5CVldWjXi8hhAiFGk8QQogPeeGFF/DOO++gvLy8y+Mff/wxHnnkEVRWVtrVsGLLli14/PHHceLEiX6DbkfpdDqMGDECmzZtwuzZs922X0IIcQUtWiOEEBF76623MG3aNERFRWHv3r14+eWX8dBDD1m/397ejuLiYrz44ovIzs62uzvbddddh/Pnz+PSpUtISkpy23hLS0vx5JNPUrBLCBEVmuElhBARe+yxx/5/O3dMBFEIBFFwg6/jS8EJQshIEEOIMTRccOkpmOtW8WqrZmvvXffeet+3eu81xqjn+d4r5py11qrWWp1zfr4VA/h3ghcAgGhGawAARBO8AABEE7wAAEQTvAAARBO8AABEE7wAAEQTvAAARBO8AABEE7wAAEQTvAAARBO8AABEE7wAAEQTvAAARBO8AABE+wCRDSncqyi0CAAAAABJRU5ErkJggg==' width=700.0/>\n",
       "            </div>\n",
       "        "
      ],
      "text/plain": [
       "Canvas(toolbar=Toolbar(toolitems=[('Home', 'Reset original view', 'home', 'home'), ('Back', 'Back to previous …"
      ]
     },
     "metadata": {},
     "output_type": "display_data"
    }
   ],
   "source": [
    "data = syndat_trans12mm.datasets[0].pw_reduced\n",
    "\n",
    "### Plot \n",
    "figure(figsize=(7,4))\n",
    "errorbar(data.E, data.exp, yerr=data.exp_unc, zorder=0,\n",
    "                                        fmt='.', color='darkgreen', linewidth=0.5, markersize=1.5, capsize=1, label='12mm')\n",
    "\n",
    "plot(data.E, data.true)\n",
    "ylabel(\"T\")\n",
    "\n",
    "### make it pretty\n",
    "xlim([200,250])\n",
    "ylim([-0.1,1.1])\n",
    "legend()\n",
    "xlabel('Energy (eV)')\n",
    "tight_layout()"
   ]
  },
  {
   "cell_type": "markdown",
   "metadata": {},
   "source": []
  },
  {
   "cell_type": "markdown",
   "metadata": {},
   "source": [
    "# Syndat control module for multiple datasets\n",
    "\n",
    "The above example show how to build and sample from a complete syndat model for one experimental dataset. \n",
    "The Syndat Control Module can be used to build and sample from several syndat models at once.\n",
    "This module also allows correlations between datasets to be modelled.\n",
    "\n",
    "<!-- 1. sample resonance ladder\n",
    "For all models/datasets:\n",
    "2. sample correlated parameters\n",
    "3. sample uncorrelated parameters\n",
    "4. generate raw data \n",
    "5. reduce raw data -->"
   ]
  },
  {
   "cell_type": "code",
   "execution_count": 46,
   "metadata": {},
   "outputs": [],
   "source": [
    "trans1mm_gen_exp = Experimental_Model(title = \"T1mm\", \n",
    "                                 reaction = \"transmission\", \n",
    "                                 energy_range = [200, 250], \n",
    "                                 template = None, \n",
    "                                 energy_grid = None, \n",
    "                                 n = (0.00566,0.0), \n",
    "                                 FP = (100.14,0.0), \n",
    "                                 t0 = (3326.0, 0.0), \n",
    "                                 burst = (8, 0.0), \n",
    "                                 temp = (294.2610, 0.0), \n",
    "                                 channel_widths = { \n",
    "                                     \"maxE\": [250],\n",
    "                                     \"chw\": [100.0],\n",
    "                                     \"dchw\": [0.8]\n",
    "                                 }\n",
    ")\n",
    "\n",
    "trans1mm_gen_meas = Transmission_RPI()\n",
    "trans1mm_red_meas = Transmission_RPI()\n",
    "\n",
    "syndat_trans1mm = Syndat_Model(trans1mm_gen_exp,\n",
    "                            trans1mm_gen_meas,\n",
    "                            trans1mm_red_meas)"
   ]
  },
  {
   "cell_type": "markdown",
   "metadata": {},
   "source": [
    "### Now, put each of these syndat models into the control module class\n",
    "\n",
    "Options can be redefined here, each respective syndat model will take on the new options."
   ]
  },
  {
   "cell_type": "code",
   "execution_count": 47,
   "metadata": {},
   "outputs": [],
   "source": [
    "# from ATARI.syndat.control import Syndat_Control\n",
    "\n",
    "# syndat = Syndat_Control(particle_pair= Ta_pair,\n",
    "#                         syndat_models= [syndat_trans12mm, syndat_trans1mm],\n",
    "#                         model_correlations=None,\n",
    "#                         options=synOPT\n",
    "#                         )"
   ]
  },
  {
   "cell_type": "code",
   "execution_count": null,
   "metadata": {},
   "outputs": [],
   "source": [
    "\n",
    "# ### Plot \n",
    "# fig, axes = subplots(2,1, figsize=(8,6), sharex=True)\n",
    "\n",
    "# ### Trans\n",
    "# axes[0].errorbar(data.E, data.exp, yerr=data.exp_unc, zorder=0,\n",
    "#                                         fmt='.', color='darkgreen', linewidth=0.5, markersize=1.5, capsize=1, label='12mm')\n",
    "\n",
    "# axes[0].plot(data.E, data.true)\n",
    "# axes[0].set_ylabel(\"T\")\n",
    "\n",
    "# # ### Capture\n",
    "# # axes[1].errorbar(synY.data.E, synY.data.exp, yerr=synY.data.exp_unc, zorder=0, \n",
    "# #                                         fmt='.', color='indigo', linewidth=0.5, markersize=1.5, capsize=1, label='1mm')\n",
    "# # axes[1].plot(synY.data.E, synY.data.true)\n",
    "\n",
    "# # axes[1].set_ylabel(r\"$Y_{\\gamma}$\")\n",
    "\n",
    "# ### make it pretty\n",
    "# for ax in axes:\n",
    "#     ax.set_xlim([200,250])\n",
    "#     ax.set_ylim([-0.1,1.1])\n",
    "#     ax.legend()\n",
    "\n",
    "# fig.supxlabel('Energy (eV)')\n",
    "# fig.tight_layout()"
   ]
  },
  {
   "cell_type": "code",
   "execution_count": 48,
   "metadata": {},
   "outputs": [
    {
     "ename": "SyntaxError",
     "evalue": "incomplete input (1636470085.py, line 52)",
     "output_type": "error",
     "traceback": [
      "\u001b[0;36m  Cell \u001b[0;32mIn[48], line 52\u001b[0;36m\u001b[0m\n\u001b[0;31m    \u001b[0m\n\u001b[0m    ^\u001b[0m\n\u001b[0;31mSyntaxError\u001b[0m\u001b[0;31m:\u001b[0m incomplete input\n"
     ]
    }
   ],
   "source": [
    "### capture data info\n",
    "# 'n'         :   (0.067166,            0),\n",
    "# 'FP'        :   (35.185,              0),\n",
    "# 't0'        :   (3.326,               0),\n",
    "# 'bw'        :   (0.0064,              0),\n",
    "\n",
    "# exp_model_Y = experimental_model(\"Y1mm\", \"capture\", [200,250],\n",
    "                               \n",
    "#                                     parameters={\n",
    "#                                         'FP':(100.14,0.01),\n",
    "#                                         't0':(2.0, 0.0)\n",
    "#                                         } ,\n",
    "\n",
    "#                                     channel_width_info={\n",
    "#                                           \"maxE\": [500], \n",
    "#                                           \"chw\": [100.0],\n",
    "#                                           \"dchw\": [0.8]\n",
    "#                                           }\n",
    "#                                                                   )\n",
    "\n",
    "# exp_model_Y\n",
    "\n",
    "\n",
    "class model_correlation:\n",
    "    def __set_name__(self, owner, name):\n",
    "        self._name = name\n",
    "\n",
    "    def __get__(self, instance, owner) -> tuple:\n",
    "        return instance.__dict__[self._name]\n",
    "\n",
    "    def __set__(self, instance, value):\n",
    "        # instance.__dict__[self._name] = date.fromisoformat(value)\n",
    "        if isinstance(value, tuple):\n",
    "            if len(value) != 2:\n",
    "                raise ValueError(\"Tuple for parameter must be (value, uncertainty)\")\n",
    "        else:\n",
    "            raise ValueError(\"Must supply tuple for parameter value and uncertainty\")\n",
    "        instance.__dict__[self._name] = value\n",
    "\n",
    "\n",
    "class model_correlation:\n",
    "    def __init__(self):\n",
    "        pass\n",
    "\n",
    "    self._enable = [True, True, True]\n",
    "    self._model_type = 'measurement'\n",
    "    self._parameter_key = 'ks'\n",
    "    self._parameter = (0.0563, 0.02402339737495515)\n",
    "\n",
    "    def sample_true_parameter(self):\n",
    "        \n",
    "\n"
   ]
  },
  {
   "cell_type": "markdown",
   "metadata": {},
   "source": [
    "# Investigate Noise Distribution : need to update this"
   ]
  },
  {
   "cell_type": "code",
   "execution_count": 49,
   "metadata": {},
   "outputs": [],
   "source": [
    "\n",
    "# jb_df = pd.read_csv(\"/Users/noahwalton/research_local/resonance_fitting/synthetic_data/Ta181/JB_sol/JB_reduction_data.csv\", index_col='Unnamed: 0')\n",
    "# jb_cov = np.load(\"/Users/noahwalton/research_local/resonance_fitting/synthetic_data/Ta181/JB_sol/JB_cov.npy\")\n",
    "# jb_sys = np.load(\"/Users/noahwalton/research_local/resonance_fitting/synthetic_data/Ta181/JB_sol/JB_syst.npy\")\n",
    "# jb_stat = np.load(\"/Users/noahwalton/research_local/resonance_fitting/synthetic_data/Ta181/JB_sol/JB_stat.npy\")\n",
    "# jb_df['bw'] = jb_df.bw*1e-6\n",
    "# realdat = jb_df.loc[(jb_df.e < 120) & (jb_df.e > 3)]\n",
    "\n",
    "\n",
    "# transdat12 = sammy_functions.readlst(\n",
    "#     \"/Users/noahwalton/research_local/resonance_fitting/ATARI_workspace/measurement_data/trans-Ta-12mm.dat\")\n",
    "# exptrans12 = Experimental_Model(title=\"trans12mm\",\n",
    "#                                 reaction=\"transmission\",\n",
    "#                                 energy_range=[2, 120],\n",
    "\n",
    "#                                 sammy_inputs={\n",
    "#                                     'alphanumeric':   [\"BROADENING IS WANTED\"],\n",
    "#                                     'ResFunc':   \"ORRES\"\n",
    "#                                 },\n",
    "\n",
    "#                                 n= (0.067166, 0.0),\n",
    "#                                 FP= (35.185, 0.0),\n",
    "#                                 burst= (8, 0.0),\n",
    "#                                 temp= (294.2610, 0.0),\n",
    "\n",
    "#                                 channel_width_info={\n",
    "#                                     \"maxE\": [270],\n",
    "#                                     \"chw\": [102.7],\n",
    "#                                     \"dchw\": [0.8]\n",
    "#                                 },\n",
    "\n",
    "#                                 additional_resfunc_lines=[\"WATER 0004 5.6822000 -0.54425 0.07733000\", \"WATER      0.5000000  0.05000 0.00700000\", \"LITHI 000  -1.000000  -1.0000 6.00000000\",\n",
    "#                                                           \"LITHI      0.1000000  0.10000 0.60000000\", \"LITHI      166.87839 -28.7093 1.260690\", \"LITHI      0.2574580 -0.06871 0.004915\"]\n",
    "#                                 )\n",
    "\n",
    "# transdat12 = transdat12[(transdat12.E < max(exptrans12.energy_range)) & (\n",
    "#     transdat12.E > min(exptrans12.energy_range))]"
   ]
  },
  {
   "cell_type": "code",
   "execution_count": 50,
   "metadata": {},
   "outputs": [],
   "source": [
    "# from syndat.old.control import syndat\n",
    "# from ATARI.models.Y_reduction_rpi import yield_rpi\n",
    "# from ATARI.models.T_reduction_rpi import transmission_rpi\n",
    "\n",
    "# fit from jeff\n",
    "\n",
    "\n",
    "# sammyRTO = sammy_classes.SammyRunTimeOptions('/Users/noahwalton/gitlab/sammy/sammy/build/bin/sammy',\n",
    "#                                              {\"Print\":   True,\n",
    "#                                               \"bayes\":   False,\n",
    "#                                               \"keep_runDIR\": False\n",
    "#                                               })\n",
    "\n",
    "# matnum = 7328\n",
    "# jeff_file = \"/Users/noahwalton/research_local/data/JEFF33_endf6/73-Ta-181g.jeff33\"\n",
    "# jeff_parameters = sammy_functions.get_endf_parameters(\n",
    "#     jeff_file, matnum, sammyRTO)\n",
    "\n",
    "# jeff_parameters = jeff_parameters[(\n",
    "#     jeff_parameters.E < 120) & (jeff_parameters.E > 2)]\n",
    "# jeff_parameters[\"varyGn1\"] = np.ones(len(jeff_parameters))*1\n",
    "# jeff_parameters[\"varyGg\"] = np.ones(len(jeff_parameters))*1\n",
    "# jeff_parameters[\"varyE\"] = np.ones(len(jeff_parameters))*1\n",
    "\n",
    "\n",
    "# datasets = [transdat12]\n",
    "# experiments = [exptrans12]\n",
    "# # templates = [os.path.realpath('template_T.inp')]\n",
    "# templates = []\n",
    "# for data, exp in zip(datasets, experiments):\n",
    "#     filepath = f'template_{exp.title}'\n",
    "#     # templates are already made and edited!\n",
    "#     template_creator.make_input_template(filepath, model, exp, rto)\n",
    "#     templates.append(os.path.realpath(filepath))\n",
    "\n",
    "# sammyINPyw = sammy_classes.SammyInputDataYW(\n",
    "#     particle_pair=Ta_pair,\n",
    "#     model=model,\n",
    "#     resonance_ladder=jeff_parameters,\n",
    "\n",
    "#     datasets=datasets,\n",
    "#     templates=templates,\n",
    "#     experiments=experiments,\n",
    "\n",
    "#     max_steps=20,\n",
    "#     iterations=2,\n",
    "#     step_threshold=0.01,\n",
    "#     autoelim_threshold=None,\n",
    "\n",
    "#     LS=False,\n",
    "#     LevMar=True,\n",
    "#     LevMarV=1.5,\n",
    "#     # LevMarVd=5,\n",
    "#     initial_parameter_uncertainty=0.1\n",
    "# )\n",
    "\n",
    "# sammyRTO.bayes = True\n",
    "# sammyRTO.keep_runDIR = True\n",
    "# sammyOUT = sammy_functions.run_sammy_YW(sammyINPyw, sammyRTO)"
   ]
  },
  {
   "cell_type": "markdown",
   "metadata": {},
   "source": [
    "### Randomly sampled resonances ladders\n",
    "Usually produces a similar signal to noise ratio unless the resonance ladder is drastically different, could look at average over many repetitions? Want to match "
   ]
  },
  {
   "cell_type": "code",
   "execution_count": 51,
   "metadata": {},
   "outputs": [],
   "source": [
    "\n",
    "# sammyRTO = sammy_classes.SammyRunTimeOptions('/Users/noahwalton/gitlab/sammy/sammy/build/bin/sammy',\n",
    "#                                              {\"Print\":   True,\n",
    "#                                               \"bayes\":   False,\n",
    "#                                               \"keep_runDIR\": False\n",
    "#                                               })\n",
    "\n",
    "\n",
    "# datasets = [transdat12]\n",
    "# experiments = [exptrans12]\n",
    "# # templates = [os.path.realpath('template_T.inp')]\n",
    "# templates = []\n",
    "# for data, exp in zip(datasets, experiments):\n",
    "#     filepath = f'template_{exp.title}'\n",
    "#     template_creator.make_input_template(filepath, Ta_pair, exp, rto)\n",
    "#     templates.append(os.path.realpath(filepath))\n",
    "\n",
    "# res = Ta_pair.sample_resonance_ladder([2,120])\n",
    "\n",
    "# sammyINPyw = sammy_classes.SammyInputDataYW(\n",
    "#     particle_pair=Ta_pair,\n",
    "#     resonance_ladder=res,\n",
    "\n",
    "#     datasets=datasets,\n",
    "#     templates=templates,\n",
    "#     experiments=experiments,\n",
    "# )\n",
    "\n",
    "# sammyOUT = sammy_functions.run_sammy_YW(sammyINPyw, sammyRTO)"
   ]
  },
  {
   "cell_type": "code",
   "execution_count": 52,
   "metadata": {},
   "outputs": [],
   "source": [
    "\n",
    "# true_df = copy(sammyOUT.pw[0])\n",
    "# assert (isinstance(true_df, pd.DataFrame))\n",
    "# true_df = true_df[[\"E\", \"theo_trans\"]]\n",
    "# true_df.rename(columns={\"theo_trans\": \"true\"}, inplace=True)\n",
    "\n",
    "\n",
    "# generation_T1 = transmission_rpi(reduction_parameters={'trigo':   (9758727,             0),\n",
    "#                                                        'trigs':   (18476117,            0)}\n",
    "#                                                        )\n",
    "# reduction_T1 = transmission_rpi(reduction_parameters={'trigo':   (9758727,             0),\n",
    "#                                                       'trigs':   (18476117,            0)}\n",
    "#                                                       )\n",
    "\n",
    "# synT = syndat(options={})\n",
    "# synT.(true_df, generation_T1, reduction_T1, exp_model_T)"
   ]
  },
  {
   "cell_type": "code",
   "execution_count": 53,
   "metadata": {},
   "outputs": [],
   "source": [
    "# figure()\n",
    "# plot(transdat12.E, transdat12.exp, 'k.', markersize=1)\n",
    "# plot(synT.data.E, synT.data.exp, 'b.', markersize=1)\n",
    "# # plot(synT.data.E, synT.data.true, 'b', markersize=1)\n",
    "# ylim([-0.1,1])"
   ]
  },
  {
   "cell_type": "code",
   "execution_count": 54,
   "metadata": {},
   "outputs": [],
   "source": [
    "\n",
    "# freq = np.fft.fftfreq(len(synT.data.tof), synT.data.tof[1] - synT.data.tof[0])\n",
    "\n",
    "# Y = np.fft.fft(transdat12.exp)\n",
    "\n",
    "# Ysyn = np.fft.fft(synT.data.exp)\n",
    "# # P_signal = np.abs(Ysyn)**2\n",
    "# # P_noise = np.abs(Y[noise_indices])**2\n",
    "# # SNR = np.sum(P_signal) / np.sum(P_noise)\n",
    "\n",
    "# figure()\n",
    "# plot(freq, abs(Y), 'k.')\n",
    "# plot(freq, abs(Ysyn), 'b.')\n",
    "# ylim(-0.01, 100)\n",
    "# xlim(0)\n",
    "\n",
    "# # xscale('log')\n",
    "# # yscale('log')"
   ]
  },
  {
   "cell_type": "code",
   "execution_count": null,
   "metadata": {},
   "outputs": [],
   "source": []
  },
  {
   "cell_type": "code",
   "execution_count": null,
   "metadata": {},
   "outputs": [],
   "source": []
  }
 ],
 "metadata": {
  "kernelspec": {
   "display_name": "test",
   "language": "python",
   "name": "python3"
  },
  "language_info": {
   "codemirror_mode": {
    "name": "ipython",
    "version": 3
   },
   "file_extension": ".py",
   "mimetype": "text/x-python",
   "name": "python",
   "nbconvert_exporter": "python",
   "pygments_lexer": "ipython3",
   "version": "3.10.12"
  }
 },
 "nbformat": 4,
 "nbformat_minor": 2
}
