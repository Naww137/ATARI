{
 "cells": [
  {
   "cell_type": "code",
   "execution_count": 1,
   "metadata": {},
   "outputs": [],
   "source": [
    "from matplotlib.pyplot import *\n",
    "import numpy as np\n",
    "import pandas as pd\n",
    "import os\n",
    "import importlib\n",
    "\n",
    "from ATARI.sammy_interface import sammy_classes, sammy_functions\n",
    "\n",
    "from ATARI.ModelData.particle_pair import Particle_Pair\n",
    "from ATARI.ModelData.experimental_model import Experimental_Model\n",
    "\n",
    "from copy import copy\n",
    "\n",
    "import plotting as myplot\n"
   ]
  },
  {
   "cell_type": "code",
   "execution_count": null,
   "metadata": {},
   "outputs": [],
   "source": [
    "sammypath = ''\n",
    "assert(sammypath != '')"
   ]
  },
  {
   "cell_type": "code",
   "execution_count": null,
   "metadata": {},
   "outputs": [],
   "source": [
    "%matplotlib widget"
   ]
  },
  {
   "cell_type": "markdown",
   "metadata": {},
   "source": [
    "# 1, 3 mm Capture Yield Data\n",
    "\n",
    "Similar to the 1, 3, and 6 mm transmission data, we do not have access to any of the raw data used for capture measurements. \n",
    "Cannot just take rough approximate of open neutron spectrum because we actually need the shape for normalization -> use Li6 spectrum from 12mm transmission and normalize to Li6 yield rather than B4C yield."
   ]
  },
  {
   "cell_type": "code",
   "execution_count": null,
   "metadata": {},
   "outputs": [],
   "source": [
    "\n",
    "### 1mm capture data\n",
    "capdat1 = sammy_functions.readlst(os.path.realpath(\"./data/yield_ta1b_unsmooth.dat\"))\n",
    "expcap1 = Experimental_Model(title = \"cap1mm\",\n",
    "                                reaction =\"capture\", \n",
    "                                energy_range = None,\n",
    "                                energy_grid = capdat1.E.values, #np.sort(capdat1.E.values),\n",
    "                                n = (0.005631, 0),\n",
    "                                FP = (45.27, 0.05),\n",
    "                                burst= (8.0,1.0), \n",
    "                                temp= (294.2610, 0.0),\n",
    "                                channel_widths={\n",
    "                                    \"maxE\": [68.20,  122.68, 330.48, 547.57, 199359.52], \n",
    "                                    \"chw\":  [821.40, 410.70, 102.70, 51.30,  25.70],\n",
    "                                    \"dchw\": [0.8,    0.8,    0.8,    0.8,    0.8]\n",
    "                                }\n",
    "                               )\n",
    "\n",
    "capdat1 = capdat1.loc[(capdat1.E<max(expcap1.energy_range)) & (capdat1.E>min(expcap1.energy_range)), :]\n",
    "\n",
    "### 2mm capture data\n",
    "capdat2 = sammy_functions.readlst(os.path.realpath(\"./data/yield_ta2_unsmooth.dat\"))\n",
    "expcap2 = Experimental_Model(   title = \"cap2mm\",\n",
    "                                reaction = \"capture\", \n",
    "                                energy_range = None,\n",
    "                                energy_grid = np.sort(capdat2.E.values),\n",
    "                                n = (0.011179, 0.0),\n",
    "                                FP = (45.27, 0.05),\n",
    "                                burst = (8.0,1.0),\n",
    "                                temp = (294.2610, 0.0),\n",
    "                                channel_widths={\n",
    "                                    \"maxE\": [68.20,  122.68, 330.48, 547.57, 199359.52], \n",
    "                                    \"chw\":  [821.40, 410.70, 102.70, 51.30,  25.70],\n",
    "                                    \"dchw\": [0.8,    0.8,    0.8,    0.8,    0.8]\n",
    "                                }\n",
    "                               )\n",
    "capdat2 = capdat2.loc[(capdat2.E<max(expcap2.energy_range)) & (capdat2.E>min(expcap2.energy_range)), :]"
   ]
  }
 ],
 "metadata": {
  "kernelspec": {
   "display_name": "test",
   "language": "python",
   "name": "python3"
  },
  "language_info": {
   "codemirror_mode": {
    "name": "ipython",
    "version": 3
   },
   "file_extension": ".py",
   "mimetype": "text/x-python",
   "name": "python",
   "nbconvert_exporter": "python",
   "pygments_lexer": "ipython3",
   "version": "3.10.12"
  }
 },
 "nbformat": 4,
 "nbformat_minor": 2
}
