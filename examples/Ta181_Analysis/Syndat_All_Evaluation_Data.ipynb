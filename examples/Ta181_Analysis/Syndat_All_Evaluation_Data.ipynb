{
 "cells": [
  {
   "cell_type": "code",
   "execution_count": null,
   "metadata": {},
   "outputs": [],
   "source": [
    "from matplotlib.pyplot import *\n",
    "import numpy as np\n",
    "import pandas as pd\n",
    "import os\n",
    "import importlib\n",
    "\n",
    "from ATARI.sammy_interface import sammy_classes, sammy_functions\n",
    "\n",
    "from ATARI.ModelData.particle_pair import Particle_Pair\n",
    "# from ATARI.ModelData.experimental_model import Experimental_Model\n",
    "from ATARI.syndat.control import syndatOPT, Syndat_Control\n",
    "\n",
    "from copy import copy\n",
    "\n",
    "import ATARI.utils.plotting as myplot\n"
   ]
  },
  {
   "cell_type": "code",
   "execution_count": null,
   "metadata": {},
   "outputs": [],
   "source": [
    "sammypath = ''\n",
    "assert(sammypath != '')"
   ]
  },
  {
   "cell_type": "code",
   "execution_count": null,
   "metadata": {},
   "outputs": [],
   "source": [
    "%matplotlib widget"
   ]
  },
  {
   "cell_type": "markdown",
   "metadata": {},
   "source": [
    "# Overview\n",
    "\n",
    "Syndat models for each measurement were developed, investigated, and saved in the associated example notebooks.\n",
    "Here, we are going to load each Syndat model, add them to the Syndat Control module, and draw samples from them.\n",
    "A few things to note, \n",
    "1) options should likely be re-defined as we want to ensure resonance and parameter sampling is turned on\n",
    "2) the energy ranges can be overwritten s.t. you can draw samples for a smaller window.\n",
    "3) The background function is the same for all 3 the transmission measurements, this can be implemented with the model correlations input\n"
   ]
  },
  {
   "cell_type": "code",
   "execution_count": null,
   "metadata": {},
   "outputs": [],
   "source": [
    "from ATARI.utils import atario\n",
    "\n",
    "syndat_trans1mm = atario.load_syndat(os.path.join(os.getcwd(), \"results\", \"SyndatModel_1mmT.pkl\"))\n",
    "syndat_trans3mm = atario.load_syndat(os.path.join(os.getcwd(), \"results\", \"SyndatModel_3mmT.pkl\"))\n",
    "syndat_trans6mm = atario.load_syndat(os.path.join(os.getcwd(), \"results\", \"SyndatModel_6mmT.pkl\"))\n",
    "\n",
    "syndat_cap1mm = atario.load_syndat(os.path.join(os.getcwd(), \"results\", \"SyndatModel_1mmY.pkl\"))\n",
    "syndat_cap2mm = atario.load_syndat(os.path.join(os.getcwd(), \"results\", \"SyndatModel_2mmY.pkl\"))"
   ]
  },
  {
   "cell_type": "code",
   "execution_count": null,
   "metadata": {},
   "outputs": [],
   "source": [
    "energy_range_all = [197.5, 235]\n",
    "\n",
    "Ta_pair = Particle_Pair(isotope=\"Ta181\", formalism=\"XCT\", energy_range=energy_range_all, \n",
    "                        ac=0.81271, M=180.948030, m=1, I=3.5, i=0.5, l_max=1)      \n",
    "\n",
    "Ta_pair.add_spin_group(Jpi='3.0', J_ID=1,\n",
    "                       D=9.0030,\n",
    "                       gn2_avg=452.56615, gn2_dof=1,\n",
    "                       gg2_avg=32.0, gg2_dof=100)\n",
    "\n",
    "Ta_pair.add_spin_group(Jpi='4.0', J_ID=2,\n",
    "                       D=8.3031,\n",
    "                       gn2_avg=332.24347, gn2_dof=1,\n",
    "                       gg2_avg=32.0, gg2_dof=100)"
   ]
  },
  {
   "cell_type": "code",
   "execution_count": null,
   "metadata": {},
   "outputs": [],
   "source": [
    "## get new syndat models in a smaller window\n",
    "\n",
    "syndat_models = [syndat_trans1mm, syndat_trans3mm, syndat_trans6mm, syndat_cap1mm, syndat_cap2mm]\n",
    "syndat_models_new = []\n",
    "for each in syndat_models:\n",
    "    syndat_models_new.append(each.truncate_energy_range(energy_range_all, return_copy=True))\n"
   ]
  },
  {
   "cell_type": "code",
   "execution_count": null,
   "metadata": {},
   "outputs": [],
   "source": [
    "\n",
    "rto = sammy_classes.SammyRunTimeOptions(sammypath,\n",
    "                             {\"Print\"   :   True,\n",
    "                              \"bayes\"   :   False,\n",
    "                              \"keep_runDIR\"     : False,\n",
    "                              \"sammy_runDIR\": \"sammy_runDIR_gen\"\n",
    "                              })\n",
    "\n",
    "options = syndatOPT(sampleRES=True,\n",
    "                    sampleTURP=True,\n",
    "                    save_raw_data=False) # raw data not needed here\n",
    "\n",
    "## define model correlation for a_b parameters\n",
    "trans_a_b = syndat_trans1mm.generative_measurement_model.model_parameters.a_b\n",
    "model_correlations = [\n",
    "                    {'models': [1,1,1,0,0],\n",
    "                    'a_b'   : trans_a_b }\n",
    "                        ]\n",
    "\n",
    "syndat = Syndat_Control(Ta_pair,\n",
    "                        syndat_models = syndat_models_new,\n",
    "                        model_correlations=model_correlations,\n",
    "                        options=options)"
   ]
  },
  {
   "cell_type": "code",
   "execution_count": null,
   "metadata": {},
   "outputs": [],
   "source": [
    "syndat.sample(rto, num_samples=10)"
   ]
  },
  {
   "cell_type": "code",
   "execution_count": null,
   "metadata": {},
   "outputs": [],
   "source": [
    "sample1 = syndat.get_sample(4)\n",
    "datasets = [val.pw_reduced for key, val in sample1.items()]\n",
    "experiments = [val.generative_experimental_model for val in syndat_models]\n",
    "\n",
    "importlib.reload(myplot)\n",
    "fig = myplot.plot_reduced_data_TY(datasets=datasets,\n",
    "                            experiments=experiments,\n",
    "                            xlim=energy_range_all,\n",
    "                            plot_datasets_true=True\n",
    "                            )"
   ]
  },
  {
   "cell_type": "markdown",
   "metadata": {},
   "source": [
    "# Saving the Syndat Control module and all samples\n",
    "Similar to the syndat_models, you can use the atario function to save the syndat_control object as a pickle. \n",
    "This is commented out because an existing pkl file is loaded"
   ]
  },
  {
   "cell_type": "code",
   "execution_count": null,
   "metadata": {},
   "outputs": [],
   "source": [
    "\n",
    "atario.save_syndat_control(syndat, os.path.join(os.getcwd(), \"results\", \"SyndatModel_All_200_235.pkl\"))"
   ]
  },
  {
   "cell_type": "code",
   "execution_count": null,
   "metadata": {},
   "outputs": [],
   "source": []
  }
 ],
 "metadata": {
  "kernelspec": {
   "display_name": "test",
   "language": "python",
   "name": "python3"
  },
  "language_info": {
   "codemirror_mode": {
    "name": "ipython",
    "version": 3
   },
   "file_extension": ".py",
   "mimetype": "text/x-python",
   "name": "python",
   "nbconvert_exporter": "python",
   "pygments_lexer": "ipython3",
   "version": "3.10.12"
  }
 },
 "nbformat": 4,
 "nbformat_minor": 2
}
