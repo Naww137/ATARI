{
 "cells": [
  {
   "cell_type": "code",
   "execution_count": 1,
   "metadata": {},
   "outputs": [],
   "source": [
    "import numpy as np\n",
    "import pandas as pd\n",
    "import os\n",
    "from matplotlib.pyplot import *\n",
    "# import ATARI\n",
    "from ATARI.PiTFAll.performance_test import Performance_Test\n",
    "from ATARI.syndat.particle_pair import Particle_Pair\n",
    "from ATARI.syndat.experiment import Experiment\n",
    "import h5py\n",
    "import scipy.stats as sts\n",
    "\n",
    "from scipy import integrate\n",
    "import ATARI.utils.io.hdf5 as h5io\n",
    "\n",
    "import ATARI.utils.atario as io"
   ]
  },
  {
   "cell_type": "code",
   "execution_count": null,
   "metadata": {},
   "outputs": [],
   "source": []
  },
  {
   "cell_type": "code",
   "execution_count": null,
   "metadata": {},
   "outputs": [],
   "source": []
  }
 ],
 "metadata": {
  "kernelspec": {
   "display_name": "test",
   "language": "python",
   "name": "python3"
  },
  "language_info": {
   "codemirror_mode": {
    "name": "ipython",
    "version": 3
   },
   "file_extension": ".py",
   "mimetype": "text/x-python",
   "name": "python",
   "nbconvert_exporter": "python",
   "pygments_lexer": "ipython3",
   "version": "3.10.12"
  },
  "orig_nbformat": 4
 },
 "nbformat": 4,
 "nbformat_minor": 2
}
