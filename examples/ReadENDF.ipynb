{
 "cells": [
  {
   "cell_type": "code",
   "execution_count": 11,
   "metadata": {},
   "outputs": [],
   "source": [
    "from matplotlib.pyplot import *\n",
    "import numpy as np\n",
    "import pandas as pd\n",
    "import os\n",
    "import importlib\n",
    "\n",
    "from ATARI.ModelData.particle_pair import Particle_Pair\n",
    "from ATARI.theory.xs import SLBW\n",
    "from ATARI.sammy_interface import sammy_classes, sammy_functions"
   ]
  },
  {
   "cell_type": "code",
   "execution_count": 12,
   "metadata": {},
   "outputs": [],
   "source": [
    "sammypath = \"\"\n",
    "assert(sammypath != '')"
   ]
  },
  {
   "cell_type": "code",
   "execution_count": 13,
   "metadata": {},
   "outputs": [],
   "source": [
    "%matplotlib widget"
   ]
  },
  {
   "cell_type": "code",
   "execution_count": 14,
   "metadata": {},
   "outputs": [],
   "source": [
    "# Ta181\n",
    "# Ta181      181.     0.00001000  2000.0\n",
    "# PRINT ALL INPUT PARAMETERS\n",
    "# INPUT IS ENDF/B FILE  Mat=7328\n",
    "# USE ENERGY RANGE FROM ENDF/B FILE 2\n",
    "# DO NOT SOLVE BAYES EQUATIONS\n",
    "# DEBUG\n",
    "# TWENTY\n",
    "# generate plot file a\n",
    "  \n",
    "# 300.                                        0.0000\n",
    "#   0.000000  0.120000                       0.00000\n",
    "# TRANSMISSION"
   ]
  },
  {
   "cell_type": "code",
   "execution_count": null,
   "metadata": {},
   "outputs": [],
   "source": [
    "sammyRTO = sammy_classes.SammyRunTimeOptions(sammypath,\n",
    "                             **{\"Print\"   :   True,\n",
    "                              \"bayes\"   :   False,\n",
    "                              \"keep_runDIR\"     : False\n",
    "                              })\n",
    "\n",
    "matnum = 7328\n",
    "endf_file = os.path.realpath(\"./Ta181_Analysis/data/n-073_Ta_181.endf\")\n",
    "# matnum = 1025\n",
    "# endf_file = \"/Users/noahwalton/research_local/data/ENDF-B-VIII.0_neutrons/n-010_Ne_020.endf\"\n",
    "\n",
    "importlib.reload(sammy_functions)\n",
    "sammy_parameters = sammy_functions.get_endf_parameters(endf_file, matnum, sammyRTO)\n",
    "sammy_parameters"
   ]
  },
  {
   "cell_type": "code",
   "execution_count": null,
   "metadata": {},
   "outputs": [],
   "source": [
    "from ATARI.ModelData.particle_pair import Particle_Pair\n",
    "energy_range = (190,200)\n",
    "Ta_pair = Particle_Pair(isotope=\"Ta181\", formalism=\"XCT\", energy_range=energy_range, \n",
    "                        ac=0.81271, M=180.948030, m=1, I=3.5, i=0.5, l_max=1)      \n",
    "\n",
    "Ta_pair.add_spin_group(Jpi='3.0', J_ID=1,\n",
    "                       D=9.0030,\n",
    "                       gn2_avg=452.56615, gn2_dof=1,\n",
    "                       gg2_avg=32.0, gg2_dof=1000)\n",
    "\n",
    "Ta_pair.add_spin_group(Jpi='4.0', J_ID=2,\n",
    "                       D=8.3031,\n",
    "                       gn2_avg=332.24347, gn2_dof=1,\n",
    "                       gg2_avg=32.0, gg2_dof=1000)\n",
    "\n",
    "\n",
    "E = np.linspace(min(energy_range), max(energy_range), 1000)\n",
    "from ATARI.utils.atario import expand_sammy_ladder_2_atari\n",
    "ladder = expand_sammy_ladder_2_atari(Ta_pair, sammy_parameters)\n",
    "\n",
    "tot, scat,cap = SLBW(E, pair=Ta_pair, resonance_ladder=ladder)\n",
    "figure()\n",
    "plot(E,tot)"
   ]
  },
  {
   "cell_type": "code",
   "execution_count": 17,
   "metadata": {},
   "outputs": [],
   "source": [
    "\n",
    "# PP = Particle_Pair(isotope = \"Ne20\",\n",
    "# resonance_ladder = sammy_parameters,\n",
    "# formalism = \"XCT\",\n",
    "# # _spin_groups = {}\n",
    "# energy_range = [1e6,20e6]\n",
    "# target     = Ta181\n",
    "# projectile = Neutron\n",
    "# ac = 0.8127 # √barns or 1e-12 cm\n",
    "# )\n",
    "# expand_sammy_ladder_2_atari(sammy_parameters)"
   ]
  },
  {
   "cell_type": "code",
   "execution_count": 18,
   "metadata": {},
   "outputs": [],
   "source": [
    "\n",
    "# ac=0.81271; M=180.948030; m=1; I=3.5; i=0.5; l_max=1     \n",
    "\n",
    "# E_min_max = [25, 75]\n",
    "# experiment_parameters = {'bw': {'val':0.1024,   'unc'   :   0},\n",
    "#                          'n':  {'val':0.067166,     'unc'   :0}}\n",
    "# exp = Experiment(E_min_max,  \n",
    "#                         experiment_parameters=experiment_parameters)\n",
    "\n",
    "# Ta_pair = Particle_Pair( ac, M, m, I, i, l_max,\n",
    "#                                 input_options={})\n",
    "                                \n",
    "# input_options = {'Add Noise': True,\n",
    "#             'Calculate Covariance': True,\n",
    "#             'Sample TURP': False}\n",
    "# experiment_parameters = {'bw': {'val':0.00192,    'unc'   :   0}} #,\n",
    "# exp = Experiment(E_min_max, \n",
    "#                         input_options=input_options, \n",
    "#                         experiment_parameters=experiment_parameters)\n",
    "\n",
    "# sammyINP = sammy_classes.SammyInputData(\n",
    "#     particle_pair = Ta_pair,\n",
    "#     resonance_ladder = sammy_parameters,\n",
    "#     energy_grid = exp.energy_domain,\n",
    "#     temp = 304.5,\n",
    "#     FP=35.185,\n",
    "#     frac_res_FP=0.049600,\n",
    "#     target_thickness=0.067166)\n",
    "# sammyRTO.inptemplate = \"allexpcap_1sg.inp\"\n",
    "\n",
    "# sammyOUT = sammy_functions.run_sammy(sammyINP, sammyRTO)\n",
    "# theo, par = sammyOUT.pw, sammyOUT.par\n",
    "\n"
   ]
  },
  {
   "cell_type": "code",
   "execution_count": 19,
   "metadata": {},
   "outputs": [],
   "source": [
    "\n",
    "# figure()\n",
    "# plot(theo.E, theo.theo_xs)\n",
    "# xscale('log')\n",
    "# yscale('log')"
   ]
  },
  {
   "cell_type": "code",
   "execution_count": 20,
   "metadata": {},
   "outputs": [],
   "source": [
    "\n",
    "# with open(filepath,'r') as f:\n",
    "#     old_lines = f.readlines()\n",
    "\n",
    "# with open(filepath,'w') as f:\n",
    "        \n",
    "\n",
    "\n",
    "\n",
    "\n",
    "# write_shell_script(sammy_INP, sammy_RTO)\n",
    "\n",
    "# lst_df, par_df = execute_sammy(sammy_RTO)\n",
    "\n",
    "\n",
    "# sammyINP = sammy_classes.SammyInputData(\n",
    "#     particle_pair = Ta_pair,\n",
    "#     resonance_ladder = pd.DataFrame(),\n",
    "#     energy_grid = exp.energy_domain,\n",
    "#     temp = 304.5)\n",
    "\n",
    "# sammyOUT = sammy_functions.run_sammy(sammyINP, sammyRTO)\n",
    "# theo, par = sammyOUT.pw, sammyOUT.par"
   ]
  },
  {
   "cell_type": "code",
   "execution_count": null,
   "metadata": {},
   "outputs": [],
   "source": []
  },
  {
   "cell_type": "code",
   "execution_count": null,
   "metadata": {},
   "outputs": [],
   "source": []
  }
 ],
 "metadata": {
  "kernelspec": {
   "display_name": "test",
   "language": "python",
   "name": "python3"
  },
  "language_info": {
   "codemirror_mode": {
    "name": "ipython",
    "version": 3
   },
   "file_extension": ".py",
   "mimetype": "text/x-python",
   "name": "python",
   "nbconvert_exporter": "python",
   "pygments_lexer": "ipython3",
   "version": "3.11.9"
  },
  "orig_nbformat": 4
 },
 "nbformat": 4,
 "nbformat_minor": 2
}
