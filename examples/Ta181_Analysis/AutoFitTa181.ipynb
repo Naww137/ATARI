{
 "cells": [
  {
   "cell_type": "code",
   "execution_count": null,
   "metadata": {},
   "outputs": [],
   "source": [
    "from matplotlib.pyplot import *\n",
    "import numpy as np\n",
    "import pandas as pd\n",
    "import os\n",
    "import importlib\n",
    "\n",
    "from ATARI.sammy_interface import sammy_classes, sammy_functions, template_creator\n",
    "\n",
    "from ATARI.ModelData.particle_pair import Particle_Pair\n",
    "from ATARI.ModelData.experimental_model import Experimental_Model\n",
    "from ATARI.utils import atario\n",
    "from ATARI.utils import plotting as myplot\n",
    "from ATARI.AutoFit.functions import *\n",
    "\n",
    "from copy import copy\n"
   ]
  },
  {
   "cell_type": "code",
   "execution_count": null,
   "metadata": {},
   "outputs": [],
   "source": [
    "sammypath = ''\n",
    "assert(sammypath != '')"
   ]
  },
  {
   "cell_type": "code",
   "execution_count": null,
   "metadata": {},
   "outputs": [],
   "source": [
    "%matplotlib widget"
   ]
  },
  {
   "cell_type": "markdown",
   "metadata": {},
   "source": [
    "## Measurement Data\n",
    "\n",
    "The following measurement data are imported from the work of Jesse Brown at RPI (currently at ORNL).\n",
    "These measurements are detailed in https://www.tandfonline.com/doi/full/10.1080/00295639.2023.2249786 and consist of 6 experimental configurations.\n",
    "Of the 4 transmission measurements only 3 are used for evaluation and the 4th (45m FP) is used for validation. \n",
    "Both 2 capture measurements are used in evaluation.\n",
    "\n",
    "The transmission data are reliable in the range 0.15-100 keV.\n",
    "The capture data are reliable from 0.15-200 keV. \n",
    "\n",
    "The Syndat example notebooks detail how synthetic data models are built for each of these measurements. In this notebook, the AutoFit module will be used to fit the actual data. However, the experimental models developed for the synthetic data are used here as well. These are loaded from the save syndat control instance.\n",
    "\n"
   ]
  },
  {
   "cell_type": "code",
   "execution_count": null,
   "metadata": {},
   "outputs": [],
   "source": [
    "# load the syndat control instance\n",
    "syndat_control = atario.load_general_object(os.path.realpath(\"./results/SyndatControl_E150_5e3.pkl\"))\n",
    "\n",
    "# redefine template paths relative to this location\n",
    "syndat_control.redefine_exp_template_directory(os.path.realpath(\"./data\"))\n",
    "\n",
    "experimental_titles = []\n",
    "experimental_models = []\n",
    "### unpack syndat models and save into zipped lists\n",
    "for each in syndat_control.syndat_models:\n",
    "    if each.title == \"trans1mm\":\n",
    "        exptrans1 = each.generative_experimental_model\n",
    "    elif each.title == \"trans3mm\":\n",
    "        exptrans3 = each.generative_experimental_model\n",
    "    elif each.title == \"trans6mm\":\n",
    "        exptrans6 = each.generative_experimental_model\n",
    "    elif each.title == \"cap1mm\":\n",
    "        expcap1 = each.generative_experimental_model\n",
    "    elif each.title == \"cap2mm\":\n",
    "        expcap2 = each.generative_experimental_model\n",
    "    else:\n",
    "        raise ValueError(\"Unknown Title\")\n",
    "    \n",
    "    print(each.title)\n",
    "    experimental_titles.append(each.title)\n",
    "    experimental_models.append(each.generative_experimental_model)"
   ]
  },
  {
   "cell_type": "code",
   "execution_count": null,
   "metadata": {},
   "outputs": [],
   "source": [
    "from ATARI.sammy_interface.sammy_io import read_idc\n",
    "\n",
    "### 1mm capture data\n",
    "capdat1 = sammy_functions.readlst(os.path.realpath(\"./data/yield_ta1b_unsmooth.dat\"))\n",
    "capdat1 = capdat1.loc[(capdat1.E<max(expcap1.energy_range)) & (capdat1.E>min(expcap1.energy_range)), :]\n",
    "### 2mm capture data\n",
    "capdat2 = sammy_functions.readlst(os.path.realpath(\"./data/yield_ta2_unsmooth.dat\"))\n",
    "capdat2 = capdat2.loc[(capdat2.E<max(expcap2.energy_range)) & (capdat2.E>min(expcap2.energy_range)), :]\n",
    "\n",
    "### 1mm Transmission data\n",
    "transdat1 = sammy_functions.readlst(os.path.realpath(\"./data/trans-Ta-1mm.twenty\"))\n",
    "transdat1_cov = read_idc(os.path.realpath('./data/trans-Ta-1mm.idc'))\n",
    "transdat1 = transdat1.loc[(transdat1.E<max(exptrans1.energy_range)) & (transdat1.E>min(exptrans1.energy_range)), :]\n",
    "### 3mm transmission data\n",
    "transdat3 = sammy_functions.readlst(os.path.realpath(\"./data/trans-Ta-3mm.twenty\"))\n",
    "transdat3_cov = read_idc(os.path.realpath(\"./data/trans-Ta-3mm.idc\"))\n",
    "transdat3 = transdat3.loc[(transdat3.E<max(exptrans3.energy_range)) & (transdat3.E>min(exptrans3.energy_range)), :]\n",
    "### 6mm transmission data\n",
    "transdat6 = sammy_functions.readlst(os.path.realpath(\"./data/trans-Ta-6mm.twenty\"))\n",
    "transdat6_cov = read_idc(os.path.realpath(\"./data/trans-Ta-6mm.idc\"))\n",
    "transdat6 = transdat6.loc[(transdat6.E<max(exptrans6.energy_range)) & (transdat6.E>min(exptrans6.energy_range)), :]"
   ]
  },
  {
   "cell_type": "code",
   "execution_count": null,
   "metadata": {},
   "outputs": [],
   "source": [
    "from ATARI.utils.datacontainers import Evaluation_Data, Evaluation\n",
    "\n",
    "### setup evaluation data class - it has handy methods\n",
    "eval_data = Evaluation_Data(\n",
    "    experimental_titles=experimental_titles,\n",
    "    experimental_models=experimental_models,\n",
    "    datasets=[transdat1, transdat3, transdat6, capdat1, capdat2], # make sure these zipped lists align with experiment model lists\n",
    "    covariance_data = [transdat1_cov, transdat3_cov, transdat6_cov, {}, {}], # make sure these zipped lists align with experiment model lists\n",
    ")\n",
    "\n",
    "### truncate the evaluation to a window of interest\n",
    "energy_range_all = (1000,1030)\n",
    "eval_data = eval_data.truncate(energy_range_all)"
   ]
  },
  {
   "cell_type": "markdown",
   "metadata": {},
   "source": [
    "### Fit from JEFF prior\n",
    "This approach interfaces directly with run_sammy_YW to simultaneously fit all datasets starting from the specified parameters read from the JEFF-3.3 evaluation. Later in this notebook, the AutoFit module will be used to fit the data without a prior. Note that AutoFit also uses run_sammy_YW `under-the-hood'."
   ]
  },
  {
   "cell_type": "code",
   "execution_count": null,
   "metadata": {},
   "outputs": [],
   "source": [
    "sammyRTO = sammy_classes.SammyRunTimeOptions(sammypath,\n",
    "                             **{\"Print\"   :   True,\n",
    "                              \"bayes\"   :   True,\n",
    "                              \"keep_runDIR\"     : False\n",
    "                              })\n",
    "\n",
    "## load, truncate, and set vary on the evaluated ladder\n",
    "jeff_file = os.path.realpath(\"./data/73-Ta-181g.jeff33\")\n",
    "eval_jeff = Evaluation.from_ENDF6(\"jeff\", 7328, jeff_file, sammyRTO)\n",
    "eval_jeff = eval_jeff.truncate(energy_range_all, external_resonance_energy_buffer=5)\n",
    "eval_jeff.update_vary_on_resonance_ladder(varyE=1, varyGg=0, varyGn1=1)\n",
    "\n",
    "\n",
    "### sammy input YW\n",
    "sammyINPyw = sammy_classes.SammyInputDataYW(\n",
    "    particle_pair = syndat_control.particle_pair,\n",
    "    resonance_ladder = eval_jeff.resonance_ladder,  \n",
    "\n",
    "    datasets= eval_data.datasets,\n",
    "    experiments = eval_data.experimental_models,\n",
    "    experimental_covariance= eval_data.covariance_data, \n",
    "    \n",
    "    max_steps = 10,\n",
    "    iterations = 3,\n",
    "    step_threshold = 0.01,\n",
    "    autoelim_threshold = None,\n",
    "\n",
    "    LS = False,\n",
    "    LevMar = True,\n",
    "    LevMarV = 2,\n",
    "    LevMarVd= 5,\n",
    "    maxF= 1.5,\n",
    "    initial_parameter_uncertainty = 0.01\n",
    "    )\n"
   ]
  },
  {
   "cell_type": "code",
   "execution_count": null,
   "metadata": {},
   "outputs": [],
   "source": [
    "sammyOUT_JEFF = sammy_functions.run_sammy_YW(sammyINPyw, sammyRTO)"
   ]
  },
  {
   "cell_type": "code",
   "execution_count": null,
   "metadata": {},
   "outputs": [],
   "source": [
    "importlib.reload(myplot)\n",
    "fig = myplot.plot_reduced_data_TY(eval_data.datasets, \n",
    "                                  eval_data.experimental_models,\n",
    "                                  fits = sammyOUT_JEFF.pw_post,\n",
    "                                  xlim=(energy_range_all))\n",
    "\n",
    "fig.tight_layout()"
   ]
  },
  {
   "cell_type": "markdown",
   "metadata": {},
   "source": [
    "### Fit and eliminate from initial feature bank instead of prior\n",
    "\n",
    "The fit and eliminate module (imported as fe) performs the non-linear optimization and stepwise elimination to some target number of resonances. There are two primary methods: fe.initial_fit and fe.eliminate. Both methods take a solver and a resonance ladder as an argument. \n",
    "\n",
    "The starting resonance ladder for fe.initial_fit can be generated with the initial feature bank utilities below while the output resonance ladder from fe.initial_fit needs to be parsed and supplied to fe.eliminate."
   ]
  },
  {
   "cell_type": "code",
   "execution_count": null,
   "metadata": {},
   "outputs": [],
   "source": [
    "from ATARI.AutoFit.initial_FB_solve import InitialFBOPT\n",
    "import ATARI.AutoFit.functions as fn\n",
    "\n",
    "initialFBopt = InitialFBOPT(starting_Gn1_multiplier = 100,\n",
    "                            starting_Gg_multiplier = 1,\n",
    "                            fit_all_spin_groups=False,\n",
    "                            spin_group_keys = ['3.0'],\n",
    "                            num_Elam = 15,\n",
    "                            )\n",
    "\n",
    "### The initial feature bank can be designed to include features that the evaluator wants, i.e., fixed external resonances\n",
    "initial_resonance_ladder, external_resonance_ladder = fn.get_initial_resonance_ladder(initialFBopt, syndat_control.particle_pair, energy_range_all, external_resonance_ladder=None)\n",
    "print(external_resonance_ladder.E)\n",
    "initial_resonance_ladder"
   ]
  },
  {
   "cell_type": "markdown",
   "metadata": {},
   "source": [
    "The solver class describes how the non-linear optimization will be solved and has several options both internal and external to SAMMY. It also contains much of the inputs needed for different run_sammy() functions and stores them in a convenient way. The fit method is linked to the appropriate run_sammy upon instantiation, creating a uniform way to fit a ladder that is used throughout fit and eliminate. This allows different solver instances to be used with the same fe code.\n",
    "\n",
    "An options instance is created and passed to the instantiation of the solver class itself, the solver class is then passed to fe."
   ]
  },
  {
   "cell_type": "code",
   "execution_count": null,
   "metadata": {},
   "outputs": [],
   "source": [
    "from ATARI.sammy_interface.sammy_classes import SolverOPTs_YW\n",
    "from ATARI.AutoFit import fit_and_eliminate, sammy_interface_bindings, auto_fit\n",
    "\n",
    "solver_options = SolverOPTs_YW(max_steps = 20,\n",
    "                            step_threshold=0.01,\n",
    "                            LevMar=True, LevMarV=1.5,LevMarVd=5,minF = 1e-4,maxF = 1.5,\n",
    "                            initial_parameter_uncertainty=0.1, iterations=1,\n",
    "                            idc_at_theory=False)\n",
    "\n",
    "solver_options_elim = SolverOPTs_YW(max_steps = 10,\n",
    "                            step_threshold=0.01,\n",
    "                            LevMar=True, LevMarV=1.5,LevMarVd=5,minF = 1e-4,maxF = 1.5,\n",
    "                            initial_parameter_uncertainty=0.1, iterations=1,\n",
    "                            idc_at_theory=False)\n",
    "\n",
    "\n",
    "solver_initial = sammy_interface_bindings.Solver_factory(sammyRTO, solver_options._solver, solver_options, syndat_control.particle_pair, eval_data) \n",
    "solver_elim = sammy_interface_bindings.Solver_factory(sammyRTO, solver_options._solver, solver_options, syndat_control.particle_pair, eval_data)"
   ]
  },
  {
   "cell_type": "code",
   "execution_count": null,
   "metadata": {},
   "outputs": [],
   "source": [
    "# An example of how the solver class can be used directly, fitting from the JEFF prior resonance ladder\n",
    "sammyOUT_JEFF = solver_initial.fit(sammyINPyw.resonance_ladder)"
   ]
  },
  {
   "cell_type": "code",
   "execution_count": null,
   "metadata": {},
   "outputs": [],
   "source": [
    "import ATARI.utils.plotting as myplot\n",
    "\n",
    "fig = myplot.plot_reduced_data_TY(eval_data.datasets,\n",
    "                            eval_data.experimental_models,\n",
    "                            priors = sammyOUT_JEFF.pw,\n",
    "                            fits=sammyOUT_JEFF.pw_post,\n",
    "                            \n",
    "                            xlim=energy_range_all)\n",
    "fig.tight_layout()"
   ]
  },
  {
   "cell_type": "markdown",
   "metadata": {},
   "source": [
    "The fit_and_eliminate module has and option class and a utility class. An instance of options is created and passed to create and instance of the utility class along with the solver instances we created before. The fe.initial_fit and fe.eliminate methods are then demonstrated. An important input to these methods is the fixed_resonance_ladder"
   ]
  },
  {
   "cell_type": "code",
   "execution_count": null,
   "metadata": {},
   "outputs": [],
   "source": [
    "\n",
    "#### Fit and eliminate\n",
    "fit_and_elim_options = fit_and_eliminate.FitAndEliminateOPT(chi2_allowed=0.01,\n",
    "                                                            width_elimination=False, \n",
    "                                                            greedy_mode=True,\n",
    "                                                            deep_fit_max_iter = 10,\n",
    "                                                            deep_fit_step_thr = 0.01,\n",
    "                                                            LevMarV0_priorpassed = 0.1)\n",
    "\n",
    "fe = fit_and_eliminate.FitAndEliminate(solver_initial=solver_initial, solver_eliminate=solver_elim, options=fit_and_elim_options, particle_pair=syndat_control.particle_pair)\n",
    "\n",
    "\n",
    "initial_samout = fe.initial_fit(initial_resonance_ladder, fixed_resonance_ladder=external_resonance_ladder)\n",
    "\n",
    "initial_feature_bank, fixed_resonance_ladder = separate_external_resonance_ladder(initial_samout.par_post, fe.output.external_resonance_indices)\n",
    "\n",
    "elimination_history = fe.eliminate(initial_feature_bank, target_ires=0, fixed_resonance_ladder=fixed_resonance_ladder, )\n",
    "\n",
    "print(elimination_history[4]['selected_ladder_chars'].par_post)\n",
    "\n",
    "print(elimination_history[0]['selected_ladder_chars'].par_post)"
   ]
  },
  {
   "cell_type": "code",
   "execution_count": null,
   "metadata": {},
   "outputs": [],
   "source": [
    "import ATARI.utils.plotting as myplot\n",
    "\n",
    "fig = myplot.plot_reduced_data_TY(eval_data.datasets,\n",
    "                            eval_data.experimental_models,\n",
    "                            priors = fe.output.initial_fits[0].pw,\n",
    "                            fits=elimination_history[5]['selected_ladder_chars'].pw_post,\n",
    "                            \n",
    "                            xlim=energy_range_all)\n",
    "fig.tight_layout()"
   ]
  },
  {
   "cell_type": "markdown",
   "metadata": {},
   "source": [
    "### Careful, the full autofit with CV takes about an hour, parallel CV cannot be used within a notebook\n",
    "\n",
    "\n",
    "The AutoFit module does several things. \n",
    "The largest internal module is the fit_and_eliminate module which will is passed a starting resonance ladder and will fit it, then reduce complexity by eliminating resonances down to some target number of resonances. You must define solver options for both the initial fit and the elimination fits.\n",
    "\n",
    "The starting resonance ladder is given by the initial feature bank class which also has a set of user defined options.\n",
    "\n",
    "Currently, are two ways AutoFit determines that target 1) via a delta chi2 threshold that is a selected hyperparameter or 2) via a cross validation approach.\n"
   ]
  },
  {
   "cell_type": "code",
   "execution_count": null,
   "metadata": {},
   "outputs": [],
   "source": [
    "\n",
    "autofit_options = auto_fit.AutoFitOPT(save_elimination_history   = True,\n",
    "                                    save_CV_elimination_history  = False,\n",
    "                                    parallel_CV                  = False,\n",
    "                                    parallel_processes           = 5,\n",
    "                                    final_fit_to_0_res           = False)\n",
    "\n",
    "af = auto_fit.AutoFit(sammyRTO, syndat_control.particle_pair, solver_options, solver_options_elim, AutoFit_options=autofit_options, fit_and_elim_options=fit_and_elim_options)\n",
    "autofit_out = af.fit(eval_data, initial_resonance_ladder, fixed_resonance_indices=fixed_resonance_ladder)"
   ]
  },
  {
   "cell_type": "code",
   "execution_count": null,
   "metadata": {},
   "outputs": [],
   "source": []
  }
 ],
 "metadata": {
  "kernelspec": {
   "display_name": "test",
   "language": "python",
   "name": "python3"
  },
  "language_info": {
   "codemirror_mode": {
    "name": "ipython",
    "version": 3
   },
   "file_extension": ".py",
   "mimetype": "text/x-python",
   "name": "python",
   "nbconvert_exporter": "python",
   "pygments_lexer": "ipython3",
   "version": "3.11.9"
  }
 },
 "nbformat": 4,
 "nbformat_minor": 2
}
