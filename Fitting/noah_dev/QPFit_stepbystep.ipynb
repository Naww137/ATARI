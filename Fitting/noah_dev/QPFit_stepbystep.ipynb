{
 "cells": [
  {
   "cell_type": "code",
   "execution_count": 1,
   "metadata": {},
   "outputs": [],
   "source": [
    "import numpy as np\n",
    "import pandas as pd\n",
    "import os\n",
    "from matplotlib.pyplot import *\n",
    "import h5py\n",
    "import scipy.stats as sts\n",
    "\n",
    "from ATARI.syndat.particle_pair import Particle_Pair\n",
    "from ATARI.syndat.experiment import Experiment\n",
    "from ATARI.syndat.MMDA import generate\n",
    "from ATARI.theory.xs import SLBW\n",
    "from ATARI.theory.scattering_params import FofE_recursive\n",
    "from ATARI.theory.scattering_params import gstat\n",
    "from ATARI.utils.datacontainer import DataContainer\n",
    "from ATARI.utils.atario import fill_resonance_ladder\n",
    "from ATARI.utils.stats import chi2_val\n",
    "\n",
    "from numpy.linalg import inv\n",
    "from scipy.linalg import block_diag\n",
    "\n",
    "from scipy.optimize import lsq_linear\n",
    "from qpsolvers import solve_qp\n",
    "from scipy.optimize import linprog\n",
    "\n",
    "import functions as fn \n"
   ]
  },
  {
   "cell_type": "code",
   "execution_count": 2,
   "metadata": {},
   "outputs": [],
   "source": [
    "%matplotlib widget"
   ]
  },
  {
   "cell_type": "code",
   "execution_count": 3,
   "metadata": {},
   "outputs": [
    {
     "data": {
      "text/plain": [
       "'005'"
      ]
     },
     "execution_count": 3,
     "metadata": {},
     "output_type": "execute_result"
    }
   ],
   "source": [
    "str(0.005).split('.')[1]"
   ]
  },
  {
   "cell_type": "code",
   "execution_count": 4,
   "metadata": {},
   "outputs": [],
   "source": [
    "\n",
    "ac = 0.81271  # scattering radius in 1e-12 cm \n",
    "M = 180.948030  # amu of target nucleus\n",
    "m = 1           # amu of incident neutron\n",
    "I = 3.5         # intrinsic spin, positive parity\n",
    "i = 0.5         # intrinsic spin, positive parity\n",
    "l_max = 1       # highest order l-wave to consider\n",
    "\n",
    "\n",
    "spin_groups = [ (3.0,1,0) ]\n",
    "average_parameters = pd.DataFrame({ 'dE'    :   {'3.0':8.79, '4.0':4.99},\n",
    "                                    'Gg'    :   {'3.0':64.0, '4.0':64.0},\n",
    "                                    'gn2'    :   {'3.0':46.4, '4.0':35.5}  })\n",
    "\n",
    "Ta_pair = Particle_Pair( ac, M, m, I, i, l_max,\n",
    "                                input_options={},\n",
    "                                spin_groups=spin_groups,\n",
    "                                average_parameters=average_parameters )   \n",
    "\n",
    "\n",
    "E_min_max = [75, 125]\n",
    "energy_grid = E_min_max\n",
    "\n",
    "input_options = {'Add Noise': True,\n",
    "                'Calculate Covariance': True,\n",
    "                'Compression Points':[],\n",
    "                'Grouping Factors':None}\n",
    "\n",
    "# experiment_parameters = {'bw': {'val':0.0256,   'unc'   :   0},\n",
    "#                          'n':  {'val':0.067166,     'unc'   :0}}\n",
    "experiment_parameters = {'bw': {'val':0.1024,   'unc'   :   0},\n",
    "                         'n':  {'val':0.067166,     'unc'   :0}}\n",
    "\n",
    "# initialize experimental setup\n",
    "exp = Experiment(energy_grid, \n",
    "                        input_options=input_options, \n",
    "                        experiment_parameters=experiment_parameters)\n",
    "\n",
    "\n",
    "case_file = '/Users/noahwalton/research_local/resonance_fitting/ATARI_workspace/SLBW_noexp/lasso/Ta181_500samples_E75_125/Ta181_500samples_E75_125_1.hdf5'\n",
    "dataset_range = (0, 10)\n",
    "samples_not_generated = generate(Ta_pair, exp, \n",
    "                                        'syndat_SLBW', \n",
    "                                        dataset_range, \n",
    "                                        case_file,\n",
    "                                        fixed_resonance_ladder=None, \n",
    "                                        open_data=None,\n",
    "                                        vary_Erange=None,\n",
    "                                        use_hdf5=True,\n",
    "                                        overwrite = False\n",
    "                                                                    )"
   ]
  },
  {
   "cell_type": "code",
   "execution_count": 5,
   "metadata": {},
   "outputs": [
    {
     "name": "stdout",
     "output_type": "stream",
     "text": [
      "Model 'true' already exists in pw.exp, bypassing pointwise reconstruction\n"
     ]
    }
   ],
   "source": [
    "import ATARI.atari_io.hdf5 as io\n",
    "from ATARI.utils.misc import fine_egrid \n",
    "\n",
    "\n",
    "from ATARI.utils.io.experimental_parameters import BuildExperimentalParameters_fromDIRECT, DirectExperimentalParameters\n",
    "from ATARI.utils.io.theoretical_parameters import BuildTheoreticalParameters_fromHDF5, BuildTheoreticalParameters_fromATARI, DirectTheoreticalParameters\n",
    "from ATARI.utils.io.pointwise_container import BuildPointwiseContainer_fromHDF5, BuildPointwiseContainer_fromATARI, DirectPointwiseContainer\n",
    "from ATARI.utils.io.data_container import BuildDataContainer_fromBUILDERS, BuildDataContainer_fromOBJECTS, DirectDataContainer\n",
    "\n",
    "\n",
    "\n",
    "# read Oleksii's Data\n",
    "# casenum = 114\n",
    "# filepath = f\"/Users/noahwalton/research_local/resonance_fitting/ATARI_workspace/SLBW_noexp/lasso/Ta181_500samples_E75_125/sample_{casenum}\"\n",
    "# true_resladder = pd.read_csv(os.path.join(filepath, 'ladder.csv'), index_col=0)\n",
    "# exp_cov = pd.read_csv(os.path.join(filepath, 'cov.csv'), index_col=0)\n",
    "# exp_pw = pd.read_csv(os.path.join(filepath, 'transm.csv'), index_col=0)\n",
    "# exp_pw.drop(columns='index', inplace=True)\n",
    "# exp_pw.rename(columns={'exp_cs':'exp_xs', 'true_cs':'true_xs', 'true_trans':'true_trans'}, inplace=True)\n",
    "# exp_cov.columns=exp_pw.E\n",
    "# exp_cov.index=exp_pw.E\n",
    "# exp_cov.index.name = None\n",
    "\n",
    "\n",
    "# read hdf\n",
    "case_file = \"/Users/noahwalton/research_local/resonance_fitting/ATARI_workspace/SLBW_noexp/lasso/Ta181_500samples_E75_125/Ta181_500samples_E75_125_1.hdf5\"\n",
    "casenum = 127\n",
    " \n",
    "\n",
    "### Build from hdf5\n",
    "builder_exppar = BuildExperimentalParameters_fromDIRECT(0.067166, 0, 1e-2)\n",
    "exppar = builder_exppar.construct()\n",
    "\n",
    "builder_theopar = BuildTheoreticalParameters_fromHDF5('true', case_file, casenum, Ta_pair)\n",
    "truepar = builder_theopar.construct()\n",
    "\n",
    "builder_pw = BuildPointwiseContainer_fromHDF5(case_file, casenum)\n",
    "pw = builder_pw.construct_lite_w_CovT()\n",
    "\n",
    "builder_dc = BuildDataContainer_fromOBJECTS( pw, exppar, [truepar])\n",
    "dc = builder_dc.construct()\n",
    "\n",
    "dc.pw.fill_exp_xs(dc.experimental_parameters)\n",
    "\n",
    "# with h5py.File(case_file) as f:\n",
    "#     print(f['sample_114'].keys())"
   ]
  },
  {
   "cell_type": "code",
   "execution_count": 6,
   "metadata": {},
   "outputs": [],
   "source": [
    "# casenum = 114\n",
    "# filepath = f\"/Users/noahwalton/research_local/resonance_fitting/ATARI_workspace/SLBW_noexp/lasso/Ta181_500samples_E75_125/sample_{casenum}\"\n",
    "# case_file = './test.hdf5'\n",
    "\n",
    "# true_resladder = pd.read_csv(os.path.join(filepath, 'ladder.csv'), index_col=0)\n",
    "# exp_cov = pd.read_csv(os.path.join(filepath, 'cov.csv'), index_col=0)\n",
    "# exp_pw = pd.read_csv(os.path.join(filepath, 'transm.csv'), index_col=0)\n",
    "# exp_pw.drop(columns='index', inplace=True)\n",
    "# exp_pw.rename(columns={'exp_cs':'exp_xs', 'theo_cs':'true_xs', 'theo_trans':'true_trans'}, inplace=True)\n",
    "# exp_cov.columns=exp_pw.E\n",
    "# exp_cov.index=exp_pw.E\n",
    "# exp_cov.index.name = None\n",
    "\n",
    "# # build theoretical parameters\n",
    "# builder_theo_par = BuildTheoreticalParameters_fromATARI('true', true_resladder, Ta_pair)\n",
    "# theo_par = builder_theo_par.construct()\n",
    "# print(theo_par.resonance_ladder)\n",
    "# theo_par.fill()\n",
    "\n",
    "# # build experimental parameters\n",
    "# builder_exp_par = BuildExperimentalParameters_fromDIRECT(0.067166, 0, 1e-2)\n",
    "# exp_par = builder_exp_par.construct()\n",
    "\n",
    "# # build pointwise data\n",
    "# builder_pw = BuildPointwiseContainer_fromATARI(exp_pw, CovT=exp_cov, ppeV=10)\n",
    "# pw = builder_pw.construct_full()\n",
    "# pw.add_model(theo_par, exp_par)\n",
    "\n",
    "# # build data container\n",
    "# builder_dc = BuildDataContainer_fromOBJECTS(pw, exp_par, [theo_par])\n",
    "# dc = builder_dc.construct()\n",
    "# # dc.pw.add_model(theo_par, exp_par)\n",
    "\n",
    "# # ### write to hdf5\n",
    "# # dc.to_hdf5(case_file, casenum)\n",
    "\n",
    "# print(dc.theoretical_parameters['true'].resonance_ladder)\n"
   ]
  },
  {
   "cell_type": "code",
   "execution_count": 7,
   "metadata": {},
   "outputs": [
    {
     "name": "stderr",
     "output_type": "stream",
     "text": [
      "/Users/noahwalton/opt/anaconda3/envs/atari/lib/python3.9/site-packages/ipywidgets/widgets/widget.py:502: DeprecationWarning: Passing unrecognized arguments to super(Toolbar).__init__().\n",
      "__init__() missing 1 required positional argument: 'canvas'\n",
      "This is deprecated in traitlets 4.2.This error will be raised in a future release of traitlets.\n",
      "  super().__init__(**kwargs)\n"
     ]
    },
    {
     "data": {
      "text/plain": [
       "<ErrorbarContainer object of 3 artists>"
      ]
     },
     "execution_count": 7,
     "metadata": {},
     "output_type": "execute_result"
    },
    {
     "data": {
      "application/vnd.jupyter.widget-view+json": {
       "model_id": "93c4143dc16445cda3121c1ecfa9c6da",
       "version_major": 2,
       "version_minor": 0
      },
      "image/png": "[encoded data removed]",
      "text/html": [
       "\n",
       "            <div style=\"display: inline-block;\">\n",
       "                <div class=\"jupyter-widgets widget-label\" style=\"text-align: center;\">\n",
       "                    Figure\n",
       "                </div>\n",
       "                <img src='data:image/png;base64,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' width=640.0/>\n",
       "            </div>\n",
       "        "
      ],
      "text/plain": [
       "Canvas(toolbar=Toolbar(toolitems=[('Home', 'Reset original view', 'home', 'home'), ('Back', 'Back to previous …"
      ]
     },
     "metadata": {},
     "output_type": "display_data"
    }
   ],
   "source": [
    "figure()\n",
    "# plot(pw.fine.E, pw.fine.theo_xs)\n",
    "plot(dc.pw.exp.E, dc.pw.exp.true_xs)\n",
    "errorbar(dc.pw.exp.E, dc.pw.exp.exp_xs, yerr=dc.pw.exp.exp_xs_unc, fmt='.', capsize=2)\n",
    "# plot(dc.pw.exp.E, dc.pw.exp.exp_trans, '.')\n",
    "# ylim([-max_xs*.1, max_xs*1.25])\n"
   ]
  },
  {
   "cell_type": "code",
   "execution_count": 8,
   "metadata": {},
   "outputs": [],
   "source": [
    "\n",
    "import classes as cls"
   ]
  },
  {
   "attachments": {},
   "cell_type": "markdown",
   "metadata": {},
   "source": [
    "## Approach\n",
    "\n",
    "0. Solve initial and reduce feature bank (don't want to do this step but I am for now to speed up computation)\n",
    "\n",
    "1. Solve unconstrained problem with 'full' feature bank. \n",
    "\n",
    "2. Run bisection routine to get solutions constrained to different number of features (Resonances)\n",
    "    a. Maximum possible weight comes from 1.\n",
    "    b. Solve for the minimum possible weight constraint using LP. \n",
    "\n",
    "3. For each solution corresponding to an integer number of features, reduce the feature bank and solve the unconstrained problem\n",
    "\n",
    "4. For each solution from 3 as a prior, solve the GLLS problem to search the constinuous parameter space\n",
    "\n",
    "5. Perform LRT between the models from 4"
   ]
  },
  {
   "cell_type": "code",
   "execution_count": 9,
   "metadata": {},
   "outputs": [],
   "source": [
    "### Unit test for feature bank construction\n",
    "\n",
    "# fb0 = prob.get_FeatureBank(dc, [575], [100e-3])\n",
    "# # inp0 = prob.get_MatrixInputs(dc, fb0)\n",
    "# fb0.solution_ws = np.array([50e-3])\n",
    "# test_par = TheoreticalParameters(Ta_pair, pd.DataFrame({'E':575, 'Gt':100, 'Gnx':50, 'Gg':50, 'J':3.0,'chs':1,'lwave':0.0, 'J_ID':None}, index=[0]))\n",
    "# test,_,_ = SLBW(dc.pw.exp.E, Ta_pair, test_par.resonance_ladder)\n",
    "\n",
    "# figure()\n",
    "# plot(dc.pw.exp.E, fb0.model-test)\n",
    "# # plot(dc.pw.exp.E, test)\n"
   ]
  },
  {
   "attachments": {},
   "cell_type": "markdown",
   "metadata": {},
   "source": [
    "## Step 0, reduce initial feature bank for computational speed"
   ]
  },
  {
   "cell_type": "code",
   "execution_count": 10,
   "metadata": {},
   "outputs": [
    {
     "name": "stdout",
     "output_type": "stream",
     "text": [
      "493\n",
      "266\n"
     ]
    },
    {
     "data": {
      "text/plain": [
       "array([0.0575304, 0.0605304, 0.0635304, 0.0665304, 0.0695304, 0.0725304,\n",
       "       0.0755304, 0.0785304, 0.0815304, 0.0845304, 0.0875304, 0.0905304,\n",
       "       0.0935304, 0.0657   , 0.0678   , 0.0658   , 0.0686   ])"
      ]
     },
     "execution_count": 10,
     "metadata": {},
     "output_type": "execute_result"
    }
   ],
   "source": [
    "### Step 0\n",
    "average_parameters.loc[:,['Gn']] = average_parameters['gn2']/12.5\n",
    "Elam_features, Gtot_features = fn.get_parameter_grid(dc.pw.exp.E, average_parameters, '3.0', 2e0, 3e0)\n",
    "Gtot_features = np.append(Gtot_features, np.round(np.array(dc.theoretical_parameters['true'].resonance_ladder.Gt),1)*1e-3 )\n",
    "Elam_features = np.append(Elam_features, np.round(np.array(dc.theoretical_parameters['true'].resonance_ladder.E),1))\n",
    "# Elam_features = np.round(np.array(theo_resladder.E),1)\n",
    "# Gtot_features = np.array(theo_resladder.Gt)*1e-3\n",
    "# Elam_features = np.array(theo_resladder.E)\n",
    "\n",
    "w_threshold = 1e-6\n",
    "prob = cls.ProblemHandler(w_threshold)\n",
    "\n",
    "fb0 = prob.get_FeatureBank(dc, Elam_features, Gtot_features)\n",
    "inp0 = prob.get_MatrixInputs(dc, fb0)\n",
    "\n",
    "sol_lp0 = cls.Solvers.solve_linear_program(inp0)\n",
    "print(fb0.nfeatures)\n",
    "print(np.count_nonzero(sol_lp0>0))\n",
    "Gtot_features"
   ]
  },
  {
   "attachments": {},
   "cell_type": "markdown",
   "metadata": {},
   "source": [
    "## Step 1, solve unconstrained problem"
   ]
  },
  {
   "cell_type": "code",
   "execution_count": 11,
   "metadata": {},
   "outputs": [],
   "source": [
    "qpopt = cls.QPopt(verbose=True,\n",
    "                abstol = 1e-6,\n",
    "                reltol = 1e-6,\n",
    "                feastol=1e-6,\n",
    "                    maxiters = 200)"
   ]
  },
  {
   "cell_type": "code",
   "execution_count": 12,
   "metadata": {},
   "outputs": [
    {
     "name": "stdout",
     "output_type": "stream",
     "text": [
      "     pcost       dcost       gap    pres   dres\n",
      " 0: -8.1573e+02 -8.3779e+02  8e+02  2e+01  3e-12\n",
      " 1: -8.1484e+02 -8.3450e+02  8e+01  2e+00  3e-12\n",
      " 2: -8.1405e+02 -8.2844e+02  5e+01  1e+00  2e-12\n",
      " 3: -8.1258e+02 -8.1972e+02  2e+01  4e-01  8e-13\n",
      " 4: -8.1009e+02 -8.1371e+02  1e+01  2e-01  6e-13\n",
      " 5: -8.0820e+02 -8.0985e+02  8e+00  1e-01  3e-13\n",
      " 6: -8.0720e+02 -8.0812e+02  5e+00  6e-02  2e-13\n",
      " 7: -8.0690e+02 -8.0729e+02  5e+00  5e-02  2e-13\n",
      " 8: -8.0635e+02 -8.0566e+02  5e+00  4e-02  1e-13\n",
      " 9: -8.0548e+02 -8.0379e+02  4e+00  3e-02  1e-13\n",
      "10: -8.0500e+02 -8.0271e+02  4e+00  3e-02  9e-14\n",
      "11: -8.0361e+02 -7.9926e+02  4e+00  2e-02  7e-14\n",
      "12: -8.0239e+02 -7.9742e+02  5e+00  2e-02  6e-14\n",
      "13: -8.0126e+02 -7.9618e+02  5e+00  1e-02  5e-14\n",
      "14: -7.9888e+02 -7.9407e+02  4e+00  1e-02  4e-14\n",
      "15: -7.9681e+02 -7.8745e+02  6e+00  9e-03  3e-14\n",
      "16: -7.9019e+02 -7.8120e+02  6e+00  5e-03  2e-14\n",
      "17: -7.8931e+02 -7.8057e+02  6e+00  5e-03  2e-14\n",
      "18: -7.8746e+02 -7.7934e+02  6e+00  4e-03  1e-14\n",
      "19: -7.8585e+02 -7.7875e+02  6e+00  3e-03  1e-14\n",
      "20: -7.8139e+02 -7.7655e+02  4e+00  2e-03  9e-15\n",
      "21: -7.8080e+02 -7.7606e+02  4e+00  2e-03  7e-15\n",
      "22: -7.7964e+02 -7.7570e+02  4e+00  1e-03  6e-15\n",
      "23: -7.7881e+02 -7.7483e+02  4e+00  1e-03  6e-15\n",
      "24: -7.7872e+02 -7.7478e+02  4e+00  1e-03  6e-15\n",
      "25: -7.7778e+02 -7.7419e+02  4e+00  9e-04  6e-15\n",
      "26: -7.7662e+02 -7.7287e+02  4e+00  7e-04  4e-15\n",
      "27: -7.7620e+02 -7.7206e+02  4e+00  7e-04  4e-15\n",
      "28: -7.7450e+02 -7.6719e+02  3e+00  5e-04  3e-15\n",
      "29: -7.6688e+02 -7.5462e+02  9e+00  3e-04  2e-15\n",
      "30: -7.6578e+02 -7.5371e+02  9e+00  3e-04  2e-15\n",
      "31: -7.6064e+02 -7.5083e+02  7e+00  2e-04  1e-15\n",
      "32: -7.5712e+02 -7.4878e+02  6e+00  1e-04  9e-16\n",
      "33: -7.5307e+02 -7.4636e+02  7e+00  1e-04  7e-16\n",
      "34: -7.5163e+02 -7.4613e+02  7e+00  8e-05  6e-16\n",
      "35: -7.4834e+02 -7.4473e+02  5e+00  5e-05  4e-16\n",
      "36: -7.4514e+02 -7.4359e+02  3e+00  2e-05  3e-16\n",
      "37: -7.4343e+02 -7.4300e+02  1e+00  7e-06  3e-16\n",
      "38: -7.4331e+02 -7.4300e+02  1e+00  7e-06  3e-16\n",
      "39: -7.4289e+02 -7.4280e+02  9e-01  4e-06  3e-16\n",
      "40: -7.4200e+02 -7.4253e+02  5e-01  2e-16  3e-16\n",
      "41: -7.4225e+02 -7.4233e+02  7e-02  2e-16  2e-16\n",
      "42: -7.4227e+02 -7.4231e+02  4e-02  2e-16  3e-16\n",
      "43: -7.4228e+02 -7.4229e+02  8e-03  2e-16  2e-16\n",
      "44: -7.4228e+02 -7.4229e+02  5e-03  2e-16  2e-16\n",
      "45: -7.4229e+02 -7.4229e+02  2e-04  2e-16  2e-16\n",
      "Optimal solution found.\n"
     ]
    }
   ],
   "source": [
    "### Step 1\n",
    "fb1, sol_lp0_ereduced = prob.reduce_FeatureBank(fb0, sol_lp0)\n",
    "inp1 = prob.get_MatrixInputs(dc, fb1)\n",
    "# fb1 = fb0\n",
    "# inp1 = inp0\n",
    "fb1.solution_ws = cls.Solvers.solve_quadratic_program(inp1, qpopt)\n",
    "# print(fb1.nfeatures)\n",
    "# fb1.get_parameter_solution()"
   ]
  },
  {
   "cell_type": "code",
   "execution_count": 13,
   "metadata": {},
   "outputs": [
    {
     "name": "stderr",
     "output_type": "stream",
     "text": [
      "/Users/noahwalton/opt/anaconda3/envs/atari/lib/python3.9/site-packages/ipywidgets/widgets/widget.py:502: DeprecationWarning: Passing unrecognized arguments to super(Toolbar).__init__().\n",
      "__init__() missing 1 required positional argument: 'canvas'\n",
      "This is deprecated in traitlets 4.2.This error will be raised in a future release of traitlets.\n",
      "  super().__init__(**kwargs)\n"
     ]
    },
    {
     "data": {
      "text/plain": [
       "17"
      ]
     },
     "execution_count": 13,
     "metadata": {},
     "output_type": "execute_result"
    },
    {
     "data": {
      "application/vnd.jupyter.widget-view+json": {
       "model_id": "15c31a4294454077a5f7deb5a4b4c834",
       "version_major": 2,
       "version_minor": 0
      },
      "image/png": "[encoded data removed]",
      "text/html": [
       "\n",
       "            <div style=\"display: inline-block;\">\n",
       "                <div class=\"jupyter-widgets widget-label\" style=\"text-align: center;\">\n",
       "                    Figure\n",
       "                </div>\n",
       "                <img src='data:image/png;base64,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' width=640.0/>\n",
       "            </div>\n",
       "        "
      ],
      "text/plain": [
       "Canvas(toolbar=Toolbar(toolitems=[('Home', 'Reset original view', 'home', 'home'), ('Back', 'Back to previous …"
      ]
     },
     "metadata": {},
     "output_type": "display_data"
    }
   ],
   "source": [
    "figure()\n",
    "# plot(dc.pw.exp.E, dc.pw.exp.theo_xs, 'g')\n",
    "# errorbar(dc.pw.exp.E, dc.pw.exp.exp_xs, yerr=dc.pw.exp.exp_xs_unc, fmt='.', capsize=2)\n",
    "# plot(dc.pw.exp.E, fb1.model, 'r')\n",
    "bins = hist(np.log(fb1.solution_ws), bins=50)\n",
    "np.count_nonzero(fb1.solution_ws>prob.w_threshold)"
   ]
  },
  {
   "cell_type": "code",
   "execution_count": 14,
   "metadata": {},
   "outputs": [],
   "source": [
    "def solve_qp_w_constraint(inp_uncon, wcon, qpopt: cls.QPopt):\n",
    "    inp_con = prob.get_ConstrainedMatrixInputs(inp_uncon, wcon)\n",
    "    sol = cls.Solvers.solve_quadratic_program(inp_con, qpopt)\n",
    "    return sol"
   ]
  },
  {
   "attachments": {},
   "cell_type": "markdown",
   "metadata": {},
   "source": [
    "## Step 2, run bisection routine"
   ]
  },
  {
   "cell_type": "code",
   "execution_count": 15,
   "metadata": {},
   "outputs": [],
   "source": [
    "### Bisection Routine\n",
    "def bisect(x0,x1):\n",
    "    return (x0+x1)/2\n",
    "\n",
    "def bisect_and_solve(current_target_ires, minval, maxval, target_numres, wcon, sol_ws, save_all, searching=True, termination_threshold=1e-3):\n",
    "\n",
    "    icurrent_target_ires = current_target_ires-min(target_numres)\n",
    "    \n",
    "    while searching:\n",
    "\n",
    "        # check termination criteria\n",
    "        if abs((minval-maxval)/maxval) < termination_threshold:\n",
    "            searching = False\n",
    "        elif wcon[icurrent_target_ires] > 0:\n",
    "            searching = False\n",
    "\n",
    "        # bisect, solve, and save result\n",
    "        new_w = bisect(minval, maxval)\n",
    "        con_sol_ws = solve_qp_w_constraint(inp1, new_w, qpopt) # TODO: Make dc and fb dynamic here!\n",
    "        if con_sol_ws is None:\n",
    "            wcon, sol_ws, save_all, searching = bisect_and_solve(current_target_ires, new_w, maxval, target_numres, wcon, sol_ws, save_all, searching=searching)\n",
    "        else:\n",
    "            numres_sol = np.count_nonzero(con_sol_ws>w_threshold)\n",
    "            ires_sol = numres_sol-min(target_numres)\n",
    "            save_all.append((new_w, numres_sol))\n",
    "\n",
    "            if numres_sol == current_target_ires:\n",
    "                #record if current target\n",
    "                if wcon[ires_sol] < new_w:\n",
    "                    wcon[ires_sol] = new_w\n",
    "                    sol_ws[:,ires_sol] = con_sol_ws\n",
    "\n",
    "            elif numres_sol > current_target_ires:\n",
    "                # record other if in target numres\n",
    "                if numres_sol in target_numres:\n",
    "                    if wcon[ires_sol] < new_w:\n",
    "                        wcon[ires_sol] = new_w\n",
    "                        sol_ws[:,ires_sol] = con_sol_ws\n",
    "                # bisect again to find current target\n",
    "                wcon, sol_ws, save_all, searching = bisect_and_solve(current_target_ires, minval, new_w, target_numres, wcon, sol_ws, save_all, searching=searching)\n",
    "\n",
    "            elif numres_sol < current_target_ires:\n",
    "                # record other if in target numres\n",
    "                if numres_sol in target_numres:\n",
    "                    if wcon[ires_sol] < new_w:\n",
    "                        wcon[ires_sol] = new_w\n",
    "                        sol_ws[:,ires_sol] = con_sol_ws\n",
    "                # bisect again to find current target\n",
    "                wcon, sol_ws, save_all, searching = bisect_and_solve(current_target_ires, new_w, maxval, target_numres, wcon, sol_ws, save_all, searching=searching)\n",
    "\n",
    "    return wcon, sol_ws, save_all, searching\n",
    "\n",
    "def get_bounding_wcons(ires_target, save_all):\n",
    "    temp = np.array(save_all)\n",
    "    temp = temp[temp[:,0].argsort()]\n",
    "    index = np.searchsorted(temp[:,1], ires_target, side='left')\n",
    "    return temp[index-1,0], temp[index,0]\n",
    "\n",
    "def get_target_numres_array(target_maxres, max_numres, min_numres):\n",
    "    return np.arange(min_numres, np.min([target_maxres,max_numres])+1, 1)\n",
    "\n",
    "def get_target_wcon_solw_arrays(target_numres, min_wcon, min_wcon_solw, max_numres, max_wcon, max_solw, target_wcon=None, sol_ws = None):\n",
    "    if target_wcon is None and sol_ws is None:\n",
    "        # init targer w constraints and solution vectors\n",
    "        target_wcon = np.zeros(len(target_numres))\n",
    "        sol_ws = np.zeros((len(min_wcon_solw), len(target_numres)))\n",
    "        # add min wconstraint and solution\n",
    "        if min_wcon == 0:\n",
    "            min_wcon = 1e-10\n",
    "        target_wcon[0] = min_wcon\n",
    "        sol_ws[:, 0] = min_wcon_solw\n",
    "        # add max if max numres (unconstrained solve) is in the target\n",
    "        if max_numres in target_numres:\n",
    "            target_wcon[-1] = max_wcon\n",
    "            sol_ws[:, -1] = max_solw\n",
    "    \n",
    "    elif target_wcon is None or sol_ws is None:\n",
    "        raise ValueError(\"Either target_wcon or sol_ws is None while the other is populated, check input.\")\n",
    "    else:\n",
    "        elements_to_add = len(target_numres)-len(target_wcon)\n",
    "        assert elements_to_add >= 0, \"target_numres is shorter than target_wcon\"\n",
    "        target_wcon = np.append(target_wcon, [0]*elements_to_add)\n",
    "        sol_ws = np.append(sol_ws, np.zeros((np.shape(sol_ws)[0], elements_to_add)), axis=1)\n",
    "    return target_wcon, sol_ws"
   ]
  },
  {
   "cell_type": "code",
   "execution_count": 16,
   "metadata": {},
   "outputs": [
    {
     "name": "stdout",
     "output_type": "stream",
     "text": [
      "     pcost       dcost       gap    pres   dres\n",
      " 0: -8.1573e+02 -8.3779e+02  8e+02  2e+01  9e-07\n",
      " 1: -8.1484e+02 -8.3450e+02  8e+01  2e+00  7e-08\n",
      " 2: -8.1405e+02 -8.2844e+02  5e+01  1e+00  4e-08\n",
      " 3: -8.1258e+02 -8.1971e+02  2e+01  4e-01  2e-08\n",
      " 4: -8.1009e+02 -8.1371e+02  1e+01  2e-01  8e-09\n",
      " 5: -8.0820e+02 -8.0985e+02  8e+00  1e-01  4e-09\n",
      " 6: -8.0720e+02 -8.0812e+02  5e+00  6e-02  2e-09\n",
      " 7: -8.0690e+02 -8.0729e+02  5e+00  5e-02  2e-09\n",
      " 8: -8.0635e+02 -8.0566e+02  5e+00  4e-02  2e-09\n",
      " 9: -8.0548e+02 -8.0379e+02  4e+00  3e-02  1e-09\n",
      "10: -8.0500e+02 -8.0271e+02  4e+00  3e-02  1e-09\n",
      "11: -8.0362e+02 -7.9927e+02  4e+00  2e-02  8e-10\n",
      "12: -8.0240e+02 -7.9743e+02  5e+00  2e-02  7e-10\n",
      "13: -8.0126e+02 -7.9617e+02  5e+00  1e-02  6e-10\n",
      "14: -7.9888e+02 -7.9404e+02  4e+00  1e-02  4e-10\n",
      "15: -7.9717e+02 -7.8689e+02  6e+00  9e-03  3e-10\n",
      "16: -7.9683e+02 -7.8500e+02  6e+00  9e-03  3e-10\n",
      "17: -7.9553e+02 -7.8039e+02  7e+00  8e-03  3e-10\n",
      "18: -7.9445e+02 -7.7743e+02  8e+00  8e-03  3e-10\n",
      "19: -7.9266e+02 -7.7326e+02  9e+00  7e-03  3e-10\n",
      "20: -7.9138e+02 -7.6954e+02  9e+00  7e-03  3e-10\n",
      "21: -7.8966e+02 -7.6341e+02  1e+01  6e-03  2e-10\n",
      "22: -7.8849e+02 -7.5844e+02  1e+01  6e-03  2e-10\n",
      "23: -7.8440e+02 -7.4271e+02  2e+01  5e-03  2e-10\n",
      "24: -7.8235e+02 -7.3675e+02  2e+01  5e-03  2e-10\n",
      "25: -7.7849e+02 -7.2721e+02  2e+01  5e-03  2e-10\n",
      "26: -7.7283e+02 -7.1466e+02  2e+01  4e-03  2e-10\n",
      "27: -7.6830e+02 -7.0824e+02  3e+01  4e-03  2e-10\n",
      "28: -7.5987e+02 -6.9470e+02  3e+01  4e-03  1e-10\n",
      "29: -7.4913e+02 -6.8119e+02  3e+01  3e-03  1e-10\n",
      "30: -7.3878e+02 -6.7034e+02  4e+01  3e-03  1e-10\n",
      "31: -7.2848e+02 -6.6187e+02  4e+01  2e-03  9e-11\n",
      "32: -7.1408e+02 -6.5044e+02  4e+01  2e-03  8e-11\n",
      "33: -6.8693e+02 -6.2925e+02  4e+01  1e-03  5e-11\n",
      "34: -6.7494e+02 -6.2240e+02  4e+01  1e-03  4e-11\n",
      "35: -6.5911e+02 -6.1453e+02  3e+01  8e-04  3e-11\n",
      "36: -6.4906e+02 -6.0952e+02  3e+01  7e-04  3e-11\n",
      "37: -6.3509e+02 -5.9831e+02  3e+01  5e-04  2e-11\n",
      "38: -6.2433e+02 -5.8056e+02  3e+01  4e-04  1e-11\n",
      "39: -6.0732e+02 -5.5262e+02  3e+01  3e-04  1e-11\n",
      "40: -5.9033e+02 -5.2964e+02  4e+01  2e-04  9e-12\n",
      "41: -5.7518e+02 -5.1155e+02  4e+01  2e-04  7e-12\n",
      "42: -5.4194e+02 -4.9257e+02  4e+01  1e-04  5e-12\n",
      "43: -5.3233e+02 -4.8535e+02  4e+01  9e-05  4e-12\n",
      "44: -5.1698e+02 -4.6435e+02  4e+01  7e-05  3e-12\n",
      "45: -4.9899e+02 -4.3569e+02  4e+01  5e-05  2e-12\n",
      "46: -4.7659e+02 -3.8537e+02  5e+01  4e-05  2e-12\n",
      "47: -4.5447e+02 -3.4850e+02  6e+01  4e-05  1e-12\n",
      "48: -4.3654e+02 -3.1197e+02  7e+01  3e-05  1e-12\n",
      "49: -4.0997e+02 -2.7089e+02  7e+01  3e-05  1e-12\n",
      "50: -3.8707e+02 -2.2592e+02  9e+01  2e-05  1e-12\n",
      "51: -3.3196e+02 -1.5783e+02  9e+01  2e-05  8e-13\n",
      "52: -2.9311e+02 -1.2960e+02  1e+02  1e-05  6e-13\n",
      "53: -2.3498e+02 -9.9081e+01  9e+01  1e-05  4e-13\n",
      "54: -1.3563e+02 -3.6627e+01  1e+02  6e-06  1e-12\n",
      "55: -6.3934e+00 -1.0151e+00  4e+00  2e-07  2e-12\n",
      "56: -6.4388e-02 -9.9088e-03  4e-02  2e-09  1e-12\n",
      "57: -6.4391e-04 -9.9059e-05  4e-04  2e-11  2e-12\n",
      "58: -6.4391e-06 -9.9059e-07  4e-06  2e-13  2e-12\n",
      "59: -6.4391e-08 -9.9059e-09  4e-08  2e-15  2e-12\n",
      "Optimal solution found.\n",
      "0\n",
      "17\n"
     ]
    }
   ],
   "source": [
    "### Step 2\n",
    "\n",
    "w_threshold = 1e-6\n",
    "# determine mins and maxes\n",
    "min_wcon = prob.get_MinSolvableWeight(fb1.nfeatures, inp1)\n",
    "max_wcon = np.sum(fb1.solution_ws)\n",
    "max_numres = np.count_nonzero(fb1.solution_ws>prob.w_threshold)\n",
    "min_wcon_solw = solve_qp_w_constraint(inp1, min_wcon*1.000, qpopt)\n",
    "min_numres = np.count_nonzero(min_wcon_solw>prob.w_threshold)\n",
    "\n",
    "\n",
    "# solve_qp_w_constraint(inp1, min_wcon*1.001, qpopt)\n",
    "print(min_numres)\n",
    "print(max_numres)"
   ]
  },
  {
   "cell_type": "code",
   "execution_count": 17,
   "metadata": {},
   "outputs": [
    {
     "name": "stdout",
     "output_type": "stream",
     "text": [
      "[ 0  1  2  3  4  5  6  7  8  9 10 11 12 13 14 15 16 17]\n",
      "[1.00000000e-10 0.00000000e+00 0.00000000e+00 0.00000000e+00\n",
      " 0.00000000e+00 0.00000000e+00 0.00000000e+00 0.00000000e+00\n",
      " 0.00000000e+00 0.00000000e+00 0.00000000e+00 0.00000000e+00\n",
      " 0.00000000e+00 0.00000000e+00 0.00000000e+00 0.00000000e+00\n",
      " 0.00000000e+00 5.59345108e-04]\n",
      "Found: [ 0 17]\n",
      "Current target: 17\n",
      "Found: [ 0  3 17]\n",
      "Current target: 16\n",
      "Found: [ 0  3  7  9 13 15 16 17]\n",
      "Current target: 15\n",
      "Found: [ 0  3  7  9 13 15 16 17]\n",
      "Current target: 14\n",
      "Found: [ 0  3  7  9 13 14 15 16 17]\n",
      "Current target: 13\n",
      "Found: [ 0  3  7  9 11 13 14 15 16 17]\n",
      "Current target: 12\n",
      "Found: [ 0  3  7  9 11 12 13 14 15 16 17]\n",
      "Current target: 11\n",
      "Found: [ 0  3  7  9 10 11 12 13 14 15 16 17]\n",
      "Current target: 10\n",
      "Found: [ 0  3  7  9 10 11 12 13 14 15 16 17]\n",
      "Current target: 9\n",
      "Found: [ 0  3  5  7  9 10 11 12 13 14 15 16 17]\n",
      "Current target: 8\n",
      "Found: [ 0  3  5  7  8  9 10 11 12 13 14 15 16 17]\n",
      "Current target: 7\n",
      "Found: [ 0  3  5  7  8  9 10 11 12 13 14 15 16 17]\n",
      "Current target: 6\n",
      "Found: [ 0  3  5  6  7  8  9 10 11 12 13 14 15 16 17]\n",
      "Current target: 5\n",
      "Found: [ 0  3  5  6  7  8  9 10 11 12 13 14 15 16 17]\n",
      "Current target: 4\n",
      "Found: [ 0  3  4  5  6  7  8  9 10 11 12 13 14 15 16 17]\n",
      "Current target: 3\n",
      "Found: [ 0  2  3  4  5  6  7  8  9 10 11 12 13 14 15 16 17]\n",
      "Current target: 2\n",
      "Found: [ 0  1  2  3  4  5  6  7  8  9 10 11 12 13 14 15 16 17]\n",
      "Current target: 1\n",
      "Found: [ 0  1  2  3  4  5  6  7  8  9 10 11 12 13 14 15 16 17]\n",
      "Current target: 0\n"
     ]
    },
    {
     "name": "stderr",
     "output_type": "stream",
     "text": [
      "/var/folders/s9/xdv2y9hs0y7g3zzscy35rz4c0000gn/T/ipykernel_21126/3213730000.py:12: RuntimeWarning: divide by zero encountered in double_scalars\n",
      "  if abs((minval-maxval)/maxval) < termination_threshold:\n"
     ]
    },
    {
     "name": "stdout",
     "output_type": "stream",
     "text": [
      "[ 0  1  2  3  4  5  6  7  8  9 10 11 12 13 14 15 16 17]\n",
      "[1.00000000e-10 6.99181385e-05 1.39836277e-04 3.84549762e-04\n",
      " 3.93289529e-04 4.54467900e-04 4.58837784e-04 4.63207668e-04\n",
      " 4.71947435e-04 4.93796853e-04 4.98166737e-04 5.06906504e-04\n",
      " 5.15646271e-04 5.24386039e-04 5.26570981e-04 5.33125806e-04\n",
      " 5.37495690e-04 5.59345108e-04]\n"
     ]
    }
   ],
   "source": [
    "# determine targets\n",
    "target_numres = get_target_numres_array(25, max_numres, min_numres)\n",
    "target_wcon, target_sol_ws = get_target_wcon_solw_arrays(target_numres, min_wcon, min_wcon_solw,max_numres, max_wcon, fb1.solution_ws, target_wcon=None, sol_ws=None)\n",
    "save_all = [(min_wcon, min_numres), (max_wcon, max_numres)]\n",
    "\n",
    "print(target_numres)\n",
    "print(target_wcon)\n",
    "\n",
    "qpopt.verbose=False\n",
    "# Run bisection routine\n",
    "for current_target_ires in target_numres[::-1]:\n",
    "    print(f'Found: {target_numres[target_wcon!=0]}')\n",
    "    print(f'Current target: {current_target_ires}')\n",
    "    minwcon, maxwcon = get_bounding_wcons(current_target_ires, save_all)\n",
    "    target_wcon, target_sol_ws, save_all, _ = bisect_and_solve(current_target_ires,\n",
    "                                                                minwcon, maxwcon,\n",
    "                                                                target_numres, target_wcon, target_sol_ws, save_all)\n",
    "# target_numres = target_numres.append(max_numres)\n",
    "# target_wcon = target_wcon.append(fb1.solution_ws)\n",
    "print(target_numres)\n",
    "print(target_wcon)"
   ]
  },
  {
   "attachments": {},
   "cell_type": "markdown",
   "metadata": {},
   "source": [
    "## Step 3, Solve reduced, unconstrained solution for each integer number of resonances"
   ]
  },
  {
   "cell_type": "code",
   "execution_count": 18,
   "metadata": {},
   "outputs": [
    {
     "data": {
      "text/plain": [
       "[(0, 0.0),\n",
       " (1, -401.3535131787525),\n",
       " (2, -709.192843815651),\n",
       " (3, -730.1444435647618),\n",
       " (4, -732.9599176636436),\n",
       " (5, -738.7543829531483),\n",
       " (6, -738.8507633643618),\n",
       " (7, -739.4471853788102),\n",
       " (8, -739.9410135670533),\n",
       " (9, -740.6537184057468),\n",
       " (10, -741.1606642896213),\n",
       " (11, -741.1775812276506),\n",
       " (12, -741.6191524220444),\n",
       " (13, -742.0035503400394),\n",
       " (14, -742.0137807791626),\n",
       " (15, -742.242049898065),\n",
       " (16, -742.2506588118476),\n",
       " (17, -742.2860932607874)]"
      ]
     },
     "execution_count": 18,
     "metadata": {},
     "output_type": "execute_result"
    }
   ],
   "source": [
    "integer_feature_solutions = {key: cls.FeatureBank for key in target_numres[target_wcon!=0]}\n",
    "\n",
    "chi2pairs = []\n",
    "\n",
    "for numres in target_numres[target_wcon!=0]:\n",
    "    \n",
    "    inumres = numres-min(target_numres)\n",
    "\n",
    "    # constrained unreduced\n",
    "    constrained_solution = target_sol_ws[:, inumres]\n",
    "\n",
    "    fb3, solw_reduced = prob.reduce_FeatureBank(fb1, constrained_solution)\n",
    "    inp3 = prob.get_MatrixInputs(dc, fb3)\n",
    "    fb3.solution_ws = cls.Solvers.solve_quadratic_program(inp3, qpopt)\n",
    "\n",
    "    integer_feature_solutions[numres] = fb3\n",
    "\n",
    "    # chi2 = chi2_val(fb3.model, dc.pw.exp.exp_xs, dc.pw.CovXS)\n",
    "    # chi2pairs.append((numres, chi2))\n",
    "\n",
    "    Pchi2 = (1/2)* fb3.solution_ws.T@inp3.P@fb3.solution_ws + inp3.q.T@fb3.solution_ws\n",
    "    chi2pairs.append((numres, Pchi2))\n",
    "    \n",
    "chi2pairs"
   ]
  },
  {
   "attachments": {},
   "cell_type": "markdown",
   "metadata": {},
   "source": [
    "### How should I combine widths and weights if I have resonances very close to one another?\n",
    "\n",
    "You cannot exactly calculate a w3 from (w1, w2) at the same energy location. I would like to approximate the combination of resonances that have very similar Elambda locations. The objective for the combination is to minimize the L2 norm between SLBW(w3) and SLBW(w2)+SLBW(w1) where w3 is some function of w2 and w1."
   ]
  },
  {
   "cell_type": "code",
   "execution_count": 19,
   "metadata": {},
   "outputs": [],
   "source": [
    "### Trying to minimize difference between combined features at one energy and multiple features near one another\n",
    "\n",
    "# before_res = ires_resladder.loc[12:14,:]\n",
    "# print(before_res)\n",
    "\n",
    "# # E = fine_egrid(dc.pw.exp.E, ppeV=100)\n",
    "# E = dc.pw.exp.E\n",
    "# before, _, _ = SLBW(E, Ta_pair, fill_resonance_ladder(before_res, Ta_pair, J=3.0, chs=1, lwave=0.0, J_ID=1) ) #%\n",
    "\n",
    "\n",
    "# Resonance_Matrix, potential_scattering, feature_pairs = fn.get_resonance_feature_bank(E, Ta_pair, [np.mean(before_res['E'].unique())], before_res['Gt'].unique()*1e-3)\n",
    "# Ptest = Resonance_Matrix.T @ np.diag(np.ones(len(before))) @ Resonance_Matrix\n",
    "# qtest =  - Resonance_Matrix.T @ np.diag(np.ones(len(before))) @ (dc.pw.exp.E-potential_scattering).flatten() \n",
    "\n",
    "# lb, ub = np.ones(1)*0, np.ones(1)*1\n",
    "# # test = linprog(qtest, bounds=np.array([lb, ub]).T)\n",
    "# test = solve_qp(Ptest, qtest, G=None, h=None, A=None, b=None, lb=lb, ub=ub, \n",
    "#                                                                 solver=qpopt.solver,\n",
    "#                                                                 verbose=True, #qpopt.verbose,\n",
    "#                                                                 abstol=qpopt.abstol,\n",
    "#                                                                 reltol=qpopt.reltol,\n",
    "#                                                                 feastol=qpopt.feastol,\n",
    "#                                                                 maxiters=qpopt.maxiters\n",
    "#                                                                 )\n",
    "    \n",
    "# # print(test)\n",
    "\n",
    "# figure()\n",
    "# plot(dc.pw.exp.E, dc.pw.exp.exp_xs, '.k')\n",
    "# plot(E, (before-potential_scattering).flatten(), 'r')\n",
    "# plot(E, Resonance_Matrix@test)\n",
    "# # plot(E, Resonance_Matrix)\n",
    "\n",
    "\n",
    "# combined, _, _ = SLBW(E, Ta_pair, fill_resonance_ladder(ires_resladder_combined, Ta_pair, J=3.0, chs=1, lwave=0.0, J_ID=1) )"
   ]
  },
  {
   "cell_type": "code",
   "execution_count": 20,
   "metadata": {},
   "outputs": [],
   "source": [
    "# ## Test combining features\n",
    "# numres = 4\n",
    "# ires_featurebank = integer_feature_solutions[numres]\n",
    "# ires_resladder = ires_featurebank.get_parameter_solution()\n",
    "# print(ires_resladder)\n",
    "\n",
    "\n",
    "# # ires_resladder_combined = ires_resladder.groupby('E').agg({'Gt':'sum', 'Gnx':'sum', 'Gg':'sum', 'w':'sum'}).reset_index()\n",
    "\n",
    "# ### to just combine if E are the exact same\n",
    "def calculate_combined_parameters(x):\n",
    "    if len(x) == 1:\n",
    "        return x #[['Gt', 'Gnx', 'Gg', 'w']]\n",
    "    else:\n",
    "        # Gnx = (x['w']*x['Gt']).sum()\n",
    "        # Gt = (x['w']*x['Gt']**2).sum() / Gnx\n",
    "        # w = Gnx/Gt\n",
    "        # Gg = Gt-Gnx\n",
    "        w = x['w'].sum()\n",
    "        Gnx = w*1e3\n",
    "        Gg = np.average(x['Gg'], weights=x['w'])\n",
    "        Gt = Gnx+Gg\n",
    "    return pd.DataFrame({'E':x['E'].unique(), 'Gt':Gt, 'Gnx':Gnx, 'Gg':Gg, 'w':w}, index=[0]) # pd.DataFrame({'Gt':Gt, 'Gnx':Gnx, 'Gg':Gg, 'w':w}, index=[0])\n",
    "    \n",
    "# ires_resladder_combined = ires_resladder.groupby(ires_resladder['E'], group_keys=False).apply(calculate_combined_parameters).reset_index(drop=True)\n",
    "\n",
    "\n",
    "\n",
    "# ### to combine with weighted average on E if they are close\n",
    "# # def weighted_avg(x):\n",
    "# #     return (x['E'] * x['w']).sum() / x['w'].sum()\n",
    "\n",
    "# # threshold = 1\n",
    "# # ires_resladder_combined = (\n",
    "# #     ires_resladder.groupby(ires_resladder['E'].diff().abs().gt(threshold).cumsum())\n",
    "# #     .apply(lambda x: pd.Series([weighted_avg(x), x['Gt'].sum(), x['Gnx'].sum(), x['Gg'].sum(), x['w'].sum()], index=['E','Gt', 'Gnx','Gg','w'] )) \n",
    "# #     .reset_index(drop=True)\n",
    "# # )\n",
    "\n",
    "# # # new_numres = len(ires_resladder_combined)\n",
    "# print(ires_resladder_combined)"
   ]
  },
  {
   "cell_type": "code",
   "execution_count": 21,
   "metadata": {},
   "outputs": [],
   "source": [
    "## Plotting combined features\n",
    "# numres = 4\n",
    "# # numres_other = 9\n",
    "# rxn = 'xs'\n",
    "# E = fine_egrid(dc.pw.exp.E, ppeV=1000)\n",
    "# before, _, _ = SLBW(E, Ta_pair, fill_resonance_ladder(ires_resladder, Ta_pair, J=3.0, chs=1, lwave=0.0, J_ID=1) )\n",
    "# combined, _, _ = SLBW(E, Ta_pair, fill_resonance_ladder(ires_resladder_combined, Ta_pair, J=3.0, chs=1, lwave=0.0, J_ID=1) )\n",
    "\n",
    "# figure()\n",
    "# # plot(dc.pw.fine.E, dc.pw.fine[f'theo_{rxn}'], 'g', lw=5)\n",
    "# plot(dc.pw.exp.E, dc.pw.exp[f'exp_{rxn}'], '.k')\n",
    "\n",
    "# plot(E, before, 'b', lw=2)\n",
    "# plot(E, combined, 'r', lw=1)\n",
    "# # # plot(dc.pw.exp.E, integer_feature_solutions[numres_other].model, 'b', lw=2)\n",
    "# plot(dc.pw.exp.E, integer_feature_solutions[numres].model, 'r', lw=1)"
   ]
  },
  {
   "cell_type": "code",
   "execution_count": 22,
   "metadata": {},
   "outputs": [
    {
     "name": "stdout",
     "output_type": "stream",
     "text": [
      "Model '5_prior' already exists in pw.exp, bypassing pointwise reconstruction\n",
      "Model '9_prior' already exists in pw.exp, bypassing pointwise reconstruction\n",
      "Model '13_prior' already exists in pw.exp, bypassing pointwise reconstruction\n",
      "Model '15_prior' already exists in pw.exp, bypassing pointwise reconstruction\n"
     ]
    },
    {
     "data": {
      "text/plain": [
       "dict_keys([0, 1, 2, 3, 4, 5, 6, 7, 8, 9, 11, 13, 15, 16])"
      ]
     },
     "execution_count": 22,
     "metadata": {},
     "output_type": "execute_result"
    }
   ],
   "source": [
    "### Here's where I handle resonances at the same energies and those with weights very small\n",
    "integer_resonance_solutions = {}\n",
    "for numres in target_numres[target_wcon!=0]:\n",
    "    ires_featurebank = integer_feature_solutions[numres]\n",
    "    ires_resladder = ires_featurebank.get_parameter_solution()\n",
    "\n",
    "    ires_resladder_combined = ires_resladder.groupby(ires_resladder['E'], group_keys=False).apply(calculate_combined_parameters).reset_index(drop=True)\n",
    "    ires_resladder_combined = ires_resladder_combined.drop(ires_resladder_combined[ires_resladder_combined['w'] < prob.w_threshold].index)\n",
    "    new_numres = len(ires_resladder_combined)\n",
    "\n",
    "    ires_resladder_combined = fill_resonance_ladder(ires_resladder_combined, Ta_pair, J=3.0, chs=1, lwave=0.0, J_ID=1)\n",
    "    integer_resonance_solutions[new_numres] = {'prior':ires_resladder_combined}\n",
    "\n",
    "    # add prior to dc\n",
    "    est_par_builder = BuildTheoreticalParameters_fromATARI(f'{new_numres}_prior', ires_resladder_combined, Ta_pair)\n",
    "    est_par = est_par_builder.construct()\n",
    "    dc.add_theoretical_parameters(est_par)\n",
    "\n",
    "integer_resonance_solutions.keys()"
   ]
  },
  {
   "cell_type": "code",
   "execution_count": 23,
   "metadata": {},
   "outputs": [],
   "source": [
    "# integer_resonance_solutions[10]"
   ]
  },
  {
   "cell_type": "code",
   "execution_count": 24,
   "metadata": {},
   "outputs": [],
   "source": [
    "# numres = 4\n",
    "# numres_other = 7\n",
    "# rxn = 'trans'\n",
    "\n",
    "# figure()\n",
    "# # plot(dc.pw.exp.E, dc.pw.exp[f'theo_{rxn}'], 'g', lw=5)\n",
    "# plot(dc.pw.exp.E, dc.pw.exp[f'exp_{rxn}'], '.k')\n",
    "# plot(dc.pw.exp.E, dc.pw.exp[f'{numres_other}_prior_{rxn}'], 'b', lw=2)\n",
    "# plot(dc.pw.exp.E, dc.pw.exp[f'{numres}_prior_{rxn}'], 'r', lw=1)\n",
    "# # plot(dc.pw.exp.E, integer_feature_solutions[numres_other].model, 'b', lw=2)\n",
    "# # plot(dc.pw.exp.E, integer_feature_solutions[numres].model, 'r', lw=1)\n",
    "# # ylim([-0.1, dc.exp_par.max_xs])\n",
    "\n",
    "# # print(chi2_val(dc.pw.exp[f'{numres}_prior_{rxn}'], dc.pw.exp[f'exp_{rxn}'], dc.pw.CovT))"
   ]
  },
  {
   "cell_type": "code",
   "execution_count": null,
   "metadata": {},
   "outputs": [],
   "source": []
  },
  {
   "attachments": {},
   "cell_type": "markdown",
   "metadata": {},
   "source": [
    "## Step 4, run GLLS on transmission with reduced, unconstrained solution from 3 as prior"
   ]
  },
  {
   "cell_type": "code",
   "execution_count": 41,
   "metadata": {},
   "outputs": [],
   "source": [
    "from ATARI.sammy_interface import sammy_functions, sammy_classes\n",
    "sammyRTO = sammy_classes.SammyRunTimeOptions(\n",
    "    path_to_SAMMY_exe = '/Users/noahwalton/gitlab/sammy/sammy/build/bin/sammy',\n",
    "    model = 'SLBW',\n",
    "    reaction = 'transmission',\n",
    "    solve_bayes = True,\n",
    "    experimental_corrections = 'no_exp',\n",
    "    one_spingroup = True,\n",
    "    energy_window = None,\n",
    "    sammy_runDIR = 'SAMMY_runDIR_1',\n",
    "    keep_runDIR = False,\n",
    "    shell = 'zsh'\n",
    "    )"
   ]
  },
  {
   "cell_type": "code",
   "execution_count": 42,
   "metadata": {},
   "outputs": [
    {
     "data": {
      "text/plain": [
       "dict_keys([0, 1, 2, 3, 4, 5, 6, 7, 8, 9, 11, 13, 15, 16])"
      ]
     },
     "execution_count": 42,
     "metadata": {},
     "output_type": "execute_result"
    }
   ],
   "source": [
    "integer_resonance_solutions.keys()"
   ]
  },
  {
   "cell_type": "code",
   "execution_count": 43,
   "metadata": {},
   "outputs": [],
   "source": [
    "\n",
    "from ATARI.utils.stats import chi2_val\n",
    "from ATARI.atari_io.internal import fill_resonance_ladder\n",
    "from ATARI.sammy_interface import sammy_functions\n",
    "\n",
    "def run_sammy_return_full_ladder(sammyINP, sammyRTO):\n",
    "    pw_posterior, par_posterior = sammy_functions.run_sammy(sammyINP, sammyRTO)\n",
    "\n",
    "    par_posterior.rename(columns={'Gn1':'Gnx'}, inplace=True)\n",
    "    par_posterior = fill_resonance_ladder(par_posterior, Ta_pair, J=3.0,\n",
    "                                                    chs=1.0,\n",
    "                                                    lwave=0.0,\n",
    "                                                    J_ID= 1.0  )\n",
    "\n",
    "    return pw_posterior, par_posterior\n",
    "\n",
    "\n",
    "def run_recursive_sammy(sammyINP, sammyRTO, pw_prior, exp_df, CovT, Dchi2_threshold = 0.1):\n",
    "   \n",
    "    Dchi2 = 100\n",
    "    pw_posterior_new = None\n",
    "    par_posterior_new = sammyINP.resonance_ladder\n",
    "    while Dchi2 > Dchi2_threshold:\n",
    "\n",
    "        pw_posterior = pw_posterior_new\n",
    "        par_posterior = par_posterior_new\n",
    "        sammyINP.resonance_ladder = par_posterior\n",
    "        pw_posterior_new, par_posterior_new = run_sammy_return_full_ladder(sammyINP, sammyRTO)\n",
    "\n",
    "        [df.sort_values('E', axis=0, ascending=True, inplace=True) for df in [pw_posterior_new, exp_df]]\n",
    "        [df.reset_index(drop=True, inplace=True) for df in [pw_posterior_new, exp_df]]\n",
    "        CovT.sort_index(axis='index', inplace=True)\n",
    "        CovT.sort_index(axis='columns', inplace=True)\n",
    "\n",
    "        chi2_prior = chi2_val(pw_posterior_new.theo_trans, exp_df.exp_trans, CovT)\n",
    "        chi2_posterior = chi2_val(pw_posterior_new.theo_trans_bayes, exp_df.exp_trans, CovT)\n",
    "\n",
    "        Dchi2 = chi2_prior - chi2_posterior\n",
    "\n",
    "        # if chi2_posterior/len(pw_posterior_new) < 100:\n",
    "        #     sammyINP.initial_parameter_uncertainty = 0.3\n",
    "        # elif chi2_posterior/len(pw_posterior_new) < 1:\n",
    "        #     sammyINP.initial_parameter_uncertainty = 0.2\n",
    "    return pw_posterior, par_posterior"
   ]
  },
  {
   "cell_type": "code",
   "execution_count": 44,
   "metadata": {},
   "outputs": [
    {
     "name": "stdout",
     "output_type": "stream",
     "text": [
      "Running recursive sammy for case 5\n",
      "Model '5_post' already exists in pw.exp, bypassing pointwise reconstruction\n"
     ]
    }
   ],
   "source": [
    "### Run GLLS\n",
    "for numres in [5]:#integer_resonance_solutions.keys():\n",
    "    if numres == 0:\n",
    "        continue\n",
    "    prior = integer_resonance_solutions[numres]['prior']\n",
    "    \n",
    "    sammyINP = sammy_classes.SammyInputData(\n",
    "        particle_pair = Ta_pair,\n",
    "        resonance_ladder = prior, \n",
    "        experimental_data = dc.pw.exp, \n",
    "        experimental_cov = dc.pw.CovT, \n",
    "        initial_parameter_uncertainty = 0.2\n",
    "    )\n",
    "    print(f'Running recursive sammy for case {numres}')\n",
    "    lst, posterior = run_recursive_sammy(sammyINP, sammyRTO, dc.pw.exp[f'{numres}_prior_trans'], dc.pw.exp, dc.pw.CovT, Dchi2_threshold=0.01)\n",
    "    # lst, posterior = sammy_functions.run_sammy(sammyINP, sammyRTO)\n",
    "\n",
    "    posterior.rename(columns={\"Gn1\":\"Gnx\"},inplace=True)\n",
    "    ## if posterior is worse than prior, re-run\n",
    "    posterior = fill_resonance_ladder(posterior, Ta_pair, J=3.0, chs=1, lwave=0.0, J_ID=1)\n",
    "    integer_resonance_solutions[numres]['posterior'] = posterior\n",
    "\n",
    "    est_par_builder = BuildTheoreticalParameters_fromATARI(f'{numres}_post', posterior, Ta_pair)\n",
    "    est_par = est_par_builder.construct()\n",
    "    dc.add_theoretical_parameters(est_par)\n",
    "\n",
    "dc.models_to_pw()"
   ]
  },
  {
   "cell_type": "code",
   "execution_count": 45,
   "metadata": {},
   "outputs": [
    {
     "data": {
      "text/html": [
       "<div>\n",
       "<style scoped>\n",
       "    .dataframe tbody tr th:only-of-type {\n",
       "        vertical-align: middle;\n",
       "    }\n",
       "\n",
       "    .dataframe tbody tr th {\n",
       "        vertical-align: top;\n",
       "    }\n",
       "\n",
       "    .dataframe thead th {\n",
       "        text-align: right;\n",
       "    }\n",
       "</style>\n",
       "<table border=\"1\" class=\"dataframe\">\n",
       "  <thead>\n",
       "    <tr style=\"text-align: right;\">\n",
       "      <th></th>\n",
       "      <th>E</th>\n",
       "      <th>Gt</th>\n",
       "      <th>Gnx</th>\n",
       "      <th>Gg</th>\n",
       "      <th>w</th>\n",
       "      <th>J</th>\n",
       "      <th>chs</th>\n",
       "      <th>lwave</th>\n",
       "      <th>J_ID</th>\n",
       "      <th>gnx2</th>\n",
       "    </tr>\n",
       "  </thead>\n",
       "  <tbody>\n",
       "    <tr>\n",
       "      <th>0</th>\n",
       "      <td>92.800000</td>\n",
       "      <td>57.530397</td>\n",
       "      <td>0.266763</td>\n",
       "      <td>57.263633</td>\n",
       "      <td>0.000267</td>\n",
       "      <td>3.0</td>\n",
       "      <td>1</td>\n",
       "      <td>0.0</td>\n",
       "      <td>1</td>\n",
       "      <td>7.798086</td>\n",
       "    </tr>\n",
       "    <tr>\n",
       "      <th>1</th>\n",
       "      <td>99.000000</td>\n",
       "      <td>63.530296</td>\n",
       "      <td>0.140043</td>\n",
       "      <td>63.390253</td>\n",
       "      <td>0.000140</td>\n",
       "      <td>3.0</td>\n",
       "      <td>1</td>\n",
       "      <td>0.0</td>\n",
       "      <td>1</td>\n",
       "      <td>3.963516</td>\n",
       "    </tr>\n",
       "    <tr>\n",
       "      <th>2</th>\n",
       "      <td>99.023007</td>\n",
       "      <td>93.530397</td>\n",
       "      <td>0.078253</td>\n",
       "      <td>93.452143</td>\n",
       "      <td>0.000078</td>\n",
       "      <td>3.0</td>\n",
       "      <td>1</td>\n",
       "      <td>0.0</td>\n",
       "      <td>1</td>\n",
       "      <td>2.214468</td>\n",
       "    </tr>\n",
       "    <tr>\n",
       "      <th>3</th>\n",
       "      <td>105.023007</td>\n",
       "      <td>57.530397</td>\n",
       "      <td>0.008972</td>\n",
       "      <td>57.521425</td>\n",
       "      <td>0.000009</td>\n",
       "      <td>3.0</td>\n",
       "      <td>1</td>\n",
       "      <td>0.0</td>\n",
       "      <td>1</td>\n",
       "      <td>0.246530</td>\n",
       "    </tr>\n",
       "    <tr>\n",
       "      <th>4</th>\n",
       "      <td>108.200000</td>\n",
       "      <td>93.530397</td>\n",
       "      <td>0.021017</td>\n",
       "      <td>93.509380</td>\n",
       "      <td>0.000021</td>\n",
       "      <td>3.0</td>\n",
       "      <td>1</td>\n",
       "      <td>0.0</td>\n",
       "      <td>1</td>\n",
       "      <td>0.568962</td>\n",
       "    </tr>\n",
       "  </tbody>\n",
       "</table>\n",
       "</div>"
      ],
      "text/plain": [
       "            E         Gt       Gnx         Gg         w    J  chs  lwave  \\\n",
       "0   92.800000  57.530397  0.266763  57.263633  0.000267  3.0    1    0.0   \n",
       "1   99.000000  63.530296  0.140043  63.390253  0.000140  3.0    1    0.0   \n",
       "2   99.023007  93.530397  0.078253  93.452143  0.000078  3.0    1    0.0   \n",
       "3  105.023007  57.530397  0.008972  57.521425  0.000009  3.0    1    0.0   \n",
       "4  108.200000  93.530397  0.021017  93.509380  0.000021  3.0    1    0.0   \n",
       "\n",
       "   J_ID      gnx2  \n",
       "0     1  7.798086  \n",
       "1     1  3.963516  \n",
       "2     1  2.214468  \n",
       "3     1  0.246530  \n",
       "4     1  0.568962  "
      ]
     },
     "execution_count": 45,
     "metadata": {},
     "output_type": "execute_result"
    }
   ],
   "source": [
    "dc.theoretical_parameters['5_prior'].resonance_ladder"
   ]
  },
  {
   "cell_type": "code",
   "execution_count": 46,
   "metadata": {},
   "outputs": [
    {
     "name": "stderr",
     "output_type": "stream",
     "text": [
      "/Users/noahwalton/opt/anaconda3/envs/atari/lib/python3.9/site-packages/ipywidgets/widgets/widget.py:502: DeprecationWarning: Passing unrecognized arguments to super(Toolbar).__init__().\n",
      "__init__() missing 1 required positional argument: 'canvas'\n",
      "This is deprecated in traitlets 4.2.This error will be raised in a future release of traitlets.\n",
      "  super().__init__(**kwargs)\n"
     ]
    },
    {
     "data": {
      "text/plain": [
       "[<matplotlib.lines.Line2D at 0x7fe461d3bd30>]"
      ]
     },
     "execution_count": 46,
     "metadata": {},
     "output_type": "execute_result"
    },
    {
     "data": {
      "application/vnd.jupyter.widget-view+json": {
       "model_id": "3afea911b6774a0dacb6e87daf56beb1",
       "version_major": 2,
       "version_minor": 0
      },
      "image/png": "[encoded data removed]",
      "text/html": [
       "\n",
       "            <div style=\"display: inline-block;\">\n",
       "                <div class=\"jupyter-widgets widget-label\" style=\"text-align: center;\">\n",
       "                    Figure\n",
       "                </div>\n",
       "                <img src='data:image/png;base64,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' width=640.0/>\n",
       "            </div>\n",
       "        "
      ],
      "text/plain": [
       "Canvas(toolbar=Toolbar(toolitems=[('Home', 'Reset original view', 'home', 'home'), ('Back', 'Back to previous …"
      ]
     },
     "metadata": {},
     "output_type": "display_data"
    }
   ],
   "source": [
    "# dc.theoretical_parameters['3_post'].resonance_ladder #.keys()\n",
    "\n",
    "figure()\n",
    "plot(dc.pw.exp.E, dc.pw.exp['true_trans'], 'g')\n",
    "plot(dc.pw.exp.E, dc.pw.exp['5_prior_trans'], 'b')\n",
    "plot(dc.pw.exp.E, dc.pw.exp['5_post_trans'], 'r')\n",
    "plot(dc.pw.exp.E, dc.pw.exp.exp_trans, '.k')"
   ]
  },
  {
   "cell_type": "code",
   "execution_count": 47,
   "metadata": {},
   "outputs": [
    {
     "data": {
      "text/plain": [
       "[(642.6677276853724, 'true'),\n",
       " (34008.03804751533, '0_prior'),\n",
       " (30195.45631063132, '1_prior'),\n",
       " (809.0860109512934, '2_prior'),\n",
       " (761.3116362157965, '3_prior'),\n",
       " (755.6633892655166, '4_prior'),\n",
       " (732.4268334767725, '5_prior'),\n",
       " (731.2366152237604, '6_prior'),\n",
       " (730.2573056081044, '7_prior'),\n",
       " (728.8304510595933, '8_prior'),\n",
       " (727.7728481972074, '9_prior'),\n",
       " (726.8841701421162, '11_prior'),\n",
       " (726.1210785319432, '13_prior'),\n",
       " (725.5592926230319, '15_prior'),\n",
       " (725.4654040727328, '16_prior'),\n",
       " (680.8087001843618, '5_post')]"
      ]
     },
     "execution_count": 47,
     "metadata": {},
     "output_type": "execute_result"
    }
   ],
   "source": [
    "### Calculate Chi2 on trans\n",
    "[ (chi2_val(dc.pw.exp[f'{numres}_trans'], dc.pw.exp.exp_trans, dc.pw.CovT), numres) for numres in dc.theoretical_parameters.keys()]"
   ]
  },
  {
   "cell_type": "code",
   "execution_count": 48,
   "metadata": {},
   "outputs": [],
   "source": [
    "### Interrogate\n",
    "\n",
    "# print(dc.est_par['9_prior'].resonance_ladder[['E','Gt','Gnx','Gg','w']])\n",
    "# # print(dc.est_par['10_prior'].resonance_ladder[['E','Gt','Gnx','Gg','w']])\n",
    "# test, _,_ = SLBW(dc.pw.exp.E, Ta_pair, dc.est_par['9_prior'].resonance_ladder)\n",
    "\n",
    "# rxn = 'xs'\n",
    "# less = dc.pw.exp[f'9_prior_{rxn}']\n",
    "# more = dc.pw.exp[f'10_prior_{rxn}']\n",
    "\n",
    "# dat =dc.pw.exp[f'exp_{rxn}']\n",
    "# figure()\n",
    "# plot(dc.pw.exp.E, dc.pw.exp[f'theo_{rxn}'], 'g', lw=5)\n",
    "# plot(dc.pw.exp.E, dat, '.k')\n",
    "# plot(dc.pw.exp.E, less, 'b', lw=4)\n",
    "# # plot(dc.pw.exp.E, more, 'r', lw=1)\n",
    "# plot(dc.pw.exp.E, test, 'k', lw=1)\n",
    "\n",
    "# # plot(dc.pw.exp.E, (less-dat)**2, 'b', lw=2)\n",
    "# # plot(dc.pw.exp.E, (more-dat)**2, 'r', lw=1)\n",
    "\n",
    "# print(chi2_val(less, dat, np.array(dc.pw.CovT)))\n",
    "# # print(np.sum((less-dat)**2))\n",
    "# print(chi2_val(more, dat, np.array(dc.pw.CovT)))\n",
    "# # print(np.sum((more-dat)**2))"
   ]
  },
  {
   "cell_type": "code",
   "execution_count": 49,
   "metadata": {},
   "outputs": [],
   "source": [
    "### Interrogate some more\n",
    "\n",
    "# numres = 5\n",
    "# inumres = numres-min(target_numres)\n",
    "\n",
    "# # constrained unreduced\n",
    "# constrained_solution = target_sol_ws[:, inumres]\n",
    "\n",
    "# fb3, solw_reduced = prob.reduce_FeatureBank(fb1, constrained_solution)\n",
    "# inp3 = prob.get_MatrixInputs(dc, fb3)\n",
    "# fb3.solution_ws = Solvers.solve_quadratic_program(inp3)\n",
    "\n",
    "# prior = fb3.get_parameter_solution()\n",
    "# prior = fill_resonance_ladder(prior, Ta_pair, J=3.0, chs=1, lwave=0.0, J_ID=1)\n",
    "\n",
    "# sammyINP = sammy_classes.SammyInputData(\n",
    "#     particle_pair = Ta_pair,\n",
    "#     resonance_ladder = prior, \n",
    "#     experimental_data = dc.pw.exp, \n",
    "#     experimental_cov = dc.pw.CovT, \n",
    "# )\n",
    "\n",
    "# lst, posterior = sammy_functions.run_sammy(sammyINP, sammyRTO)\n",
    "# posterior = fill_resonance_ladder(posterior, Ta_pair, J=3.0, chs=1, lwave=0.0, J_ID=1)\n",
    "\n",
    "# print(chi2_val(lst.theo_trans, dc.pw.exp.exp_trans, dc.pw.CovT))\n",
    "# print(chi2_val(lst.theo_trans_bayes, dc.pw.exp.exp_trans, dc.pw.CovT))\n",
    "# print(prior[['E','Gt','Gnx']])\n",
    "# print(posterior[['E','Gt','Gnx']])"
   ]
  },
  {
   "cell_type": "code",
   "execution_count": 50,
   "metadata": {},
   "outputs": [],
   "source": [
    "### Run individual bayes\n",
    "\n",
    "\n",
    "# numres = 7\n",
    "# inumres = numres-min(target_numres)\n",
    "\n",
    "# constrained_solution = target_sol_ws[:, inumres]\n",
    "\n",
    "# fb3, solw_reduced = prob.reduce_FeatureBank(fb1, constrained_solution)\n",
    "# inp3 = prob.get_MatrixInputs(dc, fb3)\n",
    "# # fb3.solution_ws = cls.Solvers.solve_quadratic_program(inp3, qpopt)\n",
    "\n",
    "# # prior = fb3.get_parameter_solution()\n",
    "# # prior = fill_resonance_ladder(prior, Ta_pair, J=3.0, chs=1, lwave=0.0, J_ID=1)\n",
    "\n",
    "# # est_par_builder = BuildTheoreticalParameters_fromATARI('test_prior', prior, Ta_pair)\n",
    "# # est_par = est_par_builder.construct()\n",
    "# # dc.add_theoretical_parameters(est_par)\n",
    "  \n",
    "# # sammyINP = sammy_classes.SammyInputData(\n",
    "# #     particle_pair = Ta_pair,\n",
    "# #     resonance_ladder = prior, \n",
    "# #     experimental_data = dc.pw.exp, \n",
    "# #     experimental_cov = dc.pw.CovT, \n",
    "# #     initial_parameter_uncertainty = 0.2\n",
    "# # )\n",
    "\n",
    "\n",
    "# print(f'Running recursive sammy for case {numres}')\n",
    "# lst, posterior = run_recursive_sammy(sammyINP, sammyRTO, dc.pw.exp, dc.pw.CovT, Dchi2_threshold=0.1)\n",
    "\n",
    "\n",
    "# posterior.rename(columns={'Gn1':'Gnx'}, inplace=True)\n",
    "# posterior = fill_resonance_ladder(posterior, Ta_pair, J=3.0, chs=1, lwave=0.0, J_ID=1)\n",
    "\n",
    "\n",
    "# est_par_builder = BuildTheoreticalParameters_fromATARI('test_post', posterior, Ta_pair)\n",
    "# est_par = est_par_builder.construct()\n",
    "# dc.add_theoretical_parameters(est_par)\n",
    "\n",
    "# dc.models_to_pw()"
   ]
  },
  {
   "cell_type": "code",
   "execution_count": 51,
   "metadata": {},
   "outputs": [],
   "source": [
    "# figure()\n",
    "# plot(dc.pw.exp.E, dc.pw.exp.exp_xs, '.k')\n",
    "# plot(dc.pw.exp.E, np.flipud(fb3.model))\n"
   ]
  },
  {
   "cell_type": "code",
   "execution_count": 52,
   "metadata": {},
   "outputs": [
    {
     "name": "stdout",
     "output_type": "stream",
     "text": [
      "true\n",
      "0_prior\n",
      "1_prior\n",
      "2_prior\n",
      "3_prior\n",
      "4_prior\n",
      "5_prior\n",
      "6_prior\n",
      "7_prior\n",
      "8_prior\n",
      "9_prior\n",
      "11_prior\n",
      "13_prior\n",
      "15_prior\n",
      "16_prior\n",
      "5_post\n"
     ]
    },
    {
     "data": {
      "text/plain": [
       "[None,\n",
       " None,\n",
       " None,\n",
       " None,\n",
       " None,\n",
       " None,\n",
       " None,\n",
       " None,\n",
       " None,\n",
       " None,\n",
       " None,\n",
       " None,\n",
       " None,\n",
       " None,\n",
       " None,\n",
       " None]"
      ]
     },
     "execution_count": 52,
     "metadata": {},
     "output_type": "execute_result"
    }
   ],
   "source": [
    "\n",
    "# print(chi2_val(dc.pw.exp['7_prior_trans'], dc.pw.exp.exp_trans, dc.pw.CovT))\n",
    "# print(chi2_val(dc.pw.exp['7_post_trans'], dc.pw.exp.exp_trans, dc.pw.CovT))\n",
    "# # print(prior[['E','Gt','Gnx']])\n",
    "# # print(posterior[['E','Gt','Gnx']])\n",
    "\n",
    "# figure()\n",
    "# plot(dc.pw.exp.E, dc.pw.exp[f'true_trans'], 'g', lw=3)\n",
    "# plot(dc.pw.exp.E, dc.pw.exp[f'exp_trans'], '.k')\n",
    "# plot(dc.pw.exp.E, dc.pw.exp['7_prior_trans'], 'b', lw=1)\n",
    "# plot(dc.pw.exp.E, dc.pw.exp['7_post_trans'], 'r', lw=1)\n",
    "\n",
    "[print(key) for key in dc.theoretical_parameters.keys()]"
   ]
  },
  {
   "attachments": {},
   "cell_type": "markdown",
   "metadata": {},
   "source": [
    "## Step 5, Likelihood ratio test on each of the posterior solutions to determine which number of resonances we should have"
   ]
  },
  {
   "cell_type": "code",
   "execution_count": 53,
   "metadata": {},
   "outputs": [
    {
     "data": {
      "text/plain": [
       "array([[  5.        , 680.80870018]])"
      ]
     },
     "execution_count": 53,
     "metadata": {},
     "output_type": "execute_result"
    }
   ],
   "source": [
    "# [ (chi2_val(dc.pw.exp[f'{numres}_trans'], dc.pw.exp.exp_trans, dc.pw.CovT), numres) for numres in dc.est_par.keys()]\n",
    "\n",
    "posterior_ires_chi2 = [ (int(key.split('_')[0]),\n",
    "                          chi2_val(dc.pw.exp[f'{key}_trans'], dc.pw.exp.exp_trans, dc.pw.CovT))\n",
    "                              for key in dc.theoretical_parameters.keys() if key!='true' and key!='final' and key.split('_')[1]=='post']\n",
    "posterior_ires_chi2 = np.array(posterior_ires_chi2)\n",
    "posterior_ires_chi2 = posterior_ires_chi2[posterior_ires_chi2[:, 0].argsort()]\n",
    "posterior_ires_chi2"
   ]
  },
  {
   "cell_type": "code",
   "execution_count": 54,
   "metadata": {},
   "outputs": [
    {
     "name": "stdout",
     "output_type": "stream",
     "text": [
      "5_post\n",
      "680.8087001843618\n"
     ]
    }
   ],
   "source": [
    "for key in dc.theoretical_parameters.keys():\n",
    "    if key!='true' and key!='final' and key.split('_')[1]=='post':\n",
    "        print(key)\n",
    "        print(chi2_val(dc.pw.exp[f'{key}_trans'], dc.pw.exp.exp_trans, dc.pw.CovT))"
   ]
  },
  {
   "cell_type": "code",
   "execution_count": 55,
   "metadata": {},
   "outputs": [
    {
     "name": "stdout",
     "output_type": "stream",
     "text": [
      "inf\n",
      "Model Selected: 5.0\n"
     ]
    },
    {
     "name": "stderr",
     "output_type": "stream",
     "text": [
      "/Users/noahwalton/opt/anaconda3/envs/atari/lib/python3.9/site-packages/scipy/stats/_multivariate.py:583: RuntimeWarning: overflow encountered in exp\n",
      "  out = np.exp(self._logpdf(x, mean, cov_object))\n"
     ]
    }
   ],
   "source": [
    "import numpy as np\n",
    "from scipy.stats import chi2\n",
    "\n",
    "def likelihood_ratio_test(X2_null, X2_alt, df):\n",
    "    \"\"\"\n",
    "    Perform a likelihood ratio test for nested models.\n",
    "\n",
    "    Args:\n",
    "        LLmin: Log-likelihood of the null (restricted) model.\n",
    "        LLmax: Log-likelihood of the alternative (unrestricted) model.\n",
    "        df: Degrees of freedom difference between the two models.\n",
    "\n",
    "    Returns:\n",
    "        lrt_stat: Likelihood ratio test statistic.\n",
    "        p_value: p-value associated with the test statistic.\n",
    "    \"\"\"\n",
    "    # lrt_stat = 2 * (LLalt - LLnull)\n",
    "    lrt_stat = X2_null - X2_alt\n",
    "    p_value = 1 - chi2.cdf(lrt_stat, df)\n",
    "    return lrt_stat, p_value\n",
    "\n",
    "def likelihood_val(fit):\n",
    "    return sts.multivariate_normal.pdf( np.array(dc.pw.exp.exp_trans), fit, np.array(dc.pw.CovT) )\n",
    "    \n",
    "\n",
    "### Find first plausible model\n",
    "for i in range(len(posterior_ires_chi2)):\n",
    "    likelihood = likelihood_val( np.array(dc.pw.exp[f'{int(posterior_ires_chi2[i,0])}_post_trans']) )\n",
    "\n",
    "    print(np.log(likelihood))\n",
    "    if np.log(likelihood) >= -100:\n",
    "        istart = i\n",
    "        break\n",
    "    elif i == len(posterior_ires_chi2)-1:\n",
    "        istart = 0\n",
    "        break\n",
    "\n",
    "\n",
    "\n",
    "\n",
    "inull = istart \n",
    "ialt = inull\n",
    "iend = np.shape(posterior_ires_chi2)[0]\n",
    "\n",
    "significance_level = 0.05\n",
    "\n",
    "while ialt < iend:\n",
    "\n",
    "    # reset p_value\n",
    "    p_value = 1.0\n",
    "\n",
    "    while p_value > significance_level:\n",
    "\n",
    "        ialt += 1\n",
    "        if ialt == iend:\n",
    "            break\n",
    "        df_diff = posterior_ires_chi2[ialt][0]*3 - posterior_ires_chi2[inull][0]*3\n",
    "        lrt_stat, p_value = likelihood_ratio_test(posterior_ires_chi2[inull][1], posterior_ires_chi2[ialt][1], df_diff)\n",
    "        print(f\"Model {posterior_ires_chi2[inull][0]} vs. Model {posterior_ires_chi2[ialt][0]}:\\n p={p_value} D={lrt_stat}\")\n",
    "        # print(f\"D: {lrt_stat}\")\n",
    "        # print(f\"P-value: {p_value}\")\n",
    "\n",
    "    if ialt == iend:\n",
    "        selected_model_ires = int(posterior_ires_chi2[inull][0])\n",
    "        break\n",
    "    else:\n",
    "        inull = ialt\n",
    "\n",
    "print(f'Model Selected: {posterior_ires_chi2[inull][0]}')"
   ]
  },
  {
   "cell_type": "code",
   "execution_count": 56,
   "metadata": {},
   "outputs": [],
   "source": [
    "# iresnull = 2\n",
    "# iresalt = 5\n",
    "\n",
    "# rxn = 'trans'\n",
    "# null = dc.pw.exp[f'{iresnull}_post_{rxn}']\n",
    "# alt = dc.pw.exp[f'{iresalt}_post_{rxn}']\n",
    "\n",
    "# dat =dc.pw.exp[f'exp_{rxn}']\n",
    "# figure()\n",
    "# plot(dc.pw.exp.E, dc.pw.exp[f'true_{rxn}'], 'g', lw=3)\n",
    "# plot(dc.pw.exp.E, dat, '.k')\n",
    "# plot(dc.pw.exp.E, null, 'b', lw=1)\n",
    "# plot(dc.pw.exp.E, alt, 'r', lw=1)\n",
    "\n",
    "\n",
    "# print(chi2_val(null, dat, dc.pw.CovT))\n",
    "# print(chi2_val(alt, dat, dc.pw.CovT))\n",
    "\n",
    "# for each in dc.theoretical_parameters[f'{iresnull}_post'].resonance_ladder.E:\n",
    "#     axvline(each, ymin=0.93,ymax=1, alpha=1, color='b', lw=3)\n",
    "\n",
    "# for each in dc.theoretical_parameters[f'{iresalt}_post'].resonance_ladder.E:\n",
    "#     axvline(each, ymin=0.93,ymax=1, alpha=1, color='r', lw=1)\n"
   ]
  },
  {
   "cell_type": "code",
   "execution_count": 57,
   "metadata": {},
   "outputs": [],
   "source": [
    "final_estimate = dc.theoretical_parameters[f'{selected_model_ires}_post'].resonance_ladder\n",
    "\n",
    "# import time\n",
    "# start_time = time.time()\n",
    "# # final_estimate = main(args)\n",
    "# end_time = time.time()\n",
    "# elapsed_time = end_time - start_time\n",
    "# final_estimate['tfit'] = np.ones(len(final_estimate))*elapsed_time\n",
    "# final_estimate\n",
    "# final_estimate.to_csv(f'./par_est_{casenum}.csv')\n",
    "\n",
    "\n",
    "final_par = BuildTheoreticalParameters_fromATARI('final', final_estimate, Ta_pair)\n",
    "dc.add_theoretical_parameters(final_par)\n",
    "dc.mem_2_full()\n",
    "dc.models_to_pw()"
   ]
  },
  {
   "cell_type": "code",
   "execution_count": 58,
   "metadata": {},
   "outputs": [],
   "source": [
    "# print(dc.theoretical_parameters[f'{selected_model_ires}_prior'].resonance_ladder)\n",
    "# print(dc.theoretical_parameters[f'{selected_model_ires}_post'].resonance_ladder)\n",
    "\n",
    "# print(dc.theoretical_parameters['true'].resonance_ladder)\n"
   ]
  },
  {
   "cell_type": "code",
   "execution_count": 59,
   "metadata": {},
   "outputs": [
    {
     "name": "stdout",
     "output_type": "stream",
     "text": [
      "Chi2 estimate to data: 680.8087001843618\n",
      "Chi2 true to data: 642.6677276853724\n",
      "Integral SE estimate to true: 44.366647826534866\n"
     ]
    },
    {
     "name": "stderr",
     "output_type": "stream",
     "text": [
      "/Users/noahwalton/opt/anaconda3/envs/atari/lib/python3.9/site-packages/ipywidgets/widgets/widget.py:502: DeprecationWarning: Passing unrecognized arguments to super(Toolbar).__init__().\n",
      "__init__() missing 1 required positional argument: 'canvas'\n",
      "This is deprecated in traitlets 4.2.This error will be raised in a future release of traitlets.\n",
      "  super().__init__(**kwargs)\n"
     ]
    },
    {
     "data": {
      "text/plain": [
       "[<matplotlib.lines.Line2D at 0x7fe42925e2b0>]"
      ]
     },
     "execution_count": 59,
     "metadata": {},
     "output_type": "execute_result"
    },
    {
     "data": {
      "application/vnd.jupyter.widget-view+json": {
       "model_id": "7614b09946174e41bd320d5b0feabd4b",
       "version_major": 2,
       "version_minor": 0
      },
      "image/png": "[encoded data removed]",
      "text/html": [
       "\n",
       "            <div style=\"display: inline-block;\">\n",
       "                <div class=\"jupyter-widgets widget-label\" style=\"text-align: center;\">\n",
       "                    Figure\n",
       "                </div>\n",
       "                <img src='data:image/png;base64,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' width=640.0/>\n",
       "            </div>\n",
       "        "
      ],
      "text/plain": [
       "Canvas(toolbar=Toolbar(toolitems=[('Home', 'Reset original view', 'home', 'home'), ('Back', 'Back to previous …"
      ]
     },
     "metadata": {},
     "output_type": "display_data"
    },
    {
     "data": {
      "application/vnd.jupyter.widget-view+json": {
       "model_id": "086ed028215a4e54a0e9ff2f106e3538",
       "version_major": 2,
       "version_minor": 0
      },
      "image/png": "[encoded data removed]",
      "text/html": [
       "\n",
       "            <div style=\"display: inline-block;\">\n",
       "                <div class=\"jupyter-widgets widget-label\" style=\"text-align: center;\">\n",
       "                    Figure\n",
       "                </div>\n",
       "                <img src='data:image/png;base64,iVBORw0KGgoAAAANSUhEUgAAAoAAAAHgCAYAAAA10dzkAAAAOXRFWHRTb2Z0d2FyZQBNYXRwbG90bGliIHZlcnNpb24zLjYuMiwgaHR0cHM6Ly9tYXRwbG90bGliLm9yZy8o6BhiAAAACXBIWXMAAA9hAAAPYQGoP6dpAABglklEQVR4nO3de5xVZd3///daew4gCSoWiIMTBpqlt/ctdtBOZoVfNcvKU54o6ecYWqFhqdwesoyCxDQFIfBUtwrdabeWd0ZBHtKk1LwrLWcKZEYgBYuzMLP39ftjZu9Ze8067uPMWq/n47Efyp59uNa11r7WZ32uw7KMMUYAAABIDbveBQAAAEBtEQACAACkDAEgAABAyhAAAgAApAwBIAAAQMoQAAIAAKQMASAAAEDKEAACAACkDAEgAABAyhAAAgAApAwBIAAAQMoQAAIAAKQMASAAAEDKEAACAACkDAEgAABAyhAAAgAApAwBIAAAQMoQAAIAAKQMASAAAEDKEAACAACkDAEgAABAyhAAAgAApAwBIAAAQMoQAAIAAKQMASAAAEDKEAACAACkDAEgAABAyhAAAgAApAwBIAAAQMoQAAIAAKQMASAAAEDKEAACAACkDAEgAABAyhAAAgAApAwBIAAAQMoQAAIAAKQMASAAAEDKEAACAACkDAEgAABAyhAAAgAApAwBIAAAQMoQAAIAAKQMASAAAEDKEAACAACkDAEgAABAyhAAAgAApAwBIAAAQMoQAAIAAKQMASAAAEDKEAACAACkDAEgAABAyhAAAgAApAwBIAAAQMoQAAIAAKQMASAAAEDKEAACAACkTEO9CzCU5XI5rVu3Tnvuuacsy6p3cQAAQATGGG3dulXjxo2TbaczF0YAWIZ169Zp/Pjx9S4GAAAoQWdnp1paWupdjLogACzDnnvuKan3ABo5cmSdSwMAAKLYsmWLxo8fXziPpxEBYBny3b4jR44kAAQAYIhJ8/CtdHZ8AwAApBgBIAAAQMoQAAIAAKQMASAAAEDKEAACAACkDAEgAABAyhAAAgAApAwBIAAAQMoQAAIAAKQMASAAAEDKEAACg0RXV5dWrlyprq6uehcFAJBwBIDAILBkyRK1trbq2GOPVWtrq5YsWVLvIgEAEswyxph6F2Ko2rJli0aNGqXNmzdr5MiR9S4Ohqiuri61trYql8sVnstkMlqzZo1aWlrqWDIASCbO32QAgbprb28vCv4kKZvNqqOjo04lAgAkHQEgUGeTJk2SbRf/FDOZjCZOnFinEgEAko4AEKizlpYWLVq0SJlMRlJv8Ldw4UK6fwEAVcMYwDIkaQxBV1eX2tvbNWnSJAKPOunq6lJHR4cmTpzIPgCAKkrS+btUZADBDNRBoqWlRccccwzBH4CaYfmp9CIATLmuri6df/75hUkIuVxObW1tQ7IxoCEDgOi4+E83AsAhpBoBTlJmoNKQAUB0Sbr4R2kIAIeIagU4SZiBSkMGAPEk5eIfpSMAHAKqGeAM9RmoXV1dWrZsWVkNGV3HANImCRf/KA8B4BBQ7Su1adOmac2aNVq5cqXWrFmjadOmVeRzqy2fFf3yl7884G9RGzK6jgEMFrW8GB3qF/8oH8vAlKFW08gH863C6rV8jFed5OUbsrBAdjDXK/qxRNHQxb6LbsmSJYWeHtu2tWjRoppcjKd1+SmWgSEDOCQM1iu1embPvLKiknTaaadFzmIyBmbwI0M7dLHvoqvnOGaWn0ovMoBlqPUVxGC6Uqt39qyrq0sHHHCA3IdvnDLUexsQjP0zdHntO9u29dJLL9Vt3w3mbOTKlSt17LHHej5/zDHH1L5AKUAGkAzgkBL1Sq0W40jqnT1raWnxHPsXpwyDNbNaiiROZKn3MYbSee27XC6nG2+8sS7lGezZSCZkoC4MSrZ582YjyWzevLneRSlYvHixsW3bSDK2bZvFixdX5Xs6OzsL35N/ZDIZ09nZWZXvi1uGzs5Os2LFikjl6ezsNCtXriy57HG+qxpqtc9rrZ7HWL336VDX2dlpLMsq2nel7L8o+yHsNVGPo3rv88WLF5tMJlMoX1J+x4PVYDx/1xoBYBkG2wFU6xPmYGiwvMpQy4Co3sHXYAjEq6kex1i992lSzJw5c0AAKMmsXLky0vuj7Icor1mxYkVoOcrZ55UMHMu9GB2s6h1cexls5+96IAAsw2A7gKI0dJVWjwbL3Zjky7Bq1SqzdOnSqgREXg1YNYKvuA1luSfZoaCWx1jSA+paKqcuo7w3TmYv6HXllLNaFwuDMWAq1WC9oBps5+96IAAsw2A7gNJw8vJrTJzPVzog8vvOSgfcc+fOjdRQ5k8Oq1atqkg3G/rV4yIqyUrN4EbZD3H2VVA5St3n1Wpv6xkwVTrwHMznpMF2/q4HAsAyDMYDaDB0y1aLX2OyatWqwOCvnAYnbJxhpRq3OXPmRCq38+TgFfxJMjNnzgzdpqRkF6KIOx50sJ6whqpSMrhev+lSM4Bh5Sh1n1fjYqGex181As/BfEE1GM/ftUYAWIbBegAldRyJX2Myb968wOCvnIZs6dKlgQ1YJQJuvwHz7obS6+Tgfti2HbjfB2t3TCmiBHbu7Z0zZ06k90Tdp2kLpuMotW68svl++6FSF7xen9PZ2WmWLl1qli5d6rkN1QjW6hUwVSvwDLpor/fvZrCev2uJALAMtT6ABtvJJqg81ShrnAygbdtm2bJlZX3/4sWLI3WxRg24/erEr9F3B3NBr3OfuLy+J0nZrSiBbFDA7PUeZ71F2ae1CKbr+Zsv57tLrRu/fTZr1qzA91Tigrezs9MsW7bMLF261MydO7fot29ZVlUDUGcZ6vEbrXTg6Tx23HU0derUQXERSgBIAFiWWh5Agy1zE1SeuGWNE0j6NbjO523bNjNnziwa5B33ROZ3Iiq1kQ+qE7/vmjt3bmiZ8gFw/gQY9D21zi6EZVDK+dwoJ0m/7fV6TynHbLVP1PX8zZc7K7bUuol6MVQNYeOI/bYh7gVgWPbLr42r5sVAJY9nr2MnX0dRuvZrhQCQALAstTqABlvmppLj4koJJIPG8sycObPoPaVebfrNrl22bFlF68u5rc4A9oorrvBs7IMyDmHfU8vjyJ099cug+Ak62UUNZKN0meePo7j1Uu1gup6/+XK/u5y6iTocotKiHCvllMEruAyb6OVs42pxMVCp4SxBx85gGhNIAEgAWJZaHUCD6UcTVp44ZQ3KaC1dunTAiSAsCxClEXcHRH5dpVG7fqNckccJWFauXBk6G9gvAI663lm1JwlFrT8/YSe7OAGKc3v9ylPK76vaAVo9f/Plfne5dRN1QlQlhWWLyylDULsU5TNreTFQbnd60LGT7xEYLMkMAkACwLLUOwNYqYG0cbsWKpUBDBvT5vUIysBFacTzjVHQ5AC/z3HOro1zRR6lTpzdQ6U2kFHrvlJjpvwE7YdKLa0Rd6JGPrD261orpc6rGUzHOQ4q3TVYiYCj3LpxXgR5ZbprMb7Y3SaVun/D2qWw30TQ5LdaZYTLnUXv3J+VqtdyEQASAJal1mMAqzGQNqibtZRxKmF/cwpbviVuABg1Axj0vbZtm1NOOWXA85ZlldyV6u4ODerqLqX7y7mvBsMyQOVkAONmkMMCWfdx7PeeUuotn9Hwm2xUaqASdxZsNboGK9UdWO4tFt3vr2ZXqHub58yZY5YtW1b2ZLJqZABrFUCVUt9ew1mCyl+voUwEgASAZanHLOBKDqSNcrVmWZaZM2dOYHn8Tn5Bjb/fmJig4M0ZhPkJ6/JbvHhx5Eyh33eHBSnOE79XHTsbvShBa9B2Bw24rmbDGuUCISjoDfrcOMd2UDmiLqzt/Kyo9RZ2YqzkLFjbts2qVasGvLYS7UBQ/ZV6HEUNfPMBdNRJQnEy6ZUMOivBq12KE1h7dYuX0/ZHEVbfUX97fhe1US5uq4kAkACwLPU6gPwCkGXLlsVq/OJ0wQYtwxCX30nuwQcfrMiVrteJ0bKswkk0StAVFuD5NYzubN75558f+FlRglG/q+RKBktxRA1uOjs7Y2dQOjt7J/JEmQUZlL1ua2uLfaL0yhaWspxOOV2oUTOgfksU5V8bZV/7XTyUc4xEPTZKmSQUVjeDbaUEN+cFfNwgs9xu5FIE1XcpqxrUMniNggCQALAs9TqAvH5glmWFduW6G3e/QMnvx5pflqTck0RYw+LuhqlUY+kew+eXKfQLwpyZCq9yeg1w9qrTsGAhagMf50KgUifHOBmquNzBs3MpH68xm37Z66Bj2O9E6f78oCEWYYFIubNgo2S5groUo2TwS21Dyi17/nWlDBEI+vxygm6v76nG8kXl8KuzUrczyj71q9OwzHPUHpZ6DVHJIwAkACxLLQ4gvx+qe5yF14zZtra2ohNB/jXuE1zUh2VZZtasWWUHElEyKOV0w6xatco3iHOfSL0mB0ydOnVAdsJZd+7laPwGOLu3z6/RC9uXlmV5noyinsQreXIMyhqXk0EK6ir3+5tfOfz2QZxMatBJtpoZQGP870oRNknJLzCWBq4pGXXWqzuYdAblblED36DvDuvF8BubWKlZ0+UuX1RNfktTBd360Sur7V4qK2j7vOo7yhCYoN/ngw8+GNi+V6qnIgwBIAFgWap9AIV10eQDEL/bldXi4bwCj3PVXEpGKmrDUMosVHfQme++XLBgQeyTvdejra0ttNHL/92ve89dT14nK69sY9jt7OI0uEHb65dBisJvn5122mm+5Y87htQdBIV9d9Cx4w7a3YFRuZMo3MdDWPYzn4X12xbnEIiw/eh+X9hxGPSZcTKAUY8frwvESlzklJqZrJWgiyQv7oz6CSecUHLm1d02htW11xjvKG2wOziNcuvGUhEAEgCWpZoHUNwumlLGtFXqMXPmzNhXzWFjSMrpwozSkJcbTOaXYIgafMc5iYR18fllxfy6iJYtWxZpzGLUoC2ocXd/R9SlioK6uPwes2bNGtAN7/cZJ554Ykn1HbQtYdmUcjPZfmXLZ+b8xkn61UHYBUSch19g5zd+0y3Kd0edIVupGfBBFwLlLLlSyYxW1G2Me04oJVMalKU2Jt4kpbDjoRpjOgkACQDLUs0DKO7CpHHHtEX57BNPPDH0dV5dlvnng7JdcQKSUq7ug2ahxgl6gmbfxT15Rs24RRnwHWcCz9y5c30b7FKzJg8++GCk7Q+qZ3c9+HVxBdWDO8jy+4yg4zF/TLiHAYQtuxSlK7jcsWRhC+t6BZhBx6xzLGu5F47ujKjzs9ra2iIFbwsWLChpzKZf8F1O0B12ERInCMkf23Fnokf97Pw2+rUlcVc68MuORy2HX5saJWCNehxWOhNLAEgAWJZaZwDDGsh8g+r1Omf20Otx6qmnDsimRMmKBJ203WNT8o2V1wxNyTtTlT9heb0+f1Xu1wjmu3Gds1DjLrBbycxqPhALOyGEjaFZtWqVb/Axa9Ys34bTfXIsddyUVwbQq/s5qAH3qoegwCXqySDoJB62XV5dXflZm15jbIO61oPGkpXb5R7lRHjqqacG1l++27rUYznKMIigoCJfB0EZ9LjZIr8lYeIsmB+WiYpS90EZ8koGMWG9KHEuUMspV5QLoaCgPM5xWMnZzgSABIBlqfYBNHXq1AEn2bAfbdDM0M7OTnPVVVf5/rBWrVpl5s2bFziWyFmWK664wvOWbV7lC+s2DBqr5pzM4lUOrwkaXsKWznArZb3AoIdt27G6RPwyuvnt9JqJfP3113u+x6sLK05w4TyZBg1NcJbRr569vterbtzfEbV7r9K3EvM7Lr2yV/mxdn4BSikZobhdm1FP/n7Ze6/95x5+4hzzGJSN9ju2nWPT/OrKa1hI2OLxXkvCOLfB7x7b7vpbtmxZYFuZf507wxvlorESQUyU326cCyp3ueJcpFTr3s+V/A17IQAkACxLNQ8gvxNtKel0Z/eq34/tC1/4woDBt1F/mGFdOFEaxfwJxW9weLmNRFhWrRYZQL+H3/ii/JWz1/qI7qxelJnIXgFHlODCfcKOul1+FyxxA2tnl3XU7r2gW4l51XPQyS5uADh//vzAfRDlePUqozs76VfmOPXrt16ic4xhvj0I6naNemHl9Ztytmvu4NL9nVGyc1F+t1GC77ht6cyZM0PHBFcqiIkadHm1C36TxYKy80HHWykZ4LDt8HqU0k0dhACQALAs1TqAggK1ZcuWBZ4E/ca+xQ1mbNs2X/jCF2KdqP0au7AfeT4A6+zsNKeddlpZ3+nVCBoT3NAETVpxB0hTpkzx3QbnuDGv7EpQlivohFTOsgtRTkBBgVU5QbA7a5Rfj84vCPB6bsaMGWb+/Pklj+kKCxijdsl7/R79Ar2oWTXnbzqOsDLHyQB2dnb6BsvubKXf2oudnZ2Rs65BPRTLli0bsNZmnAu/sCVhvLY/bHym39hZv3IFXayWMjHFT9zsfb6Hxzlmz28SUVj212sbSs26+31fUHtXKQSABIBlqcYBFHTCDftBeWUN8418KeN9bLv3vrilBADOxtJvgWTn66LOLC21UQ8LZILq1hlI+DX+zruM5F/r7sKfMmVKUWYlahnCGnu/E9706dM9n48zozFssklQN6K7QXcuSux1cj/uuOMKdeOVWQsaQxenyypqvTrFHffo/ptfAJX/W5zJBVHK7HUh6LW+pbNOFyxYYK688krfMaZB3frGRMu6+pU/SrDpd/y5l+Ap5WI3LEPsDE7D2lJ3T00pi9lH4V6KyO+WnUHb5S5X3MmHeWFLTUXdDr/x59VYiocAkACwLNU4gMIW2vUTljUsdbmHON2v7u8MC+ps239Cg/M1cbqig8YDhs2UjjJJwGvMo1cXst825RvqefPmxSpDUGPv913ORbvjHk9Bn51fEsVrBmCUx6xZs3zLbFmWaWtrizWGrpSlbIyJP3bJa2xf0OSqfFbLOQnJfVHgdYIrpXvXq8z5wCX//UHBo9fFit9vzK/c+e+MknUNO+GHXayF3U4t7qoI+bbI77PiDoEI66mplErPMo4aPLtngJe6fmL+WHfvz3KX9ImCAJAAsCy1ygAGNU5hGTbbtgPHJFXjkf/OqA1J0CLA7i6qoIfXyclr7bagdfG86te9nIPfdjhP3EFX0plMxnMZFb+xiPlyOAMjd2Pv1wVTSsbRLepSDs6xWmGPs846K/J+dNeR+9/ljKvzC269AjC/zI/XYuFxLgryj2XLloXepSFO1tLN75j0WzkgbF+WcmL2OuHHWdIoznfmg9GgCyH3cefOopUyBMJv31d6QeNyjoUg7ovNoKDfr36i7KcoQxmqGUQTABIAlqWaYwCjDMKNmnkpNYsX5XHDDTcUBRlxvsuyrMBuVXfGJz+Lzy97FnQScTcwQWNgnAvLRqnfUrqw/Ca7+HU/hl1hh60XFzfj6Ba1MX7wwQcj75u4x2ScE3HU7fJa/8/rmPE7RvMn+yjLvgRNEAiaDevVvRt27PrtQ6+A4corr/Qs0+mnn+578ZCf7Rx0vLiXYPE74Qd1C/tNDomyve7y5MfBeV0AOh/OyQZRxxP67fv8/qpkli6sbKWMlXPXpfP3HnQBGDSmM+z7atHNG4QAkACwLLUKAJ1jd/KNS9wrU/dMu0qcpN1XgmENq9dn5xsTv+yKX1avlIDWtnvvQ+m+lV7+/92zDaN8R9CYFa81+cIeUWZNer0+rEGtRoObzz47x1xWaumcqGPo/PZRUHDitR354MCvjoJuseb3e/S6gPELIoOONa+TqTsgd1+snH/++b4XE+6Tud+9sx988MHAiwe/e9BGHS/pnnnqF9Q6f6P5oDLsDixhgWHQxZ0zg+e1X73G+PkdN1F+l6VmBuOsaRok6kQorwvAUtuVSgavpSIAJAAsS60ngTgfpXTr5selRA2gTjnllMCGMs4N5sMyHHEC2pUrV3p2ecbJPjobujizDZ3vz4+tCrpdXJzPjDO42uv17q6bsPvTlnqfzXyw7JX1KKXLLOh4dY+hc2+D34VD3BNJZ2en7xqKYUsZZTL+a1h6jRl076OwpUOiTFLwG08Z9WTuNTbR2fvgF7i6J1zF3f/utef8ssxh2Xjn8ixRs21B7aB7jJvXTOCwLuxly5YFHlNRukD9fp9e9VFql3y5QWQp4/W8vjdoCEw1EAASAJallpNAopxcnM97NZbOgM0rgMpnyG644YaiTFnUGV5+J4p8Yxj2OVEGbju7ntyzDqPcvcTd0IUtLOv3OOWUU4q222/cZpzPdmdUwgJTrwyMVybTPWHEvW5gnG6poDI5T8LuE0LcbGicWdmVOIFFyQYFvS5O9ts9QSDKgr1B44DDxptGrQuvcan59wfNfHUeP3Har3LGakbdB2HfEXX5kqDg1C9LGHRMhWXvgoLDoPbG+Zpy7nVeygVU3PF6QcMmaoEAMGEB4C233GLe/OY3m+bmZnPEEUeYRx99NPD1P/zhD82//du/meHDh5uxY8eaz3zmM2bjxo2Rv69aGcA42Si/q0C/hs05Jsdv2QZ34+M3S89ruRW/wHLp0qWRuiyCupy8GoooV+JBj7DvijpWyK8xizqO0H31G3bS8xto7jchyFlWv6Ap7JZZUU7Ezi5p9wkh7PZk7mM4qnJmDIZtk/ukFHQMR9nXXsd71MAxqHsuqM3wO5m7g4SwcaRhx2PYjP4o2+IlLEOar9dSlyKJs2i4n7CJE+5jym+Wdf5OTEHtZFjQFnUMuTHBx3M53dNRBF28Vfu7jSEANCZBAeC9995rGhsbzfe//33z/PPPmy996UtmxIgR5qWXXvJ8/WOPPWZs2zY33nij+fvf/24ee+wx8/a3v92cfPLJkb+zWgdQ3DX78pMjnCfcsJl1+cyQ+0Tt96N0n7yDllvxG/fkNes16lphYSfSoPcFZayidIf7LU4dNlYoX8aw7kGvk05YVsfdfRsWfFiWVQjYo6zt57VfogTYfqv1h+3TuOulOU8Q+Tp2dhWHvSfONgV1tbv3XViXfZz9HKUsq1atMtdff73vou1+GTC/ICEsKxWUoc9/TpRMftTuvijDM5zdsqVmg0vJYPl9RpSANegR1i0ddAHndQHot5BzUDdytSauOPnVU9hM+EohAExQAPjOd77TXHDBBUXPvfWtbzWXXXaZ5+vnzp1rDjzwwKLnbrrpJtPS0hL5O6t1AJUyjqrUzELUcXxRxt84zZ07N/S7g04CUU4iXlf2Xpk45x063A2dMeFdcEFX9PlFleNmT/INdpxupfy4Q3eAHXSvZK+Tywc/+MHYx5Mx3tmCKO8LOq7yZYpztw/3iSvoYsTrPc7XRf2deA13iDoo3jle1K2UCU3Lli0zK1asGHBRNnny5AETZ6JeYAV137vfG9Td7czg5Mcb+2XZFyxYELifo2Qd3eNco2bz4mSY4majSmm/wx7uLt6g2etRftt+Nw1YtWpV5J6acjJ0foG9bZe+rFNcBIAJCQB37dplMpmMue+++4qe/+IXv2je//73e77nN7/5jWlqajI/+9nPTC6XMxs2bDDvf//7TVtbW+TvreYBFLXrMOgkFeXqOUrXY9wTZJxu7KDumfzJxq+h8BoT5Xdyc64F5rXe19y5cwPL7HXP1PzDLwiLMssxX2avJX68TubVOLlE2Td+Mzuj7tMo5fbaL3E/J2rg6nydezxk2GLHYaJ2SZcy+ShobJnUO3PXPXHGLcqtBd23ZfMqu1854sxknzp1qm89Bq1b6BV8O8sUdCzFyW6VmgmL0yXs9/Bqh93tht/s9bBH0MzuoHHc7jVRS8nQ+R0PlZzUFQUBYEICwJdfftlIMr/5zW+Knr/uuuvMQQcd5Pu+H/3oR+YNb3iDaWhoMJLMxz72MbN7927f17/++utm8+bNhUdnZ2dVD6C4XQnuLEqp2Q2v2aJRxv/ELbdtFy/L4sfvROnVyEfNYHqNNfHLxuRfG7YYtPPk7Jc9cS9p4dWY+gXhccY5hgUKYY+wJWTy+86vnH77Mcp3B930Pcr2uwPXoEDVK2jwmk0dNj7SLaxLMWrmz919F/aeG264IbBMK1as8JyQEzYBwesiJc4yJEH7IWiR+6ifH7UscT6znC7l/Pv91tI75ZRTQpfYCpqU4xR39YWgDKBfmxHUnsTNDgbNmi63zuMgAExYAPjEE08UPf+Nb3zDHHzwwZ7v+fOf/2z2228/M2fOHPPcc8+Zn//85+awww4z5513nu/3XH311Z4HbrUOoFKyPc5B66Xe1zH/3e51xvINmFdj4DxR+C0sGzYzLmypiwULFng2mmETHPy+02usiV/mzfn5QRNHgrr78oKyJ2GD2aMcE84xUX53eYjy/rygjFGcmXxRj+egIDJKt2BQ4OrcxrAB8F53NqnEmKSomb8bbrihqDs1KAudf0S5nZnX49RTT/WtM78xZPnPjToBx69dCApao3x+WJDvFGfWa6XXqsvvR/eFpFeAtnjx4sjZsKDj3LbtogW13ZP9oiypFGV5rfxalVEypnHGmpY6KScKAsCEBICldAGfffbZRUt5GNM7MUSSWbduned7ap0BNMb7xxCWiXKexIIac78fl98VnDMo9Dp5hmWd8uNLwpYR8ROU3XN3n4ZlML0atfzn5LvA/AK5sCAk31VSynslmauuuiq0gfSrB/eaeXEvILy61oMa7DhX7HEmPASdZIO2K8pdHPJBatD6jUHdauVkJKJ213llVcJOwn7dqVGOuTgZZq+yRZlAEbTgdNjs8zhjZYP2UyUygHGzwe468LqoWLZsWdGYYL/9HWVSj9dvya8O3b0SXmWLsuZsfiJinIxw2FjTciflhCEATEgAaEzvJJDPf/7zRc8dcsghvpNAPvnJT5rTTjut6LknnnjCSDIvv/xypO+s1QHk9WNYtWqV+fznP+/7g3Rekbl/aPmB2V7ZgqhjXuKczJ2fEzbDOSx4inqlH5TBDPv+KPvD7763QdmSOPUWFKj7nfTCMqFRH36Ta7wa7KhZks7O4HtWRzlpeO0DZ1et131c/caP+p3wnPUft47CRM38xZktfNZZZ5kbbrgh8M4nUY+5qBlmv/0bJShyLzh99NFHRxq35/c9QReFQWMv3V38QcMW/CZbxM0GVyJT6Xf3FWP8g8s4d8XxunheunRpSWMYvbbNuf+8zmtRj6NKIABMUACYXwZmyZIl5vnnnzczZswwI0aMMGvWrDHGGHPZZZeZc845p/D622+/3TQ0NJj58+ebv/3tb+bxxx83Rx55pHnnO98Z+TvrdQBFyezkT4juG68HBXhhmR73vSKjnCjy3Vj594Q1JGEzOqOsb+gnSvYlLAB0jxk77rjjAgd7ey3bETUw8+tOjhJ0BWW/gr4zKPjKZ0adkwOiZFTcdeYObMNmbgadFNwnEfdrw7rRol4YRK0jP2HB5oIFC2LPCpeCx0tG+W6vbQqbwBC2f4MCKmN6fwP5xebjbFPUpWuci8U768DdfkVdbiR/jJVz67VKZCqDhkY468h9PMcNVP26qkt5hI0tdZe91OC6FASACQoAjeldCLq1tdU0NTWZI444wjzyyCOFv02dOtV84AMfKHr9TTfdZN72treZ4cOHm/3228+cddZZpqurK/L3VesA6vrzb80ffrKw93H/reYP999qnr1vgXn2x/PNzxddF/+2ZZZl/vP808zPbr7K2AO6PS3z0xtnmVU/+LaZf/n5nu8/6/j3Fd5nW5aZ9dmTzVO3f8Nc8ZmTjW37l8W2LfOTb19snlx0lXli4ZXme5ecE7vc9137efP4975iHr/pUvP4TZeax26aaT7/sQ/0B4qWZf7fO95WVL6vnPZh8+j1M8yj13/JPHr9l8wj3/mi+dF/ftZMP+m9gd9nSWbZZWebX8++oPfxzTbz62+2mZXfPN/8+rrzzbKvnDmw/izLLGj7mLnhvBPMVace4/m586YeZ1ZcPdXMPOmoAe8Pe1x/1ofMvRedbL5z5rHm3os+bn51+Rnm3ukfM7Y1sK7u/fxHzS+/cqr55VdONfdecOKA11i++yk8+Aq6/6o7YHDfecSvyytKN+Li73+/6DtvnjfHbF23xmztWm22rv2b2bLmRbNl9V/Nlr+9YG6Z/Y3i8t1yi+lcuzb0pN3Z6T+u0+u9pZyY/MbvxTnRRb1rhRd3kH3KKaeE7ne/CQxRstFRtivqkA6/73EuXRM0DtUdWMyZM8csvfde789bs8aYnp7iR3e3Md3dZsXy5Z7lXbl8uTG7d3s/du0yZtcus+Lhh/33/4IFxrz++oDH4gULiut9wQJjdu7sfezY4ftY9eijA9qZTCZjOl980Zjt243Zti34sXWr6fzLX0oO/pzH1cIbv2t2v7bR/P2P/+dZ3x3/96zZuXGDaf+/Zzz//uIffme2v/Ky2b1tS5SfSCwEgMZYxhgjlGTLli0aNWqUNm/erJEjR1bsc3/92Q/qmDt+7fm3SyV9p4TPtCSdLekHHn9bKekYSV2SWiXlHH+z+/7rfC4jaY2klr73PCnpDNdrJGmupJmOf3t9fph82dy6JHVIGiHp3QHlk6Qlks4P+V5b0iJJ00LKcqzP8xMlPSHp0z5lkQZuu9X3CCrXqZJ+3PcaW9K3JB0p6WlJl0nK9n3HQo+yL5HU5njN7L73uMt3/yn/T3ue83lNPOIItbS09L9/yRKdf/75yuW8S5jJZLRmzRq1tLToO3Pn6qtf/apyxsi2LF118rE6qWVv/faFDl34yz8MeO8d++2hdzdIDT1ZZbJGmZ6cGrNGDX2Pxh6jf2SlSbmBx+M9ko5W//6VvI+tjKQXhzXqF+P210WrX1LWGGUyGS1cuFDTphXXVldXl1pbW4u2NZPJ6Mknn9T2TZs0YudObV+/Xm9patIbTbfaX/qb/vLSau3faGlfdcvs2C7tfF25nt3KdXdLu3fL9PRI3bt1e9c/NW/d5gF1YEn68dg9dHhTRjJGljFS38PK9TbLljGyTO9/n9iV0xlbegZ8zj2jMjp470Y9edBwLTp2lLYMs/S2ztf1id9t04RXuvXoP7r19X9mlev7ziubpAubLK3LGa3JSQda0jjb6vue/uPS6jsz5CzpJVtqt2217NGoUS1jNOqoY7T/l6/RytWrdeyxXr+K3n3168Nbtd/rO9W0c5esbE7KZmVnc7JyOf2jO6fJW3rkdQL6aaP0ftuS1ffvR7NGJw7cdD1s95b/4OzAfd9h9W7DgYre5vi1N5L/MfakpG2SJqn4mAx7ry3pt5LeEVCefDs3MeCz3a9fJunLHn8L2rb8e9vVux3t8m7rbKlwHHntt3x9bHeVOajtPCbC33/9mWN0zO0rA0ofX7XO30NKvSPQoaxaVxCPXPxJs3afhv7H6EazdnSjeWqvBt8sTqkPWzKPvbHJdOzXbDr2G2a+OarB2I6/TRvhfRV4175N5q8tw81fW4abO/dt8nzNnW9qNn85YA/zwgEjCo+v79NU+PwoZfvlASPMnw7c0/zpLb2PP75lpPnjxP7HknF7eL53ScsI838HjTK/OHCk7/fZkrn4TcPM9w94g3l44l7m55P2Mota9zQPT9rLPPu20b2Pt/c//vfgvQd8li2ZL40dUXjeUn+mzZbMlS17mqcPf5O59S17e5bhnDftEbk+3N/7hZaRZv7B+5oHDh9rVr1zf/PUO1uKH+9qMQ/8+1gz/5A3mgf+Yz/z23ePN199c399ZCSzuC/keG3/0cY4xr5G7eL/4Qcnm6daB9ZLRjKdfQ+/v5mQx4qQ7V8smaxkeiyZX1jer1vZ91mdkllx0EGm8y9/8f3dFWW6LMssPPRtZse4Nw0o12LHNuXL4bcNnQHbMDNCHbg/K6wuf3SIzNHnyXRb0d9T6mPHnsNN50MPBR4nK0M+Y47He7zKF7QdfsfJPMksDaj/KN/rte8zjtdPjXEsuN8b9NpSHs7jMu62uY/pOT71vUoyC+TdmxC0TWHHYdjfV37mmIqeY40hA2gMGcCy1PoKYuXKlZ5X25ZlqZTdGJQN6ejo0MSJEyXJMzOSz/zkX+/3Gklqb2/XpEmTil7/5JNP6owzzvDNLlmWpe9///sDyuYW9N0tLS2BdfbUU0/pHe/ovf52Zrts29aiRYs8v3vJkiVqa2tTNptVJpPR7NmzddlllxV9v23buvfee3XUUUdFrqOOjg698sorOv300wO318m9H/zqx6v+29vb1fOG1/XCj+fopIW/1oR/SRvfd6Rev/t+tbe369VXXw0tSz676ZctmHPYaB3a+kb94h87ddPvX1LOSLZl6eKT36uTjnmHGvfYU43D9lCmaZjs5mY19P1/Q/NwZYYN18Z/btNRUz4ZmIH8S8df1NLSoq6uLh38loNd+8HSxy95m8a88Gd9Y4U0eqekiy6Svvc97/qxLHVddJHaf/KTomxOl6Q/2dKoEdLGEdLHN/SeoQrfI2necQdo771GyGpqVKaxWXZjszJNzfrt6k2a99M/eJb/jq99RrZla/2mLRo/5o0as+/esjMZ2XbfI9MgWZY2vrZVna9s0gHjxuip5/6q2YuWKpczsm1bV0w/S596/zs06pnnNeFbtyrX3KRd+4/V8L+v1dZ3HK6f/sehOnPRfw347h/O+5qO+o9/k2Xbsmxbtp2R1LtdWeWUk1HW5JSTZLLdyu16XTu2/VObX+nU6mdX6Mj/+b2O2CDtOOY9uufsz+r8/+//U87VBtmWNHfaUdq/tVUNI/dSY/NwNTXvocbG4WpsHq5MQ6PU0KB7fvIrLbjtvt7ssW1r1szP6ZMf/Yhsy+6tD6u3fP/9wC909ezvFX6j117xJZ36yRO04R+v6oMnnu15nFhWbw4xrH3M2LZmX/ef+vTpn+x9X1/u0bJ6rywsWYXPWr/+H1qzZq32GLGHTjz5067ftK2nn1ypcfuNlSyr8Hz++9et36DVa17ShDe/WePGje2rc6N16zbo76vX6MAJb9a4/fcrKpsxvX9fvXqNJhw4ofC+/Hslad26DXrnuz7oWQeZjK1vf/vr+vSZpxa9b8uuLXrh1Rd01l3n6vVbVHRQW7al8750jm6/8Ye99Z2xdd23rpZt2brs0qs863PJbbfq5JNP6qs3u+hvlmXpB3fdrYsvvrTQdt7w3e/o3HPPKtTrXXf9UDO+NLPw9xtvnKepnzlHktTUOExNTcMHfGc5yABKZADLUOsrCL/xVKtWrQq8PZPX48ILL4w8kD3qWlzu1wStzB82MzG/XaXMLHQuhxFl5nCcpSHyr8+Pj4qzVliUpQ/ijruJulxK0JisqxecYXbZfVmAiN+fkczs4TI/eP9eZu4Xjw2dKFDqsg5hkzTciz676zeXy5lrf32t+cjZvZmE3B579I6h8qqfvfYqZCz+9y0yFx0vM/lDI01fDGAs2zKfnf7Z0HI4Jxz4rel4wQUXRNo/fhMfBtRlLmfM/vsXZ15eein2sR3V5+a81xjJ7G7MGLN9u3nuPUeYmerPDMUdKxn1+PAdKxpwnFiW5fs3v4lWUVRqnUCvMYp+9/n2O078yuKchOdn/BfH+25H2DIxYceU1+SboP1ci+Vf8sgAmmRNAqm1ah9AXrMf4y7HcfHFF3s+H2dpgHxZwn6YURqL/Ay/KMFO1Bl6YSe4sMHz5TTkpQSPQbfZ8lp2wu/kFfY9Ucu1accmc8tbrUhd0ZZkLszITP/0ePPI31aYXC7nWe5KzuDL11mU7fE6TrO5rDnslkPN2pF9gdH//q93/UjmV3vL/HubzIfu/JD5n1X/43nBFVQOr5O51wVI1PutRt2HnZ2dZsWUKcXdfNu2VW3f3PN/d5uX8vV5992mx+4dwTj968fV7ATuFjSZZ9myZYWZrZWqC78L8qBb6EX5DOdnea1hGnXWsLO9DXLSrScZuYZQeH1H3CV3aj2rNy4CQALAstTqXsBey7V4rZ/k11AEZcgqwStQjTLDL84SHHEXF3YHb0FLjZSbJfE7wfoF8GGNotfSJnFPXnGD2vM/MSl0H9iSeWiYzPk3TTE7u3eGlrvSyglk5v5mrrl1cl/AcsklvvXzxk/JfP2Rr5tcLhe4Fpvf/vY6jrxu91fOUj7ufVh0TKlvHJZl9WYF+1R63/zkqZ+Yyw7sG6N1yinGSGbDCJmlf1pakc8vVZTfcjl14f5NO49J5+LyUQOeKD0hUX/Hpc4S/+aj3zT6mApBYFC75NcDFeW1lcg8VxIBIAFgWap1AJX64wk6QebX3oqT+fMKYLy+0yugidL1mn+dO7iJ0+jFzZL4NfzlZkncnx11zbK4jWKcrrI433XD9y8ZkAF0dp3lB3h/YeoYs3339ugVU2Glnrz/8upfzEXH93UDn/Ipz/qxJPOh732okNUMqkOvcgQFbF5BfSkZQPcJ1y+T2TliRDnVHMgdcN564ARjJPOX0TKvbn+1at8bp3zVyEYHtXVRM9RucXpCwj43zqLsznb9Zy/+zOgaGV0so6ky//v7/w2sgyh1W+nb6FUDASABYFmqdQCV2yVZiSv9qJmqoMbJ64rUa40vd9nD7tEatVs8rkrVnV+9BN3jt5TviBKcR62XR1b/2lzV2D8TL//6zs5Os+Kyy0ynZDr2lrnr6dtjl3Uw6Mn2mDNObzBGMjvfeYQxxlU/khn/AZln1z9b9L44dRg36I47ttb5Gwq9E8vo0SXWVDDfgFMyvx/fUJXvLEWlM55h+7acNjuoJySfQY5yDEY5/rza9U07NvUGgH2Pbbu2hdZFlOFAZAAHPwLAMlTrACpnwVcvUYIF9+uj/HijNHpz584NXKTVT9ikkijd4vXiVy+lZgnc4oytiVov353/3aKlbJwTdl75xBRjJDP3A41mx+4dscpaS2HH+dSZE42RzLaWMf3v+cUvzErJvNAoc8TN/+b7uVGPrbgXI1E+O+yCyDMgmzAhtKyl8P3NS+axg4dX5TsHg7A7ypQb8IQN8wg7TvLHflCwGFTG+avmG10jc8jNh5RXUQ7VHBdcCQSABIBlqcYBVM5gXi+lDMSN05Xg1aA4Z++W0zA6G72hcEWZF1TWSnQ1V7oeAj8zlzNb9x5hjGSuvvoDkT+vVvfzzItynH/plpNMp2R+0WCbzrVre59ctMgYyfxygszlv7zc87NLuYCq5MVI2O/RnclcLBkzeXJFvtstKAP48BF7VeU7681vOItXds05jGXOnDkl/RbiHj9eE4+83h90HOVyOfPz9p+bv7zqv05mKQbThbkbASABYFmqcQBVcuxEqcFCnPd5zVp1NkZhV85RDYUxJU5ht88qtVGsdD10dnaa66+/3v8z160zRr2LLX/vke+Efl49Zv5FPV5PnnFC/2K3+bJ95SvGSGbeu2V+0fGLkrenmkFv1PGCK2+5pX8WsOu2l5XkGXBK5n/eP7Zq31lPQZOB3JwTfkqZFBJXnLZ6KF1E1wIBIAFgWWqVAYwatEWdiRt3XEqUsU9+Y/fCls2IqtKNl98Ju5In8mpc/VayHpzBjV92I/fLX5pOydy5p8wDqx6oWdniiHKcd3Z2GsseuFbhmk9+whjJfOXDMi9vebnoc6NuTy2C3ki/xz//uX8JmI9+tOJlcOrs7DRfnPJWs1T9d2v47xP9u53rkRWuFK/jwGsss1/vTSm/haj1FbeNH+zdsrVEAEgAWJZqHUBxf6RBs9MqMS4l6uvjLpsR9t3VmuzhV1+Dfd2qvFLqwV2fYSer/JCDm08/ZWDWzEc1s7RBJ8Qowyb8yvaz/zjUGMl8/lPDCrN/42xPLYPe0N9jZ2d/AHj66RX/fqfFixcXFsjOLz1zzxmH+b52KPyugkT5zYUt6RLn4jvOGN+4x99g7patJQJAAsCyVPMAivojDWsAannFF1SWuAPpqzXZI2jc4lDqHim3PsNOVvnPtiMsEOssUzXqMMoJMWzilF8G8I8TxxsjmRlfPKik7RlUQxP+9a/+APDsswf8uVJZOL9xgDedeUS019bwd1XLjH4lMoCl1BdZvdIQABIAlmUwHEBRsxS1uuIbjJMcnPzqy+8OAoN1jGFUcQJe58k8f+KMWyeVPhlFPR6ilPWyOZf1L3PTF0hu2XekMZK5cu4JJW2PX/dg3DvtVERPT38AeNZZRX+qZBbOr66vOP0dkV9bi99VPTKP7oWh898f9bdQan2R1YtvMJy/640AsAyD4QCq9xW2X5kGyyQHr7IlIQMYVVB9eq0/lpHMzU0ZY0xfXZWYxYiyTlglxzhF+R08/8rz5t6W3iVLOm++2ZhczvRkbGMk883/+nzJ2xO2Vl8tdUpmhWQ6P/7x/ueqMH7WKwN446UnRXttDX5X9WwXncdL3LZwMLbnSTUYzt/1RgBYhsFwAHV2dpY0xm6wqkUD6JfVSWJXSlh9OifwfPs7l5hOyexstArvv37v4SbjeF8l6qRaY5zC9t/6revNwwf2Zsiyd95hzKZNhYzZd1ZcV9Y2DYYLiMWLF/eP15TCF4su46Jq8eLFxu6b4ZqfCXz3Ld5BdD1+V4Oqaz6mJLZDg9FgOH/XGwFgGep9ADlPpJZlmZkzZybiSrEWDaDflXkSu1Ki1udTv3+gvwuxb0LE5j2bTKdk/vPKsys2jqqaY5yC9t/O7p3mp5N6t2/7wpuNef55YyTz2jCZxU+Xd4zVO+AIG39bjeD0uq99qjeb2nfM/OieKwPLV8vfVZxtruQ4wUpJYjs02NT7/D0YEACWoZ4HUNK7CmgAKytKff7fi4/3B4A7dhjT02OyVu+/71u5oCLlqPcYpwcO6e3yfXXedcY8+aQxkvn7XjL3v3B/WZ9b799jrMWiK3RRdfPCz/UfL5L5ycM3lf2ZlRT1VntDfYYySkMAaEyDMCS1t7crl8sVPZfNZtXR0aGWlpY6lapyWlpaErEdg0WU+mx6w6j+f+zcKW3fLtv0/nP4mMrsi0mTJsm27aJjN5PJaOLEiYHvq9TxYDU0SXpdO17fInV3S5J2Z6R9hu9T1ue2tLRo0aJFamtrUzabVSaT0cKFC2t2DIfV67Rp03Tcccepo6NDEydOrEi5cs1NRf9uHv2msj+zksK2uaurS+eff36hznK5nNra2nTcccfR9iAV7HoXAKXJN/hOUU6kgJ/m4W9Qj9X3j507pY0bJUmvDZNGvWG0pN6T5sqVK9XV1VXSd+QDpUwmI0klBUrllMFu6g1aXt+xVdq9W5LUbUujh4+O/Vlu06ZN05o1a7Ry5UqtWbNG06ZNK/szo4pSry0tLTrmmGMqFtw4A8CcpOF7D64AUAre5qCLaCANCACHqEqcSAGnYQ3DtLOx9//Njh2FAHDjHtJew/bSkiVL1NraqmOPPVatra1asmRJSd9TTqBUbhmsxt4N7N61Q7nduyT1ZgBH71F+AChVPsiKo9YBqGluLvz/lmZpz+GjAl49+HARjbQjABzC6plxQPI0Z5q1s29QSM/2rcpt6ssADpd2bNrh2V1WTiYwbqDk12UXpwy5ht4Lplx3t7Zv/5ckqbsCXcCDRS0DUDOsPwD81zBpz6Y9K/K55WaZo+IiGmlHADjE1TPjgGRxZgB3b9us17f+U5K0o1F6tfPVuneXVaLLzvSd7NW9W9u2vSZJyjXYaso0BbwLXoyjC3jzMKm5oTng1dFUKsscFRfRSDMCQMTmvkKv1RU7qqu5oT8D2L19q3b2BYC7G20desihde8uq0SXXT4DaHq6tWPH5t7n+rqFEY9p6g8A/zVMyliZsj6vEhneUnARjbQiAEQs7iv0z3zmMzW9Ykf12Jat1/tioe7tW7RzW28AmG1uHBTdZZUoQ66xN8I1u7vVs2tn73MN5QUuaZVpaNSuvqrb3Cw12OUtKsGkDKC2WAYGkXldod95552Fv7OMwtC3q8mWlFPP9q16fXtvhkx9mZ5qLCUSV9llyHcB9+xWdvfrkggAS2Vbtl5vkJqzfRlAu7x6LHWJIAClIQOIyLyu0N24Yh/adjX1nsR7tm/T7u1bJEk5x2D/wdBdVk4Zcg19GcDuHuV2EQCWI2Nl9HpfCmFzBbqAB0OWGUgTMoCIzOsK3Y0r9qHtZcvWSknD1r2sPXf2dpFmmxLUTOSDve5uZfMBYCMBYCkydn8AWIkMoDQ4ssxAWpABRGReV+hTp07lij0hlixZorPad+lYSe/9xk2677m/SuodA5gUJj/ho6dHub6FoMkAlsaZAazEJJC8wZBlBtIgQZf2qAWvK/RvfOMbXLEPcfnxnX13flPOGH3tN8/pPEnZpuQEgOrrAra6u5Xt7l0I2jTQDJYiPwZQqswkEAC1xS8Wsbnvy8p9e4c+r/GdOSN1aOA9X4e0fLDX0yNT6AKmGSxFxs4Ulg2qVBcwgNqh5QPgOb7TtqSJRlqXoAAw3wVs9fTI9HUBi3UAS5KxMrrlndKW56RfHli5LmAAtcEYQACF8Z35BsG2LF3z1vFqkZRrLv8OD4OFVegC7pHp7g0ADQFgSWzL1g8Pl447V9oy3JJlWfUuEoAYyAACkNQ7vrPn7q/p4BWd6vnE+9Xy6quSim/5NeTlg71sVspnABkDWBJnly/dv8DQQwYQQMEb3zBMx0h647AG2bv6AqRhw+pZpIqyGnuDWbvb0QXclKAAt4acXb5MAAGGHgJAAAVWQ2+GLNfTrUxfgGSGJacLWH0TPqyerNTd3ftckmY511BRBpDxf8CQQwAIoCCT6Q2Qstke2bv6AqQEZgCtbFbq6du+RjKApbCt/tMHXcDA0EMACKAgk+nLAGZ7lNmdxACwd/vsnqysvu2z6AIuiTPrRwYQGHoIAAEU2H0TInLZbjXs6ul9bvge9SxSRRVlALt7ip5DPM6sH2MAgaGHABBAgdV3UreyOTX0BUgaNryOJaqsfAYw05OV1dMXADYlaIxjDdEFDAxtBIAACkzffZ2Vy6lhd2+AlElQBtBu7A327J6crL4A1yYALAldwMDQRgAIoJ/d1yTkcmrcnZUkWUnKAPaN97OzOdk9BIDlYB1AYGgjAATQLx8AGqPGnt7bwjUkKAOY6csAZnqysvMZwATd6aSWyAACQxsBIIB+fQGglcvJyhlJUkNjcgKk/gygkd3Tm+HMNCVnlnMtOccAMgkEGHoIAAEUWPkAMJuTZXoDwKaG5ARIdt+M30w2p0xfAGg3J2f7aokuYGBoIwAEUGAcXcB2PgPYkJxlUvLZvkw2J7uviztDAFgSuoCBoY0AEEC/TH8XsN0b/6mpOTmTQPLj/TJZU8gANjQlZ/tqiWVggKGNABBAP8c6gPkAsLEhOWMA85NAGrI5ZbJ9GcAEzXKuJRaCBoY2AkAABZZjEkheU2NyukjzS75kslJDfpZzgjKctUQXMDC0EQAC6NcXAObHx0nJygA29I0BbMgZZbK9KU7GAJaGSSDA0EbeHkC/vgAwk82qS1K7JLNpS12LVEn5SSANWaOGvgCwsTk56xzWUtEYQDKAwJBDBhBAv75bwd3/6ja1SjpW0keO+aSWLFlS12JVSkPfeD/bSM3dZADLUdQFTAYQGHIIAAH0s211Sfpa1xblO4FzuZza2trU1dVVz5JVRMYxWSHTt8yN1dBYr+IMaUwCAYY2AkAABZadUbuknOv5bDarjo6OehSpohoz/WsaZvo20s4QvJSCSSDA0EYACKCfbWuSBjYMmUxGEydOrEeJKqqhoVFdklZKWp+Pcm2awVKwDiAwtNHyASiwMhm1SLpu3+HKn9IzmYwWLlyolpaWehatIu77758VxjYelJUulfSPja/VuVRDU9EsYDKAwJBDAAigX98kkE/v0aQ16s2UPfXH32ratGn1LFVFdHV16fIrvl7o3jaSviPpqBNOS8wkl1piEggwtBEAAuiXXwcwm1OLpGMktYwfX88SVUx7e7tyOffoRimXM4mZ5FJLzi5gJoEAQw8BIIACqy+Tk79NWtYqPtEPZZMmTZLtM94vKZNcasmZ9UvKMQKkCb9aAP0KC0H3BoC5BAWALS0tmved2Z6NXlImudQS4/6AoS0ZLTuAirD6xgBmepIXAErSOed8Wi9Jmin1T3Kx7cRMcqklxv0BQxsDNwD06wsA7b5FkpPUBSxJlmWrRdJcSV+S1CFpr8ce1r8f/eH6FmwIch4Xlqw6lgRAKQgAARS4xwAmLQNoOcYAtvQ9Xt1//7qVZyhzdgFbFgEgMNQkp2WXNH/+fE2YMEHDhg3T5MmT9dhjjwW+fteuXZo1a5ZaW1vV3Nyst7zlLbrttttqVFpgEMp3AWd7M4CJCwA9toU7gZSGLmBgaEtMy7d06VLNmDFD8+fP13ve8x4tXLhQxx9/vJ5//nkdcMABnu857bTT9I9//ENLlizRxIkT9corr6inp6fGJQcGD6swCaQ/AGxMUgDoMQvYIpApSZIuDIA0SkwAOG/ePE2bNk2f+9znJEnf/e539fDDD2vBggWaPXv2gNf//Oc/1yOPPKK///3v2meffSRJb37zm2tZZGDQsfvWc2tIaAbQ9gj28hNfEE9RFzBjAIEhJxEt++7du/X0009rypQpRc9PmTJFTzzxhOd7HnjgAR155JGaM2eO9t9/fx100EGaOXOmdu7cWYsiA4NTQ18XcH4SiJ2s8V1eXcAEgKVJ0nEBpFEiMoAbN25UNpvVmDFjip4fM2aMNmzY4Pmev//973r88cc1bNgw3X///dq4caOmT5+u1157zXcc4K5du7Rr167Cv7ds2VK5jQAGgXx3qN0b/yUuA+jVBcwYwPIRDAJDT3Jadg1shIwxvg1TLpeTZVn6r//6L73zne/UCSecoHnz5umOO+7wzQLOnj1bo0aNKjzGJ+QWWUCeezxc4gJArwwgYwDLRhcwMPQkomXfd999lclkBmT7XnnllQFZwbz99ttP+++/v0aNGlV47pBDDpExxveeoJdffrk2b95ceHR2dlZuI4BBwN0dmrOSdXInAwgAvRIRADY1NWny5Mlavnx50fPLly/X0Ucf7fme97znPVq3bp22bdtWeO7FF1+Ubdu+dwRobm7WyJEjix5AknhlAJPUvee5DAwZQAAplIgAUJIuueQSLV68WLfddpteeOEFXXzxxVq7dq0uuOACSb3Zu3PPPbfw+jPPPFOjR4/WZz/7WT3//PN69NFHdemll+q8887T8OHD67UZQH01FAdD2cS0EL08l4FhEkjZknSRAKRFYvo+Tj/9dG3atEnXXnut1q9fr0MPPVQPPfSQWltbJUnr16/X2rVrC69/wxveoOXLl+sLX/iCjjzySI0ePVqnnXaavvGNb9RrE4C688oAJolXdzZdwOVL0jABIC0S1fJNnz5d06dP9/zbHXfcMeC5t771rQO6jYE0c2fDTMLO65ZlKafirg+vbmEASDpaPgAFll18TZhLWNeeJasoqM0mbJYzAERFywegwHbPAk5YC2FZlozj30mb5FIv1CEw9CSseQdQjoFjAJN1YndnAJO2zE29UIfA0EMACKDAanB3AdepIFVCBhAAehEAAihwZwCTNglE0oAMIACkEQEggIIBdwKxkxchOTOASQxw64EsKjD0EAACKEj6GECJDCAASAlbBxBAedyLIpsEXiISAFbQZkmvSTv231HvkgCIKYHNO4BSDZwEkrwIyT0JBKVZsmSJ9F1Jd0o/Pv/Hvf8GMGQQAAIoYBIIoujq6tL5559fiKaNMWpra1NXV1d9CwYgMgJAAAWWqws4+ZNAkrd9tdDe3q5cLlf0XDabVUdHR51KBCAuAkAABQPvBJK8AIkMYPkmTZok2y4+fWQyGU2cOLFOJQIQFwEggIJUdAE7/p8AsDQtLS1atGiR8jcAsWxLCxcuVEtLS30LBiAyZgEDKLAbGov+ncQuUjKAlTFt2jS9Nu413fXru3T35+7WYZMOq3eRAMRAAAigYMBC0EkMAJ3/SOD21dKlx1+qS4+/tN7FAFACuoABFAxcBzB5ARIZQAAgAATgMOBOIIkMAPu3iQAQQFoRAAIoGJABTGAXqTMDmMTtA4AoCAABFAyYBJLEDKDj/3O0gABSiuYPQIF7EkgSM2TFGcD6lQMA6okAEEBBKiaBOP4/ibOcASAKAkAABe4AMJmTQLz/HwDShAAQQIGdgjuBOCUxwAWAKAgAARTYdkY5x7+NnbwmIonjGgEgruS17gBKZlu2so5WIYnBUtFC0GQAAaQUASCAAtuyixZHTvokkKR3cQOAHwJAAAWpCACLbgWXvO0DgCgIAAEUpCEAdCIDCCCtCAABFAwIAK3kNRHOcY1JD3ABwE/yWncAJbMtW1mr6Im6laVa6AIGAAJAAA5p6AIungSSvO0DgCgIAAEUDAwAE9hEFG1f/YoBAPVE8wegwB0AJrGLtGgMYAK3DwCiaAh/CYC0sC1bXUb6s6RJvU/UuUSVRxcwAJABBOBw+2236x07pWMltUpavm57vYtUeUWznOtXDACoJwJAAJKkrq4utbW1Fe4FnJN06582qaurq57FqjgjloEBAAJAAJKk9vZ25XK5oudykjo6OupToCoxRRlAAkAA6UQACECSNGnSJNmuWb+2JU2cOLFOJaqOonUAyQACSCkCQACSpJaWFi1atEiZvn9nJLUdPkYtLS31LFZVkQEEkFYEgAAKpk2bpif2lFZKWiPp2Al717lElccyMADAMjAAXMZmLB2QXywlgV2kJuF3OgGAKMgAAihStE5eJuFNBBlAAClFBhBAMUvqktQuaePOnnqXpuKKu4DrWBAAqKOEX94DiOve3b2LQB8r6cIH/6olS5bUu0gVRRcwABAAAnDo6urSFdtNYTFoI6mtrS1xi0HnMQkEQFoRAAIoaG9vV871XDabTdRi0EVdwGQAAaQUASCAgkmTJg1oFDKZTKIWg+ZOIABAAAjAoaWlRde9wSosBm1b0sKFCxO7GLSxaQIBpBOzgAEUOXWYrbO3ZdUh6a+fOlzTpk2rd5Eqii5gACAABOBmSS3qfWx6w7B6l6by6AIGALqAARQzzggpgQFS0rcPAKIgAARQxBTFRwlsIlgHEAAIAAG4OGOiBAZIRd2+ZAABpBQBIIAiSe8i5U4gAEAACMAl8V3ADibh2wcAfmj9ABQxaeoCTuD2AUAUBIAAfCUyA0gXMAAQAAIoVjxJInlNRNFC0AncPgCIgtYPQJHiMYAJz5CRAQSQUgSAAHxZCbxXLsvAAAABIACXxAdIjAEEAAJAAMWSvgxM8Szg5G0fAERB6wfAXxIzgA4m4dsHAH4SFQDOnz9fEyZM0LBhwzR58mQ99thjkd73m9/8Rg0NDfr3f//36hYQGAKcQVHSM4CGDCCAlEpM67d06VLNmDFDs2bN0rPPPqv3ve99Ov7447V27drA923evFnnnnuuPvShD9WopMDgVrwQdGKaiH4JX+gaAKJITOs+b948TZs2TZ/73Od0yCGH6Lvf/a7Gjx+vBQsWBL6vra1NZ555po466qgalRQYOpK4DAzrAAJAQgLA3bt36+mnn9aUKVOKnp8yZYqeeOIJ3/fdfvvt+tvf/qarr7662kUEhoxU3Sot6dsHAD4a6l2ASti4caOy2azGjBlT9PyYMWO0YcMGz/e0t7frsssu02OPPaaGhmjVsGvXLu3atavw7y1btpReaGBISMQ1YhHGAAJAwlp3d3eVMcazCyubzerMM8/U1772NR100EGRP3/27NkaNWpU4TF+/PiyywwMOkV3gktghqxokksCtw8AIkhEALjvvvsqk8kMyPa98sorA7KCkrR161b9/ve/10UXXaSGhgY1NDTo2muv1XPPPaeGhgatWLHC83suv/xybd68ufDo7OysyvYA9ZSmhaATOckFACJIRBdwU1OTJk+erOXLl+sTn/hE4fnly5fr4x//+IDXjxw5Un/84x+Lnps/f75WrFih//7v/9aECRM8v6e5uVnNzc2VLTww6BSlAOtXjCoxck4CSWCACwARJCIAlKRLLrlE55xzjo488kgdddRRWrRokdauXasLLrhAUm/27uWXX9Zdd90l27Z16KGHFr3/TW96k4YNGzbgeSBtiu8EksAAiQwgACQnADz99NO1adMmXXvttVq/fr0OPfRQPfTQQ2ptbZUkrV+/PnRNQAAqDpASGAAyCQQAEhQAStL06dM1ffp0z7/dcccdge+95pprdM0111S+UMAQY5TsMYDGstQlqV3Sxp3d9S4OANQFl78AihUNAUxeE/HApp1qlXSspPPvXaUlS5bUu0gAUHPJa90BlKV4FnCymoiuri59e+1W5fr+bUzv3YC6urrqWi4AqLVkte4Aypfge+W2t7cXgr+8bDarjo6OupQHAOqFABBAkSSPAZw0adKARi+TyWjixIl1KQ8A1AsBIIBiCZ4F3NLSoq9MGKVM379tS1q4cKFaWlrqWi4AqDUCQABFTNGt0pLXRJz0xj20RtJKSbeed4ymTZtW5xIBQO0lahkYABVQlAFMXgAoy1KLpBZJ/xy1R71LAwB1kcDWHUA5nGMArYRNApFcs5wTuMwNAERB6wegWILHAEoq2j7uBAIgrWj9ABQpXgcwgQFgUYaTJhBAOtH6AShWFP8lr4ngXsAAQAAIwKVoDGACA8CiLu5MArcPACKg9QNQLMF3ApFU3K1NBhBAStH6ASiS9DGAzAIGAAJAAG4pWAewIJPxfx0AJFgCW3cA5XGOAUxeBjDxAS4AREDrB6BY4tcBdGYAaQIBpBOtH4AiJunr5DEGEAAIAAG4JH0dwKIAlzGAANIpea07gLIkfRYwt4IDAAJAAG6JDwAdGUBmAQNIKQJAAMWc8V8SM2SOANDONNSxIABQPwls3QGUI+m3gjNkAAGAABCAS9K7gB2YBAIgrQgAARRLehew7cwA0gUMIJ0S2LoDKEtR1i+JGUC6gAGAABBAkaJlYOzkBYCGSSAAQAAIwCXhC0EzCxgACAABuCR9FnBRgEsACCClEti6AyhL0u+V68wANhAAAkinBLbuAMpS1AWcvDGARXcCYRkYAClFAAigWNLXAWQhaAAgAARQrOhOGQkcA8gsYAAgAATglvCFoK2iALCxjiUBgPpJXusOoEzOMXIJbCKYBAIABIAAihk74XcCYRIIABAAAvCXxAwgYwABgAAQgFuKZgETAAJIKwJAAC4JHwPoYDcwCQRAOiW7dQcQX9LvBWyTAQSABLbuAMpS1AWcxCaif/syLAMDIKWS2LoDKEfRLNkEjgG0uRMIABAAAiiS9DuBODOAdAEDSKsktu4AylG0DGDyMoCW6f//TENT/QoCAHVEAAigmHOZlAQulOwMabkTCIC0IgAE4JLsdQBt058CZBIIgLQiAARQpGgMYALXAXR2AXMrOABplbzWHUB5En4nkKIxgI2MAQSQTgSAAIolfCHoojGAzAIGkFLJa90BlCfhy8AUzwJmDCCAdEpe6w6gPCkaA8gkEABplbzWHUB5kh4Aqj8CpAsYQFolr3UHUJ6k3ws41/+/GQJAACmVwNYdQFkSngGU6Y8AMxbLwABIpwS27gDKkvBlYORcCJp1AAGkFAEggCIm6beCcwaAZAABpBQBIIBiCe8CNmQAAYAAEIBLUbdvAruAc/1jAO0kTnIBgAho/QD4SmIGUHQBAwABIIBiVsLvBOIMAMkAAkgrWj8AxZxdwHYCu4AdAaCVxFnOABABASCAIkmfBewMAAEgrQgAAbgkvQs4F/4aAEi4BLbuAMpiJ3sZGDKAAJCwAHD+/PmaMGGChg0bpsmTJ+uxxx7zfe19992nj3zkI3rjG9+okSNH6qijjtLDDz9cw9ICg1XSl4EhAASAxASAS5cu1YwZMzRr1iw9++yzet/73qfjjz9ea9eu9Xz9o48+qo985CN66KGH9PTTT+uDH/ygTjrpJD377LM1LjkwyDhahSRmAA0ZQACQZRLSGr7rXe/SEUccoQULFhSeO+SQQ3TyySdr9uzZkT7j7W9/u04//XRdddVVkV6/ZcsWjRo1Sps3b9bIkSNLKjcw2Pzq7PfoQ//1hCTppRd+q9a3vqvOJaqsp46ZpHc90tH7j2Q0fwBi4vydkAzg7t279fTTT2vKlClFz0+ZMkVPPPFEpM/I5XLaunWr9tlnH9/X7Nq1S1u2bCl6AInjXPolicukEPQBQDICwI0bNyqbzWrMmDFFz48ZM0YbNmyI9BnXX3+9tm/frtNOO833NbNnz9aoUaMKj/Hjx5dVbmBwSvokEGYBA0CiWnf3oq7GmEgLvd5zzz265pprtHTpUr3pTW/yfd3ll1+uzZs3Fx6dnZ1llxkYdOykLwNDBhAAGupdgErYd999lclkBmT7XnnllQFZQbelS5dq2rRp+tGPfqQPf/jDga9tbm5Wc3Nz2eUFBjMr8RlAAkAASETr3tTUpMmTJ2v58uVFzy9fvlxHH3207/vuuecefeYzn9Hdd9+tE088sdrFBIacJGYALZaBAYBkZAAl6ZJLLtE555yjI488UkcddZQWLVqktWvX6oILLpDU23378ssv66677pLUG/yde+65uvHGG/Xud7+7kD0cPny4Ro0aVbftAOrNSvydQAgAASAxAeDpp5+uTZs26dprr9X69et16KGH6qGHHlJra6skaf369UVrAi5cuFA9PT268MILdeGFFxaenzp1qu64445aFx8YPJyTgBPZBVzvAgBA/SUmAJSk6dOna/r06Z5/cwd1v/71r6tfIGAIIgMIAMmXwNYdQKUkMwNIAAgACWzdAZQj6RlAi3UAAYAAEICLYwygbWfqV45qIQMIAASAAIpZRRFgEm8FV+8CAED9EQAC8JXELmAygABAAAjAzREgJXESCAtBAwABIIAASc0AdklaKamrq6vepQGAukhg6w6gUpKYAfyfTTvVKulYSa2trVqyZEm9iwQANZe81h1AxSRtFnBXV5eue3mb8gvB5HI5tbW1kQkEkDoEgAB8Ja0LuL29fcAk4Gw2q46OjrqUBwDqJVmtO4CKSloX8KRJk2S7timTyWjixIl1KhEA1EeyWncAZTPOWcAJywC2tLRo0aJFymR6u7YzmYwWLlyolpaWOpcMAGqrod4FADB4JS0DKEnTpk3Tcccdp46ODk2cOJHgD0AqEQACKOK890fSJoHktbS0EPgBSLXkXd4DqJikdQEDAHrRugPwlcQuYAAAASCAAFZRhzAAICkIAAEUMXLOAiYABIAkIgAE4IsMIAAkEwEgAF82k0AAIJFo3QH4ogsYAJKJABAAACBlCAABAABShgAQQDET/hIAwNBGAAgAAJAyBIAAAAApQwAIAACQMgSAAIoZBgECQNIRAAIAAKQMASAAAEDKEAACAACkDAEgAABAyhAAAgAApAwBIAAAQMoQAAIAAKQMASAAAEDKEAACAACkDAEgAABAyhAAAgAApAwBIAAAQMoQAAIoYmTqXQQAQJURAAIAAKQMASAAAEDKEAACAACkDAEgAABAyhAAAgAApAwBIAAAQMoQAAIAAKQMASAAAEDKEAACKGZYCBoAko4AEAAAIGUIAAEAAFKGABAAACBlCAABAABShgAQAAAgZQgAAQzQJWmlpK6urnoXBQBQBQSAAIr8rGODWiUdK6m1tVVLliypd5EAABVGAAigoKurS/N+26Fc379zuZza2trIBAJAwhAAAihob28vBH952WxWHR0ddSkPAKA6CAABFEyaNEm2XdwsZDIZTZw4sU4lAgBUAwEggIKWlhYtWrRImUxGUm/wt3DhQrW0tNS5ZACASrKM4cafpdqyZYtGjRqlzZs3a+TIkfUuDlAxXV1d6ujo0MSJEwn+ACQO52+pod4FADD4tLS0EPgBQIIlqgt4/vz5mjBhgoYNG6bJkyfrscceC3z9I488osmTJ2vYsGE68MADdeutt9aopAAAAPWTmABw6dKlmjFjhmbNmqVnn31W73vf+3T88cdr7dq1nq9fvXq1TjjhBL3vfe/Ts88+qyuuuEJf/OIX9eMf/7jGJQcAAKitxIwBfNe73qUjjjhCCxYsKDx3yCGH6OSTT9bs2bMHvP6rX/2qHnjgAb3wwguF5y644AI999xzevLJJyN9J2MIAAAYejh/JyQDuHv3bj399NOaMmVK0fNTpkzRE0884fmeJ598csDrjzvuOP3+979Xd3e353t27dqlLVu2FD0AAACGmkQEgBs3blQ2m9WYMWOKnh8zZow2bNjg+Z4NGzZ4vr6np0cbN270fM/s2bM1atSowmP8+PGV2QAAAIAaSkQAmGdZVtG/jTEDngt7vdfzeZdffrk2b95ceHR2dpZZYgAAgNpLxDIw++67rzKZzIBs3yuvvDIgy5c3duxYz9c3NDRo9OjRnu9pbm5Wc3NzZQoNAABQJ4nIADY1NWny5Mlavnx50fPLly/X0Ucf7fmeo446asDrf/GLX+jII49UY2Nj1coKAABQb4kIACXpkksu0eLFi3XbbbfphRde0MUXX6y1a9fqggsukNTbfXvuuecWXn/BBRfopZde0iWXXKIXXnhBt912m5YsWaKZM2fWaxMAAABqIhFdwJJ0+umna9OmTbr22mu1fv16HXrooXrooYfU2toqSVq/fn3RmoATJkzQQw89pIsvvli33HKLxo0bp5tuukmf+tSn6rUJAAAANZGYdQDrgXWEAAAYejh/JygDWA/52Jn1AAEAGDry5+0058AIAMuwdetWSWI9QAAAhqCtW7dq1KhR9S5GXdAFXIZcLqd169Zpzz33DFxvMA22bNmi8ePHq7OzM7Xp9FqhrmuDeq4N6rk2qOdixhht3bpV48aNk20nZj5sLGQAy2DbtlpaWupdjEFl5MiRNC41Ql3XBvVcG9RzbVDP/dKa+ctLZ9gLAACQYgSAAAAAKUMAiIpobm7W1Vdfza3yaoC6rg3quTao59qgnuHGJBAAAICUIQMIAACQMgSAAAAAKUMACAAAkDIEgAAAAClDAIhYenp69J//+Z+aMGGChg8frgMPPFDXXnutcrlc4TXGGF1zzTUaN26chg8frmOOOUZ//vOf61jqoWnr1q2aMWOGWltbNXz4cB199NH63e9+V/g79Rzfo48+qpNOOknjxo2TZVn6yU9+UvT3KHW6a9cufeELX9C+++6rESNG6GMf+5i6urpquBWDX1g933fffTruuOO07777yrIs/eEPfxjwGdRzNEF13d3dra9+9as67LDDNGLECI0bN07nnnuu1q1bV/QZ1HU6EQAilm9/+9u69dZbdfPNN+uFF17QnDlzNHfuXH3ve98rvGbOnDmaN2+ebr75Zv3ud7/T2LFj9ZGPfKRw72RE87nPfU7Lly/XD37wA/3xj3/UlClT9OEPf1gvv/yyJOq5FNu3b9fhhx+um2++2fPvUep0xowZuv/++3Xvvffq8ccf17Zt2/TRj35U2Wy2Vpsx6IXV8/bt2/We97xH3/rWt3w/g3qOJqiud+zYoWeeeUZXXnmlnnnmGd1333168cUX9bGPfazoddR1ShkghhNPPNGcd955Rc998pOfNGeffbYxxphcLmfGjh1rvvWtbxX+/vrrr5tRo0aZW2+9taZlHcp27NhhMpmM+elPf1r0/OGHH25mzZpFPVeAJHP//fcX/h2lTv/1r3+ZxsZGc++99xZe8/LLLxvbts3Pf/7zmpV9KHHXs9Pq1auNJPPss88WPU89lyaorvNWrVplJJmXXnrJGENdpxkZQMTy3ve+V7/61a/04osvSpKee+45Pf744zrhhBMkSatXr9aGDRs0ZcqUwnuam5v1gQ98QE888URdyjwU9fT0KJvNatiwYUXPDx8+XI8//jj1XAVR6vTpp59Wd3d30WvGjRunQw89lHqvIOq5ejZv3izLsrTXXntJoq7TrKHeBcDQ8tWvflWbN2/WW9/6VmUyGWWzWV133XX69Kc/LUnasGGDJGnMmDFF7xszZoxeeumlmpd3qNpzzz111FFH6etf/7oOOeQQjRkzRvfcc4+eeuopTZo0iXqugih1umHDBjU1NWnvvfce8Jr8+1E+6rk6Xn/9dV122WU688wzNXLkSEnUdZqRAUQsS5cu1Q9/+EPdfffdeuaZZ3TnnXfqO9/5ju68886i11mWVfRvY8yA5xDsBz/4gYwx2n///dXc3KybbrpJZ555pjKZTOE11HPllVKn1HttUM+l6+7u1hlnnKFcLqf58+eHvp66Tj4CQMRy6aWX6rLLLtMZZ5yhww47TOecc44uvvhizZ49W5I0duxYSRpw5fjKK68MyKwg2Fve8hY98sgj2rZtmzo7O7Vq1Sp1d3drwoQJ1HMVRKnTsWPHavfu3frnP//p+xqUj3qurO7ubp122mlavXq1li9fXsj+SdR1mhEAIpYdO3bItosPm0wmU1gGJh+cLF++vPD33bt365FHHtHRRx9d07ImxYgRI7Tffvvpn//8px5++GF9/OMfp56rIEqdTp48WY2NjUWvWb9+vf70pz9R7xVEPVdOPvhrb2/XL3/5S40ePbro79R1ejEGELGcdNJJuu6663TAAQfo7W9/u5599lnNmzdP5513nqTe7rMZM2bom9/8piZNmqRJkybpm9/8pvbYYw+deeaZdS790PLwww/LGKODDz5YHR0duvTSS3XwwQfrs5/9LPVcom3btqmjo6Pw79WrV+sPf/iD9tlnHx1wwAGhdTpq1ChNmzZNX/7ylzV69Gjts88+mjlzpg477DB9+MMfrtdmDTph9fzaa69p7dq1hfXo/vrXv0rqzUaNHTuWeo4hqK7HjRunU045Rc8884x++tOfKpvNFjLc++yzj5qamqjrNKvfBGQMRVu2bDFf+tKXzAEHHGCGDRtmDjzwQDNr1iyza9euwmtyuZy5+uqrzdixY01zc7N5//vfb/74xz/WsdRD09KlS82BBx5ompqazNixY82FF15o/vWvfxX+Tj3Ht3LlSiNpwGPq1KnGmGh1unPnTnPRRReZffbZxwwfPtx89KMfNWvXrq3D1gxeYfV8++23e/796quvLnwG9RxNUF3nl9nxeqxcubLwGdR1OlnGGFOrYBMAAAD1xxhAAACAlCEABAAASBkCQAAAgJQhAAQAAEgZAkAAAICUIQAEAABIGQJAAACAlCEABAAASBkCQAAAgJQhAAQAAEgZAkAAAICUIQAEAABIGQJAAACAlCEABAAASBkCQAAAgJQhAAQAAEgZAkAAAICUIQAEAABIGQJAAACAlCEABAAASBkCQAAAgJQhAAQAAEgZAkAAAICUIQAEAABIGQJAAACAlCEABAAASBkCQAAAgJQhAAQAAEgZAkAAAICUIQAEAABIGQJAAACAlPn/AcluZ9uoIbB+AAAAAElFTkSuQmCC' width=640.0/>\n",
       "            </div>\n",
       "        "
      ],
      "text/plain": [
       "Canvas(toolbar=Toolbar(toolitems=[('Home', 'Reset original view', 'home', 'home'), ('Back', 'Back to previous …"
      ]
     },
     "metadata": {},
     "output_type": "display_data"
    }
   ],
   "source": [
    "est_chi_square = (dc.pw.exp.exp_trans-dc.pw.exp.final_trans) @ inv(dc.pw.CovT) @ (dc.pw.exp.exp_trans-dc.pw.exp.final_trans).T\n",
    "sol_chi_square = (dc.pw.exp.exp_trans-dc.pw.exp.true_trans) @ inv(dc.pw.CovT) @ (dc.pw.exp.exp_trans-dc.pw.exp.true_trans).T\n",
    "from scipy import integrate\n",
    "est_sol_MSE = integrate.trapezoid((dc.pw.fine.true_xs-dc.pw.fine.final_xs)**2, dc.pw.fine.E)\n",
    "\n",
    "print(f'Chi2 estimate to data: {est_chi_square}')\n",
    "print(f'Chi2 true to data: {sol_chi_square}')\n",
    "print(f'Integral SE estimate to true: {est_sol_MSE}')\n",
    "\n",
    "\n",
    "figure()\n",
    "plot(dc.pw.fine.E, dc.pw.fine.true_xs, 'g')\n",
    "plot(dc.pw.fine.E, dc.pw.fine.final_xs, 'r')\n",
    "yscale('log')\n",
    "# ylim([0,dc.exp_par.max_xs+100])\n",
    "figure()\n",
    "plot(dc.pw.exp.E, dc.pw.exp.true_trans, 'g')\n",
    "plot(dc.pw.exp.E, dc.pw.exp.final_trans, 'r')\n",
    "\n",
    "# plot(dc.pw.exp.E, dc.pw.exp[f'{selected_model_ires}_post'], 'b')\n",
    "\n",
    "plot(dc.pw.exp.E, dc.pw.exp.exp_trans, '.k')\n"
   ]
  },
  {
   "attachments": {},
   "cell_type": "markdown",
   "metadata": {},
   "source": [
    "## Notes\n",
    "\n",
    "#### Initial uncertainty on parameters in sammy\n",
    "should be large, we don't have a prior we just want the GLLS to converge.\n",
    "\n",
    "Fudge factor cant be too larger for numerics:\n",
    " - M' = (M^-1 + (G.T @ V^-1 @ G.T) )^-1\n",
    " - first term is full rank, second is not guranteed (it is if NEpts>=NPar). Becasue the first term is full rank, then adding it to the second makes the whole thing full rank and therefore invertable. However, if the first term (M^-1 or 1/prior variance) is driven numerically to 0, then you are left with only the second term. If it is not full rank it won't be invertable then the thing will not be numerically stable. \n",
    "\n",
    "#### Sammy is not always converging\n",
    "- could run sammy multiple times?\n",
    "- also, the problem is resolved when I 'cheat' with the resonance energies. I think having multiple small resonances right on top of one another is causing sammy to run away.\n",
    "\n",
    "\n",
    "#### Unexpected behavior when finding integer number of resonances\n",
    "Often times the weight constrained solution for an integer number of resonances will have selected a smaller resonance than expected when there's a larger existing resonance that would drive the chi2 even lower. I believe this is a problem with not finding the maximum weight solution to an integer number of resonances.\n",
    "\n",
    "- Now I am driving neutron width to the total leaving 0 Gt, currently hard coded max Gn = Gt-0.005\n",
    "\n",
    "#### LRT\n",
    "I am currently calculating the likelihood using sts.multivariate_normal.pdf. When trying to calculate it using just the chi2 to the data, I get an error because the determinate of the covariance matrix is 0... This seems incorrect.\n",
    "\n",
    "Using LRT for nested models only works if the nested parameter are the exact same. I don't beleive that this is the case.\n",
    "\n",
    "#### Other\n",
    "- Can cutoff weights at 1e-5 or 6 because this corresponds directly to a neutron width this small of a resonance is insignificant"
   ]
  },
  {
   "cell_type": "code",
   "execution_count": null,
   "metadata": {},
   "outputs": [],
   "source": [
    "\n"
   ]
  }
 ],
 "metadata": {
  "kernelspec": {
   "display_name": "atari",
   "language": "python",
   "name": "python3"
  },
  "language_info": {
   "codemirror_mode": {
    "name": "ipython",
    "version": 3
   },
   "file_extension": ".py",
   "mimetype": "text/x-python",
   "name": "python",
   "nbconvert_exporter": "python",
   "pygments_lexer": "ipython3",
   "version": "3.9.16"
  },
  "orig_nbformat": 4
 },
 "nbformat": 4,
 "nbformat_minor": 2
}
