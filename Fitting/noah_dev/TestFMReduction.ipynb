{
 "cells": [
  {
   "cell_type": "code",
   "execution_count": 1,
   "metadata": {},
   "outputs": [],
   "source": [
    "import numpy as np\n",
    "import pandas as pd\n",
    "import os\n",
    "from matplotlib.pyplot import *\n",
    "import h5py\n",
    "import scipy.stats as sts\n",
    "\n",
    "from ATARI.syndat.particle_pair import Particle_Pair\n",
    "from ATARI.syndat.experiment import Experiment\n",
    "from ATARI.syndat.MMDA import generate\n",
    "from ATARI.theory.xs import SLBW\n",
    "from ATARI.theory.scattering_params import FofE_recursive\n",
    "from ATARI.theory.scattering_params import gstat\n",
    "from ATARI.utils.datacontainer import DataContainer\n",
    "from ATARI.utils.atario import fill_resonance_ladder\n",
    "\n",
    "from numpy.linalg import inv\n",
    "from scipy.linalg import block_diag\n",
    "\n",
    "from scipy.optimize import lsq_linear\n",
    "from qpsolvers import solve_qp\n",
    "from scipy.optimize import linprog\n",
    "\n",
    "import functions as fn \n"
   ]
  },
  {
   "cell_type": "code",
   "execution_count": 2,
   "metadata": {},
   "outputs": [],
   "source": [
    "%matplotlib widget"
   ]
  },
  {
   "cell_type": "code",
   "execution_count": 3,
   "metadata": {},
   "outputs": [
    {
     "name": "stdout",
     "output_type": "stream",
     "text": [
      "User provided case file does not exist, making file at : /Users/noahwalton/research_local/resonance_fitting/ATARI_workspace/SLBW_noexp/lasso/TestFMReduction.hdf5\n"
     ]
    }
   ],
   "source": [
    "\n",
    "ac = 0.81271  # scattering radius in 1e-12 cm \n",
    "M = 180.948030  # amu of target nucleus\n",
    "m = 1           # amu of incident neutron\n",
    "I = 3.5         # intrinsic spin, positive parity\n",
    "i = 0.5         # intrinsic spin, positive parity\n",
    "l_max = 1       # highest order l-wave to consider\n",
    "\n",
    "\n",
    "spin_groups = [ (3.0,1,0) ]\n",
    "average_parameters = pd.DataFrame({ 'dE'    :   {'3.0':8.79, '4.0':4.99},\n",
    "                                    'Gg'    :   {'3.0':64.0, '4.0':64.0},\n",
    "                                    'gn2'    :   {'3.0':46.4, '4.0':35.5}  })\n",
    "\n",
    "Ta_pair = Particle_Pair( ac, M, m, I, i, l_max,\n",
    "                                input_options={},\n",
    "                                spin_groups=spin_groups,\n",
    "                                average_parameters=average_parameters )   \n",
    "\n",
    "\n",
    "E_min_max = [550, 600]\n",
    "energy_grid = E_min_max\n",
    "\n",
    "input_options = {'Add Noise': True,\n",
    "                'Calculate Covariance': True,\n",
    "                'Compression Points':[],\n",
    "                'Grouping Factors':None}\n",
    "\n",
    "experiment_parameters = {'bw': {'val':0.0256,   'unc'   :   0},\n",
    "                         'n':  {'val':0.06,     'unc'   :0}}\n",
    "\n",
    "# initialize experimental setup\n",
    "exp = Experiment(energy_grid, \n",
    "                        input_options=input_options, \n",
    "                        experiment_parameters=experiment_parameters)\n",
    "\n",
    "\n",
    "case_file = '/Users/noahwalton/research_local/resonance_fitting/ATARI_workspace/SLBW_noexp/lasso/TestFMReduction.hdf5'\n",
    "dataset_range = (0, 10)\n",
    "samples_not_generated = generate(Ta_pair, exp, \n",
    "                                        'syndat_SLBW', \n",
    "                                        dataset_range, \n",
    "                                        case_file,\n",
    "                                        fixed_resonance_ladder=None, \n",
    "                                        open_data=None,\n",
    "                                        vary_Erange=None,\n",
    "                                        use_hdf5=True,\n",
    "                                        overwrite = False\n",
    "                                                                    )"
   ]
  },
  {
   "cell_type": "code",
   "execution_count": 10,
   "metadata": {},
   "outputs": [
    {
     "name": "stdout",
     "output_type": "stream",
     "text": [
      "<KeysViewHDF5 ['exp_cov', 'exp_pw', 'theo_par', 'theo_pw']>\n"
     ]
    }
   ],
   "source": [
    "import ATARI.atari_io.hdf5 as io\n",
    "from ATARI.utils.datacontainer import DataContainer\n",
    "from ATARI.theory.experimental import trans_2_xs\n",
    "\n",
    "\n",
    "theo_resladder = pd.read_hdf(case_file, 'sample_0/theo_par')\n",
    "exp_pw, exp_cov = io.read_experimental(case_file, 2)\n",
    "\n",
    "dc = DataContainer()\n",
    "dc.add_theoretical(Ta_pair, theo_resladder)\n",
    "threshold_0T = 1e-2\n",
    "dc.add_experimental(exp_pw, exp_cov, threshold=threshold_0T)\n",
    "\n",
    "# max_xs, _ = trans_2_xs(threshold_0T, dc.n)\n",
    "\n",
    "# figure()\n",
    "# plot(dc.pw_fine.E, dc.pw_fine.theo_xs)\n",
    "# errorbar(dc.pw_exp.E, dc.pw_exp.exp_xs, yerr=dc.pw_exp.exp_xs_unc, fmt='.', capsize=2)\n",
    "# ylim([-max_xs*.1, max_xs*1.25])\n"
   ]
  },
  {
   "cell_type": "code",
   "execution_count": null,
   "metadata": {},
   "outputs": [],
   "source": []
  }
 ],
 "metadata": {
  "kernelspec": {
   "display_name": "atari",
   "language": "python",
   "name": "python3"
  },
  "language_info": {
   "codemirror_mode": {
    "name": "ipython",
    "version": 3
   },
   "file_extension": ".py",
   "mimetype": "text/x-python",
   "name": "python",
   "nbconvert_exporter": "python",
   "pygments_lexer": "ipython3",
   "version": "3.9.16"
  },
  "orig_nbformat": 4
 },
 "nbformat": 4,
 "nbformat_minor": 2
}
