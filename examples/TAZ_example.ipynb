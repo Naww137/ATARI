{
 "cells": [
  {
   "cell_type": "code",
   "execution_count": 1,
   "metadata": {},
   "outputs": [],
   "source": [
    "import sys\n",
    "sys.path.append('../')\n",
    "\n",
    "import matplotlib.pyplot as plt\n",
    "import numpy as np\n",
    "import pandas as pd\n",
    "\n",
    "from ATARI.ModelData.particle_pair import Particle_Pair\n",
    "from ATARI.ModelData.particle import Particle, Neutron\n",
    "\n",
    "from ATARI.TAZ import ATARI_interface\n",
    "from ATARI.TAZ.PTBayes import PTBayes\n",
    "from ATARI.TAZ.RunMaster import RunMaster"
   ]
  },
  {
   "cell_type": "code",
   "execution_count": 2,
   "metadata": {},
   "outputs": [],
   "source": [
    "# %matplotlib widget"
   ]
  },
  {
   "cell_type": "code",
   "execution_count": null,
   "metadata": {},
   "outputs": [
    {
     "name": "stdout",
     "output_type": "stream",
     "text": [
      "Spin group data for all parity\n",
      "(Jpi, #Chs, l-waves)\n",
      "(-5.0, 1, [1])\n",
      "(-4.0, 2, [1, 1])\n",
      "(-3.0, 2, [1, 1])\n",
      "(-2.0, 1, [1])\n",
      "(3.0, 1, [0])\n",
      "(4.0, 1, [0])\n",
      "\n",
      "Interrogate spin group attribute:\n",
      "{'Jpi': 3.0, 'J_ID': 1, '<D>': 9.003, '<gn2>': 452.56615, 'n_dof': 1, '<gg2>': 32.0, 'g_dof': 1000, 'quantiles': {'D01': 1.0184333135415622, 'D99': 21.80043460630884, 'gn01': 0.0710926470659408, 'gn99': 3002.729610372257, 'gg01': 28.765198301747624, 'gg99': 35.42300781927096, 'gt01': 28.836290948813566, 'gt99': 3038.152618191528}, 'chs': 1, 'Ls': [0]}\n",
      "\n",
      "Resonance ladder sampled from resonance statistics:\n",
      "             E         Gg         Gn1  J_ID        gg2          gn2  Jpi    L\n",
      "0   205.971832  64.283150  -33.273570   1.0  32.141575  -652.916082  3.0  0.0\n",
      "1   209.931572  61.602819    5.064385   1.0  30.801410    98.435044  3.0  0.0\n",
      "2   212.482400  63.559758  102.447500   1.0  31.779879  1979.255080  3.0  0.0\n",
      "3   219.604130 -62.148497   26.024084   1.0 -31.074249   494.557840  3.0  0.0\n",
      "4   227.657597 -61.114503  -17.473460   1.0 -30.557252  -326.136734  3.0  0.0\n",
      "5   231.526305  62.910682    1.629716   1.0  31.455341    30.162935  3.0  0.0\n",
      "6   238.973604 -65.028381   10.548902   1.0 -32.514190   192.173797  3.0  0.0\n",
      "7   248.399226  62.304871    0.242562   1.0  31.152436     4.334212  3.0  0.0\n",
      "8   261.238640 -64.202496    8.952156   1.0 -32.101248   155.980676  3.0  0.0\n",
      "9   267.133689  68.429059   28.266863   1.0  34.214529   487.051811  3.0  0.0\n",
      "10  281.349269  59.288116  -64.977783   1.0  29.644058 -1090.947566  3.0  0.0\n",
      "11  287.874210 -69.132594  -52.204918   1.0 -34.566297  -866.506692  3.0  0.0\n",
      "12  290.582564  67.661119  -49.510372   1.0  33.830559  -817.943491  3.0  0.0\n",
      "13  311.669290  66.151627   77.565821   1.0  33.075814  1237.329226  3.0  0.0\n",
      "14  318.907711 -66.441123 -137.856053   1.0 -33.220562 -2173.978343  3.0  0.0\n",
      "15  330.991579 -59.864069    0.693989   1.0 -29.932035    10.742519  3.0  0.0\n",
      "16  341.432079  64.070508  -23.373186   1.0  32.035254  -356.227658  3.0  0.0\n",
      "17  208.474183 -65.680963   -0.022029   2.0 -32.840482    -0.429672  4.0  0.0\n",
      "18  215.393161 -64.394448    0.599396   2.0 -32.197224    11.501636  4.0  0.0\n",
      "19  221.486498  63.956951   -2.927501   2.0  31.978475   -55.396874  4.0  0.0\n",
      "20  226.720812 -61.420169    0.768963   2.0 -30.710084    14.382080  4.0  0.0\n",
      "21  235.452804  67.188958    2.038430   2.0  33.594479    37.411550  4.0  0.0\n",
      "22  240.433636 -61.608444  -18.555684   2.0 -30.804222  -337.008798  4.0  0.0\n",
      "23  250.314496 -62.843381    4.007320   2.0 -31.421690    71.330119  4.0  0.0\n",
      "24  258.099707 -63.757336    0.707978   2.0 -31.878668    12.410460  4.0  0.0\n",
      "25  261.840381 -67.133859   20.208977   2.0 -33.566929   351.712582  4.0  0.0\n",
      "26  268.563494  63.724424   -0.504984   2.0  31.862212    -8.677921  4.0  0.0\n",
      "27  279.065065 -58.027954  -78.344604   2.0 -29.013977 -1320.742755  4.0  0.0\n",
      "28  285.485802 -64.205433  -25.669981   2.0 -32.102716  -427.853577  4.0  0.0\n",
      "29  294.785815  69.907059    0.042930   2.0  34.953530     0.704161  4.0  0.0\n",
      "30  302.171563 -71.431593  -95.213949   2.0 -35.715796 -1542.537270  4.0  0.0\n",
      "31  311.556319  60.086444    1.008810   2.0  30.043222    16.095452  4.0  0.0\n",
      "32  328.865098  59.606486  -40.135142   2.0  29.803243  -623.272251  4.0  0.0\n",
      "33  333.753908 -65.408584    0.513111   2.0 -32.704292     7.909693  4.0  0.0\n",
      "34  347.549125 -59.120866   -1.463080   2.0 -29.560433   -22.101502  4.0  0.0\n",
      "35  349.334741 -61.229993   -1.285345   2.0 -30.614997   -19.366929  4.0  0.0\n"
     ]
    }
   ],
   "source": [
    "Ta181 = Particle(Z=73, A=181, I=3.5, mass=180.94803, name='Ta181')\n",
    "Ta_pair = Particle_Pair(isotope = \"Ta181\",\n",
    "                        resonance_ladder = pd.DataFrame(),\n",
    "                        formalism = \"XCT\",\n",
    "                        energy_range = [200,1000],\n",
    "                        ac = 0.8127,\n",
    "                        target=Ta181,\n",
    "                        projectile=Neutron,\n",
    "                        l_max = 1\n",
    ")\n",
    "\n",
    "# print quant number map up to l_max\n",
    "Ta_pair.map_quantum_numbers(print_out=True)\n",
    "\n",
    "# J = 3, <D> = 9.0030 eV, <gn2> = 452.56615 meV, <gg2> = 32.0 meV\n",
    "# J = 4, <D> = 8.3031 eV, <gn2> = 332.24347 meV, <gg2> = 32.0 meV\n",
    "\n",
    "# add spin group information for both s-wave resonances\n",
    "Ta_pair.add_spin_group(Jpi='3.0',\n",
    "                       J_ID=1,\n",
    "                       D=9.0030,\n",
    "                       gn2_avg=452.56615,\n",
    "                       gn2_dof=1,\n",
    "                       gg2_avg=32.0,\n",
    "                       gg2_dof=1000)\n",
    "\n",
    "Ta_pair.add_spin_group(Jpi='4.0',\n",
    "                       J_ID=2,\n",
    "                       D=8.3031,\n",
    "                       gn2_avg=332.24347,\n",
    "                       gn2_dof=1,\n",
    "                       gg2_avg=32.0,\n",
    "                       gg2_dof=1000)\n",
    "\n",
    "print()\n",
    "print(\"Interrogate spin group attribute:\")\n",
    "print(Ta_pair.spin_groups[3.0])\n",
    "\n",
    "\n",
    "print()\n",
    "print(\"Resonance ladder sampled from resonance statistics:\")\n",
    "print(Ta_pair.sample_resonance_ladder())"
   ]
  },
  {
   "cell_type": "code",
   "execution_count": 4,
   "metadata": {},
   "outputs": [],
   "source": [
    "# Ta_pair.resonance_ladder"
   ]
  },
  {
   "cell_type": "markdown",
   "metadata": {},
   "outputs": [
    {
     "name": "stdout",
     "output_type": "stream",
     "text": [
      "Target Particle      = Ta181\n",
      "Projectile Particle  = neutron?\n",
      "Channel Radius       = 0.8127000 (√b)\n",
      "Energy Bounds        = 2.000e+02 < E < 3.500e+02 (eV)\n",
      "False Level Density  = 0.0000000 (1/eV)\n",
      "\n",
      "                             3+           4+\n",
      "Level Densities        0.111074     0.120437\n",
      "Brody Parameters       1.000000     1.000000\n",
      "Mean Neutron Width   452.566150   332.243470\n",
      "Neutron Width DOF      1.000000     1.000000\n",
      "Mean Gamma Width      32.000000    32.000000\n",
      "Gamma Width DOF     1000.000000  1000.000000\n",
      "Missing Fraction       0.000000     0.000000\n",
      "             E         Gg         Gn1  J_ID        gg2          gn2  Jpi    L\n",
      "0   205.971832  64.283150  -33.273570   1.0  32.141575  -652.916082  3.0  0.0\n",
      "1   208.474183 -65.680963   -0.022029   2.0 -32.840482    -0.429672  4.0  0.0\n",
      "2   209.931572  61.602819    5.064385   1.0  30.801410    98.435044  3.0  0.0\n",
      "3   212.482400  63.559758  102.447500   1.0  31.779879  1979.255080  3.0  0.0\n",
      "4   215.393161 -64.394448    0.599396   2.0 -32.197224    11.501636  4.0  0.0\n",
      "5   219.604130 -62.148497   26.024084   1.0 -31.074249   494.557840  3.0  0.0\n",
      "6   221.486498  63.956951   -2.927501   2.0  31.978475   -55.396874  4.0  0.0\n",
      "7   226.720812 -61.420169    0.768963   2.0 -30.710084    14.382080  4.0  0.0\n",
      "8   227.657597 -61.114503  -17.473460   1.0 -30.557252  -326.136734  3.0  0.0\n",
      "9   231.526305  62.910682    1.629716   1.0  31.455341    30.162935  3.0  0.0\n",
      "10  235.452804  67.188958    2.038430   2.0  33.594479    37.411550  4.0  0.0\n",
      "11  238.973604 -65.028381   10.548902   1.0 -32.514190   192.173797  3.0  0.0\n",
      "12  240.433636 -61.608444  -18.555684   2.0 -30.804222  -337.008798  4.0  0.0\n",
      "13  248.399226  62.304871    0.242562   1.0  31.152436     4.334212  3.0  0.0\n",
      "14  250.314496 -62.843381    4.007320   2.0 -31.421690    71.330119  4.0  0.0\n",
      "15  258.099707 -63.757336    0.707978   2.0 -31.878668    12.410460  4.0  0.0\n",
      "16  261.238640 -64.202496    8.952156   1.0 -32.101248   155.980676  3.0  0.0\n",
      "17  261.840381 -67.133859   20.208977   2.0 -33.566929   351.712582  4.0  0.0\n",
      "18  267.133689  68.429059   28.266863   1.0  34.214529   487.051811  3.0  0.0\n",
      "19  268.563494  63.724424   -0.504984   2.0  31.862212    -8.677921  4.0  0.0\n",
      "20  279.065065 -58.027954  -78.344604   2.0 -29.013977 -1320.742755  4.0  0.0\n",
      "21  281.349269  59.288116  -64.977783   1.0  29.644058 -1090.947566  3.0  0.0\n",
      "22  285.485802 -64.205433  -25.669981   2.0 -32.102716  -427.853577  4.0  0.0\n",
      "23  287.874210 -69.132594  -52.204918   1.0 -34.566297  -866.506692  3.0  0.0\n",
      "24  290.582564  67.661119  -49.510372   1.0  33.830559  -817.943491  3.0  0.0\n",
      "25  294.785815  69.907059    0.042930   2.0  34.953530     0.704161  4.0  0.0\n",
      "26  302.171563 -71.431593  -95.213949   2.0 -35.715796 -1542.537270  4.0  0.0\n",
      "27  311.556319  60.086444    1.008810   2.0  30.043222    16.095452  4.0  0.0\n",
      "28  311.669290  66.151627   77.565821   1.0  33.075814  1237.329226  3.0  0.0\n",
      "29  318.907711 -66.441123 -137.856053   1.0 -33.220562 -2173.978343  3.0  0.0\n",
      "30  328.865098  59.606486  -40.135142   2.0  29.803243  -623.272251  4.0  0.0\n",
      "31  330.991579 -59.864069    0.693989   1.0 -29.932035    10.742519  3.0  0.0\n",
      "32  333.753908 -65.408584    0.513111   2.0 -32.704292     7.909693  4.0  0.0\n",
      "33  341.432079  64.070508  -23.373186   1.0  32.035254  -356.227658  3.0  0.0\n",
      "34  347.549125 -59.120866   -1.463080   2.0 -29.560433   -22.101502  4.0  0.0\n",
      "35  349.334741 -61.229993   -1.285345   2.0 -30.614997   -19.366929  4.0  0.0\n"
     ]
    }
   ],
   "source": [
    "reaction, res_ladder_TAZ, spin_ids = ATARI_interface.ATARI_to_TAZ(Ta_pair)\n",
    "print(reaction)\n",
    "print(res_ladder_TAZ)"
   ]
  },
  {
   "cell_type": "code",
   "execution_count": null,
   "metadata": {},
   "outputs": [],
   "source": [
    "reaction, resonances, Spingroup_IDs = TAZ.ATARI_interface.ATARI_to_TAZ(Ta_pair, false_dens=0.0)\n",
    "\n",
    "print('Target Particle:')\n",
    "print(repr(reaction.targ))\n",
    "print()\n",
    "print('Reaction Parameters')\n",
    "print(reaction)"
   ]
  },
  {
   "cell_type": "markdown",
   "metadata": {},
   "source": [
    "### Porter-Thomas Probabilities\n",
    "\n",
    "`PTBayes` calculates resonance width probabilities using Porter-Thomas distribution. This is almost always the first step in any TAZ algorithm."
   ]
  },
  {
   "cell_type": "code",
   "execution_count": null,
   "metadata": {},
   "outputs": [],
   "source": [
    "PT_probs, PT_log_likelihood = TAZ.PTBayes(resonances, reaction)\n",
    "print('Porter-Thomas Posterior')\n",
    "print(PT_probs)"
   ]
  },
  {
   "cell_type": "markdown",
   "metadata": {},
   "source": [
    "### Preparing RunMaster\n",
    "`RunMaster` is a wrapper around `Encore` that performs pre-and-post processing for each algorithm in `Encore`. Creating a `RunMaster` object will precalculate level-spacings and prepare the __cumulative probabilities__ which will be used in many of the `Encore` algorithms. Note that the `WigMaxLikelihoods` algorithm is a class method of `RunMaster` (and `Encore`) as it does not need to calculate __cumulative probabilities__.\n",
    "\n",
    "`RunMaster` also performs __merging__ if specified which is an approximation that allows one to run `Encore` algorithms with less effective spingroups multiple times. This feature is only useful when 4 or more spingroups are provided. __Merging__ is only supported by `WigBayes` at this time."
   ]
  },
  {
   "cell_type": "code",
   "execution_count": 7,
   "metadata": {},
   "outputs": [],
   "source": [
    "distributions = reaction.distributions('Wigner')\n",
    "runMaster = TAZ.RunMaster(Ta_pair.resonance_ladder['E'],\n",
    "                          Ta_pair.energy_range,\n",
    "                          level_spacing_dists=distributions,\n",
    "                          false_dens=reaction.false_dens,\n",
    "                          prior=PT_probs,\n",
    "                          log_likelihood_prior=PT_log_likelihood)"
   ]
  },
  {
   "cell_type": "markdown",
   "metadata": {},
   "source": [
    "### WigBayes\n",
    "The WigBayes algorithm is run below. The `analysis` module holds various functions for testing performance."
   ]
  },
  {
   "cell_type": "code",
   "execution_count": 8,
   "metadata": {},
   "outputs": [
    {
     "name": "stdout",
     "output_type": "stream",
     "text": [
      "[[0.50644368 0.49355632 0.        ]\n",
      " [0.44144739 0.55855261 0.        ]\n",
      " [0.45113718 0.54886282 0.        ]\n",
      " [0.63563239 0.36436761 0.        ]\n",
      " [0.44253999 0.55746001 0.        ]\n",
      " [0.49060498 0.50939502 0.        ]\n",
      " [0.44687699 0.55312301 0.        ]\n",
      " [0.44282432 0.55717568 0.        ]\n",
      " [0.47378121 0.52621879 0.        ]\n",
      " [0.44438276 0.55561724 0.        ]\n",
      " [0.44509896 0.55490104 0.        ]\n",
      " [0.46044004 0.53955996 0.        ]\n",
      " [0.47486585 0.52513415 0.        ]\n",
      " [0.44183263 0.55816737 0.        ]\n",
      " [0.44845329 0.55154671 0.        ]\n",
      " [0.4426297  0.5573703  0.        ]\n",
      " [0.45684452 0.54315548 0.        ]\n",
      " [0.47633313 0.52366687 0.        ]\n",
      " [0.48985445 0.51014555 0.        ]\n",
      " [0.44226129 0.55773871 0.        ]\n",
      " [0.57272553 0.42727447 0.        ]\n",
      " [0.55009059 0.44990941 0.        ]\n",
      " [0.48393714 0.51606286 0.        ]\n",
      " [0.52778031 0.47221969 0.        ]\n",
      " [0.52293519 0.47706481 0.        ]\n",
      " [0.44147447 0.55852553 0.        ]\n",
      " [0.59428839 0.40571161 0.        ]\n",
      " [0.44299347 0.55700653 0.        ]\n",
      " [0.5645393  0.4354607  0.        ]\n",
      " [0.65347918 0.34652082 0.        ]\n",
      " [0.50347878 0.49652122 0.        ]\n",
      " [0.44246506 0.55753494 0.        ]\n",
      " [0.44218547 0.55781453 0.        ]\n",
      " [0.47678377 0.52321623 0.        ]\n",
      " [0.44358651 0.55641349 0.        ]\n",
      " [0.44331648 0.55668352 0.        ]]\n"
     ]
    }
   ],
   "source": [
    "PT_probs, PT_log_likelihood = PTBayes(res_ladder_TAZ, reaction)\n",
    "print(PT_probs)"
   ]
  },
  {
   "cell_type": "code",
   "execution_count": 8,
   "metadata": {},
   "outputs": [
    {
     "name": "stdout",
     "output_type": "stream",
     "text": [
      "Finding level-spacing probabilities for group 0.\n",
      "Finding level-spacing probabilities for group 1.\n",
      "Creating ENCORE pipeline.\n",
      "Finished ENCORE initialization.\n",
      "Starting WigBayes\n",
      "Finished running WigBayes\n",
      "\n",
      "[[ 5.02782097e-01  4.97217906e-01 -2.79740897e-09]\n",
      " [ 4.61967946e-01  5.38032057e-01 -2.79740853e-09]\n",
      " [ 4.33983456e-01  5.66016546e-01 -2.79740897e-09]\n",
      " [ 6.49743909e-01  3.50256093e-01 -2.79740897e-09]\n",
      " [ 3.72177421e-01  6.27822582e-01 -2.79740897e-09]\n",
      " [ 5.28337062e-01  4.71662940e-01 -2.79740897e-09]\n",
      " [ 4.38921735e-01  5.61078267e-01 -2.79740875e-09]\n",
      " [ 4.56367156e-01  5.43632847e-01 -2.79740897e-09]\n",
      " [ 5.20879070e-01  4.79120933e-01 -2.79740897e-09]\n",
      " [ 4.38030917e-01  5.61969086e-01 -2.79740875e-09]\n",
      " [ 4.48169489e-01  5.51830514e-01 -2.79740875e-09]\n",
      " [ 4.89263515e-01  5.10736488e-01 -2.79740897e-09]\n",
      " [ 4.87092487e-01  5.12907510e-01  2.77127887e-09]\n",
      " [ 4.76041820e-01  5.23958178e-01  2.77260370e-09]\n",
      " [ 5.00609420e-01  4.99390577e-01  2.79432077e-09]\n",
      " [ 4.13296848e-01  5.86703149e-01  2.79437717e-09]\n",
      " [ 4.85983878e-01  5.14016119e-01  2.79451839e-09]\n",
      " [ 5.02104106e-01  4.97895892e-01  2.79602996e-09]\n",
      " [ 5.39905888e-01  4.60094109e-01  2.79618240e-09]\n",
      " [ 4.34809240e-01  5.65190757e-01  2.79733969e-09]\n",
      " [ 5.12637463e-01  4.87362534e-01  2.79734280e-09]\n",
      " [ 4.98132962e-01  5.01867035e-01  2.79734458e-09]\n",
      " [ 4.48918898e-01  5.51081099e-01  2.79734513e-09]\n",
      " [ 5.11055898e-01  4.88944099e-01  2.79734935e-09]\n",
      " [ 5.37674684e-01  4.62325313e-01  2.79735857e-09]\n",
      " [ 3.78672517e-01  6.21327481e-01  2.79738632e-09]\n",
      " [ 5.67471334e-01  4.32528663e-01  2.79738788e-09]\n",
      " [ 3.80598738e-01  6.19401259e-01  2.79738765e-09]\n",
      " [ 6.18511056e-01  3.81488941e-01  2.79740564e-09]\n",
      " [ 5.70260352e-01  4.29739645e-01  2.79740586e-09]\n",
      " [ 4.80622401e-01  5.19377597e-01  2.79740586e-09]\n",
      " [ 4.86760715e-01  5.13239282e-01  2.79740586e-09]\n",
      " [ 4.52744485e-01  5.47255512e-01  2.79740597e-09]\n",
      " [ 4.44698917e-01  5.55301080e-01  2.79740564e-09]\n",
      " [ 4.85839802e-01  5.14160195e-01  2.79740586e-09]\n",
      " [ 4.78007670e-01  5.21992327e-01  2.79740586e-09]]\n"
     ]
    }
   ],
   "source": [
    "distributions = reaction.distributions('Wigner')\n",
    "runMaster = RunMaster(res_ladder_TAZ['E'], reaction.EB, distributions, false_dens=reaction.false_dens, prior=PT_probs, log_likelihood_prior=PT_log_likelihood, verbose=True)\n",
    "posterior = runMaster.WigBayes()\n",
    "\n",
    "print()\n",
    "print(posterior)"
   ]
  }
 ],
 "metadata": {
  "kernelspec": {
   "display_name": "test",
   "language": "python",
   "name": "python3"
  },
  "language_info": {
   "codemirror_mode": {
    "name": "ipython",
    "version": 3
   },
   "file_extension": ".py",
   "mimetype": "text/x-python",
   "name": "python",
   "nbconvert_exporter": "python",
   "pygments_lexer": "ipython3",
   "version": "3.12.6"
  }
 },
 "nbformat": 4,
 "nbformat_minor": 2
}
