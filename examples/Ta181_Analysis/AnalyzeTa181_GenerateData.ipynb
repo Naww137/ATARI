{
 "cells": [
  {
   "cell_type": "code",
   "execution_count": null,
   "metadata": {},
   "outputs": [],
   "source": [
    "from matplotlib.pyplot import *\n",
    "import numpy as np\n",
    "import pandas as pd\n",
    "import os\n",
    "import importlib\n",
    "\n",
    "from ATARI.sammy_interface import sammy_classes, sammy_functions\n",
    "\n",
    "from ATARI.ModelData.particle_pair import Particle_Pair\n",
    "from ATARI.ModelData.experimental_model import Experimental_Model\n",
    "\n",
    "from copy import copy\n",
    "\n",
    "import plotting as myplot\n"
   ]
  },
  {
   "cell_type": "code",
   "execution_count": null,
   "metadata": {},
   "outputs": [],
   "source": [
    "sammypath = ''\n",
    "assert(sammypath != '')"
   ]
  },
  {
   "cell_type": "code",
   "execution_count": null,
   "metadata": {},
   "outputs": [],
   "source": [
    "%matplotlib widget"
   ]
  },
  {
   "cell_type": "markdown",
   "metadata": {},
   "source": [
    "# Overview\n",
    "\n",
    "The synthetic data methodology build here is modeled after measurement data from the work of Jesse Brown at RPI (currently at ORNL).\n",
    "These measurements are detailed in https://www.tandfonline.com/doi/full/10.1080/00295639.2023.2249786 and consist of 6 experimental configurations.\n",
    "Of the 4 transmission measurements only 3 are used for evaluation and the 4th (45m FP) is used for validation. \n",
    "Both 2 capture measurements are used for evaluation.\n",
    "\n",
    "The evaluation transmission data are reliable in the range 0.15-100 keV.\n",
    "The capture data are reliable from 0.15-200 keV. \n",
    "The validation transmission data are reliable in the range 0.003-100 keV.\n",
    "\n",
    "The data that are available are *reduced* data, generally in EXFOR. \n",
    "This is what is imported for the evaluation datasets.\n",
    "Reduced data can be modelled with SAMMY, which models the particle-pair reaction and the experimental conditions.\n",
    "In ATARI, this is referred to as the theoretical and experimental models.\n",
    "\n",
    "Ultimately, for the synthetic data methodology, we will need information about the data reduction process.\n",
    "This information is referred to in ATARI as the measurement model.\n",
    "Ideally, this information comes from the experimentalist and you have access to all of the parameters used in the reduction process. \n",
    "The synthetic data methodology was developed alongside Jesse Brown, therefore, this is the scenario for the 12mm/45mFP validations measurements.\n",
    "However, this ideal scenario is not always possible and is not the case for the 5 evaluation measurements.\n",
    "\n",
    "Associated notebooks for each measurement (Syndat_12mmT, Syndat_123mmT, Syndat_13mmY) detail the building of a syndat model and the testing of synthetic data.\n",
    "This notebook takes the Syndat models for the evaluation measurements and uses them to generate synthetic data to train on."
   ]
  },
  {
   "cell_type": "markdown",
   "metadata": {},
   "source": [
    "## Load Syndat Models "
   ]
  },
  {
   "cell_type": "code",
   "execution_count": null,
   "metadata": {},
   "outputs": [],
   "source": [
    "# load from pickled syndat models and add to control, redefine energy ranges and draw samples"
   ]
  },
  {
   "cell_type": "code",
   "execution_count": null,
   "metadata": {},
   "outputs": [],
   "source": []
  }
 ],
 "metadata": {
  "kernelspec": {
   "display_name": "test",
   "language": "python",
   "name": "python3"
  },
  "language_info": {
   "codemirror_mode": {
    "name": "ipython",
    "version": 3
   },
   "file_extension": ".py",
   "mimetype": "text/x-python",
   "name": "python",
   "nbconvert_exporter": "python",
   "pygments_lexer": "ipython3",
   "version": "3.10.12"
  }
 },
 "nbformat": 4,
 "nbformat_minor": 2
}
